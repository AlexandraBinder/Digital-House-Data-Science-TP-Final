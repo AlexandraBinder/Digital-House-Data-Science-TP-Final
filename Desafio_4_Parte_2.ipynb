{
 "cells": [
  {
   "cell_type": "markdown",
   "id": "b33c8de2",
   "metadata": {},
   "source": [
    "# DESAFIO IV - Parte 2\n",
    "# Clasificación de accidentes de tráfico\n",
    "#### Grupo 5\n",
    "Alexandra Binder y Verónica Nieves"
   ]
  },
  {
   "cell_type": "markdown",
   "id": "e051c3c3",
   "metadata": {},
   "source": [
    "---\n",
    "## Introducción\n",
    "\n",
    "**Contexto**\n",
    "\n",
    "\n",
    "Existen distintos factores que, en conjunto se ven involucrados en el origen de los accidentes automovilísticos. Por ejemplo: el clima, las características del conductor, las especificaciones del automóvil, entre otros. El presente dataset es producto del registro manual de los accidentes de tráfico del periodo 2017 - 2020 de la ciudad **Addis Ababa**, ciudad capital de Ethiopia. La información fue recopilada por los departamentos de policía y posteriormente utilizada con fines de inventigación. Toda la información sensible ha sido excluida durante la transcripción de los datos desde los regitros manuales hasta la creación del archivo CSV. Finalmente se tienen 32 features y 12.316 registros de accidentes.\n",
    "\n",
    "<br>\n",
    "<img src=\"image/mapa_addis.png\" alt=\"position-map\" width=\"300\"/>\n",
    "\n",
    "Los datos se encuentran disponibles en:\n",
    "https://www.kaggle.com/datasets/saurabhshahane/road-traffic-accidents\n",
    "\n",
    "\n",
    "Este dataset fue seleccionado porque nos resulta interesante conocer cuáles son los distintos aspectos que influyen en la gravedad de un accidente automovilístico, y cómo estos interactúan entre sí. \n",
    "\n",
    "Queremos identificar cuáles son las características que tienen mayor influencia al momento de definir la gravedad de un accidente de tránsito, para luego obtener un modelo que prediga con mayor facilidad la gravedad de las heridas _(ligeras, graves, fatales)_ que se puedan ocasionar en accidentes de automovilísticos futuros. Esto permitirá identificar las condiciones que los conductores deben cumplir y/o evitar para **prevenir** accidentes con heridas fatales."
   ]
  },
  {
   "cell_type": "markdown",
   "id": "d4c4b81f",
   "metadata": {},
   "source": [
    "### **Objetivos del Desafío 3**\n",
    "- **Explorar y limpiar en dataset**\n",
    "- **Balancear el dataset respecto a la variable target: `Accident_severity`**\n",
    "- **Predecir la variable target con al menos tres modelos de clasificación.**\n",
    "- **Evaluar la performance de los modelos y comparar ventajas y desventajas de cada modelo.**\n",
    "- **Determinar e interpretar la importancia de las features incluidas en la predicción.**"
   ]
  },
  {
   "cell_type": "markdown",
   "id": "98283590",
   "metadata": {},
   "source": [
    "---\n",
    "<a id=\"contenido\"></a> \n",
    "## **Índice**\n",
    "\n",
    "- [Módulo 1. Exploración y limpieza (parte 1)](#intro)\n",
    "- [Módulo 2. Análisis exploratorio y selección de features](#m2)\n",
    "- [Módulo 3. Balance de clases](#m3)\n",
    "- [Módulo 4. Modelos de clasificación](#m4)\n",
    "    - [4.1. Modelo de Regresión Logística](#mod_reg_log)\n",
    "    - [4.2. Modelo Random forest](#random_forest)\n",
    "    - [4.3. Modelo Gradient Boosting](#gradient_boosting)\n",
    "    - [4.4. Modelo XGBoost](#xgboost)\n",
    "- [Módulo 5 - Comparación de resultados y Conclusión](#m5)\n",
    "   "
   ]
  },
  {
   "cell_type": "markdown",
   "id": "1a829ecf",
   "metadata": {},
   "source": [
    "---\n",
    "<a id=\"m2\"></a> \n",
    "## Módulo 2 - Análisis exploratorio y selección de features\n",
    "[Ir a índice](#contenido)"
   ]
  },
  {
   "cell_type": "code",
   "execution_count": 1,
   "id": "f285ae39",
   "metadata": {},
   "outputs": [],
   "source": [
    "import numpy as np\n",
    "import pandas as pd\n",
    "import seaborn as sns\n",
    "import matplotlib.pyplot as plt\n",
    "import squarify\n",
    "\n",
    "from statistics import variance\n",
    "from imblearn.over_sampling import RandomOverSampler\n",
    "from sklearn.preprocessing import StandardScaler, OneHotEncoder\n",
    "from sklearn.linear_model import LogisticRegression, LogisticRegressionCV\n",
    "from sklearn.model_selection import train_test_split\n",
    "from sklearn.metrics import accuracy_score,plot_confusion_matrix,roc_auc_score, classification_report, confusion_matrix, precision_recall_curve, auc\n",
    "\n",
    "import warnings\n",
    "warnings.filterwarnings(\"ignore\")\n",
    "%matplotlib inline"
   ]
  },
  {
   "cell_type": "markdown",
   "id": "a4ab49bc",
   "metadata": {},
   "source": [
    "Partimos del dataset resultante de la parte 1, donde limpiamos el dataset original. En esta segunda parte, buscamos analizar cómo interactúan las variables entre sí y con cada una de las categorías de la feature objetivo.\n",
    "\n",
    "La parte 1.a del trabajo contiene un dataset manteniendo la mayoría de las features como categóricas, mientras que la parte 1.b contiene features con conversiones de variable categórica a numérica; este último va a ser utilizado para el entrenamiento de los modelos y para realizar el análisis de las variables numéricas en este módulo."
   ]
  },
  {
   "cell_type": "code",
   "execution_count": 2,
   "id": "9b2926dc",
   "metadata": {},
   "outputs": [
    {
     "name": "stdout",
     "output_type": "stream",
     "text": [
      "Tamaño del dataset:  12138  registros y  23  columnas.\n",
      "\n"
     ]
    },
    {
     "data": {
      "text/html": [
       "<div>\n",
       "<style scoped>\n",
       "    .dataframe tbody tr th:only-of-type {\n",
       "        vertical-align: middle;\n",
       "    }\n",
       "\n",
       "    .dataframe tbody tr th {\n",
       "        vertical-align: top;\n",
       "    }\n",
       "\n",
       "    .dataframe thead th {\n",
       "        text-align: right;\n",
       "    }\n",
       "</style>\n",
       "<table border=\"1\" class=\"dataframe\">\n",
       "  <thead>\n",
       "    <tr style=\"text-align: right;\">\n",
       "      <th></th>\n",
       "      <th>Day_of_week</th>\n",
       "      <th>Age_band_of_driver</th>\n",
       "      <th>Sex_of_driver</th>\n",
       "      <th>Educational_level</th>\n",
       "      <th>Vehicle_driver_relation</th>\n",
       "      <th>Driving_experience</th>\n",
       "      <th>Type_of_vehicle</th>\n",
       "      <th>Service_year_of_vehicle</th>\n",
       "      <th>Defect_of_vehicle</th>\n",
       "      <th>Lanes_or_Medians</th>\n",
       "      <th>...</th>\n",
       "      <th>Type_of_collision</th>\n",
       "      <th>Number_of_vehicles_involved</th>\n",
       "      <th>Number_of_casualties</th>\n",
       "      <th>Vehicle_movement</th>\n",
       "      <th>Casualty_class</th>\n",
       "      <th>Casualty_severity</th>\n",
       "      <th>Pedestrian_movement</th>\n",
       "      <th>Cause_of_accident</th>\n",
       "      <th>Accident_severity</th>\n",
       "      <th>Hour</th>\n",
       "    </tr>\n",
       "  </thead>\n",
       "  <tbody>\n",
       "    <tr>\n",
       "      <th>0</th>\n",
       "      <td>Monday</td>\n",
       "      <td>Young_Adult</td>\n",
       "      <td>Male</td>\n",
       "      <td>Advanced</td>\n",
       "      <td>Employee</td>\n",
       "      <td>Beginner</td>\n",
       "      <td>Automobile</td>\n",
       "      <td>Advanced_Exp</td>\n",
       "      <td>No defect</td>\n",
       "      <td>Unknown</td>\n",
       "      <td>...</td>\n",
       "      <td>Inanimated_Objects</td>\n",
       "      <td>2</td>\n",
       "      <td>2</td>\n",
       "      <td>Forward</td>\n",
       "      <td>Unknown</td>\n",
       "      <td>0</td>\n",
       "      <td>No_pedestrian</td>\n",
       "      <td>Other</td>\n",
       "      <td>Slight Injury</td>\n",
       "      <td>17</td>\n",
       "    </tr>\n",
       "    <tr>\n",
       "      <th>1</th>\n",
       "      <td>Monday</td>\n",
       "      <td>Adult</td>\n",
       "      <td>Male</td>\n",
       "      <td>Middle</td>\n",
       "      <td>Employee</td>\n",
       "      <td>Expert</td>\n",
       "      <td>Public</td>\n",
       "      <td>Advanced_Exp</td>\n",
       "      <td>No defect</td>\n",
       "      <td>Undivided_Two-way</td>\n",
       "      <td>...</td>\n",
       "      <td>Vehicles</td>\n",
       "      <td>2</td>\n",
       "      <td>2</td>\n",
       "      <td>Forward</td>\n",
       "      <td>Unknown</td>\n",
       "      <td>0</td>\n",
       "      <td>No_pedestrian</td>\n",
       "      <td>Other</td>\n",
       "      <td>Slight Injury</td>\n",
       "      <td>17</td>\n",
       "    </tr>\n",
       "  </tbody>\n",
       "</table>\n",
       "<p>2 rows × 23 columns</p>\n",
       "</div>"
      ],
      "text/plain": [
       "  Day_of_week Age_band_of_driver Sex_of_driver Educational_level  \\\n",
       "0      Monday        Young_Adult          Male          Advanced   \n",
       "1      Monday              Adult          Male            Middle   \n",
       "\n",
       "  Vehicle_driver_relation Driving_experience Type_of_vehicle  \\\n",
       "0                Employee           Beginner      Automobile   \n",
       "1                Employee             Expert          Public   \n",
       "\n",
       "  Service_year_of_vehicle Defect_of_vehicle   Lanes_or_Medians  ...  \\\n",
       "0            Advanced_Exp         No defect            Unknown  ...   \n",
       "1            Advanced_Exp         No defect  Undivided_Two-way  ...   \n",
       "\n",
       "    Type_of_collision Number_of_vehicles_involved Number_of_casualties  \\\n",
       "0  Inanimated_Objects                           2                    2   \n",
       "1            Vehicles                           2                    2   \n",
       "\n",
       "  Vehicle_movement  Casualty_class  Casualty_severity Pedestrian_movement  \\\n",
       "0          Forward         Unknown                  0       No_pedestrian   \n",
       "1          Forward         Unknown                  0       No_pedestrian   \n",
       "\n",
       "  Cause_of_accident  Accident_severity Hour  \n",
       "0             Other      Slight Injury   17  \n",
       "1             Other      Slight Injury   17  \n",
       "\n",
       "[2 rows x 23 columns]"
      ]
     },
     "execution_count": 2,
     "metadata": {},
     "output_type": "execute_result"
    }
   ],
   "source": [
    "data = pd.read_csv(\"RTA_clean.csv\", index_col=False)\n",
    "print(\"Tamaño del dataset: \", data.shape[0], \" registros y \", data.shape[1], \" columnas.\\n\")\n",
    "data.head(2)"
   ]
  },
  {
   "cell_type": "code",
   "execution_count": 3,
   "id": "03251f6d",
   "metadata": {},
   "outputs": [
    {
     "name": "stdout",
     "output_type": "stream",
     "text": [
      "Tamaño del dataset:  12138  registros y  23  columnas.\n",
      "\n"
     ]
    },
    {
     "data": {
      "text/html": [
       "<div>\n",
       "<style scoped>\n",
       "    .dataframe tbody tr th:only-of-type {\n",
       "        vertical-align: middle;\n",
       "    }\n",
       "\n",
       "    .dataframe tbody tr th {\n",
       "        vertical-align: top;\n",
       "    }\n",
       "\n",
       "    .dataframe thead th {\n",
       "        text-align: right;\n",
       "    }\n",
       "</style>\n",
       "<table border=\"1\" class=\"dataframe\">\n",
       "  <thead>\n",
       "    <tr style=\"text-align: right;\">\n",
       "      <th></th>\n",
       "      <th>Day_of_week</th>\n",
       "      <th>Age_band_of_driver</th>\n",
       "      <th>Educational_level</th>\n",
       "      <th>Vehicle_driver_relation</th>\n",
       "      <th>Driving_experience</th>\n",
       "      <th>Type_of_vehicle</th>\n",
       "      <th>Service_year_of_vehicle</th>\n",
       "      <th>Known_defect_information</th>\n",
       "      <th>Lanes_or_Medians</th>\n",
       "      <th>Types_of_Junction</th>\n",
       "      <th>...</th>\n",
       "      <th>Number_of_vehicles_involved</th>\n",
       "      <th>Number_of_casualties</th>\n",
       "      <th>Vehicle_movement</th>\n",
       "      <th>Casualty_class</th>\n",
       "      <th>Casualty_severity</th>\n",
       "      <th>Pedestrian_movement</th>\n",
       "      <th>Cause_of_accident</th>\n",
       "      <th>Accident_severity</th>\n",
       "      <th>Hour</th>\n",
       "      <th>Sex_driver_Male</th>\n",
       "    </tr>\n",
       "  </thead>\n",
       "  <tbody>\n",
       "    <tr>\n",
       "      <th>0</th>\n",
       "      <td>1</td>\n",
       "      <td>2</td>\n",
       "      <td>3</td>\n",
       "      <td>Employee</td>\n",
       "      <td>1</td>\n",
       "      <td>Automobile</td>\n",
       "      <td>3</td>\n",
       "      <td>1</td>\n",
       "      <td>Unknown</td>\n",
       "      <td>No_junction</td>\n",
       "      <td>...</td>\n",
       "      <td>2</td>\n",
       "      <td>2</td>\n",
       "      <td>Forward</td>\n",
       "      <td>Unknown</td>\n",
       "      <td>0</td>\n",
       "      <td>0</td>\n",
       "      <td>Other</td>\n",
       "      <td>Slight Injury</td>\n",
       "      <td>17</td>\n",
       "      <td>1</td>\n",
       "    </tr>\n",
       "    <tr>\n",
       "      <th>1</th>\n",
       "      <td>1</td>\n",
       "      <td>3</td>\n",
       "      <td>2</td>\n",
       "      <td>Employee</td>\n",
       "      <td>4</td>\n",
       "      <td>Public</td>\n",
       "      <td>3</td>\n",
       "      <td>1</td>\n",
       "      <td>Undivided_Two-way</td>\n",
       "      <td>No_junction</td>\n",
       "      <td>...</td>\n",
       "      <td>2</td>\n",
       "      <td>2</td>\n",
       "      <td>Forward</td>\n",
       "      <td>Unknown</td>\n",
       "      <td>0</td>\n",
       "      <td>0</td>\n",
       "      <td>Other</td>\n",
       "      <td>Slight Injury</td>\n",
       "      <td>17</td>\n",
       "      <td>1</td>\n",
       "    </tr>\n",
       "  </tbody>\n",
       "</table>\n",
       "<p>2 rows × 23 columns</p>\n",
       "</div>"
      ],
      "text/plain": [
       "   Day_of_week  Age_band_of_driver  Educational_level Vehicle_driver_relation  \\\n",
       "0            1                   2                  3                Employee   \n",
       "1            1                   3                  2                Employee   \n",
       "\n",
       "   Driving_experience Type_of_vehicle  Service_year_of_vehicle  \\\n",
       "0                   1      Automobile                        3   \n",
       "1                   4          Public                        3   \n",
       "\n",
       "   Known_defect_information   Lanes_or_Medians Types_of_Junction  ...  \\\n",
       "0                         1            Unknown       No_junction  ...   \n",
       "1                         1  Undivided_Two-way       No_junction  ...   \n",
       "\n",
       "   Number_of_vehicles_involved  Number_of_casualties Vehicle_movement  \\\n",
       "0                            2                     2          Forward   \n",
       "1                            2                     2          Forward   \n",
       "\n",
       "   Casualty_class  Casualty_severity Pedestrian_movement Cause_of_accident  \\\n",
       "0         Unknown                  0                   0             Other   \n",
       "1         Unknown                  0                   0             Other   \n",
       "\n",
       "   Accident_severity  Hour Sex_driver_Male  \n",
       "0      Slight Injury    17               1  \n",
       "1      Slight Injury    17               1  \n",
       "\n",
       "[2 rows x 23 columns]"
      ]
     },
     "execution_count": 3,
     "metadata": {},
     "output_type": "execute_result"
    }
   ],
   "source": [
    "data_num = pd.read_csv(\"RTA_clean_model.csv\", index_col=False)\n",
    "print(\"Tamaño del dataset: \", data_num.shape[0], \" registros y \", data_num.shape[1], \" columnas.\\n\")\n",
    "data_num.head(2)"
   ]
  },
  {
   "cell_type": "markdown",
   "id": "16e0aab1",
   "metadata": {},
   "source": [
    "Comenzamos por visualizar el tipo de severidad de los accidentes, es decir, con que frecuencia se presenta cada clase de `Accident_severity`."
   ]
  },
  {
   "cell_type": "code",
   "execution_count": 4,
   "id": "1a34a933",
   "metadata": {},
   "outputs": [
    {
     "data": {
      "text/html": [
       "<div>\n",
       "<style scoped>\n",
       "    .dataframe tbody tr th:only-of-type {\n",
       "        vertical-align: middle;\n",
       "    }\n",
       "\n",
       "    .dataframe tbody tr th {\n",
       "        vertical-align: top;\n",
       "    }\n",
       "\n",
       "    .dataframe thead th {\n",
       "        text-align: right;\n",
       "    }\n",
       "</style>\n",
       "<table border=\"1\" class=\"dataframe\">\n",
       "  <thead>\n",
       "    <tr style=\"text-align: right;\">\n",
       "      <th></th>\n",
       "      <th>Accident_severity</th>\n",
       "    </tr>\n",
       "  </thead>\n",
       "  <tbody>\n",
       "    <tr>\n",
       "      <th>Slight Injury</th>\n",
       "      <td>10256</td>\n",
       "    </tr>\n",
       "    <tr>\n",
       "      <th>Serious Injury</th>\n",
       "      <td>1725</td>\n",
       "    </tr>\n",
       "    <tr>\n",
       "      <th>Fatal injury</th>\n",
       "      <td>157</td>\n",
       "    </tr>\n",
       "  </tbody>\n",
       "</table>\n",
       "</div>"
      ],
      "text/plain": [
       "                Accident_severity\n",
       "Slight Injury               10256\n",
       "Serious Injury               1725\n",
       "Fatal injury                  157"
      ]
     },
     "execution_count": 4,
     "metadata": {},
     "output_type": "execute_result"
    },
    {
     "data": {
      "image/png": "[encoded data removed]",
      "text/plain": [
       "<Figure size 360x360 with 1 Axes>"
      ]
     },
     "metadata": {},
     "output_type": "display_data"
    }
   ],
   "source": [
    "# Gráfico circular la feature objetivo\n",
    "sns.color_palette(\"hls\", 8)\n",
    "# Cambiar a lightmode para ver titulo\n",
    "plot = data['Accident_severity'].value_counts().plot(kind='pie', autopct='%.2f%%', figsize=(5, 5), title=\"Tipos de accidente\")\n",
    "plot.legend(data['Accident_severity'].value_counts().index)\n",
    "plot.set_facecolor(\"white\")\n",
    "\n",
    "# valor por categoría\n",
    "acc_sev = pd.DataFrame(data['Accident_severity'].value_counts())\n",
    "acc_sev"
   ]
  },
  {
   "cell_type": "markdown",
   "id": "4f317106",
   "metadata": {},
   "source": [
    "Como se habia comentado anteriormente, tenemos tres clases desbalanceadas. La clase _Fatal injury_ tan solo representa el 1.29% de los datos. Es la clase minoritaria, pero quizá la más importante de predecir, pues conocer las condiciones que originan un accidente de gravedad fatal puede ser útil para prevenir este tipo de accidentes a futuro."
   ]
  },
  {
   "cell_type": "markdown",
   "id": "0a533dc9",
   "metadata": {},
   "source": [
    "Visualizamos la distribución de accidentes a lo largo del dia, según la hora en la que ocurrieron."
   ]
  },
  {
   "cell_type": "code",
   "execution_count": 5,
   "id": "b0dda1eb",
   "metadata": {},
   "outputs": [
    {
     "data": {
      "text/plain": [
       "[Text(0.5, 1.0, 'Cantidad de accidentes por hora')]"
      ]
     },
     "execution_count": 5,
     "metadata": {},
     "output_type": "execute_result"
    },
    {
     "data": {
      "image/png": "[encoded data removed]",
      "text/plain": [
       "<Figure size 432x288 with 1 Axes>"
      ]
     },
     "metadata": {
      "needs_background": "light"
     },
     "output_type": "display_data"
    }
   ],
   "source": [
    "# gráfico de barras de hours\n",
    "sns.histplot(data=data, x=\"Hour\", kde=True, bins=24).set(title='Cantidad de accidentes por hora')"
   ]
  },
  {
   "cell_type": "code",
   "execution_count": 6,
   "id": "3ee2d1eb",
   "metadata": {},
   "outputs": [
    {
     "name": "stdout",
     "output_type": "stream",
     "text": [
      "Count at 7:00 =  524\n",
      "Count at 8:00 =  819\n",
      "Count at 9:00 =  550\n",
      "Promedio absoluto de diferencia entre (7:00 y 8:00) y (8:00 y 9:00) =  282.0\n",
      "\n",
      "Count at 15:00 =  859\n",
      "Count at 16:00 =  912\n",
      "Count at 17:00 =  1210\n",
      "Promedio absoluto de diferencia entre (15:00 y 16:00) y (16:00 y 17:00) =  122.5\n"
     ]
    }
   ],
   "source": [
    "# Calculamos la variación absoluta en la hora anterior y posterior a los valores máximos de la curva.\n",
    "hour_count = [(data['Hour'] == 7).sum(), (data['Hour'] == 8).sum(), (data['Hour'] == 9).sum(), \n",
    "              (data['Hour'] == 15).sum(), (data['Hour'] == 16).sum(), (data['Hour'] == 17).sum()]\n",
    "\n",
    "print(\"Count at 7:00 = \", hour_count[0])\n",
    "print(\"Count at 8:00 = \", hour_count[1])\n",
    "print(\"Count at 9:00 = \", hour_count[2])\n",
    "print(\"Promedio absoluto de diferencia entre (7:00 y 8:00) y (8:00 y 9:00) = \", np.abs(np.mean([hour_count[0]-hour_count[1], hour_count[2]-hour_count[1]])))\n",
    "\n",
    "print(\"\\nCount at 15:00 = \", hour_count[3])\n",
    "print(\"Count at 16:00 = \", hour_count[4])\n",
    "print(\"Count at 17:00 = \", hour_count[5])\n",
    "print(\"Promedio absoluto de diferencia entre (15:00 y 16:00) y (16:00 y 17:00) = \", np.abs(np.mean([hour_count[3]-hour_count[4], hour_count[5]-hour_count[4]])))"
   ]
  },
  {
   "cell_type": "markdown",
   "id": "699a5dd6",
   "metadata": {},
   "source": [
    "Se observa que la cantidad de accidentes es mínima entre las 23:00 y las 06:00 de la mañana, lo cual es esperable ya que durante este horario, la mayoría de la población duerme. La cantidad de accidentes aumenta a medida en que se extiende el horario laboral y disminuye a medida en que finaliza la jornada. Se observan dos máximos en la curva: a las 08:00 y a las 16:00, siendo este último el horario con mayor cantidad de accidentes. Estos puntos máximos se diferencia por una cantidad de 282 y 122 registros con los horarios contiguos, respectivamente."
   ]
  },
  {
   "cell_type": "markdown",
   "id": "f4c94afb",
   "metadata": {},
   "source": [
    "Para comprender mejor nuestra variable objetivo, análizamos cómo se distribuye cada categoría de `Accident_severity` a lo largo del día."
   ]
  },
  {
   "cell_type": "code",
   "execution_count": 7,
   "id": "baf25ecc",
   "metadata": {},
   "outputs": [
    {
     "data": {
      "text/plain": [
       "[Text(0.5, 1.0, 'Distribución de tipo de accidentes por hora')]"
      ]
     },
     "execution_count": 7,
     "metadata": {},
     "output_type": "execute_result"
    },
    {
     "data": {
      "image/png": "[encoded data removed]",
      "text/plain": [
       "<Figure size 432x288 with 1 Axes>"
      ]
     },
     "metadata": {
      "needs_background": "light"
     },
     "output_type": "display_data"
    }
   ],
   "source": [
    "sns.histplot(data=data, x=\"Hour\", hue=\"Accident_severity\", multiple=\"stack\", bins=24).set(title=\"Distribución de tipo de accidentes por hora\")"
   ]
  },
  {
   "cell_type": "markdown",
   "id": "b858c0cc",
   "metadata": {},
   "source": [
    "Observemos que la presencia de accidentes fatales es baja durante todo el día, sin embargo, esta categoría tiene mayor presencia entre las 15:00 y las 23:00 hrs. Pero, ¿comó varía la cantidad de accidentes a lo largo de la semana?, veamos:"
   ]
  },
  {
   "cell_type": "code",
   "execution_count": 8,
   "id": "e2e0cc29",
   "metadata": {},
   "outputs": [],
   "source": [
    "# Ordenamos días de la semana\n",
    "sorted_days = pd.DataFrame(data['Day_of_week'].value_counts())\n",
    "sorted_days[\"order\"] = [5, 4, 3, 2, 1, 6, 7]\n",
    "sorted_days = sorted_days.sort_values(\"order\")\n",
    "\n",
    "sorted_fatal_days = pd.DataFrame(data[data['Accident_severity'] == 'Fatal injury']['Day_of_week'].value_counts())\n",
    "sorted_fatal_days[\"order\"] = [6, 7, 4, 3, 2, 5, 1]\n",
    "sorted_fatal_days = sorted_fatal_days.sort_values(\"order\")"
   ]
  },
  {
   "cell_type": "code",
   "execution_count": 9,
   "id": "51388e8d",
   "metadata": {},
   "outputs": [
    {
     "data": {
      "text/plain": [
       "[Text(0.5, 1.0, 'Cantidad de accidentes fatales por día de la semana')]"
      ]
     },
     "execution_count": 9,
     "metadata": {},
     "output_type": "execute_result"
    },
    {
     "data": {
      "image/png": "[encoded data removed]",
      "text/plain": [
       "<Figure size 1080x288 with 2 Axes>"
      ]
     },
     "metadata": {
      "needs_background": "light"
     },
     "output_type": "display_data"
    }
   ],
   "source": [
    "# gráfico de barras de frecuencias relativas.\n",
    "plt.subplots(1,2,figsize=(15,4))\n",
    "plt.subplot(1, 2, 1)\n",
    "sns.barplot(x=sorted_days.index, y=\"Day_of_week\", data=sorted_days).set(title=\"Cantidad de accidentes por día de la semana\")\n",
    "plt.subplot(1, 2, 2)\n",
    "sns.barplot(x=sorted_fatal_days.index, y=\"Day_of_week\", data=sorted_fatal_days).set(title=\"Cantidad de accidentes fatales por día de la semana\")"
   ]
  },
  {
   "cell_type": "markdown",
   "id": "d8964772",
   "metadata": {},
   "source": [
    "Se observa que el día más propenso a accidentes es el día viernes, mientras que el día menos propenso es el domingo. Esto puede deberse a que los días viernes, cuando termina la semana laboral, las personas tienden a salir a diferentes eventos sociales (particularmente nocturnos), mientras que los domingos suelen ser días relativamente tranquilos y de descanso. Sin embargo, si analizamos los días en los que ocurren la mayor cantidad de accidentes fatales, los resultados contrastan contra el primer gráfico: los días con mayor cantidad de accidentes fatales son los sábados y los domingos.\n",
    "\n",
    "Ahora, veamos cuáles son las caracteristicas de los conductores y los vehículos."
   ]
  },
  {
   "cell_type": "code",
   "execution_count": 10,
   "id": "d38b6f02",
   "metadata": {},
   "outputs": [
    {
     "data": {
      "text/plain": [
       "[Text(0.5, 1.0, 'Distribución de nivel educativo de los conductores')]"
      ]
     },
     "execution_count": 10,
     "metadata": {},
     "output_type": "execute_result"
    },
    {
     "data": {
      "image/png": "[encoded data removed]",
      "text/plain": [
       "<Figure size 1080x288 with 2 Axes>"
      ]
     },
     "metadata": {
      "needs_background": "light"
     },
     "output_type": "display_data"
    },
    {
     "data": {
      "image/png": "[encoded data removed]",
      "text/plain": [
       "<Figure size 1080x288 with 2 Axes>"
      ]
     },
     "metadata": {
      "needs_background": "light"
     },
     "output_type": "display_data"
    }
   ],
   "source": [
    "# Ordenamos rangos de edad\n",
    "sorted_age_ranges = pd.DataFrame(data['Age_band_of_driver'].value_counts())\n",
    "sorted_age_ranges[\"order\"] = [2,3,4,5,1]\n",
    "sorted_age_ranges = sorted_age_ranges.sort_values(\"order\")\n",
    "\n",
    "plt.subplots(2,2,figsize=(15,4))\n",
    "\n",
    "# Sexo of driver\n",
    "plt.subplot(1, 2, 1)\n",
    "plot = data['Sex_of_driver'].value_counts().plot(kind='pie', autopct='%.2f%%', title=\"Sexo del conductor\")\n",
    "plot.legend(data['Sex_of_driver'].value_counts().index)\n",
    "\n",
    "# Age band of driver\n",
    "plt.subplot(1, 2, 2)\n",
    "x_labels = data[\"Age_band_of_driver\"].unique()\n",
    "sns.barplot(x=sorted_age_ranges.index, y=\"Age_band_of_driver\", data=sorted_age_ranges).set(title=\"Rango de edad de los conductores\")\n",
    "\n",
    "plt.subplots(2,2,figsize=(15,4))\n",
    "\n",
    "# Experiencia del conductor\n",
    "sorted_exp = pd.DataFrame(data['Driving_experience'].value_counts())\n",
    "sorted_exp[\"order\"] = [2, 0, 1, 3, 4]\n",
    "sorted_exp = sorted_exp.sort_values(\"order\")\n",
    "\n",
    "plt.subplot(1, 2, 1)\n",
    "sns.barplot(y=sorted_exp.index, x=\"Driving_experience\", data=sorted_exp).set(title=\"Distribución de experiencia conduciendo\")\n",
    "\n",
    "# Nivel de educación\n",
    "sorted_ed = pd.DataFrame(data['Educational_level'].value_counts())\n",
    "sorted_ed[\"order\"] = [1, 0, 3, 2]\n",
    "sorted_ed = sorted_ed.sort_values(\"order\")\n",
    "\n",
    "plt.subplot(1, 2, 2)\n",
    "sns.barplot(data=sorted_ed, x=\"Educational_level\", y=sorted_ed.index).set(title=\"Distribución de nivel educativo de los conductores\")"
   ]
  },
  {
   "cell_type": "markdown",
   "id": "3b444917",
   "metadata": {},
   "source": [
    "Vemos que la mayoría de los accidentes son ocasionados por un conductor con las siguientes características: \n",
    "* es hombre, \n",
    "* su rango etario es entre 18-60 años (adulto o adulto jóven),\n",
    "* su experiencia conduciendo es de nivel avanzado, aunque en segundo puesto se encuentren conductores con un nivel de principiante, y\n",
    "* tiene un nivel de educación media.\n",
    "\n",
    "A continuación vamos a análizar cómo las condiciones del suelo y del camino se relacionan con la gravedad de los accidentes."
   ]
  },
  {
   "cell_type": "code",
   "execution_count": 11,
   "id": "170378b1",
   "metadata": {},
   "outputs": [
    {
     "data": {
      "text/plain": [
       "<seaborn.axisgrid.JointGrid at 0x12e17869748>"
      ]
     },
     "execution_count": 11,
     "metadata": {},
     "output_type": "execute_result"
    },
    {
     "data": {
      "image/png": "[encoded data removed]",
      "text/plain": [
       "<Figure size 360x360 with 3 Axes>"
      ]
     },
     "metadata": {
      "needs_background": "light"
     },
     "output_type": "display_data"
    },
    {
     "data": {
      "image/png": "[encoded data removed]",
      "text/plain": [
       "<Figure size 360x360 with 3 Axes>"
      ]
     },
     "metadata": {
      "needs_background": "light"
     },
     "output_type": "display_data"
    },
    {
     "data": {
      "image/png": "[encoded data removed]",
      "text/plain": [
       "<Figure size 360x360 with 3 Axes>"
      ]
     },
     "metadata": {
      "needs_background": "light"
     },
     "output_type": "display_data"
    }
   ],
   "source": [
    "# Condiciones del suelo\n",
    "sns.jointplot(x=\"Road_surface_conditions\", y=\"Accident_severity\", data=data, kind=\"hist\", color=\"g\", height=5)\n",
    "\n",
    "# Condiciones de luz\n",
    "sns.jointplot(x=\"Light_conditions\", y=\"Accident_severity\", data=data, kind=\"hist\", color=\"b\", height=5)\n",
    "\n",
    "# Tipo de intersección\n",
    "sns.jointplot(x=\"Types_of_Junction\", y=\"Accident_severity\", data=data, kind=\"hist\", color=\"m\", height=5)"
   ]
  },
  {
   "cell_type": "markdown",
   "id": "1e3f1b5b",
   "metadata": {},
   "source": [
    "Se observa que en los tres gráficos, la mayoría de los registros se encuentran asociados a accidentes de severidad baja. Esto tiene sentido ya que la clase mayoritaria en la variable objetivo es `Slight injury`. Más allá de eso pasamos a analizar cómo se relacionan las diferentes categorías de cada una de las features seleccionadas:\n",
    "* En cuanto a si el camino se encontraba en condiciones mojadas o secas: Mientras que para los casos de accidentes fatales no se observa una diferencia apreciable, tanto para los accidentes de nivel \"serio\" o \"bajo\", se nota que la mayoría de los accidentes ocurren en condiciones donde la ruta se encontraba seca. Esto también coincide con el hecho de que la mayoría de los registros de nuestro dataset pertenecen a la clase \"seca\".\n",
    "\n",
    "* En el caso de las condiciones lumínicas de la ruta: Ocurre una situación parecida al caso anterior. Para los casos de accidentes fatales no se observa una diferencia apreciable entre las dos categorías, mientras que para los accidentes de nivel \"serio\" o \"bajo\" se nota que la mayoría de los accidentes ocurren en condiciones donde había luz natural. Esto también coincide con el hecho de que la mayoría de los registros de nuestro dataset pertenecen a la clase \"con luz\".\n",
    "\n",
    "* Por último, en cuanto al tipo de cruce donde ocurrió el accidente: Se encuentra una mayoría sostenida en los tres tipos de accidentes donde no había un cruce o donde había un cruce del tipo Y. En el caso de los accidentes leves se observa una clara diferencia en la frecuencia de accidentes en los distintos tipos de cruces: en primer lugar, la mayoría se dieron en cruces del tipo Y, seguido por ocasiones donde no había un cruce, y finalmente un cruce común. Las categorías minoritarias para este tipo de accidentes son aquellos donde se desconoce el tipo de cruce y donde el cruce era de otro tipo.\n",
    "\n",
    "En los siguientes gráficos analizaremos cómo se relacionan algunas de las variables vistas anteriormente, pero acontando el espectro de datos a aquellos vinculados a accidentes catalogados como `Fatal injury`. "
   ]
  },
  {
   "cell_type": "code",
   "execution_count": 12,
   "id": "63491b96",
   "metadata": {},
   "outputs": [
    {
     "data": {
      "text/plain": [
       "<seaborn.axisgrid.JointGrid at 0x12e18e4b108>"
      ]
     },
     "execution_count": 12,
     "metadata": {},
     "output_type": "execute_result"
    },
    {
     "data": {
      "image/png": "[encoded data removed]",
      "text/plain": [
       "<Figure size 360x360 with 3 Axes>"
      ]
     },
     "metadata": {
      "needs_background": "light"
     },
     "output_type": "display_data"
    },
    {
     "data": {
      "image/png": "[encoded data removed]",
      "text/plain": [
       "<Figure size 504x504 with 3 Axes>"
      ]
     },
     "metadata": {
      "needs_background": "light"
     },
     "output_type": "display_data"
    }
   ],
   "source": [
    "# Accidentes de gravedad fatal\n",
    "data_fatal_sev = data[data[\"Accident_severity\"] == 'Fatal injury']\n",
    "\n",
    "# Condiciones del suelo & Condiciones de luz\n",
    "sns.jointplot(x=\"Road_surface_conditions\", y=\"Light_conditions\",data=data_fatal_sev, kind=\"hist\", color=\"g\", height=5)\n",
    "# Condiciones del suelo y tipo de intersección\n",
    "sns.jointplot(x=\"Vehicle_movement\", y=\"Types_of_Junction\", data=data_fatal_sev, kind=\"hist\", color=\"b\", height=7)"
   ]
  },
  {
   "cell_type": "markdown",
   "id": "aae427ca",
   "metadata": {},
   "source": [
    "Se observa que los accidentes de severidad fatal tienen una mayor frecuencia los días donde la ruta se encuentra seca, particularmente durante el día, aunque también son frecuentes durante la noche. Extrañamente, la situación con menor cantidad de accidentes de severidad fatal es durante la noche, cuando la ruta se encuentra mojada.\n",
    "\n",
    "En contraste con los accidentes totales, los accidentes fatales suceden con mayor frecuencia en caminos sin ningun tipo de intersección, y después en aquellos con intersección tipo _Y_. Si comparamos el movimiento que estaba realizando el vehículo con el tipo de cruce en el que se encontraba, observamos que la mayoría de los accidentes fatales se dan en las condiciones donde:\n",
    "    \n",
    "   - el vehículo se encontraba avanzando hacia adelante, y\n",
    "   - no había un cruce o había uno de tipo _Y_\n",
    "    \n",
    "Por otra parte, se observa una cantidad nula de accidentes en las ocasiones donde el tipo de cruce es \"otro\" (salvo cuando el vehículo está avanzando) y en los casos donde el vehículo se encuentra en un cruce común, ya sea estacionado, retrocediendo, o realizando un movimiento que no es, ni avanzando, ni girando.\n",
    "\n",
    "\n",
    "Ahora analizaremos cómo se relaciona otro par de features referentes al tipo de vehículos y objetos involucrados en el accidente."
   ]
  },
  {
   "cell_type": "code",
   "execution_count": 13,
   "id": "b5435ec9",
   "metadata": {},
   "outputs": [
    {
     "data": {
      "text/plain": [
       "<seaborn.axisgrid.JointGrid at 0x12e19079c88>"
      ]
     },
     "execution_count": 13,
     "metadata": {},
     "output_type": "execute_result"
    },
    {
     "data": {
      "image/png": "[encoded data removed]",
      "text/plain": [
       "<Figure size 432x432 with 3 Axes>"
      ]
     },
     "metadata": {
      "needs_background": "light"
     },
     "output_type": "display_data"
    }
   ],
   "source": [
    "# Tipo de vehiculo & tipo de choque\n",
    "sns.jointplot(x=\"Type_of_vehicle\", y=\"Type_of_collision\", data=data, kind=\"hist\", color=\"g\", height=6)"
   ]
  },
  {
   "cell_type": "markdown",
   "id": "6e1b5e6a",
   "metadata": {},
   "source": [
    "En todos los casos, independientemente del tipo de vehículo involucrado en el accidente, el elemento contra el que se genera una mayor cantidad de incidentes es contra otro vehículo. Por otro lado, el elemento contra el que se genera una menor cantidad de accidentes parecen ser aquellos que caen en la categoría \"otros\". Los accidentes ocurren principalmente en automoviles y camiones particulares, seguidos por las unidades de trasporte público (de distintos tipos), y \"otros\". "
   ]
  },
  {
   "cell_type": "code",
   "execution_count": 14,
   "id": "13577c61",
   "metadata": {},
   "outputs": [
    {
     "data": {
      "text/plain": [
       "<seaborn.axisgrid.JointGrid at 0x12e18f3edc8>"
      ]
     },
     "execution_count": 14,
     "metadata": {},
     "output_type": "execute_result"
    },
    {
     "data": {
      "image/png": "[encoded data removed]",
      "text/plain": [
       "<Figure size 432x432 with 3 Axes>"
      ]
     },
     "metadata": {
      "needs_background": "light"
     },
     "output_type": "display_data"
    }
   ],
   "source": [
    "# Causa y tipo de suceso\n",
    "sns.jointplot(x=\"Casualty_class\", y=\"Cause_of_accident\", data=data, kind=\"hist\", color=\"b\", height=6)"
   ]
  },
  {
   "cell_type": "markdown",
   "id": "544a8b33",
   "metadata": {},
   "source": [
    "Se identifica claramente que _manejar descuidadamente_ es la principal causa de los accidentes, mientras que la _falta de distancia entre vehículos_ es la menos frecuente.\n",
    "\n",
    "En general se observa que, sin importar cuál fue la causa del accidente, la persona que se accidenta con mayor frecuencia suele ser el conductor o algún elemento catalogado como \"unknown\". Por otra parte, las personas que se ven menos afectadas son los peatones y los pasajeros a bordo del vehículo involucrado."
   ]
  },
  {
   "cell_type": "code",
   "execution_count": 15,
   "id": "21284b09",
   "metadata": {},
   "outputs": [
    {
     "data": {
      "text/plain": [
       "[Text(0.5, 1.0, 'Distribución de tipos de colisiones en accidentes fatales')]"
      ]
     },
     "execution_count": 15,
     "metadata": {},
     "output_type": "execute_result"
    },
    {
     "data": {
      "image/png": "[encoded data removed]",
      "text/plain": [
       "<Figure size 1800x288 with 2 Axes>"
      ]
     },
     "metadata": {
      "needs_background": "light"
     },
     "output_type": "display_data"
    }
   ],
   "source": [
    "# Causa y tipo de choque en accidentes fatales\n",
    "f, axes = plt.subplots(1, 2, figsize=(25,4))\n",
    "# Causa en accidentes fatales\n",
    "sns.countplot(y=\"Cause_of_accident\", data=data_fatal_sev, ax=axes[0]).set(title=\"Distribución de causas de accidentes fatales\")\n",
    "sns.countplot(y=\"Type_of_collision\", data=data_fatal_sev, ax=axes[1]).set(title=\"Distribución de tipos de colisiones en accidentes fatales\")"
   ]
  },
  {
   "cell_type": "markdown",
   "id": "0ad91d74",
   "metadata": {},
   "source": [
    "Si observamos la _causa_ y el _tipo de colision_ de los accidentes considerados como fatales, la mayoría de estos se deben a una causa diferente a aquella vista para el dataset en general. En este caso la causa principal de los accidentes corresponde a la categoría \"otro\", donde los accidentes no se deben a la falta de distancia entre vehículos, ni a un cambio de carril, ni a manejar descuidadamente. Por otra parte, observamos que el tipo de colisión que suele llevar a un accidente fatal es la misma que para los accidentes en general: colisión entre dos o más vehículos.\n",
    "\n",
    "Nuestro dataset cuenta con 14 variables de tipo int. Analizaremos cómo se distribuyen algunos de los valores de las mismas:"
   ]
  },
  {
   "cell_type": "code",
   "execution_count": 16,
   "id": "66e17cc8",
   "metadata": {},
   "outputs": [
    {
     "data": {
      "text/plain": [
       "Text(0.5, 1.0, 'Number of casualties')"
      ]
     },
     "execution_count": 16,
     "metadata": {},
     "output_type": "execute_result"
    },
    {
     "data": {
      "image/png": "[encoded data removed]",
      "text/plain": [
       "<Figure size 720x288 with 2 Axes>"
      ]
     },
     "metadata": {
      "needs_background": "light"
     },
     "output_type": "display_data"
    }
   ],
   "source": [
    "plt.subplots(1, 2, figsize=(10,4))\n",
    "# Número de vehículos y número de heridos\n",
    "num_veh = data_num['Number_of_vehicles_involved'].value_counts()\n",
    "num_cas = data_num['Number_of_casualties'].value_counts()\n",
    "\n",
    "plt.subplot(1, 2, 1)\n",
    "squarify.plot(sizes=num_veh, label=num_veh.index, alpha=.8)\n",
    "plt.title(\"Number of vehicles involved\")\n",
    "\n",
    "plt.subplot(1, 2, 2)\n",
    "squarify.plot(sizes=num_cas, label=num_cas.index, alpha=.8)\n",
    "plt.title(\"Number of casualties\")"
   ]
  },
  {
   "cell_type": "markdown",
   "id": "06853346",
   "metadata": {},
   "source": [
    "Del gráfico de la izquierda observamos que los accidentes suceden comunmente entre dos vehículos, mientras que los accidentes entre 6 o más son ocasionales. Por otra parte, si miramos el gráfico de la derecha, notamos que tener varias personas accidentadas no es lo más común, si no que, en general de los accidentes resulta un único herido. Para analizar la gravedad de los heridos veamos el siguiente gráfico."
   ]
  },
  {
   "cell_type": "code",
   "execution_count": 17,
   "id": "ca4c5df2",
   "metadata": {},
   "outputs": [
    {
     "data": {
      "text/plain": [
       "[Text(0.5, 1.0, 'Distribución de severidad del accidentado en accidentes fatales')]"
      ]
     },
     "execution_count": 17,
     "metadata": {},
     "output_type": "execute_result"
    },
    {
     "data": {
      "image/png": "[encoded data removed]",
      "text/plain": [
       "<Figure size 432x288 with 1 Axes>"
      ]
     },
     "metadata": {
      "needs_background": "light"
     },
     "output_type": "display_data"
    }
   ],
   "source": [
    "# gravedad de los heridos en accidentes fatales\n",
    "sns.countplot(y=\"Casualty_severity\", data=data_fatal_sev).set(title=\"Distribución de severidad del accidentado en accidentes fatales\")"
   ]
  },
  {
   "cell_type": "markdown",
   "id": "14cd7e53",
   "metadata": {},
   "source": [
    "La severidad de los heridos se representa con valores numéricos, donde 0 significa menor severidad y 3 significa mayor severidad. Con este gráfico podemos corroborar que efectivamente en los accidentes clasificados como fatales, la mayoría de las personas accidentadas terminan gravemente heridas. Lo interesante de este gráfico es que la severidad tipo _0_ presenta mayor frecuencia que en la severidad tipo _2_. Esto quiere decir que mayormente, los heridos resultan o muy graves, o ligeramente graves, y solo ocasionalmente presentan heridas de severidad media.\n",
    "\n",
    "Finalmente, observemos la correlación entre las variables numéricas."
   ]
  },
  {
   "cell_type": "code",
   "execution_count": 18,
   "id": "0c099800",
   "metadata": {},
   "outputs": [
    {
     "data": {
      "text/plain": [
       "Text(0.5, 1.0, 'Correlación entre variables numéricas')"
      ]
     },
     "execution_count": 18,
     "metadata": {},
     "output_type": "execute_result"
    },
    {
     "data": {
      "image/png": "[encoded data removed]",
      "text/plain": [
       "<Figure size 936x360 with 2 Axes>"
      ]
     },
     "metadata": {
      "needs_background": "light"
     },
     "output_type": "display_data"
    }
   ],
   "source": [
    "# Correlación de variables \n",
    "fig, ax = plt.subplots(figsize=(13,5))\n",
    "sns.heatmap(data_num.corr(), annot=True, vmin=-1, cmap=\"YlGnBu\", linewidths=.5)\n",
    "ax.set_title(\"Correlación entre variables numéricas\")"
   ]
  },
  {
   "cell_type": "markdown",
   "id": "03e7ab63",
   "metadata": {},
   "source": [
    "Se observa que en general la correlación entre estas variables es baja, en algunos casos positiva y en otros negativa. Las variables que presentan mayor correlación son `Sex_driver_Male` con `Age_band_of_driver`, `Driving_experience` con `Educational_level`, `Number_of_casualties` con `Number_of_vehicles_involved`.\n",
    "\n",
    "Pasamos a calcular la varianza de las variables numéricas:"
   ]
  },
  {
   "cell_type": "code",
   "execution_count": 19,
   "id": "1fff7ff3",
   "metadata": {},
   "outputs": [
    {
     "data": {
      "text/html": [
       "<div>\n",
       "<style scoped>\n",
       "    .dataframe tbody tr th:only-of-type {\n",
       "        vertical-align: middle;\n",
       "    }\n",
       "\n",
       "    .dataframe tbody tr th {\n",
       "        vertical-align: top;\n",
       "    }\n",
       "\n",
       "    .dataframe thead th {\n",
       "        text-align: right;\n",
       "    }\n",
       "</style>\n",
       "<table border=\"1\" class=\"dataframe\">\n",
       "  <thead>\n",
       "    <tr style=\"text-align: right;\">\n",
       "      <th></th>\n",
       "      <th>Varianza</th>\n",
       "    </tr>\n",
       "  </thead>\n",
       "  <tbody>\n",
       "    <tr>\n",
       "      <th>Hour</th>\n",
       "      <td>27.082388</td>\n",
       "    </tr>\n",
       "    <tr>\n",
       "      <th>Day_of_week</th>\n",
       "      <td>3.731156</td>\n",
       "    </tr>\n",
       "    <tr>\n",
       "      <th>Casualty_severity</th>\n",
       "      <td>1.998756</td>\n",
       "    </tr>\n",
       "    <tr>\n",
       "      <th>Service_year_of_vehicle</th>\n",
       "      <td>1.543863</td>\n",
       "    </tr>\n",
       "    <tr>\n",
       "      <th>Driving_experience</th>\n",
       "      <td>1.524892</td>\n",
       "    </tr>\n",
       "    <tr>\n",
       "      <th>Age_band_of_driver</th>\n",
       "      <td>1.347283</td>\n",
       "    </tr>\n",
       "    <tr>\n",
       "      <th>Number_of_casualties</th>\n",
       "      <td>1.121769</td>\n",
       "    </tr>\n",
       "    <tr>\n",
       "      <th>Number_of_vehicles_involved</th>\n",
       "      <td>0.819657</td>\n",
       "    </tr>\n",
       "    <tr>\n",
       "      <th>Educational_level</th>\n",
       "      <td>0.405934</td>\n",
       "    </tr>\n",
       "    <tr>\n",
       "      <th>Known_defect_information</th>\n",
       "      <td>0.230056</td>\n",
       "    </tr>\n",
       "    <tr>\n",
       "      <th>Daylight</th>\n",
       "      <td>0.203745</td>\n",
       "    </tr>\n",
       "    <tr>\n",
       "      <th>Dry_Road_cond</th>\n",
       "      <td>0.182624</td>\n",
       "    </tr>\n",
       "    <tr>\n",
       "      <th>Pedestrian_movement</th>\n",
       "      <td>0.069636</td>\n",
       "    </tr>\n",
       "    <tr>\n",
       "      <th>Sex_driver_Male</th>\n",
       "      <td>0.054422</td>\n",
       "    </tr>\n",
       "  </tbody>\n",
       "</table>\n",
       "</div>"
      ],
      "text/plain": [
       "                              Varianza\n",
       "Hour                         27.082388\n",
       "Day_of_week                   3.731156\n",
       "Casualty_severity             1.998756\n",
       "Service_year_of_vehicle       1.543863\n",
       "Driving_experience            1.524892\n",
       "Age_band_of_driver            1.347283\n",
       "Number_of_casualties          1.121769\n",
       "Number_of_vehicles_involved   0.819657\n",
       "Educational_level             0.405934\n",
       "Known_defect_information      0.230056\n",
       "Daylight                      0.203745\n",
       "Dry_Road_cond                 0.182624\n",
       "Pedestrian_movement           0.069636\n",
       "Sex_driver_Male               0.054422"
      ]
     },
     "execution_count": 19,
     "metadata": {},
     "output_type": "execute_result"
    }
   ],
   "source": [
    "variance = pd.DataFrame({\"Varianza\": data_num.var()})\n",
    "variance.index = data_num.var().index\n",
    "variance.sort_values([\"Varianza\"], ascending=False)"
   ]
  },
  {
   "cell_type": "markdown",
   "id": "2e149c5d",
   "metadata": {},
   "source": [
    "Observamos que la feature con mayor varianza es `Hour` (con un valor de 27.08), seguido por `Day_of_week` y `Casualty_severity`; por otra parte `Sex_driver_Male` y `Pedestrian_movement` son las que menos varianza poseen. Asi como una varianza alta puede indicar que una variable es relevante, una varianza cercana a 0 indica lo contrario. En esta instancia del trabajo decidimos no eliminar las features con menor varianza para poder realizar posteriormente un análisis de feature importance."
   ]
  },
  {
   "cell_type": "markdown",
   "id": "79456a7b",
   "metadata": {},
   "source": [
    "---\n",
    "<a id=\"m3\"></a> \n",
    "## Módulo 3 - Variables dummies y Balance de clases\n",
    "[Ir a índice](#contenido)"
   ]
  },
  {
   "cell_type": "markdown",
   "id": "fc17489f",
   "metadata": {},
   "source": [
    "En este momento contamos con un dataset que contiene tanto variables numéricas como categóricas, donde además la variable objetivo se encuentra desbalanceada. \n",
    "\n",
    "Dado el desbalance de las clases de `Accident_severity`, utilizaremos un método de resampling para balancearlas. Recordemos que tenemos dos tipos de resampling: Aumentando los casos de la clase minoritaria (**oversampling**) y descartando casos de la clase mayoritaria (**undersampling**). Decidimos utilizar _oversampling_ para poder conservar la mayor cantidad de registros para utilizar en el entrenamiento de los modelos, lo cual permitirá que estos desarrollen una mejor capacidad de generalización. De utilizar undersampling, el modelo se vería limitado a aprender a partir de un conjunto reducido de registros."
   ]
  },
  {
   "cell_type": "code",
   "execution_count": 20,
   "id": "01b9de6b",
   "metadata": {},
   "outputs": [
    {
     "name": "stdout",
     "output_type": "stream",
     "text": [
      "<class 'pandas.core.frame.DataFrame'>\n",
      "RangeIndex: 12138 entries, 0 to 12137\n",
      "Data columns (total 23 columns):\n",
      " #   Column                       Non-Null Count  Dtype \n",
      "---  ------                       --------------  ----- \n",
      " 0   Day_of_week                  12138 non-null  int64 \n",
      " 1   Age_band_of_driver           12138 non-null  int64 \n",
      " 2   Educational_level            12138 non-null  int64 \n",
      " 3   Vehicle_driver_relation      12138 non-null  object\n",
      " 4   Driving_experience           12138 non-null  int64 \n",
      " 5   Type_of_vehicle              12138 non-null  object\n",
      " 6   Service_year_of_vehicle      12138 non-null  int64 \n",
      " 7   Known_defect_information     12138 non-null  int64 \n",
      " 8   Lanes_or_Medians             12138 non-null  object\n",
      " 9   Types_of_Junction            12138 non-null  object\n",
      " 10  Dry_Road_cond                12138 non-null  int64 \n",
      " 11  Daylight                     12138 non-null  int64 \n",
      " 12  Type_of_collision            12138 non-null  object\n",
      " 13  Number_of_vehicles_involved  12138 non-null  int64 \n",
      " 14  Number_of_casualties         12138 non-null  int64 \n",
      " 15  Vehicle_movement             12138 non-null  object\n",
      " 16  Casualty_class               12138 non-null  object\n",
      " 17  Casualty_severity            12138 non-null  int64 \n",
      " 18  Pedestrian_movement          12138 non-null  int64 \n",
      " 19  Cause_of_accident            12138 non-null  object\n",
      " 20  Accident_severity            12138 non-null  object\n",
      " 21  Hour                         12138 non-null  int64 \n",
      " 22  Sex_driver_Male              12138 non-null  int64 \n",
      "dtypes: int64(14), object(9)\n",
      "memory usage: 2.1+ MB\n"
     ]
    }
   ],
   "source": [
    "data = pd.read_csv(\"RTA_clean_model.csv\", index_col=False)\n",
    "data.info()"
   ]
  },
  {
   "cell_type": "markdown",
   "id": "1deaafc8",
   "metadata": {},
   "source": [
    "Notemos que nuestro dataset se compone por 9 variables categóricas y 14 variables numéricas."
   ]
  },
  {
   "cell_type": "markdown",
   "id": "1507ee08",
   "metadata": {},
   "source": [
    "### 3.1 Variables dummies\n",
    "\n",
    "Antes de aplicar el `RandomOverSampler`, necesitamos generar las variables dummies para los datos categóricos. Aprovechamos para unificar las dos variables minoritarias para simplificar la complejiidad del problema a resolver."
   ]
  },
  {
   "cell_type": "code",
   "execution_count": 21,
   "id": "d2660344",
   "metadata": {},
   "outputs": [
    {
     "data": {
      "text/plain": [
       "Slight Injury     0.84495\n",
       "Serious Injury    0.15505\n",
       "Name: Accident_severity, dtype: float64"
      ]
     },
     "execution_count": 21,
     "metadata": {},
     "output_type": "execute_result"
    }
   ],
   "source": [
    "data['Accident_severity'] = [\"Serious Injury\" if entry == 'Fatal injury' else entry for entry in data['Accident_severity']]\n",
    "data['Accident_severity'].value_counts(normalize=True)"
   ]
  },
  {
   "cell_type": "code",
   "execution_count": 22,
   "id": "5ba441e0",
   "metadata": {},
   "outputs": [],
   "source": [
    "X = pd.get_dummies(data.drop(columns=\"Accident_severity\"))\n",
    "y = data['Accident_severity']"
   ]
  },
  {
   "cell_type": "markdown",
   "id": "90634b70",
   "metadata": {},
   "source": [
    "### 3.2. Oversampling"
   ]
  },
  {
   "cell_type": "markdown",
   "id": "fe7d810a",
   "metadata": {},
   "source": [
    "Separamos los datos en los conjuntos de train y test para posteriormente generar el oversampling.\n",
    "\n",
    "NOTA: _No aplicamos oversampling a los datos de X_test e y_test ya que estos datos nos sirven únicamente para evaluar la performance de nuestro algoritmo. Es decir, aplicamos oversampling a los datos de entrenamiento para que el modelo tenga a disposición una mayor cantidad de datos a partir de los cuales pueda aprender y generalizar_"
   ]
  },
  {
   "cell_type": "code",
   "execution_count": 23,
   "id": "75079950",
   "metadata": {},
   "outputs": [],
   "source": [
    "X_train, X_test, y_train, y_test = train_test_split(X, y, stratify = y, test_size=0.2, random_state=123)"
   ]
  },
  {
   "cell_type": "code",
   "execution_count": 24,
   "id": "f4a0e4e5",
   "metadata": {},
   "outputs": [],
   "source": [
    "# Realizamos el oversampling a los conjuntos de entrenamiento\n",
    "oversampler = RandomOverSampler(sampling_strategy='minority', random_state=42)\n",
    "X_train_oversamp, y_train_oversamp = oversampler.fit_resample(X_train, y_train)"
   ]
  },
  {
   "cell_type": "code",
   "execution_count": 25,
   "id": "4b10fbfe",
   "metadata": {},
   "outputs": [
    {
     "name": "stdout",
     "output_type": "stream",
     "text": [
      "CON VARIABLES DUMMIES----------\n",
      "Tamaño de datasets ANTES del oversampling:\n",
      "X_train =  (9710, 51)\n",
      "y_train =  (9710,)\n",
      "X_test =  (2428, 51)\n",
      "y_test =  (2428,)\n",
      "\n",
      "Tamaño de dataset DESPUÉS del oversampling:\n",
      "X_train_oversamp =  (16408, 51)\n",
      "y_train_oversamp =  (16408,)\n",
      "X_test =  (2428, 51)\n",
      "y_test =  (2428,)\n"
     ]
    }
   ],
   "source": [
    "print(\"CON VARIABLES DUMMIES----------\")\n",
    "print('Tamaño de datasets ANTES del oversampling:')\n",
    "print(\"X_train = \", X_train.shape)\n",
    "print(\"y_train = \", y_train.shape)\n",
    "print(\"X_test = \", X_test.shape)\n",
    "print(\"y_test = \", y_test.shape)\n",
    "\n",
    "print('\\nTamaño de dataset DESPUÉS del oversampling:')\n",
    "print(\"X_train_oversamp = \", X_train_oversamp.shape)\n",
    "print(\"y_train_oversamp = \", y_train_oversamp.shape)\n",
    "print(\"X_test = \", X_test.shape)\n",
    "print(\"y_test = \", y_test.shape)"
   ]
  },
  {
   "cell_type": "markdown",
   "id": "b26aabcf",
   "metadata": {},
   "source": [
    "Observamos que una vez hecho el oversampling, las tres clases dentro de nuestra variable objetivo tienen la misma proporción."
   ]
  },
  {
   "cell_type": "code",
   "execution_count": 26,
   "id": "782f3849",
   "metadata": {},
   "outputs": [
    {
     "name": "stdout",
     "output_type": "stream",
     "text": [
      "Balance de clases ANTES del oversampling:\n",
      "Slight Injury     8204\n",
      "Serious Injury    1506\n",
      "Name: Accident_severity, dtype: int64\n",
      "\n",
      "Balance de clases DESPUÉS del oversampling:\n",
      "Serious Injury    8204\n",
      "Slight Injury     8204\n",
      "Name: Accident_severity, dtype: int64\n"
     ]
    }
   ],
   "source": [
    "print('Balance de clases ANTES del oversampling:')\n",
    "print(y_train.value_counts(normalize=False))\n",
    "print('\\nBalance de clases DESPUÉS del oversampling:')\n",
    "print(y_train_oversamp.value_counts(normalize=False))"
   ]
  },
  {
   "cell_type": "markdown",
   "id": "4303a8f3",
   "metadata": {},
   "source": [
    "Guardamos una nueva versión de los datos."
   ]
  },
  {
   "cell_type": "code",
   "execution_count": 27,
   "id": "b666f057",
   "metadata": {},
   "outputs": [],
   "source": [
    "# Generamos una nueva versión del dataset\n",
    "X_train_oversamp.to_csv(\"RTA_oversamp_X_train.csv\", index=False)\n",
    "y_train_oversamp.to_csv(\"RTA_oversamp_y_train.csv\", index=False)\n",
    "\n",
    "X_test.to_csv(\"RTA_oversamp_X_test.csv\", index=False)\n",
    "y_test.to_csv(\"RTA_oversamp_y_test.csv\", index=False)"
   ]
  },
  {
   "cell_type": "markdown",
   "id": "4c7ffaa2",
   "metadata": {},
   "source": [
    "---\n",
    "<a id=\"m4\"></a> \n",
    "## Módulo 4 - Modelos de Machine Learning\n",
    "[Ir a índice](#contenido)\n",
    "   - [4.1. Modelo de Regresión Logística](#mod_reg_log)\n",
    "   - [4.2. Modelo Random forest](#random_forest)\n",
    "   - [4.3. Modelo Gradient Boosting](#gradient_boosting)\n",
    "   - [4.4. Modelo XGBoost](#xgboost)\n",
    "   "
   ]
  },
  {
   "cell_type": "markdown",
   "id": "330df9bc",
   "metadata": {},
   "source": [
    "En este módulo aplicaremos **cuatro** modelos de clasificación. Inicialmente utilizaremos todas las features y evaluaremos su importancia para determinar cuales son las condiciones que más influyen en la clasificación de severidad de los accidentes. Partimos con los conjuntos Train y Test resultantes en el módulo anterior."
   ]
  },
  {
   "cell_type": "code",
   "execution_count": 28,
   "id": "0f351e9c",
   "metadata": {},
   "outputs": [],
   "source": [
    "from sklearn.model_selection import train_test_split\n",
    "from sklearn.naive_bayes import MultinomialNB\n",
    "from sklearn.metrics import accuracy_score, recall_score, confusion_matrix, classification_report\n",
    "from sklearn.model_selection import cross_val_score, KFold, StratifiedKFold, GridSearchCV, RandomizedSearchCV\n",
    "from sklearn.linear_model import LogisticRegression\n",
    "from sklearn.ensemble import RandomForestClassifier, GradientBoostingClassifier\n",
    "from xgboost.sklearn import XGBClassifier\n",
    "from sklearn import tree\n",
    "from IPython.display import Image\n",
    "import pydotplus\n",
    "from scikitplot.metrics import plot_roc"
   ]
  },
  {
   "cell_type": "code",
   "execution_count": 29,
   "id": "8ea84066",
   "metadata": {},
   "outputs": [
    {
     "name": "stdout",
     "output_type": "stream",
     "text": [
      "Tamaños de los dataset:\n",
      "(16408, 51)\n",
      "(16408,)\n",
      "(2428, 51)\n",
      "(2428,)\n"
     ]
    }
   ],
   "source": [
    "X_train = pd.read_csv(\"RTA_oversamp_X_train.csv\", index_col=False)\n",
    "y_train = pd.read_csv(\"RTA_oversamp_y_train.csv\", index_col=False)['Accident_severity']\n",
    "\n",
    "X_test = pd.read_csv(\"RTA_oversamp_X_test.csv\", index_col=False)\n",
    "y_test = pd.read_csv(\"RTA_oversamp_y_test.csv\", index_col=False)['Accident_severity']\n",
    "\n",
    "\n",
    "print(\"Tamaños de los dataset:\")\n",
    "print(X_train.shape)\n",
    "print(y_train.shape)\n",
    "print(X_test.shape)\n",
    "print(y_test.shape)"
   ]
  },
  {
   "cell_type": "markdown",
   "id": "39277cb5",
   "metadata": {},
   "source": [
    "Dado que algunos de los modelos requieren los conjuntos `X` estandarizados, vamos a generar la versión estandarizada de `X_train` y `X_test` . Dependiendo del modelo, utilizaremos los conjuntos\n",
    " * `X_train` y `X_test`, o\n",
    " * `X_train_std` y `X_test_std`\n",
    " \n",
    "como conjuntos de features para ajustar y evaluar el modelo."
   ]
  },
  {
   "cell_type": "code",
   "execution_count": 30,
   "id": "a7d729e8",
   "metadata": {},
   "outputs": [],
   "source": [
    "# Solo estandarizamos el conjunto con variables dummies\n",
    "scaler = StandardScaler()  \n",
    "X_train_std = scaler.fit_transform(X_train)   \n",
    "X_test_std = scaler.transform(X_test)"
   ]
  },
  {
   "cell_type": "markdown",
   "id": "0b718cc9",
   "metadata": {},
   "source": [
    "---\n",
    "En el siguiente módulo haremos un comparativo de los resultados obtenidos en cada modelo, para ello, definimos el DataFrame `results` donde, por cada modelo evaluado, guardaremos el registro de:\n",
    " * **Modelo:** Una breve descripción del modelo que se evalúa\n",
    " * **Accuracy:** Métrica de desempeño del modelo\n",
    " * **ROC AUC score:** Métrica de desempeño del modelo\n",
    " \n",
    "_**Nota:** Las métricas serán obtenidas a partir del conjunto de datos de entrenamiento ya que reservaremos el conjunto de testeo para hacer la evaluación final del algoritmo seleccionado. Y solo en este último caso analizaremos detalladamente el reporte de clasificación con las métricas de desempeño del modelo, incluyendo aquellas globales y particulares para cada clase._\n",
    "\n",
    "En este trabajo, consideramos que recall (_sensibilidad o tasa de verdaderos positivos_) y accuracy (_exactitud_) son unas de las métricas más importantes para medir el rendimiento de los modelos.\n",
    "\n",
    "La métrica **_accuracy_** representa la proporción de casos correctamente clasificados. Esta  se ve influenciada por el balance de clases en el dataset debido a que hace foco tanto en la detección correcta de verdaderos negativos como de verdaderos positivos. Es por esta razón que su uso más común es cuando se trabaja con un dataset balanceado. En nuestro caso accuracy resulta ser una métrica confiable ya que se realizó un trabajo de oversampling, logrando balancear las clases.\n",
    "\n",
    "Por otra parte, el **_recall_** mide la capacidad o sensibilidad del modelo de detectar los verdaderos positivos sobre todos los casos que son positivos. Esta métrica funciona mejor cuando se trabaja con datasets desbalanceados ya que no se ve afectada por los problemas de desbalanceo de clases.\n",
    "\n",
    "La métrica **ROC AUC** nace a partir de la curva ROC. Esta última permite evaluar en un modelo la relación entre la tasa de falsos negativos (_especificidad_) y la tasa de verdaderos positivos (_sensibilidad o recall_) para distintos umbrales de decisión. La métrica ROC AUC representa el área bajo la curva de la curva ROC. Su trabajo es intentar resumir en una sola métrica la relación que muestra el gráfico entre la sensibilidad y la especificidad para poder comparar diferentes modelos. Vale aclarar que dos modelos con un mismo valor ROC AUC pueden tener una curva ROC diferente."
   ]
  },
  {
   "cell_type": "code",
   "execution_count": 31,
   "id": "c3b7a8fd",
   "metadata": {},
   "outputs": [],
   "source": [
    "# Generamos un dataframe donde vamos a contabilizar los resultados de cada modelo\n",
    "results = pd.DataFrame(columns=['Model', 'Accuracy', 'ROC_AUC'])"
   ]
  },
  {
   "cell_type": "markdown",
   "id": "c0ada5c2",
   "metadata": {},
   "source": [
    "Ajustaremos los siguientes modelos de clasificación utilizando _Cross Validation_ para obtener un accuracy promedio de desempeño del modelo, y _GridSearch_ para evaluar distintas combinaciones de hiperparámetros:\n",
    "* Regresión Logística\n",
    "* RandomForest\n",
    "* GradientBoosting\n",
    "* XGBoosting\n",
    "\n",
    "Utilizamos la función `evaluate_model` para evaluar el desempeño de los modelos tanto en con el conjunto de entrenamiento como el de test."
   ]
  },
  {
   "cell_type": "code",
   "execution_count": 32,
   "id": "55fcfad5",
   "metadata": {},
   "outputs": [],
   "source": [
    "def evaluate_model(model, X, y, nota, eval_test=False):\n",
    "    \n",
    "    # Aplicamos el modelo\n",
    "    y_pred = model.best_estimator_.predict(X)\n",
    "    \n",
    "    # Generamos méticas de accuracy\n",
    "    acc = accuracy_score(y, y_pred)\n",
    "    roc_auc = roc_auc_score(y, model.best_estimator_.predict_proba(X)[:, 1])\n",
    "    print(\"Accuracy = {}%\".format((acc*100).round(2)))\n",
    "    print(\"ROC AUC = {}%\".format((roc_auc*100).round(2)))\n",
    "    print(\"--------------------------------------------------------\\n\")\n",
    "    \n",
    "    # Generamos la matriz de confusion\n",
    "    conf_matrix1 = confusion_matrix(y, y_pred, normalize=\"true\")\n",
    "    ax1 = sns.heatmap(conf_matrix1, annot=True, xticklabels = y_train.unique(), yticklabels = y_train.unique(), linewidths=.5, cmap=\"YlGnBu\", fmt=\"g\")\n",
    "    ax1.set(xlabel='Prediction', ylabel='Ground truth', title=\"Confusion Matrix\")\n",
    "\n",
    "    if eval_test:\n",
    "        # Mostramos reporte de métricas de evaluación\n",
    "        print(classification_report(y, y_pred))\n",
    "        print(\"--------------------------------------------------------\")\n",
    "        plot_roc(y, model.best_estimator_.predict_proba(X), plot_micro=False, plot_macro=False)\n",
    "\n",
    "    # Registramos las métricas en el DataFrame \"resultados\"\n",
    "    results.loc[len(results.index)] = [nota, acc, roc_auc]"
   ]
  },
  {
   "cell_type": "markdown",
   "id": "60abc874",
   "metadata": {},
   "source": [
    "---"
   ]
  },
  {
   "cell_type": "markdown",
   "id": "26f6494e",
   "metadata": {},
   "source": [
    "<a id=\"mod_reg_log\"></a>\n",
    "### 4.1 Modelo de Regresión logística\n",
    "[Ir al inicio del modulo 4](#m4)"
   ]
  },
  {
   "cell_type": "markdown",
   "id": "e442f527",
   "metadata": {},
   "source": [
    "Vamos a evaluar el modelo de Regresión Logística usando cross validation y la configuración de un modelo multi-clase. Utilizaremos las variables estandarizadas definidas al inicio de este módulo y el método GridSearch para evaluar distintas combinaciones de los parámetros.\n",
    "\n",
    "Definimos la función `lr_grid_cv` que tiene como entradas los conjutos de train y test, así como una nota con la descripción del modelo."
   ]
  },
  {
   "cell_type": "code",
   "execution_count": 33,
   "id": "6081a338",
   "metadata": {},
   "outputs": [],
   "source": [
    "def lr_grid_cv (X_train, y_train):\n",
    "    \n",
    "    # Instanciamos el modelo\n",
    "    lr = LogisticRegression(multi_class='multinomial')\n",
    "    \n",
    "    # Definimos el espacio de parámetros que queremos testear\n",
    "    parameter_space = {\n",
    "        \"C\": [0.001, 0.01, 0.1, 0.5, 1, 1.5, 2], # Inverse of regularization strength\n",
    "        \"penalty\":  ['l2'], # 'saga' - ['elasticnet', 'l1', 'l2', 'none'] \n",
    "        'class_weight': ['balanced', None]\n",
    "    }\n",
    "\n",
    "    # Definimos el método de validación cruzada con el método StratifiedKFold\n",
    "    folds = StratifiedKFold(n_splits=5, random_state=123, shuffle=True)\n",
    "\n",
    "    # Definimos el metodo de busqueda y la métrica de evaluación = accuracy\n",
    "    grid = GridSearchCV(estimator=lr, param_grid=parameter_space, \n",
    "                        cv=folds, scoring='accuracy', n_jobs=4)\n",
    "    \n",
    "    # Ajustamos el modelo\n",
    "    grid.fit(X_train, y_train)\n",
    "    \n",
    "    # Mostramos el conjunto de parámetros con mejor score\n",
    "    print(\"--------------------------------------------------------\")\n",
    "    print(\"El mejor conjunto de parámetros es: \\n \", grid.best_params_)\n",
    "    print(\"\\nCV best accuracy: {}%\\n\".format((grid.best_score_*100).round(2)))\n",
    "    \n",
    "    return grid"
   ]
  },
  {
   "cell_type": "code",
   "execution_count": 34,
   "id": "b4d922ea",
   "metadata": {},
   "outputs": [
    {
     "name": "stdout",
     "output_type": "stream",
     "text": [
      "--------------------------------------------------------\n",
      "El mejor conjunto de parámetros es: \n",
      "  {'C': 0.01, 'class_weight': None, 'penalty': 'l2'}\n",
      "\n",
      "CV best accuracy: 57.2%\n",
      "\n",
      "Accuracy = 58.15%\n",
      "ROC AUC = 60.52%\n",
      "--------------------------------------------------------\n",
      "\n"
     ]
    },
    {
     "data": {
      "image/png": "[encoded data removed]",
      "text/plain": [
       "<Figure size 432x288 with 2 Axes>"
      ]
     },
     "metadata": {
      "needs_background": "light"
     },
     "output_type": "display_data"
    }
   ],
   "source": [
    "model = lr_grid_cv(X_train_std, y_train)\n",
    "evaluate_model(model, X_train_std, y_train, nota= \"Regresión Logística\")"
   ]
  },
  {
   "cell_type": "markdown",
   "id": "585071cb",
   "metadata": {},
   "source": [
    "Con un regresor logístico conseguimos un accuracy de entrenamiento aproximadamente del 58%. La matriz de confusión muestra la mayoría de los predicciones sobre la diagonal principal, lo cual es un buen indicador."
   ]
  },
  {
   "cell_type": "markdown",
   "id": "9aded3a3",
   "metadata": {},
   "source": [
    "<a id=\"random_forest\"></a> \n",
    "### 4.2 Modelo Random Forest\n",
    "[Ir al inicio del modulo 4](#m4)"
   ]
  },
  {
   "cell_type": "markdown",
   "id": "ffdc4de0",
   "metadata": {},
   "source": [
    "Random Forest es un modelo de ensamble de tipo **bagging**, lo que significa que construye varios estimadores de forma independiente y luego hace un _\"promedio\"_ de sus predicciones. Es una forma de promediar múltiples árboles de decisión profundos, entrenados con diferentes partes del mismo set de entrenamiento, con el objetivo de reducir la varianza. El modelo resultante del ensamble suele ser mejor que cualquier estimador base por separado. Aquí usamos un modelo **Random Forest Classifier** con validación cruzada. \n",
    "\n",
    "Definimos la función `random_forest` que tiene como entradas los conjuntos de train y test, y una nota con la descripción del modelo. Este modelo requiere tener los datos estandarizados por lo que utlizaremos aquellos que fueron definidos al inicio del módulo.\n",
    "\n",
    "Al aplicar _GridSearch_ consideramos los siguientes hiperparámetros:\n",
    "* **n_estimators:** El número de árboles con los que entrena el modelo\n",
    "* **criterion:** El criterio para definir la calidad de una división de árbol\n",
    "* **max_depth:** La máxima profundidad de cada árbol (si no se especifica, el árbol se expande hasta conseguir hojas puras)\n",
    "* **min_samples_split:** El número mínimo de muestras requeridas para separar un nodo\n",
    "* **class_weight:** Las especificaciones de peso de las clases"
   ]
  },
  {
   "cell_type": "code",
   "execution_count": 35,
   "id": "687ff93a",
   "metadata": {},
   "outputs": [],
   "source": [
    "def random_forest(X_train, y_train):\n",
    "    \n",
    "    # Instanciamos el modelo\n",
    "    rf_model = RandomForestClassifier(bootstrap=True, random_state=123)\n",
    "    \n",
    "    # Definimos el espacio de parámetros que queremos testear\n",
    "    parameter_space = {\n",
    "        'n_estimators':[2, 5, 10], \n",
    "        'criterion': ['gini', 'entropy'],\n",
    "        'max_depth': [1, 2, 3, 4, 5],\n",
    "        'class_weight': [None, 'balanced'],\n",
    "        'random_state': [42]}\n",
    "\n",
    "    # Definimos el método de validación cruzada con el método StratifiedKFold\n",
    "    folds = StratifiedKFold(n_splits=5, random_state=123, shuffle=True)\n",
    "\n",
    "    # Definimos el método de búsqueda\n",
    "    grid = GridSearchCV(estimator=rf_model, param_grid=parameter_space, \n",
    "                        cv=folds, scoring='accuracy', n_jobs=-1)\n",
    "    \n",
    "    # Ajustamos el modelo\n",
    "    grid.fit(X_train, y_train)\n",
    "    \n",
    "    # Identificamos el parámetro con mejor score y los principales resultados\n",
    "    print(\"--------------------------------------------------------\")\n",
    "    print(\"El mejor conjunto de hiperparámetros es: \\n \", grid.best_params_)\n",
    "    print(\"\\nCV best accuracy: {}%\\n\".format((grid.best_score_*100).round(2)))\n",
    "    \n",
    "    return grid"
   ]
  },
  {
   "cell_type": "code",
   "execution_count": 36,
   "id": "3b1452ca",
   "metadata": {},
   "outputs": [
    {
     "name": "stdout",
     "output_type": "stream",
     "text": [
      "--------------------------------------------------------\n",
      "El mejor conjunto de hiperparámetros es: \n",
      "  {'class_weight': None, 'criterion': 'entropy', 'max_depth': 5, 'n_estimators': 10, 'random_state': 42}\n",
      "\n",
      "CV best accuracy: 62.31%\n",
      "\n",
      "Accuracy = 63.5%\n",
      "ROC AUC = 69.64%\n",
      "--------------------------------------------------------\n",
      "\n"
     ]
    },
    {
     "data": {
      "image/png": "[encoded data removed]",
      "text/plain": [
       "<Figure size 432x288 with 2 Axes>"
      ]
     },
     "metadata": {
      "needs_background": "light"
     },
     "output_type": "display_data"
    }
   ],
   "source": [
    "model = random_forest(X_train_std, y_train)\n",
    "evaluate_model(model, X_train_std, y_train, nota=\"Random Forest\")"
   ]
  },
  {
   "cell_type": "markdown",
   "id": "727e863c",
   "metadata": {},
   "source": [
    "En este caso obtenemos un accuracy de 63.50%, donde se observa que la diagonal principal mantiene la mayoría de las predicciones. Sin embargo se observa que el modelo está teniendo varios falsos positivos donde clasifica `Serious injury` cuando en realidad corresponde a la categoría `Slight injury`."
   ]
  },
  {
   "cell_type": "code",
   "execution_count": 37,
   "id": "cde2787c",
   "metadata": {
    "scrolled": true
   },
   "outputs": [
    {
     "data": {
      "text/html": [
       "<div>\n",
       "<style scoped>\n",
       "    .dataframe tbody tr th:only-of-type {\n",
       "        vertical-align: middle;\n",
       "    }\n",
       "\n",
       "    .dataframe tbody tr th {\n",
       "        vertical-align: top;\n",
       "    }\n",
       "\n",
       "    .dataframe thead th {\n",
       "        text-align: right;\n",
       "    }\n",
       "</style>\n",
       "<table border=\"1\" class=\"dataframe\">\n",
       "  <thead>\n",
       "    <tr style=\"text-align: right;\">\n",
       "      <th></th>\n",
       "      <th>Feature</th>\n",
       "      <th>Importance</th>\n",
       "    </tr>\n",
       "  </thead>\n",
       "  <tbody>\n",
       "    <tr>\n",
       "      <th>8</th>\n",
       "      <td>Number_of_vehicles_involved</td>\n",
       "      <td>0.225951</td>\n",
       "    </tr>\n",
       "    <tr>\n",
       "      <th>12</th>\n",
       "      <td>Hour</td>\n",
       "      <td>0.111513</td>\n",
       "    </tr>\n",
       "    <tr>\n",
       "      <th>9</th>\n",
       "      <td>Number_of_casualties</td>\n",
       "      <td>0.089666</td>\n",
       "    </tr>\n",
       "    <tr>\n",
       "      <th>1</th>\n",
       "      <td>Age_band_of_driver</td>\n",
       "      <td>0.071417</td>\n",
       "    </tr>\n",
       "    <tr>\n",
       "      <th>28</th>\n",
       "      <td>Types_of_Junction_Crossing</td>\n",
       "      <td>0.065421</td>\n",
       "    </tr>\n",
       "    <tr>\n",
       "      <th>0</th>\n",
       "      <td>Day_of_week</td>\n",
       "      <td>0.060351</td>\n",
       "    </tr>\n",
       "    <tr>\n",
       "      <th>3</th>\n",
       "      <td>Driving_experience</td>\n",
       "      <td>0.027836</td>\n",
       "    </tr>\n",
       "    <tr>\n",
       "      <th>2</th>\n",
       "      <td>Educational_level</td>\n",
       "      <td>0.023684</td>\n",
       "    </tr>\n",
       "    <tr>\n",
       "      <th>29</th>\n",
       "      <td>Types_of_Junction_No_junction</td>\n",
       "      <td>0.022533</td>\n",
       "    </tr>\n",
       "    <tr>\n",
       "      <th>6</th>\n",
       "      <td>Dry_Road_cond</td>\n",
       "      <td>0.018246</td>\n",
       "    </tr>\n",
       "    <tr>\n",
       "      <th>33</th>\n",
       "      <td>Type_of_collision_Animated_Objects</td>\n",
       "      <td>0.017323</td>\n",
       "    </tr>\n",
       "    <tr>\n",
       "      <th>7</th>\n",
       "      <td>Daylight</td>\n",
       "      <td>0.016597</td>\n",
       "    </tr>\n",
       "    <tr>\n",
       "      <th>31</th>\n",
       "      <td>Types_of_Junction_Unknown</td>\n",
       "      <td>0.016236</td>\n",
       "    </tr>\n",
       "    <tr>\n",
       "      <th>32</th>\n",
       "      <td>Types_of_Junction_Y</td>\n",
       "      <td>0.016063</td>\n",
       "    </tr>\n",
       "    <tr>\n",
       "      <th>10</th>\n",
       "      <td>Casualty_severity</td>\n",
       "      <td>0.016043</td>\n",
       "    </tr>\n",
       "    <tr>\n",
       "      <th>39</th>\n",
       "      <td>Vehicle_movement_Other</td>\n",
       "      <td>0.011596</td>\n",
       "    </tr>\n",
       "    <tr>\n",
       "      <th>19</th>\n",
       "      <td>Type_of_vehicle_Other</td>\n",
       "      <td>0.011507</td>\n",
       "    </tr>\n",
       "    <tr>\n",
       "      <th>21</th>\n",
       "      <td>Type_of_vehicle_Public</td>\n",
       "      <td>0.011476</td>\n",
       "    </tr>\n",
       "    <tr>\n",
       "      <th>49</th>\n",
       "      <td>Cause_of_accident_No_distance</td>\n",
       "      <td>0.009730</td>\n",
       "    </tr>\n",
       "    <tr>\n",
       "      <th>34</th>\n",
       "      <td>Type_of_collision_Inanimated_Objects</td>\n",
       "      <td>0.009211</td>\n",
       "    </tr>\n",
       "    <tr>\n",
       "      <th>38</th>\n",
       "      <td>Vehicle_movement_Forward</td>\n",
       "      <td>0.008730</td>\n",
       "    </tr>\n",
       "    <tr>\n",
       "      <th>4</th>\n",
       "      <td>Service_year_of_vehicle</td>\n",
       "      <td>0.008308</td>\n",
       "    </tr>\n",
       "    <tr>\n",
       "      <th>30</th>\n",
       "      <td>Types_of_Junction_Other</td>\n",
       "      <td>0.007975</td>\n",
       "    </tr>\n",
       "    <tr>\n",
       "      <th>15</th>\n",
       "      <td>Vehicle_driver_relation_Owner</td>\n",
       "      <td>0.007919</td>\n",
       "    </tr>\n",
       "    <tr>\n",
       "      <th>47</th>\n",
       "      <td>Cause_of_accident_Changing_lane</td>\n",
       "      <td>0.007733</td>\n",
       "    </tr>\n",
       "    <tr>\n",
       "      <th>5</th>\n",
       "      <td>Known_defect_information</td>\n",
       "      <td>0.007664</td>\n",
       "    </tr>\n",
       "    <tr>\n",
       "      <th>14</th>\n",
       "      <td>Vehicle_driver_relation_Employee</td>\n",
       "      <td>0.007566</td>\n",
       "    </tr>\n",
       "    <tr>\n",
       "      <th>25</th>\n",
       "      <td>Lanes_or_Medians_Other</td>\n",
       "      <td>0.007432</td>\n",
       "    </tr>\n",
       "    <tr>\n",
       "      <th>40</th>\n",
       "      <td>Vehicle_movement_Stop</td>\n",
       "      <td>0.007054</td>\n",
       "    </tr>\n",
       "    <tr>\n",
       "      <th>13</th>\n",
       "      <td>Sex_driver_Male</td>\n",
       "      <td>0.006970</td>\n",
       "    </tr>\n",
       "    <tr>\n",
       "      <th>23</th>\n",
       "      <td>Lanes_or_Medians_Divided_Two-way</td>\n",
       "      <td>0.006679</td>\n",
       "    </tr>\n",
       "    <tr>\n",
       "      <th>36</th>\n",
       "      <td>Type_of_collision_Vehicles</td>\n",
       "      <td>0.005681</td>\n",
       "    </tr>\n",
       "    <tr>\n",
       "      <th>50</th>\n",
       "      <td>Cause_of_accident_Other</td>\n",
       "      <td>0.005512</td>\n",
       "    </tr>\n",
       "    <tr>\n",
       "      <th>11</th>\n",
       "      <td>Pedestrian_movement</td>\n",
       "      <td>0.005239</td>\n",
       "    </tr>\n",
       "    <tr>\n",
       "      <th>43</th>\n",
       "      <td>Casualty_class_Driver or rider</td>\n",
       "      <td>0.005120</td>\n",
       "    </tr>\n",
       "    <tr>\n",
       "      <th>20</th>\n",
       "      <td>Type_of_vehicle_Pick up</td>\n",
       "      <td>0.004392</td>\n",
       "    </tr>\n",
       "    <tr>\n",
       "      <th>24</th>\n",
       "      <td>Lanes_or_Medians_One-way</td>\n",
       "      <td>0.004359</td>\n",
       "    </tr>\n",
       "    <tr>\n",
       "      <th>46</th>\n",
       "      <td>Casualty_class_Unknown</td>\n",
       "      <td>0.004339</td>\n",
       "    </tr>\n",
       "    <tr>\n",
       "      <th>42</th>\n",
       "      <td>Vehicle_movement_Unknown</td>\n",
       "      <td>0.004114</td>\n",
       "    </tr>\n",
       "    <tr>\n",
       "      <th>41</th>\n",
       "      <td>Vehicle_movement_Turn</td>\n",
       "      <td>0.003900</td>\n",
       "    </tr>\n",
       "    <tr>\n",
       "      <th>17</th>\n",
       "      <td>Type_of_vehicle_Automobile</td>\n",
       "      <td>0.003343</td>\n",
       "    </tr>\n",
       "    <tr>\n",
       "      <th>26</th>\n",
       "      <td>Lanes_or_Medians_Undivided_Two-way</td>\n",
       "      <td>0.003063</td>\n",
       "    </tr>\n",
       "    <tr>\n",
       "      <th>27</th>\n",
       "      <td>Lanes_or_Medians_Unknown</td>\n",
       "      <td>0.002497</td>\n",
       "    </tr>\n",
       "    <tr>\n",
       "      <th>35</th>\n",
       "      <td>Type_of_collision_Other</td>\n",
       "      <td>0.002431</td>\n",
       "    </tr>\n",
       "    <tr>\n",
       "      <th>48</th>\n",
       "      <td>Cause_of_accident_Driving_carelessly</td>\n",
       "      <td>0.002358</td>\n",
       "    </tr>\n",
       "    <tr>\n",
       "      <th>37</th>\n",
       "      <td>Vehicle_movement_Backward</td>\n",
       "      <td>0.002167</td>\n",
       "    </tr>\n",
       "    <tr>\n",
       "      <th>18</th>\n",
       "      <td>Type_of_vehicle_Lorry</td>\n",
       "      <td>0.002119</td>\n",
       "    </tr>\n",
       "    <tr>\n",
       "      <th>16</th>\n",
       "      <td>Vehicle_driver_relation_Unknown</td>\n",
       "      <td>0.001722</td>\n",
       "    </tr>\n",
       "    <tr>\n",
       "      <th>44</th>\n",
       "      <td>Casualty_class_Passenger</td>\n",
       "      <td>0.001216</td>\n",
       "    </tr>\n",
       "    <tr>\n",
       "      <th>45</th>\n",
       "      <td>Casualty_class_Pedestrian</td>\n",
       "      <td>0.000000</td>\n",
       "    </tr>\n",
       "    <tr>\n",
       "      <th>22</th>\n",
       "      <td>Type_of_vehicle_Unknown</td>\n",
       "      <td>0.000000</td>\n",
       "    </tr>\n",
       "  </tbody>\n",
       "</table>\n",
       "</div>"
      ],
      "text/plain": [
       "                                 Feature  Importance\n",
       "8            Number_of_vehicles_involved    0.225951\n",
       "12                                  Hour    0.111513\n",
       "9                   Number_of_casualties    0.089666\n",
       "1                     Age_band_of_driver    0.071417\n",
       "28            Types_of_Junction_Crossing    0.065421\n",
       "0                            Day_of_week    0.060351\n",
       "3                     Driving_experience    0.027836\n",
       "2                      Educational_level    0.023684\n",
       "29         Types_of_Junction_No_junction    0.022533\n",
       "6                          Dry_Road_cond    0.018246\n",
       "33    Type_of_collision_Animated_Objects    0.017323\n",
       "7                               Daylight    0.016597\n",
       "31             Types_of_Junction_Unknown    0.016236\n",
       "32                   Types_of_Junction_Y    0.016063\n",
       "10                     Casualty_severity    0.016043\n",
       "39                Vehicle_movement_Other    0.011596\n",
       "19                 Type_of_vehicle_Other    0.011507\n",
       "21                Type_of_vehicle_Public    0.011476\n",
       "49         Cause_of_accident_No_distance    0.009730\n",
       "34  Type_of_collision_Inanimated_Objects    0.009211\n",
       "38              Vehicle_movement_Forward    0.008730\n",
       "4                Service_year_of_vehicle    0.008308\n",
       "30               Types_of_Junction_Other    0.007975\n",
       "15         Vehicle_driver_relation_Owner    0.007919\n",
       "47       Cause_of_accident_Changing_lane    0.007733\n",
       "5               Known_defect_information    0.007664\n",
       "14      Vehicle_driver_relation_Employee    0.007566\n",
       "25                Lanes_or_Medians_Other    0.007432\n",
       "40                 Vehicle_movement_Stop    0.007054\n",
       "13                       Sex_driver_Male    0.006970\n",
       "23      Lanes_or_Medians_Divided_Two-way    0.006679\n",
       "36            Type_of_collision_Vehicles    0.005681\n",
       "50               Cause_of_accident_Other    0.005512\n",
       "11                   Pedestrian_movement    0.005239\n",
       "43        Casualty_class_Driver or rider    0.005120\n",
       "20               Type_of_vehicle_Pick up    0.004392\n",
       "24              Lanes_or_Medians_One-way    0.004359\n",
       "46                Casualty_class_Unknown    0.004339\n",
       "42              Vehicle_movement_Unknown    0.004114\n",
       "41                 Vehicle_movement_Turn    0.003900\n",
       "17            Type_of_vehicle_Automobile    0.003343\n",
       "26    Lanes_or_Medians_Undivided_Two-way    0.003063\n",
       "27              Lanes_or_Medians_Unknown    0.002497\n",
       "35               Type_of_collision_Other    0.002431\n",
       "48  Cause_of_accident_Driving_carelessly    0.002358\n",
       "37             Vehicle_movement_Backward    0.002167\n",
       "18                 Type_of_vehicle_Lorry    0.002119\n",
       "16       Vehicle_driver_relation_Unknown    0.001722\n",
       "44              Casualty_class_Passenger    0.001216\n",
       "45             Casualty_class_Pedestrian    0.000000\n",
       "22               Type_of_vehicle_Unknown    0.000000"
      ]
     },
     "execution_count": 37,
     "metadata": {},
     "output_type": "execute_result"
    }
   ],
   "source": [
    "# IMPORTANCIA DE FEATURES\n",
    "pd.DataFrame({\"Feature\": X_train.columns, \n",
    "              \"Importance\": model.best_estimator_.feature_importances_}).sort_values(by=\"Importance\", ascending=False)"
   ]
  },
  {
   "cell_type": "markdown",
   "id": "2c8ac1a7",
   "metadata": {},
   "source": [
    "Observamos que las dos features mas importantes son `Number_of_vehicles_involved` y `Hour`. Por otra parte, las primeras 5 variables más importantes son todas numéricas, salvo por `Types_of_Junction_Crossing`, la cual originalmente es categórica. Por último, las 5 variables menos importantes son todas variables originalmente categóricas que fueron transformadas en dummies."
   ]
  },
  {
   "cell_type": "markdown",
   "id": "9d182c80",
   "metadata": {},
   "source": [
    "### <a id=\"gradient_boosting\"></a> \n",
    "### 4.3 Gradient boosting\n",
    "[Ir al inicio del modulo 4](#m4)\n",
    "\n",
    "Boosting es una técnica de ensamble en la que el entrenamiento es secuencial, trabaja de manera iterativa y va construyendo un modelo final en pasos. En cada nuevo paso intentará aprender de los errores cometidos en los pasos previos. Se entrena una secuencia de modelos donde se da más peso a los ejemplos que fueron clasificados erróneamente por iteraciones anteriores. Trabaja sobre dichos errores, los usa para cambiar la ponderación en el siguiente modelo o bien entrenando un modelo que prediga los mismos. Al igual que con bagging, las tareas de clasificación se resuelven con una mayoría ponderada de votos.\n",
    "\n",
    "Definimos la función `gb_grid_cv` que tiene como entradas los conjuntos de train y test, y una nota con la descripción del modelo. Este modelo *no* requiere tener los datos estandarizados.\n",
    "\n",
    "Al aplicar GridSearch consideramos los siguientes hiperparámetros:\n",
    "\n",
    "- `learning_rate`: un numero bajo de Learning rate asegura convergencia del descenso del gradiente, pero aumenta los tiempos de entrenamiento. Como mencionamos anteriormente, a medida que se reduce el valor de $\\eta$ es recomendable aumentar el número de estimadores N.\n",
    "- `n_estimators`: cantidad de estimadores que se van a utilizar\n",
    "- `max_depth`: la pronfundidad máxima del árbol\n",
    "- `min_samples_leaf`: el número mínimo de n_samples para constituir una hoja del árbol (nodo terminal)\n",
    "- `min_samples_split`: el número mínimo de n_samples para realizar un split."
   ]
  },
  {
   "cell_type": "code",
   "execution_count": 38,
   "id": "93b65ba6",
   "metadata": {},
   "outputs": [],
   "source": [
    "from sklearn.ensemble import GradientBoostingClassifier\n",
    "def gb_grid_cv (X_train, y_train):\n",
    "    \n",
    "    # Instanciamos el modelo\n",
    "    gb = GradientBoostingClassifier(random_state=42)\n",
    "    \n",
    "    # Definimos el espacio de parámetros que queremos testear\n",
    "    parameter_space = {'n_estimators':[5, 10, 15] , \n",
    "                       'learning_rate':[0.75, 1, 1.5],\n",
    "                       'min_samples_split': [1, 2, 3], \n",
    "                       'min_samples_leaf': [3, 4, 4], \n",
    "                       'max_depth': [3, 4, 5], \n",
    "                       'random_state': [42]\n",
    "    }\n",
    "\n",
    "    # Definimos el método de validación cruzada con el método StratifiedKFold\n",
    "    folds = StratifiedKFold(n_splits=5, random_state=123, shuffle=True) #carlos sugiere n_splits=5\n",
    "\n",
    "    # Definimos el metodo de busqueda y la métrica de evaluación = accuracy\n",
    "    grid = GridSearchCV(estimator=gb, param_grid=parameter_space, \n",
    "                        cv=folds, scoring='accuracy', verbose=1, n_jobs=-1) \n",
    "    \n",
    "    # Ajustamos el modelo\n",
    "    grid.fit(X_train, y_train)\n",
    "    \n",
    "    # Mostramos el conjunto de parámetros con mejor score\n",
    "    print(\"--------------------------------------------------------\")\n",
    "    print(\"El mejor conjunto de parámetros es: \\n \", grid.best_params_)\n",
    "    print(\"\\nCV best accuracy: {}%\\n\".format((grid.best_score_*100).round(2)))\n",
    "    \n",
    "    return grid"
   ]
  },
  {
   "cell_type": "code",
   "execution_count": 39,
   "id": "aab6e805",
   "metadata": {},
   "outputs": [
    {
     "name": "stdout",
     "output_type": "stream",
     "text": [
      "Fitting 5 folds for each of 243 candidates, totalling 1215 fits\n",
      "--------------------------------------------------------\n",
      "El mejor conjunto de parámetros es: \n",
      "  {'learning_rate': 1, 'max_depth': 5, 'min_samples_leaf': 4, 'min_samples_split': 2, 'n_estimators': 15, 'random_state': 42}\n",
      "\n",
      "CV best accuracy: 73.93%\n",
      "\n",
      "Accuracy = 79.31%\n",
      "ROC AUC = 87.78%\n",
      "--------------------------------------------------------\n",
      "\n"
     ]
    },
    {
     "data": {
      "image/png": "[encoded data removed]",
      "text/plain": [
       "<Figure size 432x288 with 2 Axes>"
      ]
     },
     "metadata": {
      "needs_background": "light"
     },
     "output_type": "display_data"
    }
   ],
   "source": [
    "model = gb_grid_cv(X_train, y_train)\n",
    "evaluate_model(model, X_train, y_train, nota=\"Gradient Boosting\")"
   ]
  },
  {
   "cell_type": "markdown",
   "id": "4bd14a1e",
   "metadata": {},
   "source": [
    "Observamos una mejora respecto al modelo anterior, ahora obtuvimos un accuracy de entrenamiento de casi del 80%. Otra vez se observa que la mayoría de las predicciones se encuentran en la diagnal principal de la matriz de confusión.\n",
    "\n",
    "Pasamos a analizar el feature importance:"
   ]
  },
  {
   "cell_type": "code",
   "execution_count": 40,
   "id": "96cc94df",
   "metadata": {
    "scrolled": true
   },
   "outputs": [
    {
     "data": {
      "text/html": [
       "<div>\n",
       "<style scoped>\n",
       "    .dataframe tbody tr th:only-of-type {\n",
       "        vertical-align: middle;\n",
       "    }\n",
       "\n",
       "    .dataframe tbody tr th {\n",
       "        vertical-align: top;\n",
       "    }\n",
       "\n",
       "    .dataframe thead th {\n",
       "        text-align: right;\n",
       "    }\n",
       "</style>\n",
       "<table border=\"1\" class=\"dataframe\">\n",
       "  <thead>\n",
       "    <tr style=\"text-align: right;\">\n",
       "      <th></th>\n",
       "      <th>Feature</th>\n",
       "      <th>Importance</th>\n",
       "    </tr>\n",
       "  </thead>\n",
       "  <tbody>\n",
       "    <tr>\n",
       "      <th>12</th>\n",
       "      <td>Hour</td>\n",
       "      <td>0.142751</td>\n",
       "    </tr>\n",
       "    <tr>\n",
       "      <th>8</th>\n",
       "      <td>Number_of_vehicles_involved</td>\n",
       "      <td>0.107676</td>\n",
       "    </tr>\n",
       "    <tr>\n",
       "      <th>9</th>\n",
       "      <td>Number_of_casualties</td>\n",
       "      <td>0.092931</td>\n",
       "    </tr>\n",
       "    <tr>\n",
       "      <th>0</th>\n",
       "      <td>Day_of_week</td>\n",
       "      <td>0.091046</td>\n",
       "    </tr>\n",
       "    <tr>\n",
       "      <th>1</th>\n",
       "      <td>Age_band_of_driver</td>\n",
       "      <td>0.054117</td>\n",
       "    </tr>\n",
       "    <tr>\n",
       "      <th>3</th>\n",
       "      <td>Driving_experience</td>\n",
       "      <td>0.047089</td>\n",
       "    </tr>\n",
       "    <tr>\n",
       "      <th>4</th>\n",
       "      <td>Service_year_of_vehicle</td>\n",
       "      <td>0.031142</td>\n",
       "    </tr>\n",
       "    <tr>\n",
       "      <th>7</th>\n",
       "      <td>Daylight</td>\n",
       "      <td>0.029010</td>\n",
       "    </tr>\n",
       "    <tr>\n",
       "      <th>2</th>\n",
       "      <td>Educational_level</td>\n",
       "      <td>0.028264</td>\n",
       "    </tr>\n",
       "    <tr>\n",
       "      <th>32</th>\n",
       "      <td>Types_of_Junction_Y</td>\n",
       "      <td>0.026005</td>\n",
       "    </tr>\n",
       "    <tr>\n",
       "      <th>29</th>\n",
       "      <td>Types_of_Junction_No_junction</td>\n",
       "      <td>0.024954</td>\n",
       "    </tr>\n",
       "    <tr>\n",
       "      <th>28</th>\n",
       "      <td>Types_of_Junction_Crossing</td>\n",
       "      <td>0.021017</td>\n",
       "    </tr>\n",
       "    <tr>\n",
       "      <th>24</th>\n",
       "      <td>Lanes_or_Medians_One-way</td>\n",
       "      <td>0.019485</td>\n",
       "    </tr>\n",
       "    <tr>\n",
       "      <th>19</th>\n",
       "      <td>Type_of_vehicle_Other</td>\n",
       "      <td>0.019170</td>\n",
       "    </tr>\n",
       "    <tr>\n",
       "      <th>30</th>\n",
       "      <td>Types_of_Junction_Other</td>\n",
       "      <td>0.017148</td>\n",
       "    </tr>\n",
       "    <tr>\n",
       "      <th>34</th>\n",
       "      <td>Type_of_collision_Inanimated_Objects</td>\n",
       "      <td>0.015945</td>\n",
       "    </tr>\n",
       "    <tr>\n",
       "      <th>31</th>\n",
       "      <td>Types_of_Junction_Unknown</td>\n",
       "      <td>0.014607</td>\n",
       "    </tr>\n",
       "    <tr>\n",
       "      <th>6</th>\n",
       "      <td>Dry_Road_cond</td>\n",
       "      <td>0.013988</td>\n",
       "    </tr>\n",
       "    <tr>\n",
       "      <th>15</th>\n",
       "      <td>Vehicle_driver_relation_Owner</td>\n",
       "      <td>0.013636</td>\n",
       "    </tr>\n",
       "    <tr>\n",
       "      <th>10</th>\n",
       "      <td>Casualty_severity</td>\n",
       "      <td>0.011527</td>\n",
       "    </tr>\n",
       "    <tr>\n",
       "      <th>35</th>\n",
       "      <td>Type_of_collision_Other</td>\n",
       "      <td>0.010717</td>\n",
       "    </tr>\n",
       "    <tr>\n",
       "      <th>38</th>\n",
       "      <td>Vehicle_movement_Forward</td>\n",
       "      <td>0.010504</td>\n",
       "    </tr>\n",
       "    <tr>\n",
       "      <th>13</th>\n",
       "      <td>Sex_driver_Male</td>\n",
       "      <td>0.010422</td>\n",
       "    </tr>\n",
       "    <tr>\n",
       "      <th>27</th>\n",
       "      <td>Lanes_or_Medians_Unknown</td>\n",
       "      <td>0.009863</td>\n",
       "    </tr>\n",
       "    <tr>\n",
       "      <th>45</th>\n",
       "      <td>Casualty_class_Pedestrian</td>\n",
       "      <td>0.009190</td>\n",
       "    </tr>\n",
       "    <tr>\n",
       "      <th>39</th>\n",
       "      <td>Vehicle_movement_Other</td>\n",
       "      <td>0.008939</td>\n",
       "    </tr>\n",
       "    <tr>\n",
       "      <th>44</th>\n",
       "      <td>Casualty_class_Passenger</td>\n",
       "      <td>0.008527</td>\n",
       "    </tr>\n",
       "    <tr>\n",
       "      <th>26</th>\n",
       "      <td>Lanes_or_Medians_Undivided_Two-way</td>\n",
       "      <td>0.008374</td>\n",
       "    </tr>\n",
       "    <tr>\n",
       "      <th>49</th>\n",
       "      <td>Cause_of_accident_No_distance</td>\n",
       "      <td>0.008307</td>\n",
       "    </tr>\n",
       "    <tr>\n",
       "      <th>50</th>\n",
       "      <td>Cause_of_accident_Other</td>\n",
       "      <td>0.007889</td>\n",
       "    </tr>\n",
       "    <tr>\n",
       "      <th>23</th>\n",
       "      <td>Lanes_or_Medians_Divided_Two-way</td>\n",
       "      <td>0.007210</td>\n",
       "    </tr>\n",
       "    <tr>\n",
       "      <th>25</th>\n",
       "      <td>Lanes_or_Medians_Other</td>\n",
       "      <td>0.006331</td>\n",
       "    </tr>\n",
       "    <tr>\n",
       "      <th>36</th>\n",
       "      <td>Type_of_collision_Vehicles</td>\n",
       "      <td>0.006102</td>\n",
       "    </tr>\n",
       "    <tr>\n",
       "      <th>14</th>\n",
       "      <td>Vehicle_driver_relation_Employee</td>\n",
       "      <td>0.006044</td>\n",
       "    </tr>\n",
       "    <tr>\n",
       "      <th>21</th>\n",
       "      <td>Type_of_vehicle_Public</td>\n",
       "      <td>0.005585</td>\n",
       "    </tr>\n",
       "    <tr>\n",
       "      <th>18</th>\n",
       "      <td>Type_of_vehicle_Lorry</td>\n",
       "      <td>0.005469</td>\n",
       "    </tr>\n",
       "    <tr>\n",
       "      <th>33</th>\n",
       "      <td>Type_of_collision_Animated_Objects</td>\n",
       "      <td>0.005430</td>\n",
       "    </tr>\n",
       "    <tr>\n",
       "      <th>47</th>\n",
       "      <td>Cause_of_accident_Changing_lane</td>\n",
       "      <td>0.004859</td>\n",
       "    </tr>\n",
       "    <tr>\n",
       "      <th>46</th>\n",
       "      <td>Casualty_class_Unknown</td>\n",
       "      <td>0.004554</td>\n",
       "    </tr>\n",
       "    <tr>\n",
       "      <th>11</th>\n",
       "      <td>Pedestrian_movement</td>\n",
       "      <td>0.004066</td>\n",
       "    </tr>\n",
       "    <tr>\n",
       "      <th>5</th>\n",
       "      <td>Known_defect_information</td>\n",
       "      <td>0.003897</td>\n",
       "    </tr>\n",
       "    <tr>\n",
       "      <th>48</th>\n",
       "      <td>Cause_of_accident_Driving_carelessly</td>\n",
       "      <td>0.003752</td>\n",
       "    </tr>\n",
       "    <tr>\n",
       "      <th>37</th>\n",
       "      <td>Vehicle_movement_Backward</td>\n",
       "      <td>0.003190</td>\n",
       "    </tr>\n",
       "    <tr>\n",
       "      <th>22</th>\n",
       "      <td>Type_of_vehicle_Unknown</td>\n",
       "      <td>0.003180</td>\n",
       "    </tr>\n",
       "    <tr>\n",
       "      <th>20</th>\n",
       "      <td>Type_of_vehicle_Pick up</td>\n",
       "      <td>0.003133</td>\n",
       "    </tr>\n",
       "    <tr>\n",
       "      <th>42</th>\n",
       "      <td>Vehicle_movement_Unknown</td>\n",
       "      <td>0.003025</td>\n",
       "    </tr>\n",
       "    <tr>\n",
       "      <th>17</th>\n",
       "      <td>Type_of_vehicle_Automobile</td>\n",
       "      <td>0.002742</td>\n",
       "    </tr>\n",
       "    <tr>\n",
       "      <th>40</th>\n",
       "      <td>Vehicle_movement_Stop</td>\n",
       "      <td>0.002649</td>\n",
       "    </tr>\n",
       "    <tr>\n",
       "      <th>41</th>\n",
       "      <td>Vehicle_movement_Turn</td>\n",
       "      <td>0.002555</td>\n",
       "    </tr>\n",
       "    <tr>\n",
       "      <th>16</th>\n",
       "      <td>Vehicle_driver_relation_Unknown</td>\n",
       "      <td>0.001985</td>\n",
       "    </tr>\n",
       "    <tr>\n",
       "      <th>43</th>\n",
       "      <td>Casualty_class_Driver or rider</td>\n",
       "      <td>0.000000</td>\n",
       "    </tr>\n",
       "  </tbody>\n",
       "</table>\n",
       "</div>"
      ],
      "text/plain": [
       "                                 Feature  Importance\n",
       "12                                  Hour    0.142751\n",
       "8            Number_of_vehicles_involved    0.107676\n",
       "9                   Number_of_casualties    0.092931\n",
       "0                            Day_of_week    0.091046\n",
       "1                     Age_band_of_driver    0.054117\n",
       "3                     Driving_experience    0.047089\n",
       "4                Service_year_of_vehicle    0.031142\n",
       "7                               Daylight    0.029010\n",
       "2                      Educational_level    0.028264\n",
       "32                   Types_of_Junction_Y    0.026005\n",
       "29         Types_of_Junction_No_junction    0.024954\n",
       "28            Types_of_Junction_Crossing    0.021017\n",
       "24              Lanes_or_Medians_One-way    0.019485\n",
       "19                 Type_of_vehicle_Other    0.019170\n",
       "30               Types_of_Junction_Other    0.017148\n",
       "34  Type_of_collision_Inanimated_Objects    0.015945\n",
       "31             Types_of_Junction_Unknown    0.014607\n",
       "6                          Dry_Road_cond    0.013988\n",
       "15         Vehicle_driver_relation_Owner    0.013636\n",
       "10                     Casualty_severity    0.011527\n",
       "35               Type_of_collision_Other    0.010717\n",
       "38              Vehicle_movement_Forward    0.010504\n",
       "13                       Sex_driver_Male    0.010422\n",
       "27              Lanes_or_Medians_Unknown    0.009863\n",
       "45             Casualty_class_Pedestrian    0.009190\n",
       "39                Vehicle_movement_Other    0.008939\n",
       "44              Casualty_class_Passenger    0.008527\n",
       "26    Lanes_or_Medians_Undivided_Two-way    0.008374\n",
       "49         Cause_of_accident_No_distance    0.008307\n",
       "50               Cause_of_accident_Other    0.007889\n",
       "23      Lanes_or_Medians_Divided_Two-way    0.007210\n",
       "25                Lanes_or_Medians_Other    0.006331\n",
       "36            Type_of_collision_Vehicles    0.006102\n",
       "14      Vehicle_driver_relation_Employee    0.006044\n",
       "21                Type_of_vehicle_Public    0.005585\n",
       "18                 Type_of_vehicle_Lorry    0.005469\n",
       "33    Type_of_collision_Animated_Objects    0.005430\n",
       "47       Cause_of_accident_Changing_lane    0.004859\n",
       "46                Casualty_class_Unknown    0.004554\n",
       "11                   Pedestrian_movement    0.004066\n",
       "5               Known_defect_information    0.003897\n",
       "48  Cause_of_accident_Driving_carelessly    0.003752\n",
       "37             Vehicle_movement_Backward    0.003190\n",
       "22               Type_of_vehicle_Unknown    0.003180\n",
       "20               Type_of_vehicle_Pick up    0.003133\n",
       "42              Vehicle_movement_Unknown    0.003025\n",
       "17            Type_of_vehicle_Automobile    0.002742\n",
       "40                 Vehicle_movement_Stop    0.002649\n",
       "41                 Vehicle_movement_Turn    0.002555\n",
       "16       Vehicle_driver_relation_Unknown    0.001985\n",
       "43        Casualty_class_Driver or rider    0.000000"
      ]
     },
     "execution_count": 40,
     "metadata": {},
     "output_type": "execute_result"
    }
   ],
   "source": [
    "# IMPORTANCIA DE FEATURES\n",
    "pd.DataFrame({\"Feature\": X_train.columns, \n",
    "              \"Importance\": model.best_estimator_.feature_importances_}).sort_values(by=\"Importance\", ascending=False)"
   ]
  },
  {
   "cell_type": "markdown",
   "id": "89284db0",
   "metadata": {},
   "source": [
    "En este caso vuelve a ocurrir lo mismo que en el modelo anterior: Las dos features mas importantes son `Number_of_vehicles_involved` y `Hour`. Por otra parte, las primeras 5 variables más importantes son todas numéricas. Por último, las 5 variables menos importantes son todas variables originalmente categóricas que fueron transformadas en dummies; donde la última `Casualty_class_Driver or rider` fue puntuada con importancia nula. Esta variable podría ser eliminada para aliviar el costo computacional."
   ]
  },
  {
   "cell_type": "markdown",
   "id": "f6f44419",
   "metadata": {},
   "source": [
    "### <a id=\"xgboost\"></a> \n",
    "### 4.4 Modelo XGBoost\n",
    "[Ir al inicio del modulo 4](#m4)"
   ]
  },
  {
   "cell_type": "markdown",
   "id": "3b9a4216",
   "metadata": {},
   "source": [
    "XGBoost es es una implementación específica del método Gradient Boosting que usa aproximaciones más precisas para encontrar el mejor modelo de árbol. Emplea una serie de mejoras, las mas importantes son:\n",
    "1. Calcula gradientes de segundo orden, que proporciona más información sobre la dirección de los gradientes y cómo llegar al mínimo de nuestra función de pérdida. \n",
    "2. Regularización L1 y L2, que mejora la generalización del modelo.\n",
    "\n",
    "XGBoost hace el entrenamiento muy rápido y se puede paralelizar / distribuir entre clústeres.\n",
    "\n",
    "Internamente, XGBoost representa todos los problemas como un caso de modelado predictivo de regresión que sólo toma valores numéricos como entrada. El hecho de trabajar sólo con datos numéricos es lo que hace que esta librería sea tan eficiente.\n",
    "\n",
    "Definimos la función `xgboost` que tiene como entradas los conjuntos de train y test, y una nota con la descripción del modelo. Este modelo *no* requiere tener los datos estandarizados.\n",
    "\n",
    "Al aplicar GridSearch consideramos los siguientes hiperparámetros:\n",
    "\n",
    "- `learning_rate`: un numero bajo de Learning rate asegura convergencia del descenso del gradiente, pero aumenta los tiempos de entrenamiento. Como mencionamos anteriormente, a medida que se reduce el valor de $\\eta$ es recomendable aumentar el número de estimadores N.\n",
    "- `n_estimators`: cantidad de estimadores que se van a utilizar\n",
    "- `criterion`: define el criterio de impureza para evaluar la calidad de las particiones\n",
    "- `max_features`: la cantidad de features que extraerá para entrenar cada `base_estimator`. Por default es igual a `sqrt(X.shape[1])`\n",
    "- `bootstrap` y `bootstrap_features`: controla si tanto los n_samples como las features son extraidos con reposición.\n",
    "- `max_depth`: la pronfundidad máxima del árbol\n",
    "- `min_samples_leaf`: el número mínimo de n_samples para constituir una hoja del árbol (nodo terminal)\n",
    "- `min_samples_split`: el número mínimo de n_samples para realizar un split."
   ]
  },
  {
   "cell_type": "code",
   "execution_count": 41,
   "id": "a118a030",
   "metadata": {},
   "outputs": [],
   "source": [
    "def XGBoost_function(X_train, y_train):\n",
    "    \n",
    "    # 1-Instanciamos el modelo\n",
    "    model_xgboost = XGBClassifier(random_state=42)\n",
    "    \n",
    "    # 2-Definimos el espacio de parámetros que queremos testear\n",
    "    parameter_space = {\n",
    "        \"n_estimators\": [50, 100, 150],           # Number of boosted trees to fit.\n",
    "        \"max_depth\": [3, 4, 5],                   # Maximum tree depth for base learners.\n",
    "        \"learning_rate\": [0.1, 0.2, 0.3, 0.4],    # Boosting learning rate (xgb’s “eta”)\n",
    "        \"random_state\": [42]\n",
    "    }\n",
    "    \n",
    "    # 3-Definimos el método de validación cruzada con el método StratifiedKFold\n",
    "    folds = StratifiedKFold(n_splits=5, random_state=123, shuffle=True)\n",
    "\n",
    "    # 4-Definimos el método de búsqueda\n",
    "    grid = GridSearchCV(estimator=model_xgboost, param_grid=parameter_space, \n",
    "                        cv=folds, scoring='accuracy', n_jobs=-1)\n",
    "    \n",
    "    # Ajustamos el modelo\n",
    "    grid.fit(X_train, y_train)\n",
    "    \n",
    "    # Identificamos el parámetro con mejor score y los principales resultados\n",
    "    print(\"El mejor conjunto de parámetros es: \\n \", grid.best_params_)\n",
    "    print(\"\\nCV best accuracy:\\n \", grid.best_score_, \"\\n\")\n",
    "    \n",
    "    return grid"
   ]
  },
  {
   "cell_type": "code",
   "execution_count": 42,
   "id": "09bbb02f",
   "metadata": {},
   "outputs": [
    {
     "name": "stdout",
     "output_type": "stream",
     "text": [
      "[18:12:16] WARNING: ..\\src\\learner.cc:1095: Starting in XGBoost 1.3.0, the default evaluation metric used with the objective 'binary:logistic' was changed from 'error' to 'logloss'. Explicitly set eval_metric if you'd like to restore the old behavior.\n",
      "El mejor conjunto de parámetros es: \n",
      "  {'learning_rate': 0.4, 'max_depth': 5, 'n_estimators': 150, 'random_state': 42}\n",
      "\n",
      "CV best accuracy:\n",
      "  0.8930401081253561 \n",
      "\n",
      "Accuracy = 96.39%\n",
      "ROC AUC = 99.49%\n",
      "--------------------------------------------------------\n",
      "\n"
     ]
    },
    {
     "data": {
      "image/png": "[encoded data removed]",
      "text/plain": [
       "<Figure size 432x288 with 2 Axes>"
      ]
     },
     "metadata": {
      "needs_background": "light"
     },
     "output_type": "display_data"
    }
   ],
   "source": [
    "model = XGBoost_function(X_train, y_train)\n",
    "evaluate_model(model, X_train, y_train, nota=\"XGBoost\")"
   ]
  },
  {
   "cell_type": "markdown",
   "id": "800e9ec7",
   "metadata": {},
   "source": [
    "Observamos nuevamente una mejora respecto al modelo anterior, ahora obtuvimos un accuracy de entrenamiento aproximado del 96%. Otra vez se observa que la mayoría de las predicciones se encuentran en la diagnal principal de la matriz de confusión.\n",
    "\n",
    "Pasamos a analizar el feature importance:"
   ]
  },
  {
   "cell_type": "code",
   "execution_count": 43,
   "id": "26e755b1",
   "metadata": {
    "scrolled": true
   },
   "outputs": [
    {
     "data": {
      "text/html": [
       "<div>\n",
       "<style scoped>\n",
       "    .dataframe tbody tr th:only-of-type {\n",
       "        vertical-align: middle;\n",
       "    }\n",
       "\n",
       "    .dataframe tbody tr th {\n",
       "        vertical-align: top;\n",
       "    }\n",
       "\n",
       "    .dataframe thead th {\n",
       "        text-align: right;\n",
       "    }\n",
       "</style>\n",
       "<table border=\"1\" class=\"dataframe\">\n",
       "  <thead>\n",
       "    <tr style=\"text-align: right;\">\n",
       "      <th></th>\n",
       "      <th>Feature</th>\n",
       "      <th>Importance</th>\n",
       "    </tr>\n",
       "  </thead>\n",
       "  <tbody>\n",
       "    <tr>\n",
       "      <th>8</th>\n",
       "      <td>Number_of_vehicles_involved</td>\n",
       "      <td>0.037980</td>\n",
       "    </tr>\n",
       "    <tr>\n",
       "      <th>28</th>\n",
       "      <td>Types_of_Junction_Crossing</td>\n",
       "      <td>0.025886</td>\n",
       "    </tr>\n",
       "    <tr>\n",
       "      <th>32</th>\n",
       "      <td>Types_of_Junction_Y</td>\n",
       "      <td>0.025643</td>\n",
       "    </tr>\n",
       "    <tr>\n",
       "      <th>9</th>\n",
       "      <td>Number_of_casualties</td>\n",
       "      <td>0.025437</td>\n",
       "    </tr>\n",
       "    <tr>\n",
       "      <th>7</th>\n",
       "      <td>Daylight</td>\n",
       "      <td>0.024931</td>\n",
       "    </tr>\n",
       "    <tr>\n",
       "      <th>33</th>\n",
       "      <td>Type_of_collision_Animated_Objects</td>\n",
       "      <td>0.024448</td>\n",
       "    </tr>\n",
       "    <tr>\n",
       "      <th>6</th>\n",
       "      <td>Dry_Road_cond</td>\n",
       "      <td>0.023346</td>\n",
       "    </tr>\n",
       "    <tr>\n",
       "      <th>29</th>\n",
       "      <td>Types_of_Junction_No_junction</td>\n",
       "      <td>0.022451</td>\n",
       "    </tr>\n",
       "    <tr>\n",
       "      <th>23</th>\n",
       "      <td>Lanes_or_Medians_Divided_Two-way</td>\n",
       "      <td>0.022312</td>\n",
       "    </tr>\n",
       "    <tr>\n",
       "      <th>0</th>\n",
       "      <td>Day_of_week</td>\n",
       "      <td>0.021939</td>\n",
       "    </tr>\n",
       "    <tr>\n",
       "      <th>12</th>\n",
       "      <td>Hour</td>\n",
       "      <td>0.021565</td>\n",
       "    </tr>\n",
       "    <tr>\n",
       "      <th>34</th>\n",
       "      <td>Type_of_collision_Inanimated_Objects</td>\n",
       "      <td>0.021458</td>\n",
       "    </tr>\n",
       "    <tr>\n",
       "      <th>19</th>\n",
       "      <td>Type_of_vehicle_Other</td>\n",
       "      <td>0.021294</td>\n",
       "    </tr>\n",
       "    <tr>\n",
       "      <th>41</th>\n",
       "      <td>Vehicle_movement_Turn</td>\n",
       "      <td>0.021127</td>\n",
       "    </tr>\n",
       "    <tr>\n",
       "      <th>13</th>\n",
       "      <td>Sex_driver_Male</td>\n",
       "      <td>0.021045</td>\n",
       "    </tr>\n",
       "    <tr>\n",
       "      <th>44</th>\n",
       "      <td>Casualty_class_Passenger</td>\n",
       "      <td>0.020861</td>\n",
       "    </tr>\n",
       "    <tr>\n",
       "      <th>2</th>\n",
       "      <td>Educational_level</td>\n",
       "      <td>0.020848</td>\n",
       "    </tr>\n",
       "    <tr>\n",
       "      <th>21</th>\n",
       "      <td>Type_of_vehicle_Public</td>\n",
       "      <td>0.020841</td>\n",
       "    </tr>\n",
       "    <tr>\n",
       "      <th>37</th>\n",
       "      <td>Vehicle_movement_Backward</td>\n",
       "      <td>0.020780</td>\n",
       "    </tr>\n",
       "    <tr>\n",
       "      <th>35</th>\n",
       "      <td>Type_of_collision_Other</td>\n",
       "      <td>0.020656</td>\n",
       "    </tr>\n",
       "    <tr>\n",
       "      <th>30</th>\n",
       "      <td>Types_of_Junction_Other</td>\n",
       "      <td>0.020527</td>\n",
       "    </tr>\n",
       "    <tr>\n",
       "      <th>31</th>\n",
       "      <td>Types_of_Junction_Unknown</td>\n",
       "      <td>0.020477</td>\n",
       "    </tr>\n",
       "    <tr>\n",
       "      <th>48</th>\n",
       "      <td>Cause_of_accident_Driving_carelessly</td>\n",
       "      <td>0.020405</td>\n",
       "    </tr>\n",
       "    <tr>\n",
       "      <th>40</th>\n",
       "      <td>Vehicle_movement_Stop</td>\n",
       "      <td>0.020101</td>\n",
       "    </tr>\n",
       "    <tr>\n",
       "      <th>26</th>\n",
       "      <td>Lanes_or_Medians_Undivided_Two-way</td>\n",
       "      <td>0.019831</td>\n",
       "    </tr>\n",
       "    <tr>\n",
       "      <th>3</th>\n",
       "      <td>Driving_experience</td>\n",
       "      <td>0.019600</td>\n",
       "    </tr>\n",
       "    <tr>\n",
       "      <th>4</th>\n",
       "      <td>Service_year_of_vehicle</td>\n",
       "      <td>0.019386</td>\n",
       "    </tr>\n",
       "    <tr>\n",
       "      <th>10</th>\n",
       "      <td>Casualty_severity</td>\n",
       "      <td>0.019080</td>\n",
       "    </tr>\n",
       "    <tr>\n",
       "      <th>15</th>\n",
       "      <td>Vehicle_driver_relation_Owner</td>\n",
       "      <td>0.019070</td>\n",
       "    </tr>\n",
       "    <tr>\n",
       "      <th>5</th>\n",
       "      <td>Known_defect_information</td>\n",
       "      <td>0.018952</td>\n",
       "    </tr>\n",
       "    <tr>\n",
       "      <th>16</th>\n",
       "      <td>Vehicle_driver_relation_Unknown</td>\n",
       "      <td>0.018563</td>\n",
       "    </tr>\n",
       "    <tr>\n",
       "      <th>1</th>\n",
       "      <td>Age_band_of_driver</td>\n",
       "      <td>0.018284</td>\n",
       "    </tr>\n",
       "    <tr>\n",
       "      <th>20</th>\n",
       "      <td>Type_of_vehicle_Pick up</td>\n",
       "      <td>0.018263</td>\n",
       "    </tr>\n",
       "    <tr>\n",
       "      <th>22</th>\n",
       "      <td>Type_of_vehicle_Unknown</td>\n",
       "      <td>0.018245</td>\n",
       "    </tr>\n",
       "    <tr>\n",
       "      <th>50</th>\n",
       "      <td>Cause_of_accident_Other</td>\n",
       "      <td>0.018096</td>\n",
       "    </tr>\n",
       "    <tr>\n",
       "      <th>18</th>\n",
       "      <td>Type_of_vehicle_Lorry</td>\n",
       "      <td>0.018027</td>\n",
       "    </tr>\n",
       "    <tr>\n",
       "      <th>42</th>\n",
       "      <td>Vehicle_movement_Unknown</td>\n",
       "      <td>0.017975</td>\n",
       "    </tr>\n",
       "    <tr>\n",
       "      <th>14</th>\n",
       "      <td>Vehicle_driver_relation_Employee</td>\n",
       "      <td>0.017559</td>\n",
       "    </tr>\n",
       "    <tr>\n",
       "      <th>39</th>\n",
       "      <td>Vehicle_movement_Other</td>\n",
       "      <td>0.017283</td>\n",
       "    </tr>\n",
       "    <tr>\n",
       "      <th>38</th>\n",
       "      <td>Vehicle_movement_Forward</td>\n",
       "      <td>0.017276</td>\n",
       "    </tr>\n",
       "    <tr>\n",
       "      <th>45</th>\n",
       "      <td>Casualty_class_Pedestrian</td>\n",
       "      <td>0.016896</td>\n",
       "    </tr>\n",
       "    <tr>\n",
       "      <th>49</th>\n",
       "      <td>Cause_of_accident_No_distance</td>\n",
       "      <td>0.016856</td>\n",
       "    </tr>\n",
       "    <tr>\n",
       "      <th>24</th>\n",
       "      <td>Lanes_or_Medians_One-way</td>\n",
       "      <td>0.016802</td>\n",
       "    </tr>\n",
       "    <tr>\n",
       "      <th>47</th>\n",
       "      <td>Cause_of_accident_Changing_lane</td>\n",
       "      <td>0.016675</td>\n",
       "    </tr>\n",
       "    <tr>\n",
       "      <th>25</th>\n",
       "      <td>Lanes_or_Medians_Other</td>\n",
       "      <td>0.016145</td>\n",
       "    </tr>\n",
       "    <tr>\n",
       "      <th>43</th>\n",
       "      <td>Casualty_class_Driver or rider</td>\n",
       "      <td>0.015809</td>\n",
       "    </tr>\n",
       "    <tr>\n",
       "      <th>36</th>\n",
       "      <td>Type_of_collision_Vehicles</td>\n",
       "      <td>0.015302</td>\n",
       "    </tr>\n",
       "    <tr>\n",
       "      <th>11</th>\n",
       "      <td>Pedestrian_movement</td>\n",
       "      <td>0.015036</td>\n",
       "    </tr>\n",
       "    <tr>\n",
       "      <th>17</th>\n",
       "      <td>Type_of_vehicle_Automobile</td>\n",
       "      <td>0.014810</td>\n",
       "    </tr>\n",
       "    <tr>\n",
       "      <th>27</th>\n",
       "      <td>Lanes_or_Medians_Unknown</td>\n",
       "      <td>0.013817</td>\n",
       "    </tr>\n",
       "    <tr>\n",
       "      <th>46</th>\n",
       "      <td>Casualty_class_Unknown</td>\n",
       "      <td>0.000000</td>\n",
       "    </tr>\n",
       "  </tbody>\n",
       "</table>\n",
       "</div>"
      ],
      "text/plain": [
       "                                 Feature  Importance\n",
       "8            Number_of_vehicles_involved    0.037980\n",
       "28            Types_of_Junction_Crossing    0.025886\n",
       "32                   Types_of_Junction_Y    0.025643\n",
       "9                   Number_of_casualties    0.025437\n",
       "7                               Daylight    0.024931\n",
       "33    Type_of_collision_Animated_Objects    0.024448\n",
       "6                          Dry_Road_cond    0.023346\n",
       "29         Types_of_Junction_No_junction    0.022451\n",
       "23      Lanes_or_Medians_Divided_Two-way    0.022312\n",
       "0                            Day_of_week    0.021939\n",
       "12                                  Hour    0.021565\n",
       "34  Type_of_collision_Inanimated_Objects    0.021458\n",
       "19                 Type_of_vehicle_Other    0.021294\n",
       "41                 Vehicle_movement_Turn    0.021127\n",
       "13                       Sex_driver_Male    0.021045\n",
       "44              Casualty_class_Passenger    0.020861\n",
       "2                      Educational_level    0.020848\n",
       "21                Type_of_vehicle_Public    0.020841\n",
       "37             Vehicle_movement_Backward    0.020780\n",
       "35               Type_of_collision_Other    0.020656\n",
       "30               Types_of_Junction_Other    0.020527\n",
       "31             Types_of_Junction_Unknown    0.020477\n",
       "48  Cause_of_accident_Driving_carelessly    0.020405\n",
       "40                 Vehicle_movement_Stop    0.020101\n",
       "26    Lanes_or_Medians_Undivided_Two-way    0.019831\n",
       "3                     Driving_experience    0.019600\n",
       "4                Service_year_of_vehicle    0.019386\n",
       "10                     Casualty_severity    0.019080\n",
       "15         Vehicle_driver_relation_Owner    0.019070\n",
       "5               Known_defect_information    0.018952\n",
       "16       Vehicle_driver_relation_Unknown    0.018563\n",
       "1                     Age_band_of_driver    0.018284\n",
       "20               Type_of_vehicle_Pick up    0.018263\n",
       "22               Type_of_vehicle_Unknown    0.018245\n",
       "50               Cause_of_accident_Other    0.018096\n",
       "18                 Type_of_vehicle_Lorry    0.018027\n",
       "42              Vehicle_movement_Unknown    0.017975\n",
       "14      Vehicle_driver_relation_Employee    0.017559\n",
       "39                Vehicle_movement_Other    0.017283\n",
       "38              Vehicle_movement_Forward    0.017276\n",
       "45             Casualty_class_Pedestrian    0.016896\n",
       "49         Cause_of_accident_No_distance    0.016856\n",
       "24              Lanes_or_Medians_One-way    0.016802\n",
       "47       Cause_of_accident_Changing_lane    0.016675\n",
       "25                Lanes_or_Medians_Other    0.016145\n",
       "43        Casualty_class_Driver or rider    0.015809\n",
       "36            Type_of_collision_Vehicles    0.015302\n",
       "11                   Pedestrian_movement    0.015036\n",
       "17            Type_of_vehicle_Automobile    0.014810\n",
       "27              Lanes_or_Medians_Unknown    0.013817\n",
       "46                Casualty_class_Unknown    0.000000"
      ]
     },
     "execution_count": 43,
     "metadata": {},
     "output_type": "execute_result"
    }
   ],
   "source": [
    "# IMPORTANCIA DE FEATURES\n",
    "pd.DataFrame({\"Feature\": X_train.columns, \n",
    "              \"Importance\": model.best_estimator_.feature_importances_}).sort_values(by=\"Importance\", ascending=False)"
   ]
  },
  {
   "cell_type": "markdown",
   "id": "be424228",
   "metadata": {},
   "source": [
    "En este caso observamos que deja de ocurrir lo observado en los modelos anteriores: la feature más importante es numérica (`Number_of_vehicles_involved`), pero las siguientes dos son originalmente categóricas convertidas a dummies (`Types_of_Junction_Crossing` y `Types_of_Junction_Y`). No obstante, para las 5 features menos importances se mantiene el mismo comportamiento: son todas variables dummies."
   ]
  },
  {
   "cell_type": "markdown",
   "id": "4d4f122b",
   "metadata": {},
   "source": [
    "---\n",
    "<a id=\"m5\"></a> \n",
    "## Módulo 5: Comparación de resultados y conclusión\n",
    "[Ir a índice](#contenido)\n",
    "\n",
    "En esté modulo comparamos los resultados de los cuatro modelos. En la siguiente tabla podemos notar que el desempeño de los modelos fue mejorando, del 58.14% hasta el 96.38%, según el valor del accuracy obtenido, y sucede algo muy similar con el valor ROC_AUC."
   ]
  },
  {
   "cell_type": "code",
   "execution_count": 44,
   "id": "a7c8a683",
   "metadata": {},
   "outputs": [
    {
     "data": {
      "text/html": [
       "<div>\n",
       "<style scoped>\n",
       "    .dataframe tbody tr th:only-of-type {\n",
       "        vertical-align: middle;\n",
       "    }\n",
       "\n",
       "    .dataframe tbody tr th {\n",
       "        vertical-align: top;\n",
       "    }\n",
       "\n",
       "    .dataframe thead th {\n",
       "        text-align: right;\n",
       "    }\n",
       "</style>\n",
       "<table border=\"1\" class=\"dataframe\">\n",
       "  <thead>\n",
       "    <tr style=\"text-align: right;\">\n",
       "      <th></th>\n",
       "      <th>Model</th>\n",
       "      <th>Accuracy</th>\n",
       "      <th>ROC_AUC</th>\n",
       "    </tr>\n",
       "  </thead>\n",
       "  <tbody>\n",
       "    <tr>\n",
       "      <th>0</th>\n",
       "      <td>Regresión Logística</td>\n",
       "      <td>0.581485</td>\n",
       "      <td>0.605161</td>\n",
       "    </tr>\n",
       "    <tr>\n",
       "      <th>1</th>\n",
       "      <td>Random Forest</td>\n",
       "      <td>0.634995</td>\n",
       "      <td>0.696422</td>\n",
       "    </tr>\n",
       "    <tr>\n",
       "      <th>2</th>\n",
       "      <td>Gradient Boosting</td>\n",
       "      <td>0.793150</td>\n",
       "      <td>0.877806</td>\n",
       "    </tr>\n",
       "    <tr>\n",
       "      <th>3</th>\n",
       "      <td>XGBoost</td>\n",
       "      <td>0.963859</td>\n",
       "      <td>0.994855</td>\n",
       "    </tr>\n",
       "  </tbody>\n",
       "</table>\n",
       "</div>"
      ],
      "text/plain": [
       "                 Model  Accuracy   ROC_AUC\n",
       "0  Regresión Logística  0.581485  0.605161\n",
       "1        Random Forest  0.634995  0.696422\n",
       "2    Gradient Boosting  0.793150  0.877806\n",
       "3              XGBoost  0.963859  0.994855"
      ]
     },
     "execution_count": 44,
     "metadata": {},
     "output_type": "execute_result"
    }
   ],
   "source": [
    "# Mostramos resultados\n",
    "results"
   ]
  },
  {
   "cell_type": "code",
   "execution_count": 45,
   "id": "baab2f8b",
   "metadata": {},
   "outputs": [
    {
     "data": {
      "image/png": "[encoded data removed]",
      "text/plain": [
       "<Figure size 432x288 with 1 Axes>"
      ]
     },
     "metadata": {
      "needs_background": "light"
     },
     "output_type": "display_data"
    }
   ],
   "source": [
    "#graficamos el accuracy de los modelos\n",
    "fig, ax = plt.subplots()\n",
    "plt.plot(results[\"Model\"], results[\"Accuracy\"], color = 'tab:purple', marker = 'o', label = 'Accuracy')\n",
    "plt.plot(results[\"Model\"], results[\"ROC_AUC\"],color = 'tab:green', marker = 'o', label = 'ROC_AUC')\n",
    "ax.legend(loc = 'upper left')\n",
    "plt.show()"
   ]
  },
  {
   "cell_type": "markdown",
   "id": "65571450",
   "metadata": {},
   "source": [
    "Si comparamos los cuatro modelos generados, observamos que el XGBoost obtuvo un mejor rendimiento tanto en accuracy como en ROC AUC score, siendo estas de 96.39% y 99.49%."
   ]
  },
  {
   "cell_type": "markdown",
   "id": "0e049703",
   "metadata": {},
   "source": [
    "### 5.1 Mejor modelo: XGBoost\n",
    "[Ir al inicio del modulo 5](#m5)\n",
    "\n",
    "De acuerdo con lo anterior, el mejor modelo fue **XGBoot** con los siguientes parámetros:\n",
    "  * 'learning_rate': 0.4\n",
    "  * 'max_depth': 5\n",
    "  * 'n_estimators': 150\n",
    "\n",
    "Vamos a evaluar su desempeño sobre el conjunto de test para obtener las métricas finales, conocer sus mejores 5 features, visualizar su curva ROC."
   ]
  },
  {
   "cell_type": "code",
   "execution_count": 46,
   "id": "efdcf558",
   "metadata": {},
   "outputs": [
    {
     "name": "stdout",
     "output_type": "stream",
     "text": [
      "[18:13:33] WARNING: ..\\src\\learner.cc:1095: Starting in XGBoost 1.3.0, the default evaluation metric used with the objective 'binary:logistic' was changed from 'error' to 'logloss'. Explicitly set eval_metric if you'd like to restore the old behavior.\n",
      "El mejor conjunto de parámetros es: \n",
      "  {'learning_rate': 0.4, 'max_depth': 5, 'n_estimators': 150, 'random_state': 42}\n",
      "\n",
      "CV best accuracy:\n",
      "  0.8930401081253561 \n",
      "\n",
      "Accuracy = 78.01%\n",
      "ROC AUC = 66.94%\n",
      "--------------------------------------------------------\n",
      "\n",
      "                precision    recall  f1-score   support\n",
      "\n",
      "Serious Injury       0.32      0.36      0.34       376\n",
      " Slight Injury       0.88      0.86      0.87      2052\n",
      "\n",
      "      accuracy                           0.78      2428\n",
      "     macro avg       0.60      0.61      0.60      2428\n",
      "  weighted avg       0.79      0.78      0.79      2428\n",
      "\n",
      "--------------------------------------------------------\n"
     ]
    },
    {
     "data": {
      "image/png": "[encoded data removed]",
      "text/plain": [
       "<Figure size 432x288 with 2 Axes>"
      ]
     },
     "metadata": {
      "needs_background": "light"
     },
     "output_type": "display_data"
    },
    {
     "data": {
      "image/png": "[encoded data removed]",
      "text/plain": [
       "<Figure size 432x288 with 1 Axes>"
      ]
     },
     "metadata": {
      "needs_background": "light"
     },
     "output_type": "display_data"
    }
   ],
   "source": [
    "model = XGBoost_function(X_train, y_train)\n",
    "evaluate_model(model, X_test, y_test, nota=\"XGBoost - TEST\", eval_test=True)"
   ]
  },
  {
   "cell_type": "markdown",
   "id": "929592d9",
   "metadata": {},
   "source": [
    "Se observa que el rendimiento del algoritmo cayó al ser evaluado con el conjunto de datos de test. Ahora el accuracy bajó de 96.39% a 78.00% y el ROC AUC score de 99.49% a 66.94%. \n",
    "\n",
    "Es esperable que el rendimiento del modelo decaiga al ser evaluado en un conjunto de datos desconocidos. La amplia diferencia entre estos dos casos puede deberse a un sobreajuste por parte del modelo al conjunto de datos de entrenamiento.\n",
    "\n",
    "Se observa que la curva ROC se mantiene cercana a la diagonal para ambas clases, lo que significa que nos encontramos lejos del escsenario ideal donde la tasa de verdaderos positivos toma valores cercanos a 1 (esquina superior izquierda). La curva correspondiente a _Serious_Injuri_ se mantiene por debajo de la crva _Slight Injuri_ cuando la tasa de falsos positivos es menor que 0.4. Después de este valor, las posiciones se invierten."
   ]
  },
  {
   "cell_type": "code",
   "execution_count": 47,
   "id": "80fc1316",
   "metadata": {},
   "outputs": [
    {
     "data": {
      "text/plain": [
       "<AxesSubplot:title={'center':'Feature importance'}, xlabel='F score', ylabel='Features'>"
      ]
     },
     "execution_count": 47,
     "metadata": {},
     "output_type": "execute_result"
    },
    {
     "data": {
      "image/png": "[encoded data removed]",
      "text/plain": [
       "<Figure size 432x288 with 1 Axes>"
      ]
     },
     "metadata": {
      "needs_background": "light"
     },
     "output_type": "display_data"
    }
   ],
   "source": [
    "from xgboost import plot_importance\n",
    "plot_importance(model.best_estimator_, max_num_features=5)"
   ]
  },
  {
   "cell_type": "markdown",
   "id": "68eb354a",
   "metadata": {},
   "source": [
    "En cuanto a las features más importances para el entrenamiento del modelo, notamos que efectivamente aquellas que son numéricas poseen un mayor grado de influencia en el entrenamiento del modelo. Por otra parte resaltamos que, según el análisis realizado por el modelo, es importante conocer:\n",
    "\n",
    "* A qué hora ocurrió el accidente\n",
    "* En qué día de la semana\n",
    "* La edad y experiencia del conductor\n",
    "* La cantidad de accidentados a raiz del accidente"
   ]
  },
  {
   "cell_type": "markdown",
   "id": "2af20ad8",
   "metadata": {},
   "source": [
    "### 5.2 Conclusiones\n",
    "[Ir al inicio del modulo 5](#m5)"
   ]
  },
  {
   "cell_type": "markdown",
   "id": "6e32f2b4",
   "metadata": {},
   "source": [
    "Como resultado final identificamos un modelo que clasifica la gravedad de los accidentes como leve o seria, y a partir del cual identificamos las características más importantes de definen esta clasificación. Para poder aplícar el modelo fue muy importante realizar una limpieza de los datos originales, redefinir algunas features, y en algunos casos, convertirlas de variables categóricas a variables numéricas. Así mismo, el análisis exploratorio, previo a la aplicación de los modelos, resultó bastante útil para conocer mejor la estructura, familiarizarnos con los datos y agregar valor a la interpretación de resultados. \n",
    "\n",
    "Un aspecto muy importante fue la reducción de clases de la variable objetivo `Accident Severity`, pasando de 3 a dos opciones. Esto permitió balancear las clases y obtener mejores resultados en los modelos. También fue importante conocer cómo funciona cada modelo, que tipo de datos recibe como entradas y sobre que rangos se pueden definir sus parámetros. Todos estos aspectos influyen en su desempeño. Por otro lado, usar _GridSearch_ nos permitió ajustan una combinación de hipermarámetros adecuada para el modelo, ya que, a medida que incrementa la cantidad de parámetros y el rango de valores que puede tomar cada uno, el número de combinaciones incrementa rápidamente, y evaluar cada combinación manualmente no es una opción factible.\n",
    "\n",
    "La información obtenida a lo largo de este análisis y aplicación de modelos nos resulta útil ya que nos permite tomar decisiones en cuánto a cuándo manejar, a que ciudadanos ofrecerles ciertos tipos de seguros, dónde y a quienes ponerles un mayor control en cuánto la habilitación del carnet de conducción, entre otras cosas."
   ]
  }
 ],
 "metadata": {
  "kernelspec": {
   "display_name": "Python 3 (ipykernel)",
   "language": "python",
   "name": "python3"
  },
  "language_info": {
   "codemirror_mode": {
    "name": "ipython",
    "version": 3
   },
   "file_extension": ".py",
   "mimetype": "text/x-python",
   "name": "python",
   "nbconvert_exporter": "python",
   "pygments_lexer": "ipython3",
   "version": "3.7.11"
  }
 },
 "nbformat": 4,
 "nbformat_minor": 5
}
