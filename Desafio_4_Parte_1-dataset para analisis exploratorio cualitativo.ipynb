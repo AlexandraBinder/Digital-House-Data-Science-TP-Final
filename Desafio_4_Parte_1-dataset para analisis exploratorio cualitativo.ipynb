{
 "cells": [
  {
   "cell_type": "markdown",
   "id": "901365bb",
   "metadata": {},
   "source": [
    "# DESAFIO IV - Parte 1.a\n",
    "#### Preparación de dataset para análisis exploratorio\n",
    "\n",
    "## Clasificación de accidentes de tráfico\n",
    "#### Grupo 5\n",
    "Alexandra Binder y Verónica Nieves"
   ]
  },
  {
   "cell_type": "markdown",
   "id": "02c618e4",
   "metadata": {},
   "source": [
    "---\n",
    "## Introducción\n",
    "\n",
    "**Contexto**\n",
    "\n",
    "\n",
    "Existen distintos factores que, en conjunto se ven involucrados en el origen de los accidentes automovilísticos. Por ejemplo: el clima, las características del conductor, las especificaciones del automóvil, entre otros. El presente dataset es producto del registro manual de los accidentes de tráfico del periodo 2017 - 2020 de la ciudad **Addis Ababa**, ciudad capital de Ethiopia. La información fue recopilada por los departamentos de policía y posteriormente utilizada con fines de inventigación. Toda la información sensible ha sido excluida durante la transcripción de los datos desde los regitros manuales hasta la creación del archivo CSV. Finalmente se tienen 32 features y 12.316 registros de accidentes.\n",
    "\n",
    "<br>\n",
    "<img src=\"image/mapa_addis.png\" alt=\"position-map\" width=\"300\"/>\n",
    "\n",
    "Los datos se encuentran disponibles en:\n",
    "https://www.kaggle.com/datasets/saurabhshahane/road-traffic-accidents\n",
    "\n",
    "**Las features del dataset son las siguientes:**\n",
    "\n",
    " * Time\n",
    " * Day_of_week\n",
    " * Age_band_of_driver\n",
    " * Sex_of_driver\n",
    " * Educational_level\n",
    " * Vehicle_driver_relation\n",
    " * Driving_experience\n",
    " * Type_of_vehicle\n",
    " * Owner_of_vehicle\n",
    " * Service_year_of_vehicle\n",
    " * Defect_of_vehicle\n",
    " * Area_accident_occured\n",
    " * Lanes_or_Medians\n",
    " * Road_allignment\n",
    " * Types_of_Junction\n",
    " * Road_surface_type\n",
    " * Road_surface_conditions\n",
    " * Light_conditions\n",
    " * Weather_conditions\n",
    " * Type_of_collision\n",
    " * Number_of_vehicles_involved \n",
    " * Number_of_casualties \n",
    " * Vehicle_movement\n",
    " * Casualty_class\n",
    " * Sex_of_casualty\n",
    " * Age_band_of_casualty\n",
    " * Casualty_severity\n",
    " * Work_of_casuality\n",
    " * Fitness_of_casuality\n",
    " * Pedestrian_movement\n",
    " * Cause_of_accident\n",
    " * Accident_severity\n",
    "\n",
    "Este dataset fue seleccionado porque nos resulta interesante conocer cuáles son los distintos aspectos que influyen en la gravedad de un accidente automovilístico, y cómo estos interactúan entre sí. \n",
    "\n",
    "Queremos identificar cuáles son las características que tienen mayor influencia al momento de definir la gravedad de un accidente de tránsito, para luego obtener un modelo que prediga con mayor facilidad la gravedad de las heridas _(ligeras, graves, fatales)_ que se puedan ocasionar en accidentes de automovilísticos futuros. Esto permitirá identificar las condiciones que los conductores deben cumplir y/o evitar para **prevenir** accidentes con heridas fatales."
   ]
  },
  {
   "cell_type": "markdown",
   "id": "244f03f1",
   "metadata": {},
   "source": [
    "### **Objetivos del Desafío 3**\n",
    "- **Explorar y limpiar en dataset**\n",
    "- **Balancear el dataset respecto a la variable target: `Accident_severity`**\n",
    "- **Predecir la variable target con al menos tres modelos de clasificación.**\n",
    "- **Evaluar la performance de los modelos y comparar ventajas y desventajas de cada modelo.**\n",
    "- **Determinar e interpretar la importancia de las features incluidas en la predicción.**"
   ]
  },
  {
   "cell_type": "markdown",
   "id": "4dc5cc92",
   "metadata": {},
   "source": [
    "---\n",
    "\n",
    "<a id=\"indice\">\n",
    "\n",
    "<a id=\"indice\"></a> \n",
    "## **Índice**\n",
    "\n",
    "[Módulo 1 - Exploración y limpieza](#modulo_01)\n",
    "\n",
    "[Módulo 2 - Análisis exploratorio y selección de features](#modulo_02)\n",
    "\n",
    "[Módulo 3 - Balance de clases](#modulo_03)\n",
    "\n",
    "[Módulo 4 - Modelos de clasificación](#modulo_04)\n",
    "\n",
    "   [  * 4.1 Modelo 1](#modelo_1)\n",
    "   \n",
    "   [  * 4.2 Modelo 2](#modelo_2)\n",
    "   \n",
    "   [  * 4.3 Modelo 3](#modelo_3)\n",
    "   \n",
    "\n",
    "[Módulo 5 - Evaluación y comparación de modelos](#modulo_05)\n",
    "\n",
    "\n",
    "[Conclusión](#modulo_06)\n",
    "\n",
    "---"
   ]
  },
  {
   "cell_type": "markdown",
   "id": "8eeea103",
   "metadata": {},
   "source": [
    "<a id=\"modulo_01\"></a> \n",
    "## Módulo 1 - Exploración y limpieza\n",
    "[Ir a índice](#indice)\n",
    "\n",
    "En esta primera sección vamos a explorar los datos, definir si es posible completar algunos valores faltantes o si es preferible reducir el número de registros y/o columnas según lo obersvado. Además se buscará mantener aquellas features que aportan información relevante al trabajo de clasificación."
   ]
  },
  {
   "cell_type": "code",
   "execution_count": 1,
   "id": "4098ab1f",
   "metadata": {},
   "outputs": [],
   "source": [
    "import numpy as np\n",
    "import pandas as pd\n",
    "import seaborn as sns\n",
    "import matplotlib.pyplot as plt\n",
    "\n",
    "import warnings\n",
    "warnings.filterwarnings(\"ignore\")\n",
    "%matplotlib inline"
   ]
  },
  {
   "cell_type": "code",
   "execution_count": 2,
   "id": "dd6339ee",
   "metadata": {},
   "outputs": [
    {
     "data": {
      "text/html": [
       "<div>\n",
       "<style scoped>\n",
       "    .dataframe tbody tr th:only-of-type {\n",
       "        vertical-align: middle;\n",
       "    }\n",
       "\n",
       "    .dataframe tbody tr th {\n",
       "        vertical-align: top;\n",
       "    }\n",
       "\n",
       "    .dataframe thead th {\n",
       "        text-align: right;\n",
       "    }\n",
       "</style>\n",
       "<table border=\"1\" class=\"dataframe\">\n",
       "  <thead>\n",
       "    <tr style=\"text-align: right;\">\n",
       "      <th></th>\n",
       "      <th>Time</th>\n",
       "      <th>Day_of_week</th>\n",
       "      <th>Age_band_of_driver</th>\n",
       "      <th>Sex_of_driver</th>\n",
       "      <th>Educational_level</th>\n",
       "      <th>Vehicle_driver_relation</th>\n",
       "      <th>Driving_experience</th>\n",
       "      <th>Type_of_vehicle</th>\n",
       "      <th>Owner_of_vehicle</th>\n",
       "      <th>Service_year_of_vehicle</th>\n",
       "      <th>...</th>\n",
       "      <th>Vehicle_movement</th>\n",
       "      <th>Casualty_class</th>\n",
       "      <th>Sex_of_casualty</th>\n",
       "      <th>Age_band_of_casualty</th>\n",
       "      <th>Casualty_severity</th>\n",
       "      <th>Work_of_casuality</th>\n",
       "      <th>Fitness_of_casuality</th>\n",
       "      <th>Pedestrian_movement</th>\n",
       "      <th>Cause_of_accident</th>\n",
       "      <th>Accident_severity</th>\n",
       "    </tr>\n",
       "  </thead>\n",
       "  <tbody>\n",
       "    <tr>\n",
       "      <th>0</th>\n",
       "      <td>17:02:00</td>\n",
       "      <td>Monday</td>\n",
       "      <td>18-30</td>\n",
       "      <td>Male</td>\n",
       "      <td>Above high school</td>\n",
       "      <td>Employee</td>\n",
       "      <td>1-2yr</td>\n",
       "      <td>Automobile</td>\n",
       "      <td>Owner</td>\n",
       "      <td>Above 10yr</td>\n",
       "      <td>...</td>\n",
       "      <td>Going straight</td>\n",
       "      <td>na</td>\n",
       "      <td>na</td>\n",
       "      <td>na</td>\n",
       "      <td>na</td>\n",
       "      <td>NaN</td>\n",
       "      <td>NaN</td>\n",
       "      <td>Not a Pedestrian</td>\n",
       "      <td>Moving Backward</td>\n",
       "      <td>Slight Injury</td>\n",
       "    </tr>\n",
       "    <tr>\n",
       "      <th>1</th>\n",
       "      <td>17:02:00</td>\n",
       "      <td>Monday</td>\n",
       "      <td>31-50</td>\n",
       "      <td>Male</td>\n",
       "      <td>Junior high school</td>\n",
       "      <td>Employee</td>\n",
       "      <td>Above 10yr</td>\n",
       "      <td>Public (&gt; 45 seats)</td>\n",
       "      <td>Owner</td>\n",
       "      <td>5-10yrs</td>\n",
       "      <td>...</td>\n",
       "      <td>Going straight</td>\n",
       "      <td>na</td>\n",
       "      <td>na</td>\n",
       "      <td>na</td>\n",
       "      <td>na</td>\n",
       "      <td>NaN</td>\n",
       "      <td>NaN</td>\n",
       "      <td>Not a Pedestrian</td>\n",
       "      <td>Overtaking</td>\n",
       "      <td>Slight Injury</td>\n",
       "    </tr>\n",
       "    <tr>\n",
       "      <th>2</th>\n",
       "      <td>17:02:00</td>\n",
       "      <td>Monday</td>\n",
       "      <td>18-30</td>\n",
       "      <td>Male</td>\n",
       "      <td>Junior high school</td>\n",
       "      <td>Employee</td>\n",
       "      <td>1-2yr</td>\n",
       "      <td>Lorry (41?100Q)</td>\n",
       "      <td>Owner</td>\n",
       "      <td>NaN</td>\n",
       "      <td>...</td>\n",
       "      <td>Going straight</td>\n",
       "      <td>Driver or rider</td>\n",
       "      <td>Male</td>\n",
       "      <td>31-50</td>\n",
       "      <td>3</td>\n",
       "      <td>Driver</td>\n",
       "      <td>NaN</td>\n",
       "      <td>Not a Pedestrian</td>\n",
       "      <td>Changing lane to the left</td>\n",
       "      <td>Serious Injury</td>\n",
       "    </tr>\n",
       "  </tbody>\n",
       "</table>\n",
       "<p>3 rows × 32 columns</p>\n",
       "</div>"
      ],
      "text/plain": [
       "       Time Day_of_week Age_band_of_driver Sex_of_driver   Educational_level  \\\n",
       "0  17:02:00      Monday              18-30          Male   Above high school   \n",
       "1  17:02:00      Monday              31-50          Male  Junior high school   \n",
       "2  17:02:00      Monday              18-30          Male  Junior high school   \n",
       "\n",
       "  Vehicle_driver_relation Driving_experience      Type_of_vehicle  \\\n",
       "0                Employee              1-2yr           Automobile   \n",
       "1                Employee         Above 10yr  Public (> 45 seats)   \n",
       "2                Employee              1-2yr      Lorry (41?100Q)   \n",
       "\n",
       "  Owner_of_vehicle Service_year_of_vehicle  ... Vehicle_movement  \\\n",
       "0            Owner              Above 10yr  ...   Going straight   \n",
       "1            Owner                 5-10yrs  ...   Going straight   \n",
       "2            Owner                     NaN  ...   Going straight   \n",
       "\n",
       "    Casualty_class Sex_of_casualty Age_band_of_casualty Casualty_severity  \\\n",
       "0               na              na                   na                na   \n",
       "1               na              na                   na                na   \n",
       "2  Driver or rider            Male                31-50                 3   \n",
       "\n",
       "  Work_of_casuality Fitness_of_casuality Pedestrian_movement  \\\n",
       "0               NaN                  NaN    Not a Pedestrian   \n",
       "1               NaN                  NaN    Not a Pedestrian   \n",
       "2            Driver                  NaN    Not a Pedestrian   \n",
       "\n",
       "           Cause_of_accident Accident_severity  \n",
       "0            Moving Backward     Slight Injury  \n",
       "1                 Overtaking     Slight Injury  \n",
       "2  Changing lane to the left    Serious Injury  \n",
       "\n",
       "[3 rows x 32 columns]"
      ]
     },
     "execution_count": 2,
     "metadata": {},
     "output_type": "execute_result"
    }
   ],
   "source": [
    "data = pd.read_csv(\"RTA_road_traffic_accidents.csv\")\n",
    "data.head(3)"
   ]
  },
  {
   "cell_type": "code",
   "execution_count": 3,
   "id": "2d854aeb",
   "metadata": {},
   "outputs": [
    {
     "name": "stdout",
     "output_type": "stream",
     "text": [
      "<class 'pandas.core.frame.DataFrame'>\n",
      "RangeIndex: 12316 entries, 0 to 12315\n",
      "Data columns (total 32 columns):\n",
      " #   Column                       Non-Null Count  Dtype \n",
      "---  ------                       --------------  ----- \n",
      " 0   Time                         12316 non-null  object\n",
      " 1   Day_of_week                  12316 non-null  object\n",
      " 2   Age_band_of_driver           12316 non-null  object\n",
      " 3   Sex_of_driver                12316 non-null  object\n",
      " 4   Educational_level            11575 non-null  object\n",
      " 5   Vehicle_driver_relation      11737 non-null  object\n",
      " 6   Driving_experience           11487 non-null  object\n",
      " 7   Type_of_vehicle              11366 non-null  object\n",
      " 8   Owner_of_vehicle             11834 non-null  object\n",
      " 9   Service_year_of_vehicle      8388 non-null   object\n",
      " 10  Defect_of_vehicle            7889 non-null   object\n",
      " 11  Area_accident_occured        12077 non-null  object\n",
      " 12  Lanes_or_Medians             11931 non-null  object\n",
      " 13  Road_allignment              12174 non-null  object\n",
      " 14  Types_of_Junction            11429 non-null  object\n",
      " 15  Road_surface_type            12144 non-null  object\n",
      " 16  Road_surface_conditions      12316 non-null  object\n",
      " 17  Light_conditions             12316 non-null  object\n",
      " 18  Weather_conditions           12316 non-null  object\n",
      " 19  Type_of_collision            12161 non-null  object\n",
      " 20  Number_of_vehicles_involved  12316 non-null  int64 \n",
      " 21  Number_of_casualties         12316 non-null  int64 \n",
      " 22  Vehicle_movement             12008 non-null  object\n",
      " 23  Casualty_class               12316 non-null  object\n",
      " 24  Sex_of_casualty              12316 non-null  object\n",
      " 25  Age_band_of_casualty         12316 non-null  object\n",
      " 26  Casualty_severity            12316 non-null  object\n",
      " 27  Work_of_casuality            9118 non-null   object\n",
      " 28  Fitness_of_casuality         9681 non-null   object\n",
      " 29  Pedestrian_movement          12316 non-null  object\n",
      " 30  Cause_of_accident            12316 non-null  object\n",
      " 31  Accident_severity            12316 non-null  object\n",
      "dtypes: int64(2), object(30)\n",
      "memory usage: 3.0+ MB\n"
     ]
    }
   ],
   "source": [
    "data.info()"
   ]
  },
  {
   "cell_type": "markdown",
   "id": "5714b81b",
   "metadata": {},
   "source": [
    "Tenemos un total de 12,316 registros y 32 columnas, de las cuales 2 son del tipo **int** y 30 son de tipo **object**. Notemos que las columnas `Service_year_of_vehicle`, `Defect_of_vehicle`, `Work_of_casuality` , y `Fitness_of_casuality` tienen gran cantidad de registros nulos. Revisaremos columna por columna para definir si la información es relevante para la prediccion de nuestra variable objetivo, de los contrario, la eliminaremos."
   ]
  },
  {
   "cell_type": "markdown",
   "id": "8a0249dc",
   "metadata": {},
   "source": [
    "---\n",
    "### 1.1. Limpieza"
   ]
  },
  {
   "cell_type": "markdown",
   "id": "3af48edf",
   "metadata": {},
   "source": [
    "### Variable objetivo\n",
    "\n",
    "Creamos una función que arme una tabla donde se identifiquen las diferentes categorías de la feature de interés, que contabilice la cantidad y porcentaje de registros asociados a cada una de ellas. Esto último se hace con el objetivo de definir si es necesario redefinir o no las categorías para evitar sesgos en las predicciones."
   ]
  },
  {
   "cell_type": "code",
   "execution_count": 4,
   "id": "141152bd",
   "metadata": {},
   "outputs": [],
   "source": [
    "def series_null_balance (data, target): #target es el nombre de la variable target\n",
    "    \n",
    "    df_target = pd.DataFrame({\n",
    "        '#': data[target].value_counts().values,\n",
    "        '%': ((data[target].value_counts().values/data.shape[0])*100).round(2)\n",
    "    })\n",
    "    df_target.index = data[target].value_counts().index\n",
    "    \n",
    "    print(\"Series dtype = \", data[target].dtype)\n",
    "    print(\"Cantidad total de registros = \", data.shape[0])\n",
    "    print(\"Cantidad total de registros nulos en\", target, \" = \", data[target].isna().sum())\n",
    "    print(\"Porcentaje total de registros nulos en \", target, \" = \", ((data[target].isna().sum()/data.shape[0])*100).round(2), \"%\")\n",
    "   \n",
    "    return df_target"
   ]
  },
  {
   "cell_type": "code",
   "execution_count": 5,
   "id": "34a7295a",
   "metadata": {},
   "outputs": [
    {
     "name": "stdout",
     "output_type": "stream",
     "text": [
      "Series dtype =  object\n",
      "Cantidad total de registros =  12316\n",
      "Cantidad total de registros nulos en Accident_severity  =  0\n",
      "Porcentaje total de registros nulos en  Accident_severity  =  0.0 %\n"
     ]
    },
    {
     "data": {
      "text/html": [
       "<div>\n",
       "<style scoped>\n",
       "    .dataframe tbody tr th:only-of-type {\n",
       "        vertical-align: middle;\n",
       "    }\n",
       "\n",
       "    .dataframe tbody tr th {\n",
       "        vertical-align: top;\n",
       "    }\n",
       "\n",
       "    .dataframe thead th {\n",
       "        text-align: right;\n",
       "    }\n",
       "</style>\n",
       "<table border=\"1\" class=\"dataframe\">\n",
       "  <thead>\n",
       "    <tr style=\"text-align: right;\">\n",
       "      <th></th>\n",
       "      <th>#</th>\n",
       "      <th>%</th>\n",
       "    </tr>\n",
       "  </thead>\n",
       "  <tbody>\n",
       "    <tr>\n",
       "      <th>Slight Injury</th>\n",
       "      <td>10415</td>\n",
       "      <td>84.56</td>\n",
       "    </tr>\n",
       "    <tr>\n",
       "      <th>Serious Injury</th>\n",
       "      <td>1743</td>\n",
       "      <td>14.15</td>\n",
       "    </tr>\n",
       "    <tr>\n",
       "      <th>Fatal injury</th>\n",
       "      <td>158</td>\n",
       "      <td>1.28</td>\n",
       "    </tr>\n",
       "  </tbody>\n",
       "</table>\n",
       "</div>"
      ],
      "text/plain": [
       "                    #      %\n",
       "Slight Injury   10415  84.56\n",
       "Serious Injury   1743  14.15\n",
       "Fatal injury      158   1.28"
      ]
     },
     "execution_count": 5,
     "metadata": {},
     "output_type": "execute_result"
    }
   ],
   "source": [
    "series_null_balance(data, \"Accident_severity\")"
   ]
  },
  {
   "cell_type": "markdown",
   "id": "b1f25bb0",
   "metadata": {},
   "source": [
    "Es importante notar que nuestra variable objetivo puede tomar tres valores distintos, pero se encuentran en proporciones desblanceadas. "
   ]
  },
  {
   "cell_type": "markdown",
   "id": "05123bb1",
   "metadata": {},
   "source": [
    "En otros trabajos derivados de este dataset (publicados en https://www.kaggle.com/), los autores han optado por eliminar las features de menor relevancia, eliminar registros nulos, completar los valores faltantes con los valores de mayor frecuencia en cada feature o con la etiqueta _\"Unknown\"_, transformar variables categóricas en variables numéricas (asignando un número a cada categoría) y creando variables dummies.\n",
    "\n",
    "\n",
    "Nosotros haremos la limpieza de los datos cuidando mantener la mayor cantidad de registros de la clase minoritaria _Fatal injury_, la cual representa unicamente el 1.28% de los registros totales. Para facilitar este proceso generamos la siguiente función que busca analizar los datos nulos o pertenecientes a la categoría `Unknown` de una feature específica y mostrar cuántos de estos registros pertenecen a la categoría `Fatal injury` en nuestra variable objetivo:"
   ]
  },
  {
   "cell_type": "code",
   "execution_count": 6,
   "id": "77d87f73",
   "metadata": {},
   "outputs": [],
   "source": [
    "def fatal_injury_percentage(feature, na_or_unknown=\"Unknown\", null=False):\n",
    "    if null:\n",
    "        mask = new_data[feature].isnull()\n",
    "    else:\n",
    "        mask = new_data[feature] == na_or_unknown\n",
    "        \n",
    "    fat_inj = new_data[mask][\"Accident_severity\"].value_counts(normalize=False)\n",
    "    total_fat_inj = new_data[new_data['Accident_severity'] == \"Fatal injury\"].shape[0]\n",
    "    \n",
    "    print (fat_inj)\n",
    "    print (\"\\n\", fat_inj[2], \"≈\",round(100*fat_inj[2]/total_fat_inj,3),\"% registros con edad desconocida pertenecen a los accidentes con heridas fatales\")"
   ]
  },
  {
   "cell_type": "markdown",
   "id": "3ec93afe",
   "metadata": {},
   "source": [
    "---\n",
    "Pasamos a explorar cada una de las columnas del dataset para determinar con cuáles trabajaremos y cómo resolver los casos nulos. \n",
    "A lo largo de esta exploración de features crearemos `new_data` que será el data set con el que trabajaremos en los siguientes modulos."
   ]
  },
  {
   "cell_type": "code",
   "execution_count": 7,
   "id": "c46fe292",
   "metadata": {},
   "outputs": [],
   "source": [
    "new_data = data"
   ]
  },
  {
   "cell_type": "markdown",
   "id": "d3abd5ed",
   "metadata": {},
   "source": [
    "#### Columnas completas, sin registros nulos\n",
    "Esta variables la dejaremos para realizar un análisis exploratorio posteriormente."
   ]
  },
  {
   "cell_type": "code",
   "execution_count": 8,
   "id": "50ed83e9",
   "metadata": {},
   "outputs": [
    {
     "data": {
      "text/plain": [
       "['Time',\n",
       " 'Day_of_week',\n",
       " 'Age_band_of_driver',\n",
       " 'Sex_of_driver',\n",
       " 'Road_surface_conditions',\n",
       " 'Light_conditions',\n",
       " 'Weather_conditions',\n",
       " 'Number_of_vehicles_involved',\n",
       " 'Number_of_casualties',\n",
       " 'Casualty_class',\n",
       " 'Sex_of_casualty',\n",
       " 'Age_band_of_casualty',\n",
       " 'Casualty_severity',\n",
       " 'Pedestrian_movement',\n",
       " 'Cause_of_accident',\n",
       " 'Accident_severity']"
      ]
     },
     "execution_count": 8,
     "metadata": {},
     "output_type": "execute_result"
    }
   ],
   "source": [
    "[x for x in data.columns if data[x].isna().sum() == 0]"
   ]
  },
  {
   "cell_type": "markdown",
   "id": "8aa32918",
   "metadata": {},
   "source": [
    "#### <span style=\"color:blue\"> Time </span>"
   ]
  },
  {
   "cell_type": "code",
   "execution_count": 9,
   "id": "ac068d66",
   "metadata": {
    "scrolled": true
   },
   "outputs": [
    {
     "name": "stdout",
     "output_type": "stream",
     "text": [
      "Series dtype =  object\n",
      "Cantidad total de registros =  12316\n",
      "Cantidad total de registros nulos en Time  =  0\n",
      "Porcentaje total de registros nulos en  Time  =  0.0 %\n"
     ]
    },
    {
     "data": {
      "text/html": [
       "<div>\n",
       "<style scoped>\n",
       "    .dataframe tbody tr th:only-of-type {\n",
       "        vertical-align: middle;\n",
       "    }\n",
       "\n",
       "    .dataframe tbody tr th {\n",
       "        vertical-align: top;\n",
       "    }\n",
       "\n",
       "    .dataframe thead th {\n",
       "        text-align: right;\n",
       "    }\n",
       "</style>\n",
       "<table border=\"1\" class=\"dataframe\">\n",
       "  <thead>\n",
       "    <tr style=\"text-align: right;\">\n",
       "      <th></th>\n",
       "      <th>#</th>\n",
       "      <th>%</th>\n",
       "    </tr>\n",
       "  </thead>\n",
       "  <tbody>\n",
       "    <tr>\n",
       "      <th>15:30:00</th>\n",
       "      <td>120</td>\n",
       "      <td>0.97</td>\n",
       "    </tr>\n",
       "    <tr>\n",
       "      <th>17:10:00</th>\n",
       "      <td>110</td>\n",
       "      <td>0.89</td>\n",
       "    </tr>\n",
       "    <tr>\n",
       "      <th>18:30:00</th>\n",
       "      <td>103</td>\n",
       "      <td>0.84</td>\n",
       "    </tr>\n",
       "  </tbody>\n",
       "</table>\n",
       "</div>"
      ],
      "text/plain": [
       "            #     %\n",
       "15:30:00  120  0.97\n",
       "17:10:00  110  0.89\n",
       "18:30:00  103  0.84"
      ]
     },
     "execution_count": 9,
     "metadata": {},
     "output_type": "execute_result"
    }
   ],
   "source": [
    "series_null_balance(data, \"Time\").head(3)"
   ]
  },
  {
   "cell_type": "markdown",
   "id": "d9a95323",
   "metadata": {},
   "source": [
    "Conservaremos unicamente la hora, (sin minutos ni segundos), y eliminaremos la columna `Time`"
   ]
  },
  {
   "cell_type": "code",
   "execution_count": 10,
   "id": "7c759ce3",
   "metadata": {},
   "outputs": [
    {
     "data": {
      "text/plain": [
       "dtype('int64')"
      ]
     },
     "execution_count": 10,
     "metadata": {},
     "output_type": "execute_result"
    }
   ],
   "source": [
    "#Agregamos la columna \"Hour\" y eliminamos \"Time\"\n",
    "new_data[\"Hour\"] = [int(pd.to_datetime(t).strftime(\"%H\")) for t in data['Time']]\n",
    "new_data = new_data.drop([\"Time\"], axis=1)\n",
    "new_data[\"Hour\"].dtype"
   ]
  },
  {
   "cell_type": "markdown",
   "id": "eb0c71f7",
   "metadata": {},
   "source": [
    "#### <span style=\"color:blue\"> Day_of_week </span>"
   ]
  },
  {
   "cell_type": "code",
   "execution_count": 11,
   "id": "fb801360",
   "metadata": {},
   "outputs": [
    {
     "name": "stdout",
     "output_type": "stream",
     "text": [
      "Series dtype =  object\n",
      "Cantidad total de registros =  12316\n",
      "Cantidad total de registros nulos en Day_of_week  =  0\n",
      "Porcentaje total de registros nulos en  Day_of_week  =  0.0 %\n"
     ]
    },
    {
     "data": {
      "text/html": [
       "<div>\n",
       "<style scoped>\n",
       "    .dataframe tbody tr th:only-of-type {\n",
       "        vertical-align: middle;\n",
       "    }\n",
       "\n",
       "    .dataframe tbody tr th {\n",
       "        vertical-align: top;\n",
       "    }\n",
       "\n",
       "    .dataframe thead th {\n",
       "        text-align: right;\n",
       "    }\n",
       "</style>\n",
       "<table border=\"1\" class=\"dataframe\">\n",
       "  <thead>\n",
       "    <tr style=\"text-align: right;\">\n",
       "      <th></th>\n",
       "      <th>#</th>\n",
       "      <th>%</th>\n",
       "    </tr>\n",
       "  </thead>\n",
       "  <tbody>\n",
       "    <tr>\n",
       "      <th>Friday</th>\n",
       "      <td>2041</td>\n",
       "      <td>16.57</td>\n",
       "    </tr>\n",
       "    <tr>\n",
       "      <th>Thursday</th>\n",
       "      <td>1851</td>\n",
       "      <td>15.03</td>\n",
       "    </tr>\n",
       "    <tr>\n",
       "      <th>Wednesday</th>\n",
       "      <td>1840</td>\n",
       "      <td>14.94</td>\n",
       "    </tr>\n",
       "    <tr>\n",
       "      <th>Tuesday</th>\n",
       "      <td>1770</td>\n",
       "      <td>14.37</td>\n",
       "    </tr>\n",
       "    <tr>\n",
       "      <th>Monday</th>\n",
       "      <td>1681</td>\n",
       "      <td>13.65</td>\n",
       "    </tr>\n",
       "    <tr>\n",
       "      <th>Saturday</th>\n",
       "      <td>1666</td>\n",
       "      <td>13.53</td>\n",
       "    </tr>\n",
       "    <tr>\n",
       "      <th>Sunday</th>\n",
       "      <td>1467</td>\n",
       "      <td>11.91</td>\n",
       "    </tr>\n",
       "  </tbody>\n",
       "</table>\n",
       "</div>"
      ],
      "text/plain": [
       "              #      %\n",
       "Friday     2041  16.57\n",
       "Thursday   1851  15.03\n",
       "Wednesday  1840  14.94\n",
       "Tuesday    1770  14.37\n",
       "Monday     1681  13.65\n",
       "Saturday   1666  13.53\n",
       "Sunday     1467  11.91"
      ]
     },
     "execution_count": 11,
     "metadata": {},
     "output_type": "execute_result"
    }
   ],
   "source": [
    "series_null_balance(data, \"Day_of_week\")"
   ]
  },
  {
   "cell_type": "markdown",
   "id": "0a615bb1",
   "metadata": {},
   "source": [
    "Notamos que los días en los que ocurren la mayoría de los accidentes son los viernes y los jueves (16.57% y 15.03%, respectivamente); mientras que aquellos donde menos ocurren son durante los fines de semana (sábado y domingo; 13.53% y 11.91%, respectivamente). El hecho de que haya una mayor cantidad de accidentes los dias viernes puede deberse a que es el último día hábil de la semana, cuando muchas personas se juntan para cenar, salir de fiesta y convivir con amigos y familiares; no obstante, para realizar una mejor suposición es necesario analizar el resto de los datos."
   ]
  },
  {
   "cell_type": "markdown",
   "id": "d1deace3",
   "metadata": {},
   "source": [
    "#### <span style=\"color:blue\"> Age_band_of_driver </span>"
   ]
  },
  {
   "cell_type": "code",
   "execution_count": 12,
   "id": "5e7ee8e1",
   "metadata": {},
   "outputs": [
    {
     "name": "stdout",
     "output_type": "stream",
     "text": [
      "Series dtype =  object\n",
      "Cantidad total de registros =  12316\n",
      "Cantidad total de registros nulos en Age_band_of_driver  =  0\n",
      "Porcentaje total de registros nulos en  Age_band_of_driver  =  0.0 %\n"
     ]
    },
    {
     "data": {
      "text/html": [
       "<div>\n",
       "<style scoped>\n",
       "    .dataframe tbody tr th:only-of-type {\n",
       "        vertical-align: middle;\n",
       "    }\n",
       "\n",
       "    .dataframe tbody tr th {\n",
       "        vertical-align: top;\n",
       "    }\n",
       "\n",
       "    .dataframe thead th {\n",
       "        text-align: right;\n",
       "    }\n",
       "</style>\n",
       "<table border=\"1\" class=\"dataframe\">\n",
       "  <thead>\n",
       "    <tr style=\"text-align: right;\">\n",
       "      <th></th>\n",
       "      <th>#</th>\n",
       "      <th>%</th>\n",
       "    </tr>\n",
       "  </thead>\n",
       "  <tbody>\n",
       "    <tr>\n",
       "      <th>18-30</th>\n",
       "      <td>4271</td>\n",
       "      <td>34.68</td>\n",
       "    </tr>\n",
       "    <tr>\n",
       "      <th>31-50</th>\n",
       "      <td>4087</td>\n",
       "      <td>33.18</td>\n",
       "    </tr>\n",
       "    <tr>\n",
       "      <th>Over 51</th>\n",
       "      <td>1585</td>\n",
       "      <td>12.87</td>\n",
       "    </tr>\n",
       "    <tr>\n",
       "      <th>Unknown</th>\n",
       "      <td>1548</td>\n",
       "      <td>12.57</td>\n",
       "    </tr>\n",
       "    <tr>\n",
       "      <th>Under 18</th>\n",
       "      <td>825</td>\n",
       "      <td>6.70</td>\n",
       "    </tr>\n",
       "  </tbody>\n",
       "</table>\n",
       "</div>"
      ],
      "text/plain": [
       "             #      %\n",
       "18-30     4271  34.68\n",
       "31-50     4087  33.18\n",
       "Over 51   1585  12.87\n",
       "Unknown   1548  12.57\n",
       "Under 18   825   6.70"
      ]
     },
     "execution_count": 12,
     "metadata": {},
     "output_type": "execute_result"
    }
   ],
   "source": [
    "series_null_balance(data, \"Age_band_of_driver\")"
   ]
  },
  {
   "cell_type": "markdown",
   "id": "e6ed465b",
   "metadata": {},
   "source": [
    "Observamos que los datos se encuentran divididos en cuatro rangos etarios y que además existe una categoría `Unknown` que no define una edad específica. Analizaremos cuántos elementos de esta categoría perteneces a accidentes fatales o `Fatal injury`."
   ]
  },
  {
   "cell_type": "code",
   "execution_count": 13,
   "id": "75b922d8",
   "metadata": {},
   "outputs": [
    {
     "name": "stdout",
     "output_type": "stream",
     "text": [
      "Slight Injury     1370\n",
      "Serious Injury     172\n",
      "Fatal injury         6\n",
      "Name: Accident_severity, dtype: int64\n",
      "\n",
      " 6 ≈ 3.797 % registros con edad desconocida pertenecen a los accidentes con heridas fatales\n"
     ]
    }
   ],
   "source": [
    "fatal_injury_percentage(\"Age_band_of_driver\")"
   ]
  },
  {
   "cell_type": "markdown",
   "id": "2264113d",
   "metadata": {},
   "source": [
    "Casi el 4% de estos datos corresponden a accidentes fatales. En esta ocasión decidimos conservarlos ya que de eliminar la categoría `Unknown`, perderíamos casi el 12.5% de los datos totales, el cual es un tamaño no menor. Modificaremos los nombres de las categorias para una mejor interpretación de los datos:"
   ]
  },
  {
   "cell_type": "code",
   "execution_count": 14,
   "id": "be916dc2",
   "metadata": {},
   "outputs": [
    {
     "name": "stdout",
     "output_type": "stream",
     "text": [
      "Series dtype =  object\n",
      "Cantidad total de registros =  12316\n",
      "Cantidad total de registros nulos en Age_band_of_driver  =  0\n",
      "Porcentaje total de registros nulos en  Age_band_of_driver  =  0.0 %\n"
     ]
    },
    {
     "data": {
      "text/html": [
       "<div>\n",
       "<style scoped>\n",
       "    .dataframe tbody tr th:only-of-type {\n",
       "        vertical-align: middle;\n",
       "    }\n",
       "\n",
       "    .dataframe tbody tr th {\n",
       "        vertical-align: top;\n",
       "    }\n",
       "\n",
       "    .dataframe thead th {\n",
       "        text-align: right;\n",
       "    }\n",
       "</style>\n",
       "<table border=\"1\" class=\"dataframe\">\n",
       "  <thead>\n",
       "    <tr style=\"text-align: right;\">\n",
       "      <th></th>\n",
       "      <th>#</th>\n",
       "      <th>%</th>\n",
       "    </tr>\n",
       "  </thead>\n",
       "  <tbody>\n",
       "    <tr>\n",
       "      <th>18-30</th>\n",
       "      <td>4271</td>\n",
       "      <td>34.68</td>\n",
       "    </tr>\n",
       "    <tr>\n",
       "      <th>31-50</th>\n",
       "      <td>4087</td>\n",
       "      <td>33.18</td>\n",
       "    </tr>\n",
       "    <tr>\n",
       "      <th>Over 51</th>\n",
       "      <td>1585</td>\n",
       "      <td>12.87</td>\n",
       "    </tr>\n",
       "    <tr>\n",
       "      <th>Unknown</th>\n",
       "      <td>1548</td>\n",
       "      <td>12.57</td>\n",
       "    </tr>\n",
       "    <tr>\n",
       "      <th>Under 18</th>\n",
       "      <td>825</td>\n",
       "      <td>6.70</td>\n",
       "    </tr>\n",
       "  </tbody>\n",
       "</table>\n",
       "</div>"
      ],
      "text/plain": [
       "             #      %\n",
       "18-30     4271  34.68\n",
       "31-50     4087  33.18\n",
       "Over 51   1585  12.87\n",
       "Unknown   1548  12.57\n",
       "Under 18   825   6.70"
      ]
     },
     "execution_count": 14,
     "metadata": {},
     "output_type": "execute_result"
    }
   ],
   "source": [
    "new_data['Age_band_of_driver'] = new_data['Age_band_of_driver'].map({\n",
    "    'Under 18': 'Underage', \n",
    "    '18-30': 'Young_Adult', \n",
    "    '31-50': 'Adult', \n",
    "    'Over 51': 'Older_Adult', \n",
    "    'Unknown': 'Unknown'})\n",
    "\n",
    "series_null_balance(data, \"Age_band_of_driver\")"
   ]
  },
  {
   "cell_type": "markdown",
   "id": "de6246df",
   "metadata": {},
   "source": [
    "#### <span style=\"color:blue\"> Sex_of_driver </span>"
   ]
  },
  {
   "cell_type": "code",
   "execution_count": 15,
   "id": "067a255c",
   "metadata": {},
   "outputs": [
    {
     "name": "stdout",
     "output_type": "stream",
     "text": [
      "Series dtype =  object\n",
      "Cantidad total de registros =  12316\n",
      "Cantidad total de registros nulos en Sex_of_driver  =  0\n",
      "Porcentaje total de registros nulos en  Sex_of_driver  =  0.0 %\n"
     ]
    },
    {
     "data": {
      "text/html": [
       "<div>\n",
       "<style scoped>\n",
       "    .dataframe tbody tr th:only-of-type {\n",
       "        vertical-align: middle;\n",
       "    }\n",
       "\n",
       "    .dataframe tbody tr th {\n",
       "        vertical-align: top;\n",
       "    }\n",
       "\n",
       "    .dataframe thead th {\n",
       "        text-align: right;\n",
       "    }\n",
       "</style>\n",
       "<table border=\"1\" class=\"dataframe\">\n",
       "  <thead>\n",
       "    <tr style=\"text-align: right;\">\n",
       "      <th></th>\n",
       "      <th>#</th>\n",
       "      <th>%</th>\n",
       "    </tr>\n",
       "  </thead>\n",
       "  <tbody>\n",
       "    <tr>\n",
       "      <th>Male</th>\n",
       "      <td>11437</td>\n",
       "      <td>92.86</td>\n",
       "    </tr>\n",
       "    <tr>\n",
       "      <th>Female</th>\n",
       "      <td>701</td>\n",
       "      <td>5.69</td>\n",
       "    </tr>\n",
       "    <tr>\n",
       "      <th>Unknown</th>\n",
       "      <td>178</td>\n",
       "      <td>1.45</td>\n",
       "    </tr>\n",
       "  </tbody>\n",
       "</table>\n",
       "</div>"
      ],
      "text/plain": [
       "             #      %\n",
       "Male     11437  92.86\n",
       "Female     701   5.69\n",
       "Unknown    178   1.45"
      ]
     },
     "execution_count": 15,
     "metadata": {},
     "output_type": "execute_result"
    }
   ],
   "source": [
    "series_null_balance(data, \"Sex_of_driver\")"
   ]
  },
  {
   "cell_type": "code",
   "execution_count": 16,
   "id": "4e7ad492",
   "metadata": {},
   "outputs": [
    {
     "name": "stdout",
     "output_type": "stream",
     "text": [
      "Slight Injury     159\n",
      "Serious Injury     18\n",
      "Fatal injury        1\n",
      "Name: Accident_severity, dtype: int64\n",
      "\n",
      " 1 ≈ 0.633 % registros con edad desconocida pertenecen a los accidentes con heridas fatales\n"
     ]
    }
   ],
   "source": [
    "fatal_injury_percentage(\"Sex_of_driver\")"
   ]
  },
  {
   "cell_type": "markdown",
   "id": "00832ce4",
   "metadata": {},
   "source": [
    "Observamos que además de los géneros binarios existe una categoría `Unknown` la cual solamente representa un 1.45% de la totalidad de los datos. Si analizamos cuántos elementos de esta categoría pertenecen a accidentes fatales o `Fatal injury`, se contabiliza un único registro, por lo cual, eliminar la categoría `Unknown` de la feature `Sex of driver` parece ser una opción viable."
   ]
  },
  {
   "cell_type": "code",
   "execution_count": 17,
   "id": "196a3afa",
   "metadata": {},
   "outputs": [],
   "source": [
    "new_data = new_data[new_data['Sex_of_driver'] != 'Unknown']"
   ]
  },
  {
   "cell_type": "markdown",
   "id": "3e75368b",
   "metadata": {},
   "source": [
    "#### <span style=\"color:blue\"> Road_surface_conditions </span>"
   ]
  },
  {
   "cell_type": "code",
   "execution_count": 18,
   "id": "a51506c5",
   "metadata": {},
   "outputs": [
    {
     "name": "stdout",
     "output_type": "stream",
     "text": [
      "Series dtype =  object\n",
      "Cantidad total de registros =  12138\n",
      "Cantidad total de registros nulos en Road_surface_conditions  =  0\n",
      "Porcentaje total de registros nulos en  Road_surface_conditions  =  0.0 %\n"
     ]
    },
    {
     "data": {
      "text/html": [
       "<div>\n",
       "<style scoped>\n",
       "    .dataframe tbody tr th:only-of-type {\n",
       "        vertical-align: middle;\n",
       "    }\n",
       "\n",
       "    .dataframe tbody tr th {\n",
       "        vertical-align: top;\n",
       "    }\n",
       "\n",
       "    .dataframe thead th {\n",
       "        text-align: right;\n",
       "    }\n",
       "</style>\n",
       "<table border=\"1\" class=\"dataframe\">\n",
       "  <thead>\n",
       "    <tr style=\"text-align: right;\">\n",
       "      <th></th>\n",
       "      <th>#</th>\n",
       "      <th>%</th>\n",
       "    </tr>\n",
       "  </thead>\n",
       "  <tbody>\n",
       "    <tr>\n",
       "      <th>Dry</th>\n",
       "      <td>9220</td>\n",
       "      <td>75.96</td>\n",
       "    </tr>\n",
       "    <tr>\n",
       "      <th>Wet or damp</th>\n",
       "      <td>2848</td>\n",
       "      <td>23.46</td>\n",
       "    </tr>\n",
       "    <tr>\n",
       "      <th>Snow</th>\n",
       "      <td>68</td>\n",
       "      <td>0.56</td>\n",
       "    </tr>\n",
       "    <tr>\n",
       "      <th>Flood over 3cm. deep</th>\n",
       "      <td>2</td>\n",
       "      <td>0.02</td>\n",
       "    </tr>\n",
       "  </tbody>\n",
       "</table>\n",
       "</div>"
      ],
      "text/plain": [
       "                         #      %\n",
       "Dry                   9220  75.96\n",
       "Wet or damp           2848  23.46\n",
       "Snow                    68   0.56\n",
       "Flood over 3cm. deep     2   0.02"
      ]
     },
     "execution_count": 18,
     "metadata": {},
     "output_type": "execute_result"
    }
   ],
   "source": [
    "# Valores en dataset original\n",
    "series_null_balance(new_data, \"Road_surface_conditions\")"
   ]
  },
  {
   "cell_type": "markdown",
   "id": "4f98e8fc",
   "metadata": {},
   "source": [
    "Se observan cuatro categorías: `Dry`, `Wet or damp`, `Snow`, `Flood over 3cm. deep`. Como las últimas dos categorías representan únicamente un 0.58% de la totalidad de los registros, y además, junto a `Wet or damp` representan condiciones de la ruta \"no seca\", decidimos unificar estas tres categorias. De esta manera el feature `Road_surface_conditions` termina siendo una variable categórica binaria, `Dry` vs `Not dry`."
   ]
  },
  {
   "cell_type": "code",
   "execution_count": 19,
   "id": "d2cc18aa",
   "metadata": {},
   "outputs": [],
   "source": [
    "# Redefinimos valores para simplificar\n",
    "new_data['Road_surface_conditions'] = new_data['Road_surface_conditions'].map({\n",
    "    'Dry':'Dry',\n",
    "    'Wet or damp':'Not dry',\n",
    "    'Snow':'Not dry',\n",
    "    'Flood over 3cm. deep':'Not dry'})"
   ]
  },
  {
   "cell_type": "code",
   "execution_count": 20,
   "id": "fb9d0986",
   "metadata": {},
   "outputs": [
    {
     "name": "stdout",
     "output_type": "stream",
     "text": [
      "Series dtype =  object\n",
      "Cantidad total de registros =  12138\n",
      "Cantidad total de registros nulos en Road_surface_conditions  =  0\n",
      "Porcentaje total de registros nulos en  Road_surface_conditions  =  0.0 %\n"
     ]
    },
    {
     "data": {
      "text/html": [
       "<div>\n",
       "<style scoped>\n",
       "    .dataframe tbody tr th:only-of-type {\n",
       "        vertical-align: middle;\n",
       "    }\n",
       "\n",
       "    .dataframe tbody tr th {\n",
       "        vertical-align: top;\n",
       "    }\n",
       "\n",
       "    .dataframe thead th {\n",
       "        text-align: right;\n",
       "    }\n",
       "</style>\n",
       "<table border=\"1\" class=\"dataframe\">\n",
       "  <thead>\n",
       "    <tr style=\"text-align: right;\">\n",
       "      <th></th>\n",
       "      <th>#</th>\n",
       "      <th>%</th>\n",
       "    </tr>\n",
       "  </thead>\n",
       "  <tbody>\n",
       "    <tr>\n",
       "      <th>Dry</th>\n",
       "      <td>9220</td>\n",
       "      <td>75.96</td>\n",
       "    </tr>\n",
       "    <tr>\n",
       "      <th>Not dry</th>\n",
       "      <td>2918</td>\n",
       "      <td>24.04</td>\n",
       "    </tr>\n",
       "  </tbody>\n",
       "</table>\n",
       "</div>"
      ],
      "text/plain": [
       "            #      %\n",
       "Dry      9220  75.96\n",
       "Not dry  2918  24.04"
      ]
     },
     "execution_count": 20,
     "metadata": {},
     "output_type": "execute_result"
    }
   ],
   "source": [
    "series_null_balance(new_data, \"Road_surface_conditions\")"
   ]
  },
  {
   "cell_type": "markdown",
   "id": "dc2a5d24",
   "metadata": {},
   "source": [
    "#### <span style=\"color:blue\"> Light_conditions </span>\n",
    "Nuevamente simplificamos los valores.\n"
   ]
  },
  {
   "cell_type": "code",
   "execution_count": 21,
   "id": "41866d3a",
   "metadata": {},
   "outputs": [
    {
     "name": "stdout",
     "output_type": "stream",
     "text": [
      "Series dtype =  object\n",
      "Cantidad total de registros =  12138\n",
      "Cantidad total de registros nulos en Light_conditions  =  0\n",
      "Porcentaje total de registros nulos en  Light_conditions  =  0.0 %\n"
     ]
    },
    {
     "data": {
      "text/html": [
       "<div>\n",
       "<style scoped>\n",
       "    .dataframe tbody tr th:only-of-type {\n",
       "        vertical-align: middle;\n",
       "    }\n",
       "\n",
       "    .dataframe tbody tr th {\n",
       "        vertical-align: top;\n",
       "    }\n",
       "\n",
       "    .dataframe thead th {\n",
       "        text-align: right;\n",
       "    }\n",
       "</style>\n",
       "<table border=\"1\" class=\"dataframe\">\n",
       "  <thead>\n",
       "    <tr style=\"text-align: right;\">\n",
       "      <th></th>\n",
       "      <th>#</th>\n",
       "      <th>%</th>\n",
       "    </tr>\n",
       "  </thead>\n",
       "  <tbody>\n",
       "    <tr>\n",
       "      <th>Daylight</th>\n",
       "      <td>8680</td>\n",
       "      <td>71.51</td>\n",
       "    </tr>\n",
       "    <tr>\n",
       "      <th>Darkness - lights lit</th>\n",
       "      <td>3230</td>\n",
       "      <td>26.61</td>\n",
       "    </tr>\n",
       "    <tr>\n",
       "      <th>Darkness - no lighting</th>\n",
       "      <td>189</td>\n",
       "      <td>1.56</td>\n",
       "    </tr>\n",
       "    <tr>\n",
       "      <th>Darkness - lights unlit</th>\n",
       "      <td>39</td>\n",
       "      <td>0.32</td>\n",
       "    </tr>\n",
       "  </tbody>\n",
       "</table>\n",
       "</div>"
      ],
      "text/plain": [
       "                            #      %\n",
       "Daylight                 8680  71.51\n",
       "Darkness - lights lit    3230  26.61\n",
       "Darkness - no lighting    189   1.56\n",
       "Darkness - lights unlit    39   0.32"
      ]
     },
     "execution_count": 21,
     "metadata": {},
     "output_type": "execute_result"
    }
   ],
   "source": [
    "series_null_balance(new_data, \"Light_conditions\")"
   ]
  },
  {
   "cell_type": "markdown",
   "id": "8dbd0f94",
   "metadata": {},
   "source": [
    "Para `Light_conditions` se vuelve a repetir el caso del feature anterior. Se observan cuatro categorías: `Daylight`, `Darkness - lights lit`, `Darkness - no lighting`, `Darkness - lights unlit`. Como las últimas dos categorías representan únicamente un 1.88% de la totalidad de los registros, y además, junto a `Darkness - lights lit` representan condiciones de luz en oscuridad, decidimos unificar estas tres categorias. De esta manera el feature `Light_conditions` termina siendo una variable categórica binaria, `Daylight` vs `Darkness`."
   ]
  },
  {
   "cell_type": "code",
   "execution_count": 22,
   "id": "258b1d85",
   "metadata": {},
   "outputs": [],
   "source": [
    "# Redefinimos valores para simplificar\n",
    "new_data['Light_conditions'] = new_data['Light_conditions'].map({\n",
    "    'Daylight':'Daylight',\n",
    "    'Darkness - lights lit':'Darkness',\n",
    "    'Darkness - no lighting':'Darkness',\n",
    "    'Darkness - lights unlit':'Darkness'})"
   ]
  },
  {
   "cell_type": "code",
   "execution_count": 23,
   "id": "007b0534",
   "metadata": {},
   "outputs": [
    {
     "name": "stdout",
     "output_type": "stream",
     "text": [
      "Series dtype =  object\n",
      "Cantidad total de registros =  12138\n",
      "Cantidad total de registros nulos en Light_conditions  =  0\n",
      "Porcentaje total de registros nulos en  Light_conditions  =  0.0 %\n"
     ]
    },
    {
     "data": {
      "text/html": [
       "<div>\n",
       "<style scoped>\n",
       "    .dataframe tbody tr th:only-of-type {\n",
       "        vertical-align: middle;\n",
       "    }\n",
       "\n",
       "    .dataframe tbody tr th {\n",
       "        vertical-align: top;\n",
       "    }\n",
       "\n",
       "    .dataframe thead th {\n",
       "        text-align: right;\n",
       "    }\n",
       "</style>\n",
       "<table border=\"1\" class=\"dataframe\">\n",
       "  <thead>\n",
       "    <tr style=\"text-align: right;\">\n",
       "      <th></th>\n",
       "      <th>#</th>\n",
       "      <th>%</th>\n",
       "    </tr>\n",
       "  </thead>\n",
       "  <tbody>\n",
       "    <tr>\n",
       "      <th>Daylight</th>\n",
       "      <td>8680</td>\n",
       "      <td>71.51</td>\n",
       "    </tr>\n",
       "    <tr>\n",
       "      <th>Darkness</th>\n",
       "      <td>3458</td>\n",
       "      <td>28.49</td>\n",
       "    </tr>\n",
       "  </tbody>\n",
       "</table>\n",
       "</div>"
      ],
      "text/plain": [
       "             #      %\n",
       "Daylight  8680  71.51\n",
       "Darkness  3458  28.49"
      ]
     },
     "execution_count": 23,
     "metadata": {},
     "output_type": "execute_result"
    }
   ],
   "source": [
    "series_null_balance(new_data, \"Light_conditions\")"
   ]
  },
  {
   "cell_type": "markdown",
   "id": "009a9f16",
   "metadata": {},
   "source": [
    "#### <span style=\"color:blue\"> Weather_conditions </span>"
   ]
  },
  {
   "cell_type": "code",
   "execution_count": 24,
   "id": "4601a043",
   "metadata": {},
   "outputs": [
    {
     "name": "stdout",
     "output_type": "stream",
     "text": [
      "Series dtype =  object\n",
      "Cantidad total de registros =  12138\n",
      "Cantidad total de registros nulos en Weather_conditions  =  0\n",
      "Porcentaje total de registros nulos en  Weather_conditions  =  0.0 %\n"
     ]
    },
    {
     "data": {
      "text/html": [
       "<div>\n",
       "<style scoped>\n",
       "    .dataframe tbody tr th:only-of-type {\n",
       "        vertical-align: middle;\n",
       "    }\n",
       "\n",
       "    .dataframe tbody tr th {\n",
       "        vertical-align: top;\n",
       "    }\n",
       "\n",
       "    .dataframe thead th {\n",
       "        text-align: right;\n",
       "    }\n",
       "</style>\n",
       "<table border=\"1\" class=\"dataframe\">\n",
       "  <thead>\n",
       "    <tr style=\"text-align: right;\">\n",
       "      <th></th>\n",
       "      <th>#</th>\n",
       "      <th>%</th>\n",
       "    </tr>\n",
       "  </thead>\n",
       "  <tbody>\n",
       "    <tr>\n",
       "      <th>Normal</th>\n",
       "      <td>9926</td>\n",
       "      <td>81.78</td>\n",
       "    </tr>\n",
       "    <tr>\n",
       "      <th>Raining</th>\n",
       "      <td>1305</td>\n",
       "      <td>10.75</td>\n",
       "    </tr>\n",
       "    <tr>\n",
       "      <th>Unknown</th>\n",
       "      <td>291</td>\n",
       "      <td>2.40</td>\n",
       "    </tr>\n",
       "    <tr>\n",
       "      <th>Other</th>\n",
       "      <td>290</td>\n",
       "      <td>2.39</td>\n",
       "    </tr>\n",
       "    <tr>\n",
       "      <th>Cloudy</th>\n",
       "      <td>122</td>\n",
       "      <td>1.01</td>\n",
       "    </tr>\n",
       "    <tr>\n",
       "      <th>Windy</th>\n",
       "      <td>95</td>\n",
       "      <td>0.78</td>\n",
       "    </tr>\n",
       "    <tr>\n",
       "      <th>Snow</th>\n",
       "      <td>60</td>\n",
       "      <td>0.49</td>\n",
       "    </tr>\n",
       "    <tr>\n",
       "      <th>Raining and Windy</th>\n",
       "      <td>39</td>\n",
       "      <td>0.32</td>\n",
       "    </tr>\n",
       "    <tr>\n",
       "      <th>Fog or mist</th>\n",
       "      <td>10</td>\n",
       "      <td>0.08</td>\n",
       "    </tr>\n",
       "  </tbody>\n",
       "</table>\n",
       "</div>"
      ],
      "text/plain": [
       "                      #      %\n",
       "Normal             9926  81.78\n",
       "Raining            1305  10.75\n",
       "Unknown             291   2.40\n",
       "Other               290   2.39\n",
       "Cloudy              122   1.01\n",
       "Windy                95   0.78\n",
       "Snow                 60   0.49\n",
       "Raining and Windy    39   0.32\n",
       "Fog or mist          10   0.08"
      ]
     },
     "execution_count": 24,
     "metadata": {},
     "output_type": "execute_result"
    }
   ],
   "source": [
    "series_null_balance(new_data, \"Weather_conditions\")"
   ]
  },
  {
   "cell_type": "code",
   "execution_count": 25,
   "id": "19e5327d",
   "metadata": {},
   "outputs": [
    {
     "data": {
      "text/plain": [
       "Raining              1288\n",
       "Normal               1168\n",
       "Other                 205\n",
       "Windy                  89\n",
       "Cloudy                 53\n",
       "Snow                   53\n",
       "Raining and Windy      32\n",
       "Unknown                20\n",
       "Fog or mist            10\n",
       "Name: Weather_conditions, dtype: int64"
      ]
     },
     "execution_count": 25,
     "metadata": {},
     "output_type": "execute_result"
    }
   ],
   "source": [
    "# Variable \"Weather conditions\" en data new en registros con condiciones de suelo \"No Dry\"\n",
    "new_data[new_data['Road_surface_conditions'] == 'Not dry']['Weather_conditions'].value_counts(normalize=False)"
   ]
  },
  {
   "cell_type": "markdown",
   "id": "3bf7dc78",
   "metadata": {},
   "source": [
    "Se observa que la columna `Weather_conditions` es categorica. Tan solo dos de las nueve categorías representan el 92.5% de los datos, y el resto corresponde a proporciones menores al 2.5%, es decir no aportan información de manera significativa. `Weather_conditions` es una feature que se relaciona con la feature `Road_Cond_Dry`, ya que las condiciones del suelo dependen directamente de las condiciones climáticas. Sin embargo, observamos que la columna `Road_Cond_Dry` clasifica mejor los datos. Por esta razón decidimos eliminar la columna `Weather_conditions` y conservar `Road_Cond_Dry`."
   ]
  },
  {
   "cell_type": "code",
   "execution_count": 26,
   "id": "5cc2ecda",
   "metadata": {},
   "outputs": [
    {
     "data": {
      "text/html": [
       "<div>\n",
       "<style scoped>\n",
       "    .dataframe tbody tr th:only-of-type {\n",
       "        vertical-align: middle;\n",
       "    }\n",
       "\n",
       "    .dataframe tbody tr th {\n",
       "        vertical-align: top;\n",
       "    }\n",
       "\n",
       "    .dataframe thead th {\n",
       "        text-align: right;\n",
       "    }\n",
       "</style>\n",
       "<table border=\"1\" class=\"dataframe\">\n",
       "  <thead>\n",
       "    <tr style=\"text-align: right;\">\n",
       "      <th></th>\n",
       "      <th>Day_of_week</th>\n",
       "      <th>Age_band_of_driver</th>\n",
       "      <th>Sex_of_driver</th>\n",
       "      <th>Educational_level</th>\n",
       "      <th>Vehicle_driver_relation</th>\n",
       "      <th>Driving_experience</th>\n",
       "      <th>Type_of_vehicle</th>\n",
       "      <th>Owner_of_vehicle</th>\n",
       "      <th>Service_year_of_vehicle</th>\n",
       "      <th>Defect_of_vehicle</th>\n",
       "      <th>...</th>\n",
       "      <th>Casualty_class</th>\n",
       "      <th>Sex_of_casualty</th>\n",
       "      <th>Age_band_of_casualty</th>\n",
       "      <th>Casualty_severity</th>\n",
       "      <th>Work_of_casuality</th>\n",
       "      <th>Fitness_of_casuality</th>\n",
       "      <th>Pedestrian_movement</th>\n",
       "      <th>Cause_of_accident</th>\n",
       "      <th>Accident_severity</th>\n",
       "      <th>Hour</th>\n",
       "    </tr>\n",
       "  </thead>\n",
       "  <tbody>\n",
       "    <tr>\n",
       "      <th>0</th>\n",
       "      <td>Monday</td>\n",
       "      <td>Young_Adult</td>\n",
       "      <td>Male</td>\n",
       "      <td>Above high school</td>\n",
       "      <td>Employee</td>\n",
       "      <td>1-2yr</td>\n",
       "      <td>Automobile</td>\n",
       "      <td>Owner</td>\n",
       "      <td>Above 10yr</td>\n",
       "      <td>No defect</td>\n",
       "      <td>...</td>\n",
       "      <td>na</td>\n",
       "      <td>na</td>\n",
       "      <td>na</td>\n",
       "      <td>na</td>\n",
       "      <td>NaN</td>\n",
       "      <td>NaN</td>\n",
       "      <td>Not a Pedestrian</td>\n",
       "      <td>Moving Backward</td>\n",
       "      <td>Slight Injury</td>\n",
       "      <td>17</td>\n",
       "    </tr>\n",
       "    <tr>\n",
       "      <th>1</th>\n",
       "      <td>Monday</td>\n",
       "      <td>Adult</td>\n",
       "      <td>Male</td>\n",
       "      <td>Junior high school</td>\n",
       "      <td>Employee</td>\n",
       "      <td>Above 10yr</td>\n",
       "      <td>Public (&gt; 45 seats)</td>\n",
       "      <td>Owner</td>\n",
       "      <td>5-10yrs</td>\n",
       "      <td>No defect</td>\n",
       "      <td>...</td>\n",
       "      <td>na</td>\n",
       "      <td>na</td>\n",
       "      <td>na</td>\n",
       "      <td>na</td>\n",
       "      <td>NaN</td>\n",
       "      <td>NaN</td>\n",
       "      <td>Not a Pedestrian</td>\n",
       "      <td>Overtaking</td>\n",
       "      <td>Slight Injury</td>\n",
       "      <td>17</td>\n",
       "    </tr>\n",
       "    <tr>\n",
       "      <th>2</th>\n",
       "      <td>Monday</td>\n",
       "      <td>Young_Adult</td>\n",
       "      <td>Male</td>\n",
       "      <td>Junior high school</td>\n",
       "      <td>Employee</td>\n",
       "      <td>1-2yr</td>\n",
       "      <td>Lorry (41?100Q)</td>\n",
       "      <td>Owner</td>\n",
       "      <td>NaN</td>\n",
       "      <td>No defect</td>\n",
       "      <td>...</td>\n",
       "      <td>Driver or rider</td>\n",
       "      <td>Male</td>\n",
       "      <td>31-50</td>\n",
       "      <td>3</td>\n",
       "      <td>Driver</td>\n",
       "      <td>NaN</td>\n",
       "      <td>Not a Pedestrian</td>\n",
       "      <td>Changing lane to the left</td>\n",
       "      <td>Serious Injury</td>\n",
       "      <td>17</td>\n",
       "    </tr>\n",
       "  </tbody>\n",
       "</table>\n",
       "<p>3 rows × 31 columns</p>\n",
       "</div>"
      ],
      "text/plain": [
       "  Day_of_week Age_band_of_driver Sex_of_driver   Educational_level  \\\n",
       "0      Monday        Young_Adult          Male   Above high school   \n",
       "1      Monday              Adult          Male  Junior high school   \n",
       "2      Monday        Young_Adult          Male  Junior high school   \n",
       "\n",
       "  Vehicle_driver_relation Driving_experience      Type_of_vehicle  \\\n",
       "0                Employee              1-2yr           Automobile   \n",
       "1                Employee         Above 10yr  Public (> 45 seats)   \n",
       "2                Employee              1-2yr      Lorry (41?100Q)   \n",
       "\n",
       "  Owner_of_vehicle Service_year_of_vehicle Defect_of_vehicle  ...  \\\n",
       "0            Owner              Above 10yr         No defect  ...   \n",
       "1            Owner                 5-10yrs         No defect  ...   \n",
       "2            Owner                     NaN         No defect  ...   \n",
       "\n",
       "    Casualty_class Sex_of_casualty Age_band_of_casualty Casualty_severity  \\\n",
       "0               na              na                   na                na   \n",
       "1               na              na                   na                na   \n",
       "2  Driver or rider            Male                31-50                 3   \n",
       "\n",
       "  Work_of_casuality Fitness_of_casuality Pedestrian_movement  \\\n",
       "0               NaN                  NaN    Not a Pedestrian   \n",
       "1               NaN                  NaN    Not a Pedestrian   \n",
       "2            Driver                  NaN    Not a Pedestrian   \n",
       "\n",
       "           Cause_of_accident  Accident_severity  Hour  \n",
       "0            Moving Backward      Slight Injury    17  \n",
       "1                 Overtaking      Slight Injury    17  \n",
       "2  Changing lane to the left     Serious Injury    17  \n",
       "\n",
       "[3 rows x 31 columns]"
      ]
     },
     "execution_count": 26,
     "metadata": {},
     "output_type": "execute_result"
    }
   ],
   "source": [
    "# Eliminamos esta columna en new_data\n",
    "new_data = new_data.drop([\"Weather_conditions\"], axis=1)\n",
    "new_data.head(3)"
   ]
  },
  {
   "cell_type": "markdown",
   "id": "bfd5f068",
   "metadata": {},
   "source": [
    "#### <span style=\"color:blue\"> Number_of_vehicles_involved </span>"
   ]
  },
  {
   "cell_type": "code",
   "execution_count": 27,
   "id": "f246af04",
   "metadata": {},
   "outputs": [
    {
     "name": "stdout",
     "output_type": "stream",
     "text": [
      "Series dtype =  int64\n",
      "Cantidad total de registros =  12138\n",
      "Cantidad total de registros nulos en Number_of_vehicles_involved  =  0\n",
      "Porcentaje total de registros nulos en  Number_of_vehicles_involved  =  0.0 %\n"
     ]
    },
    {
     "data": {
      "text/html": [
       "<div>\n",
       "<style scoped>\n",
       "    .dataframe tbody tr th:only-of-type {\n",
       "        vertical-align: middle;\n",
       "    }\n",
       "\n",
       "    .dataframe tbody tr th {\n",
       "        vertical-align: top;\n",
       "    }\n",
       "\n",
       "    .dataframe thead th {\n",
       "        text-align: right;\n",
       "    }\n",
       "</style>\n",
       "<table border=\"1\" class=\"dataframe\">\n",
       "  <thead>\n",
       "    <tr style=\"text-align: right;\">\n",
       "      <th></th>\n",
       "      <th>#</th>\n",
       "      <th>%</th>\n",
       "    </tr>\n",
       "  </thead>\n",
       "  <tbody>\n",
       "    <tr>\n",
       "      <th>2</th>\n",
       "      <td>8217</td>\n",
       "      <td>67.70</td>\n",
       "    </tr>\n",
       "    <tr>\n",
       "      <th>1</th>\n",
       "      <td>1965</td>\n",
       "      <td>16.19</td>\n",
       "    </tr>\n",
       "    <tr>\n",
       "      <th>3</th>\n",
       "      <td>1546</td>\n",
       "      <td>12.74</td>\n",
       "    </tr>\n",
       "    <tr>\n",
       "      <th>4</th>\n",
       "      <td>361</td>\n",
       "      <td>2.97</td>\n",
       "    </tr>\n",
       "    <tr>\n",
       "      <th>6</th>\n",
       "      <td>42</td>\n",
       "      <td>0.35</td>\n",
       "    </tr>\n",
       "    <tr>\n",
       "      <th>7</th>\n",
       "      <td>7</td>\n",
       "      <td>0.06</td>\n",
       "    </tr>\n",
       "  </tbody>\n",
       "</table>\n",
       "</div>"
      ],
      "text/plain": [
       "      #      %\n",
       "2  8217  67.70\n",
       "1  1965  16.19\n",
       "3  1546  12.74\n",
       "4   361   2.97\n",
       "6    42   0.35\n",
       "7     7   0.06"
      ]
     },
     "execution_count": 27,
     "metadata": {},
     "output_type": "execute_result"
    }
   ],
   "source": [
    "series_null_balance(new_data, \"Number_of_vehicles_involved\")"
   ]
  },
  {
   "cell_type": "markdown",
   "id": "9f39278f",
   "metadata": {},
   "source": [
    "Vemos que el 67.7% de los accidentes suceden entre dos vehículos y el 16.19% corresponde a accidentes de un único vehículo involucrado.  Los accidentes entre 4 o más vehículos involucrados representan solo el 3.38% de los datos; por esta razón decidimos unificar las categorias 4, 6 y 7 en la categoría 6."
   ]
  },
  {
   "cell_type": "code",
   "execution_count": 28,
   "id": "fd6f1c04",
   "metadata": {},
   "outputs": [
    {
     "name": "stdout",
     "output_type": "stream",
     "text": [
      "Series dtype =  int64\n",
      "Cantidad total de registros =  12138\n",
      "Cantidad total de registros nulos en Number_of_vehicles_involved  =  0\n",
      "Porcentaje total de registros nulos en  Number_of_vehicles_involved  =  0.0 %\n"
     ]
    },
    {
     "data": {
      "text/html": [
       "<div>\n",
       "<style scoped>\n",
       "    .dataframe tbody tr th:only-of-type {\n",
       "        vertical-align: middle;\n",
       "    }\n",
       "\n",
       "    .dataframe tbody tr th {\n",
       "        vertical-align: top;\n",
       "    }\n",
       "\n",
       "    .dataframe thead th {\n",
       "        text-align: right;\n",
       "    }\n",
       "</style>\n",
       "<table border=\"1\" class=\"dataframe\">\n",
       "  <thead>\n",
       "    <tr style=\"text-align: right;\">\n",
       "      <th></th>\n",
       "      <th>#</th>\n",
       "      <th>%</th>\n",
       "    </tr>\n",
       "  </thead>\n",
       "  <tbody>\n",
       "    <tr>\n",
       "      <th>2</th>\n",
       "      <td>8217</td>\n",
       "      <td>67.70</td>\n",
       "    </tr>\n",
       "    <tr>\n",
       "      <th>1</th>\n",
       "      <td>1965</td>\n",
       "      <td>16.19</td>\n",
       "    </tr>\n",
       "    <tr>\n",
       "      <th>3</th>\n",
       "      <td>1546</td>\n",
       "      <td>12.74</td>\n",
       "    </tr>\n",
       "    <tr>\n",
       "      <th>6</th>\n",
       "      <td>410</td>\n",
       "      <td>3.38</td>\n",
       "    </tr>\n",
       "  </tbody>\n",
       "</table>\n",
       "</div>"
      ],
      "text/plain": [
       "      #      %\n",
       "2  8217  67.70\n",
       "1  1965  16.19\n",
       "3  1546  12.74\n",
       "6   410   3.38"
      ]
     },
     "execution_count": 28,
     "metadata": {},
     "output_type": "execute_result"
    }
   ],
   "source": [
    "new_data[\"Number_of_vehicles_involved\"] = [6 if (x == 4) or (x == 7) else x for x in new_data[\"Number_of_vehicles_involved\"]]\n",
    "series_null_balance(new_data, \"Number_of_vehicles_involved\")"
   ]
  },
  {
   "cell_type": "markdown",
   "id": "ea4894f1",
   "metadata": {},
   "source": [
    "#### <span style=\"color:blue\"> Number_of_casualties </span>"
   ]
  },
  {
   "cell_type": "code",
   "execution_count": 29,
   "id": "0a6d565f",
   "metadata": {},
   "outputs": [
    {
     "name": "stdout",
     "output_type": "stream",
     "text": [
      "Series dtype =  int64\n",
      "Cantidad total de registros =  12138\n",
      "Cantidad total de registros nulos en Number_of_casualties  =  0\n",
      "Porcentaje total de registros nulos en  Number_of_casualties  =  0.0 %\n"
     ]
    },
    {
     "data": {
      "text/html": [
       "<div>\n",
       "<style scoped>\n",
       "    .dataframe tbody tr th:only-of-type {\n",
       "        vertical-align: middle;\n",
       "    }\n",
       "\n",
       "    .dataframe tbody tr th {\n",
       "        vertical-align: top;\n",
       "    }\n",
       "\n",
       "    .dataframe thead th {\n",
       "        text-align: right;\n",
       "    }\n",
       "</style>\n",
       "<table border=\"1\" class=\"dataframe\">\n",
       "  <thead>\n",
       "    <tr style=\"text-align: right;\">\n",
       "      <th></th>\n",
       "      <th>#</th>\n",
       "      <th>%</th>\n",
       "    </tr>\n",
       "  </thead>\n",
       "  <tbody>\n",
       "    <tr>\n",
       "      <th>1</th>\n",
       "      <td>8280</td>\n",
       "      <td>68.22</td>\n",
       "    </tr>\n",
       "    <tr>\n",
       "      <th>2</th>\n",
       "      <td>2252</td>\n",
       "      <td>18.55</td>\n",
       "    </tr>\n",
       "    <tr>\n",
       "      <th>3</th>\n",
       "      <td>893</td>\n",
       "      <td>7.36</td>\n",
       "    </tr>\n",
       "    <tr>\n",
       "      <th>4</th>\n",
       "      <td>387</td>\n",
       "      <td>3.19</td>\n",
       "    </tr>\n",
       "    <tr>\n",
       "      <th>5</th>\n",
       "      <td>207</td>\n",
       "      <td>1.71</td>\n",
       "    </tr>\n",
       "    <tr>\n",
       "      <th>6</th>\n",
       "      <td>89</td>\n",
       "      <td>0.73</td>\n",
       "    </tr>\n",
       "    <tr>\n",
       "      <th>7</th>\n",
       "      <td>22</td>\n",
       "      <td>0.18</td>\n",
       "    </tr>\n",
       "    <tr>\n",
       "      <th>8</th>\n",
       "      <td>8</td>\n",
       "      <td>0.07</td>\n",
       "    </tr>\n",
       "  </tbody>\n",
       "</table>\n",
       "</div>"
      ],
      "text/plain": [
       "      #      %\n",
       "1  8280  68.22\n",
       "2  2252  18.55\n",
       "3   893   7.36\n",
       "4   387   3.19\n",
       "5   207   1.71\n",
       "6    89   0.73\n",
       "7    22   0.18\n",
       "8     8   0.07"
      ]
     },
     "execution_count": 29,
     "metadata": {},
     "output_type": "execute_result"
    }
   ],
   "source": [
    "series_null_balance(new_data, \"Number_of_casualties\")"
   ]
  },
  {
   "cell_type": "markdown",
   "id": "28558ab9",
   "metadata": {},
   "source": [
    "Notamos que la mayoría de los accidentes (68.22% de los casos) involucran a una única persona accidentada; mientras que en segundo lugar se encuentran aquellos con dos personas accidentadas (18.55%). Como las categorias 5, 6, 7, 8 representan clases con menos de un 1.71% de representación, decidimos unificarlas en la categoría 6."
   ]
  },
  {
   "cell_type": "code",
   "execution_count": 30,
   "id": "1a217a5e",
   "metadata": {},
   "outputs": [
    {
     "name": "stdout",
     "output_type": "stream",
     "text": [
      "Series dtype =  int64\n",
      "Cantidad total de registros =  12138\n",
      "Cantidad total de registros nulos en Number_of_casualties  =  0\n",
      "Porcentaje total de registros nulos en  Number_of_casualties  =  0.0 %\n"
     ]
    },
    {
     "data": {
      "text/html": [
       "<div>\n",
       "<style scoped>\n",
       "    .dataframe tbody tr th:only-of-type {\n",
       "        vertical-align: middle;\n",
       "    }\n",
       "\n",
       "    .dataframe tbody tr th {\n",
       "        vertical-align: top;\n",
       "    }\n",
       "\n",
       "    .dataframe thead th {\n",
       "        text-align: right;\n",
       "    }\n",
       "</style>\n",
       "<table border=\"1\" class=\"dataframe\">\n",
       "  <thead>\n",
       "    <tr style=\"text-align: right;\">\n",
       "      <th></th>\n",
       "      <th>#</th>\n",
       "      <th>%</th>\n",
       "    </tr>\n",
       "  </thead>\n",
       "  <tbody>\n",
       "    <tr>\n",
       "      <th>1</th>\n",
       "      <td>8280</td>\n",
       "      <td>68.22</td>\n",
       "    </tr>\n",
       "    <tr>\n",
       "      <th>2</th>\n",
       "      <td>2252</td>\n",
       "      <td>18.55</td>\n",
       "    </tr>\n",
       "    <tr>\n",
       "      <th>3</th>\n",
       "      <td>893</td>\n",
       "      <td>7.36</td>\n",
       "    </tr>\n",
       "    <tr>\n",
       "      <th>4</th>\n",
       "      <td>387</td>\n",
       "      <td>3.19</td>\n",
       "    </tr>\n",
       "    <tr>\n",
       "      <th>6</th>\n",
       "      <td>326</td>\n",
       "      <td>2.69</td>\n",
       "    </tr>\n",
       "  </tbody>\n",
       "</table>\n",
       "</div>"
      ],
      "text/plain": [
       "      #      %\n",
       "1  8280  68.22\n",
       "2  2252  18.55\n",
       "3   893   7.36\n",
       "4   387   3.19\n",
       "6   326   2.69"
      ]
     },
     "execution_count": 30,
     "metadata": {},
     "output_type": "execute_result"
    }
   ],
   "source": [
    "new_data[\"Number_of_casualties\"] = [6 if (x == 5) or (x == 7) or (x == 8) else x for x in new_data[\"Number_of_casualties\"]]\n",
    "series_null_balance(new_data, \"Number_of_casualties\")"
   ]
  },
  {
   "cell_type": "markdown",
   "id": "ab1842be",
   "metadata": {},
   "source": [
    "#### <span style=\"color:blue\"> Casualty_class </span>"
   ]
  },
  {
   "cell_type": "code",
   "execution_count": 31,
   "id": "94efcb8c",
   "metadata": {},
   "outputs": [
    {
     "name": "stdout",
     "output_type": "stream",
     "text": [
      "Series dtype =  object\n",
      "Cantidad total de registros =  12138\n",
      "Cantidad total de registros nulos en Casualty_class  =  0\n",
      "Porcentaje total de registros nulos en  Casualty_class  =  0.0 %\n"
     ]
    },
    {
     "data": {
      "text/html": [
       "<div>\n",
       "<style scoped>\n",
       "    .dataframe tbody tr th:only-of-type {\n",
       "        vertical-align: middle;\n",
       "    }\n",
       "\n",
       "    .dataframe tbody tr th {\n",
       "        vertical-align: top;\n",
       "    }\n",
       "\n",
       "    .dataframe thead th {\n",
       "        text-align: right;\n",
       "    }\n",
       "</style>\n",
       "<table border=\"1\" class=\"dataframe\">\n",
       "  <thead>\n",
       "    <tr style=\"text-align: right;\">\n",
       "      <th></th>\n",
       "      <th>#</th>\n",
       "      <th>%</th>\n",
       "    </tr>\n",
       "  </thead>\n",
       "  <tbody>\n",
       "    <tr>\n",
       "      <th>Driver or rider</th>\n",
       "      <td>4881</td>\n",
       "      <td>40.21</td>\n",
       "    </tr>\n",
       "    <tr>\n",
       "      <th>na</th>\n",
       "      <td>4382</td>\n",
       "      <td>36.10</td>\n",
       "    </tr>\n",
       "    <tr>\n",
       "      <th>Pedestrian</th>\n",
       "      <td>1623</td>\n",
       "      <td>13.37</td>\n",
       "    </tr>\n",
       "    <tr>\n",
       "      <th>Passenger</th>\n",
       "      <td>1252</td>\n",
       "      <td>10.31</td>\n",
       "    </tr>\n",
       "  </tbody>\n",
       "</table>\n",
       "</div>"
      ],
      "text/plain": [
       "                    #      %\n",
       "Driver or rider  4881  40.21\n",
       "na               4382  36.10\n",
       "Pedestrian       1623  13.37\n",
       "Passenger        1252  10.31"
      ]
     },
     "execution_count": 31,
     "metadata": {},
     "output_type": "execute_result"
    }
   ],
   "source": [
    "series_null_balance(new_data, \"Casualty_class\")"
   ]
  },
  {
   "cell_type": "markdown",
   "id": "9d70f0a3",
   "metadata": {},
   "source": [
    "Vemos que en el 40.21% de los accidentes la persona herida es el conductor. Notemos la presencia del valor `na`, con 36.10% de participación. Asumimos que `na` **no** significa que el número de personas heridas fue 0, ya que la feature `Number_of_casualies` no toma ese valor, ni presenta registros nulos. Analogamente a un caso previo, analizamos el porcentaje de participación de la clase `na` en los accidentes de gravedad fatal _(Accident_severity=Fatal injury)_."
   ]
  },
  {
   "cell_type": "code",
   "execution_count": 32,
   "id": "30202947",
   "metadata": {},
   "outputs": [
    {
     "name": "stdout",
     "output_type": "stream",
     "text": [
      "Slight Injury     3728\n",
      "Serious Injury     606\n",
      "Fatal injury        48\n",
      "Name: Accident_severity, dtype: int64\n",
      "\n",
      " 48 ≈ 30.573 % registros con edad desconocida pertenecen a los accidentes con heridas fatales\n"
     ]
    }
   ],
   "source": [
    "fatal_injury_percentage(\"Casualty_class\", \"na\")"
   ]
  },
  {
   "cell_type": "markdown",
   "id": "591f8092",
   "metadata": {},
   "source": [
    "Observemos que el 30.57% de los accidentes con heridas fatales presentan el valor `na`en `Casualty_class`. Nuestra interpretación fue similar al caso previo: el hecho de tratarse de un accidente con heridas fatales hace imposible determinar la feature `Casualty_class`. Por esta razón redefinimos `na` como `Unknown`."
   ]
  },
  {
   "cell_type": "code",
   "execution_count": 33,
   "id": "5682104c",
   "metadata": {},
   "outputs": [
    {
     "name": "stdout",
     "output_type": "stream",
     "text": [
      "Series dtype =  object\n",
      "Cantidad total de registros =  12138\n",
      "Cantidad total de registros nulos en Casualty_class  =  0\n",
      "Porcentaje total de registros nulos en  Casualty_class  =  0.0 %\n"
     ]
    },
    {
     "data": {
      "text/html": [
       "<div>\n",
       "<style scoped>\n",
       "    .dataframe tbody tr th:only-of-type {\n",
       "        vertical-align: middle;\n",
       "    }\n",
       "\n",
       "    .dataframe tbody tr th {\n",
       "        vertical-align: top;\n",
       "    }\n",
       "\n",
       "    .dataframe thead th {\n",
       "        text-align: right;\n",
       "    }\n",
       "</style>\n",
       "<table border=\"1\" class=\"dataframe\">\n",
       "  <thead>\n",
       "    <tr style=\"text-align: right;\">\n",
       "      <th></th>\n",
       "      <th>#</th>\n",
       "      <th>%</th>\n",
       "    </tr>\n",
       "  </thead>\n",
       "  <tbody>\n",
       "    <tr>\n",
       "      <th>Driver or rider</th>\n",
       "      <td>4881</td>\n",
       "      <td>40.21</td>\n",
       "    </tr>\n",
       "    <tr>\n",
       "      <th>Unknown</th>\n",
       "      <td>4382</td>\n",
       "      <td>36.10</td>\n",
       "    </tr>\n",
       "    <tr>\n",
       "      <th>Pedestrian</th>\n",
       "      <td>1623</td>\n",
       "      <td>13.37</td>\n",
       "    </tr>\n",
       "    <tr>\n",
       "      <th>Passenger</th>\n",
       "      <td>1252</td>\n",
       "      <td>10.31</td>\n",
       "    </tr>\n",
       "  </tbody>\n",
       "</table>\n",
       "</div>"
      ],
      "text/plain": [
       "                    #      %\n",
       "Driver or rider  4881  40.21\n",
       "Unknown          4382  36.10\n",
       "Pedestrian       1623  13.37\n",
       "Passenger        1252  10.31"
      ]
     },
     "execution_count": 33,
     "metadata": {},
     "output_type": "execute_result"
    }
   ],
   "source": [
    "# Redefinimos valores para simplificar\n",
    "new_data['Casualty_class'] = [ 'Unknown' if x == 'na' else x for x in new_data['Casualty_class'] ]\n",
    "series_null_balance(new_data, \"Casualty_class\")"
   ]
  },
  {
   "cell_type": "markdown",
   "id": "e6ce4577",
   "metadata": {},
   "source": [
    "#### <span style=\"color:blue\"> Sex_of_casualty </span>"
   ]
  },
  {
   "cell_type": "code",
   "execution_count": 34,
   "id": "7ecbbaed",
   "metadata": {},
   "outputs": [
    {
     "name": "stdout",
     "output_type": "stream",
     "text": [
      "Series dtype =  object\n",
      "Cantidad total de registros =  12138\n",
      "Cantidad total de registros nulos en Sex_of_casualty  =  0\n",
      "Porcentaje total de registros nulos en  Sex_of_casualty  =  0.0 %\n"
     ]
    },
    {
     "data": {
      "text/html": [
       "<div>\n",
       "<style scoped>\n",
       "    .dataframe tbody tr th:only-of-type {\n",
       "        vertical-align: middle;\n",
       "    }\n",
       "\n",
       "    .dataframe tbody tr th {\n",
       "        vertical-align: top;\n",
       "    }\n",
       "\n",
       "    .dataframe thead th {\n",
       "        text-align: right;\n",
       "    }\n",
       "</style>\n",
       "<table border=\"1\" class=\"dataframe\">\n",
       "  <thead>\n",
       "    <tr style=\"text-align: right;\">\n",
       "      <th></th>\n",
       "      <th>#</th>\n",
       "      <th>%</th>\n",
       "    </tr>\n",
       "  </thead>\n",
       "  <tbody>\n",
       "    <tr>\n",
       "      <th>Male</th>\n",
       "      <td>5186</td>\n",
       "      <td>42.73</td>\n",
       "    </tr>\n",
       "    <tr>\n",
       "      <th>na</th>\n",
       "      <td>4382</td>\n",
       "      <td>36.10</td>\n",
       "    </tr>\n",
       "    <tr>\n",
       "      <th>Female</th>\n",
       "      <td>2570</td>\n",
       "      <td>21.17</td>\n",
       "    </tr>\n",
       "  </tbody>\n",
       "</table>\n",
       "</div>"
      ],
      "text/plain": [
       "           #      %\n",
       "Male    5186  42.73\n",
       "na      4382  36.10\n",
       "Female  2570  21.17"
      ]
     },
     "execution_count": 34,
     "metadata": {},
     "output_type": "execute_result"
    }
   ],
   "source": [
    "series_null_balance(new_data, \"Sex_of_casualty\")"
   ]
  },
  {
   "cell_type": "markdown",
   "id": "4b5a524e",
   "metadata": {},
   "source": [
    "Como se observa que el 36.10% de los datos no indican el sexo de la persona accidentada, y consideramos que es un dato que no aporta mucha imformación para la clasificación de la variable objetivo, decidimos eliminar esta feature del dataset."
   ]
  },
  {
   "cell_type": "code",
   "execution_count": 35,
   "id": "c71ab84f",
   "metadata": {},
   "outputs": [],
   "source": [
    "new_data = new_data.drop(columns='Sex_of_casualty')"
   ]
  },
  {
   "cell_type": "markdown",
   "id": "e985515f",
   "metadata": {},
   "source": [
    "#### <span style=\"color:blue\"> Age_band_of_casualty </span>"
   ]
  },
  {
   "cell_type": "code",
   "execution_count": 36,
   "id": "a4612df9",
   "metadata": {},
   "outputs": [
    {
     "name": "stdout",
     "output_type": "stream",
     "text": [
      "Series dtype =  object\n",
      "Cantidad total de registros =  12138\n",
      "Cantidad total de registros nulos en Age_band_of_casualty  =  0\n",
      "Porcentaje total de registros nulos en  Age_band_of_casualty  =  0.0 %\n"
     ]
    },
    {
     "data": {
      "text/html": [
       "<div>\n",
       "<style scoped>\n",
       "    .dataframe tbody tr th:only-of-type {\n",
       "        vertical-align: middle;\n",
       "    }\n",
       "\n",
       "    .dataframe tbody tr th {\n",
       "        vertical-align: top;\n",
       "    }\n",
       "\n",
       "    .dataframe thead th {\n",
       "        text-align: right;\n",
       "    }\n",
       "</style>\n",
       "<table border=\"1\" class=\"dataframe\">\n",
       "  <thead>\n",
       "    <tr style=\"text-align: right;\">\n",
       "      <th></th>\n",
       "      <th>#</th>\n",
       "      <th>%</th>\n",
       "    </tr>\n",
       "  </thead>\n",
       "  <tbody>\n",
       "    <tr>\n",
       "      <th>na</th>\n",
       "      <td>4382</td>\n",
       "      <td>36.10</td>\n",
       "    </tr>\n",
       "    <tr>\n",
       "      <th>18-30</th>\n",
       "      <td>3107</td>\n",
       "      <td>25.60</td>\n",
       "    </tr>\n",
       "    <tr>\n",
       "      <th>31-50</th>\n",
       "      <td>2420</td>\n",
       "      <td>19.94</td>\n",
       "    </tr>\n",
       "    <tr>\n",
       "      <th>Under 18</th>\n",
       "      <td>1008</td>\n",
       "      <td>8.30</td>\n",
       "    </tr>\n",
       "    <tr>\n",
       "      <th>Over 51</th>\n",
       "      <td>977</td>\n",
       "      <td>8.05</td>\n",
       "    </tr>\n",
       "    <tr>\n",
       "      <th>5</th>\n",
       "      <td>244</td>\n",
       "      <td>2.01</td>\n",
       "    </tr>\n",
       "  </tbody>\n",
       "</table>\n",
       "</div>"
      ],
      "text/plain": [
       "             #      %\n",
       "na        4382  36.10\n",
       "18-30     3107  25.60\n",
       "31-50     2420  19.94\n",
       "Under 18  1008   8.30\n",
       "Over 51    977   8.05\n",
       "5          244   2.01"
      ]
     },
     "execution_count": 36,
     "metadata": {},
     "output_type": "execute_result"
    }
   ],
   "source": [
    "series_null_balance(new_data, \"Age_band_of_casualty\")"
   ]
  },
  {
   "cell_type": "markdown",
   "id": "d33f2ffe",
   "metadata": {},
   "source": [
    "En este caso ocurre lo mismo que en el feature anterior, 36.08% de los registros contienen un valor faltante en esta columna (la mayor porción de los datos); además hay una categoría denominada `5` que no parece tener sentido y que se lleva casi el 2% de los datos. Por estas razones decidimos eliminala."
   ]
  },
  {
   "cell_type": "code",
   "execution_count": 37,
   "id": "275d34a5",
   "metadata": {},
   "outputs": [],
   "source": [
    "new_data = new_data.drop(columns='Age_band_of_casualty')"
   ]
  },
  {
   "cell_type": "markdown",
   "id": "a032277f",
   "metadata": {},
   "source": [
    "#### <span style=\"color:blue\"> Casualty_severity </span>"
   ]
  },
  {
   "cell_type": "code",
   "execution_count": 38,
   "id": "53870d28",
   "metadata": {},
   "outputs": [
    {
     "name": "stdout",
     "output_type": "stream",
     "text": [
      "Series dtype =  object\n",
      "Cantidad total de registros =  12138\n",
      "Cantidad total de registros nulos en Casualty_severity  =  0\n",
      "Porcentaje total de registros nulos en  Casualty_severity  =  0.0 %\n"
     ]
    },
    {
     "data": {
      "text/html": [
       "<div>\n",
       "<style scoped>\n",
       "    .dataframe tbody tr th:only-of-type {\n",
       "        vertical-align: middle;\n",
       "    }\n",
       "\n",
       "    .dataframe tbody tr th {\n",
       "        vertical-align: top;\n",
       "    }\n",
       "\n",
       "    .dataframe thead th {\n",
       "        text-align: right;\n",
       "    }\n",
       "</style>\n",
       "<table border=\"1\" class=\"dataframe\">\n",
       "  <thead>\n",
       "    <tr style=\"text-align: right;\">\n",
       "      <th></th>\n",
       "      <th>#</th>\n",
       "      <th>%</th>\n",
       "    </tr>\n",
       "  </thead>\n",
       "  <tbody>\n",
       "    <tr>\n",
       "      <th>3</th>\n",
       "      <td>6976</td>\n",
       "      <td>57.47</td>\n",
       "    </tr>\n",
       "    <tr>\n",
       "      <th>na</th>\n",
       "      <td>4382</td>\n",
       "      <td>36.10</td>\n",
       "    </tr>\n",
       "    <tr>\n",
       "      <th>2</th>\n",
       "      <td>754</td>\n",
       "      <td>6.21</td>\n",
       "    </tr>\n",
       "    <tr>\n",
       "      <th>1</th>\n",
       "      <td>26</td>\n",
       "      <td>0.21</td>\n",
       "    </tr>\n",
       "  </tbody>\n",
       "</table>\n",
       "</div>"
      ],
      "text/plain": [
       "       #      %\n",
       "3   6976  57.47\n",
       "na  4382  36.10\n",
       "2    754   6.21\n",
       "1     26   0.21"
      ]
     },
     "execution_count": 38,
     "metadata": {},
     "output_type": "execute_result"
    }
   ],
   "source": [
    "series_null_balance(new_data, \"Casualty_severity\")"
   ]
  },
  {
   "cell_type": "markdown",
   "id": "eeff3efb",
   "metadata": {},
   "source": [
    "Este feature indica la severidad del daño realizado hacia la/s personas accidentadas, donde se diferencian 4 niveles diferentes: `na`, `1`, `2` y `3`. Interpretando `na` como severidad de daño nula, y tomando las categorias en orden creciente de severidad, pasamos a renombrar las categorias de tipo objeto como de tipo int para una mejor interpretabilidad de los datos."
   ]
  },
  {
   "cell_type": "code",
   "execution_count": 39,
   "id": "87b2a1ad",
   "metadata": {},
   "outputs": [
    {
     "name": "stdout",
     "output_type": "stream",
     "text": [
      "Series dtype =  int64\n",
      "Cantidad total de registros =  12138\n",
      "Cantidad total de registros nulos en Casualty_severity  =  0\n",
      "Porcentaje total de registros nulos en  Casualty_severity  =  0.0 %\n"
     ]
    },
    {
     "data": {
      "text/html": [
       "<div>\n",
       "<style scoped>\n",
       "    .dataframe tbody tr th:only-of-type {\n",
       "        vertical-align: middle;\n",
       "    }\n",
       "\n",
       "    .dataframe tbody tr th {\n",
       "        vertical-align: top;\n",
       "    }\n",
       "\n",
       "    .dataframe thead th {\n",
       "        text-align: right;\n",
       "    }\n",
       "</style>\n",
       "<table border=\"1\" class=\"dataframe\">\n",
       "  <thead>\n",
       "    <tr style=\"text-align: right;\">\n",
       "      <th></th>\n",
       "      <th>#</th>\n",
       "      <th>%</th>\n",
       "    </tr>\n",
       "  </thead>\n",
       "  <tbody>\n",
       "    <tr>\n",
       "      <th>3</th>\n",
       "      <td>6976</td>\n",
       "      <td>57.47</td>\n",
       "    </tr>\n",
       "    <tr>\n",
       "      <th>0</th>\n",
       "      <td>4382</td>\n",
       "      <td>36.10</td>\n",
       "    </tr>\n",
       "    <tr>\n",
       "      <th>2</th>\n",
       "      <td>754</td>\n",
       "      <td>6.21</td>\n",
       "    </tr>\n",
       "    <tr>\n",
       "      <th>1</th>\n",
       "      <td>26</td>\n",
       "      <td>0.21</td>\n",
       "    </tr>\n",
       "  </tbody>\n",
       "</table>\n",
       "</div>"
      ],
      "text/plain": [
       "      #      %\n",
       "3  6976  57.47\n",
       "0  4382  36.10\n",
       "2   754   6.21\n",
       "1    26   0.21"
      ]
     },
     "execution_count": 39,
     "metadata": {},
     "output_type": "execute_result"
    }
   ],
   "source": [
    "# Redefinimos valores para simplificar\n",
    "new_data['Casualty_severity'] = new_data['Casualty_severity'].map({\n",
    "    'na':0, '1':1, '2':2, '3':3})\n",
    "\n",
    "series_null_balance(new_data, \"Casualty_severity\")"
   ]
  },
  {
   "cell_type": "markdown",
   "id": "6c620388",
   "metadata": {},
   "source": [
    "#### <span style=\"color:blue\"> Pedestrian_movement  </span>"
   ]
  },
  {
   "cell_type": "code",
   "execution_count": 40,
   "id": "8e2bb18b",
   "metadata": {},
   "outputs": [
    {
     "name": "stdout",
     "output_type": "stream",
     "text": [
      "Series dtype =  object\n",
      "Cantidad total de registros =  12138\n",
      "Cantidad total de registros nulos en Pedestrian_movement  =  0\n",
      "Porcentaje total de registros nulos en  Pedestrian_movement  =  0.0 %\n"
     ]
    },
    {
     "data": {
      "text/html": [
       "<div>\n",
       "<style scoped>\n",
       "    .dataframe tbody tr th:only-of-type {\n",
       "        vertical-align: middle;\n",
       "    }\n",
       "\n",
       "    .dataframe tbody tr th {\n",
       "        vertical-align: top;\n",
       "    }\n",
       "\n",
       "    .dataframe thead th {\n",
       "        text-align: right;\n",
       "    }\n",
       "</style>\n",
       "<table border=\"1\" class=\"dataframe\">\n",
       "  <thead>\n",
       "    <tr style=\"text-align: right;\">\n",
       "      <th></th>\n",
       "      <th>#</th>\n",
       "      <th>%</th>\n",
       "    </tr>\n",
       "  </thead>\n",
       "  <tbody>\n",
       "    <tr>\n",
       "      <th>Not a Pedestrian</th>\n",
       "      <td>11224</td>\n",
       "      <td>92.47</td>\n",
       "    </tr>\n",
       "    <tr>\n",
       "      <th>Crossing from nearside - masked by parked or statioNot a Pedestrianry vehicle</th>\n",
       "      <td>335</td>\n",
       "      <td>2.76</td>\n",
       "    </tr>\n",
       "    <tr>\n",
       "      <th>Unknown or other</th>\n",
       "      <td>287</td>\n",
       "      <td>2.36</td>\n",
       "    </tr>\n",
       "    <tr>\n",
       "      <th>Crossing from driver's nearside</th>\n",
       "      <td>139</td>\n",
       "      <td>1.15</td>\n",
       "    </tr>\n",
       "    <tr>\n",
       "      <th>Crossing from offside - masked by  parked or statioNot a Pedestrianry vehicle</th>\n",
       "      <td>69</td>\n",
       "      <td>0.57</td>\n",
       "    </tr>\n",
       "    <tr>\n",
       "      <th>In carriageway, statioNot a Pedestrianry - not crossing  (standing or playing)</th>\n",
       "      <td>46</td>\n",
       "      <td>0.38</td>\n",
       "    </tr>\n",
       "    <tr>\n",
       "      <th>Walking along in carriageway, back to traffic</th>\n",
       "      <td>18</td>\n",
       "      <td>0.15</td>\n",
       "    </tr>\n",
       "    <tr>\n",
       "      <th>In carriageway, statioNot a Pedestrianry - not crossing  (standing or playing) - masked by parked or statioNot a Pedestrianry vehicle</th>\n",
       "      <td>13</td>\n",
       "      <td>0.11</td>\n",
       "    </tr>\n",
       "    <tr>\n",
       "      <th>Walking along in carriageway, facing traffic</th>\n",
       "      <td>7</td>\n",
       "      <td>0.06</td>\n",
       "    </tr>\n",
       "  </tbody>\n",
       "</table>\n",
       "</div>"
      ],
      "text/plain": [
       "                                                        #      %\n",
       "Not a Pedestrian                                    11224  92.47\n",
       "Crossing from nearside - masked by parked or st...    335   2.76\n",
       "Unknown or other                                      287   2.36\n",
       "Crossing from driver's nearside                       139   1.15\n",
       "Crossing from offside - masked by  parked or st...     69   0.57\n",
       "In carriageway, statioNot a Pedestrianry - not ...     46   0.38\n",
       "Walking along in carriageway, back to traffic          18   0.15\n",
       "In carriageway, statioNot a Pedestrianry - not ...     13   0.11\n",
       "Walking along in carriageway, facing traffic            7   0.06"
      ]
     },
     "execution_count": 40,
     "metadata": {},
     "output_type": "execute_result"
    }
   ],
   "source": [
    "series_null_balance(new_data, \"Pedestrian_movement\")"
   ]
  },
  {
   "cell_type": "markdown",
   "id": "5f0783cc",
   "metadata": {},
   "source": [
    "Este feature describe con mucho detalle de qué manera se movía el peatón. Sin embargo, el 92.48% de los datos pertenecen a una única categoría (`Not a Pedestrian`). Por esta razón optamos por convertir esta feature en una feature booleana, donde **1:** _Si hubo movimiento de peatón_, y **0:** _No hubo movimiento_."
   ]
  },
  {
   "cell_type": "code",
   "execution_count": 41,
   "id": "42172335",
   "metadata": {},
   "outputs": [],
   "source": [
    "new_data['Pedestrian_movement'] = [\"No_pedestrian\" if x == 'Not a Pedestrian' else \"Pedestrian\" for x in new_data['Pedestrian_movement']]"
   ]
  },
  {
   "cell_type": "code",
   "execution_count": 42,
   "id": "cc69f52a",
   "metadata": {},
   "outputs": [
    {
     "data": {
      "text/html": [
       "<div>\n",
       "<style scoped>\n",
       "    .dataframe tbody tr th:only-of-type {\n",
       "        vertical-align: middle;\n",
       "    }\n",
       "\n",
       "    .dataframe tbody tr th {\n",
       "        vertical-align: top;\n",
       "    }\n",
       "\n",
       "    .dataframe thead th {\n",
       "        text-align: right;\n",
       "    }\n",
       "</style>\n",
       "<table border=\"1\" class=\"dataframe\">\n",
       "  <thead>\n",
       "    <tr style=\"text-align: right;\">\n",
       "      <th></th>\n",
       "      <th>Day_of_week</th>\n",
       "      <th>Age_band_of_driver</th>\n",
       "      <th>Sex_of_driver</th>\n",
       "      <th>Educational_level</th>\n",
       "      <th>Vehicle_driver_relation</th>\n",
       "      <th>Driving_experience</th>\n",
       "      <th>Type_of_vehicle</th>\n",
       "      <th>Owner_of_vehicle</th>\n",
       "      <th>Service_year_of_vehicle</th>\n",
       "      <th>Defect_of_vehicle</th>\n",
       "      <th>...</th>\n",
       "      <th>Number_of_casualties</th>\n",
       "      <th>Vehicle_movement</th>\n",
       "      <th>Casualty_class</th>\n",
       "      <th>Casualty_severity</th>\n",
       "      <th>Work_of_casuality</th>\n",
       "      <th>Fitness_of_casuality</th>\n",
       "      <th>Pedestrian_movement</th>\n",
       "      <th>Cause_of_accident</th>\n",
       "      <th>Accident_severity</th>\n",
       "      <th>Hour</th>\n",
       "    </tr>\n",
       "  </thead>\n",
       "  <tbody>\n",
       "    <tr>\n",
       "      <th>0</th>\n",
       "      <td>Monday</td>\n",
       "      <td>Young_Adult</td>\n",
       "      <td>Male</td>\n",
       "      <td>Above high school</td>\n",
       "      <td>Employee</td>\n",
       "      <td>1-2yr</td>\n",
       "      <td>Automobile</td>\n",
       "      <td>Owner</td>\n",
       "      <td>Above 10yr</td>\n",
       "      <td>No defect</td>\n",
       "      <td>...</td>\n",
       "      <td>2</td>\n",
       "      <td>Going straight</td>\n",
       "      <td>Unknown</td>\n",
       "      <td>0</td>\n",
       "      <td>NaN</td>\n",
       "      <td>NaN</td>\n",
       "      <td>No_pedestrian</td>\n",
       "      <td>Moving Backward</td>\n",
       "      <td>Slight Injury</td>\n",
       "      <td>17</td>\n",
       "    </tr>\n",
       "    <tr>\n",
       "      <th>1</th>\n",
       "      <td>Monday</td>\n",
       "      <td>Adult</td>\n",
       "      <td>Male</td>\n",
       "      <td>Junior high school</td>\n",
       "      <td>Employee</td>\n",
       "      <td>Above 10yr</td>\n",
       "      <td>Public (&gt; 45 seats)</td>\n",
       "      <td>Owner</td>\n",
       "      <td>5-10yrs</td>\n",
       "      <td>No defect</td>\n",
       "      <td>...</td>\n",
       "      <td>2</td>\n",
       "      <td>Going straight</td>\n",
       "      <td>Unknown</td>\n",
       "      <td>0</td>\n",
       "      <td>NaN</td>\n",
       "      <td>NaN</td>\n",
       "      <td>No_pedestrian</td>\n",
       "      <td>Overtaking</td>\n",
       "      <td>Slight Injury</td>\n",
       "      <td>17</td>\n",
       "    </tr>\n",
       "    <tr>\n",
       "      <th>2</th>\n",
       "      <td>Monday</td>\n",
       "      <td>Young_Adult</td>\n",
       "      <td>Male</td>\n",
       "      <td>Junior high school</td>\n",
       "      <td>Employee</td>\n",
       "      <td>1-2yr</td>\n",
       "      <td>Lorry (41?100Q)</td>\n",
       "      <td>Owner</td>\n",
       "      <td>NaN</td>\n",
       "      <td>No defect</td>\n",
       "      <td>...</td>\n",
       "      <td>2</td>\n",
       "      <td>Going straight</td>\n",
       "      <td>Driver or rider</td>\n",
       "      <td>3</td>\n",
       "      <td>Driver</td>\n",
       "      <td>NaN</td>\n",
       "      <td>No_pedestrian</td>\n",
       "      <td>Changing lane to the left</td>\n",
       "      <td>Serious Injury</td>\n",
       "      <td>17</td>\n",
       "    </tr>\n",
       "    <tr>\n",
       "      <th>3</th>\n",
       "      <td>Sunday</td>\n",
       "      <td>Young_Adult</td>\n",
       "      <td>Male</td>\n",
       "      <td>Junior high school</td>\n",
       "      <td>Employee</td>\n",
       "      <td>5-10yr</td>\n",
       "      <td>Public (&gt; 45 seats)</td>\n",
       "      <td>Governmental</td>\n",
       "      <td>NaN</td>\n",
       "      <td>No defect</td>\n",
       "      <td>...</td>\n",
       "      <td>2</td>\n",
       "      <td>Going straight</td>\n",
       "      <td>Pedestrian</td>\n",
       "      <td>3</td>\n",
       "      <td>Driver</td>\n",
       "      <td>Normal</td>\n",
       "      <td>No_pedestrian</td>\n",
       "      <td>Changing lane to the right</td>\n",
       "      <td>Slight Injury</td>\n",
       "      <td>1</td>\n",
       "    </tr>\n",
       "    <tr>\n",
       "      <th>4</th>\n",
       "      <td>Sunday</td>\n",
       "      <td>Young_Adult</td>\n",
       "      <td>Male</td>\n",
       "      <td>Junior high school</td>\n",
       "      <td>Employee</td>\n",
       "      <td>2-5yr</td>\n",
       "      <td>NaN</td>\n",
       "      <td>Owner</td>\n",
       "      <td>5-10yrs</td>\n",
       "      <td>No defect</td>\n",
       "      <td>...</td>\n",
       "      <td>2</td>\n",
       "      <td>Going straight</td>\n",
       "      <td>Unknown</td>\n",
       "      <td>0</td>\n",
       "      <td>NaN</td>\n",
       "      <td>NaN</td>\n",
       "      <td>No_pedestrian</td>\n",
       "      <td>Overtaking</td>\n",
       "      <td>Slight Injury</td>\n",
       "      <td>1</td>\n",
       "    </tr>\n",
       "  </tbody>\n",
       "</table>\n",
       "<p>5 rows × 29 columns</p>\n",
       "</div>"
      ],
      "text/plain": [
       "  Day_of_week Age_band_of_driver Sex_of_driver   Educational_level  \\\n",
       "0      Monday        Young_Adult          Male   Above high school   \n",
       "1      Monday              Adult          Male  Junior high school   \n",
       "2      Monday        Young_Adult          Male  Junior high school   \n",
       "3      Sunday        Young_Adult          Male  Junior high school   \n",
       "4      Sunday        Young_Adult          Male  Junior high school   \n",
       "\n",
       "  Vehicle_driver_relation Driving_experience      Type_of_vehicle  \\\n",
       "0                Employee              1-2yr           Automobile   \n",
       "1                Employee         Above 10yr  Public (> 45 seats)   \n",
       "2                Employee              1-2yr      Lorry (41?100Q)   \n",
       "3                Employee             5-10yr  Public (> 45 seats)   \n",
       "4                Employee              2-5yr                  NaN   \n",
       "\n",
       "  Owner_of_vehicle Service_year_of_vehicle Defect_of_vehicle  ...  \\\n",
       "0            Owner              Above 10yr         No defect  ...   \n",
       "1            Owner                 5-10yrs         No defect  ...   \n",
       "2            Owner                     NaN         No defect  ...   \n",
       "3     Governmental                     NaN         No defect  ...   \n",
       "4            Owner                 5-10yrs         No defect  ...   \n",
       "\n",
       "  Number_of_casualties Vehicle_movement   Casualty_class Casualty_severity  \\\n",
       "0                    2   Going straight          Unknown                 0   \n",
       "1                    2   Going straight          Unknown                 0   \n",
       "2                    2   Going straight  Driver or rider                 3   \n",
       "3                    2   Going straight       Pedestrian                 3   \n",
       "4                    2   Going straight          Unknown                 0   \n",
       "\n",
       "  Work_of_casuality Fitness_of_casuality Pedestrian_movement  \\\n",
       "0               NaN                  NaN       No_pedestrian   \n",
       "1               NaN                  NaN       No_pedestrian   \n",
       "2            Driver                  NaN       No_pedestrian   \n",
       "3            Driver               Normal       No_pedestrian   \n",
       "4               NaN                  NaN       No_pedestrian   \n",
       "\n",
       "            Cause_of_accident  Accident_severity  Hour  \n",
       "0             Moving Backward      Slight Injury    17  \n",
       "1                  Overtaking      Slight Injury    17  \n",
       "2   Changing lane to the left     Serious Injury    17  \n",
       "3  Changing lane to the right      Slight Injury     1  \n",
       "4                  Overtaking      Slight Injury     1  \n",
       "\n",
       "[5 rows x 29 columns]"
      ]
     },
     "execution_count": 42,
     "metadata": {},
     "output_type": "execute_result"
    }
   ],
   "source": [
    "new_data.head()"
   ]
  },
  {
   "cell_type": "markdown",
   "id": "0035ea85",
   "metadata": {},
   "source": [
    "De esta manera terminamos obteniendo una columna con la siguiente distribución."
   ]
  },
  {
   "cell_type": "code",
   "execution_count": 43,
   "id": "cc8b567f",
   "metadata": {},
   "outputs": [
    {
     "name": "stdout",
     "output_type": "stream",
     "text": [
      "Series dtype =  object\n",
      "Cantidad total de registros =  12138\n",
      "Cantidad total de registros nulos en Pedestrian_movement  =  0\n",
      "Porcentaje total de registros nulos en  Pedestrian_movement  =  0.0 %\n"
     ]
    },
    {
     "data": {
      "text/html": [
       "<div>\n",
       "<style scoped>\n",
       "    .dataframe tbody tr th:only-of-type {\n",
       "        vertical-align: middle;\n",
       "    }\n",
       "\n",
       "    .dataframe tbody tr th {\n",
       "        vertical-align: top;\n",
       "    }\n",
       "\n",
       "    .dataframe thead th {\n",
       "        text-align: right;\n",
       "    }\n",
       "</style>\n",
       "<table border=\"1\" class=\"dataframe\">\n",
       "  <thead>\n",
       "    <tr style=\"text-align: right;\">\n",
       "      <th></th>\n",
       "      <th>#</th>\n",
       "      <th>%</th>\n",
       "    </tr>\n",
       "  </thead>\n",
       "  <tbody>\n",
       "    <tr>\n",
       "      <th>No_pedestrian</th>\n",
       "      <td>11224</td>\n",
       "      <td>92.47</td>\n",
       "    </tr>\n",
       "    <tr>\n",
       "      <th>Pedestrian</th>\n",
       "      <td>914</td>\n",
       "      <td>7.53</td>\n",
       "    </tr>\n",
       "  </tbody>\n",
       "</table>\n",
       "</div>"
      ],
      "text/plain": [
       "                   #      %\n",
       "No_pedestrian  11224  92.47\n",
       "Pedestrian       914   7.53"
      ]
     },
     "execution_count": 43,
     "metadata": {},
     "output_type": "execute_result"
    }
   ],
   "source": [
    "series_null_balance(new_data, \"Pedestrian_movement\")"
   ]
  },
  {
   "cell_type": "markdown",
   "id": "5b1f6768",
   "metadata": {},
   "source": [
    "#### <span style=\"color:blue\"> Cause_of_accident </span>"
   ]
  },
  {
   "cell_type": "code",
   "execution_count": 44,
   "id": "368250c8",
   "metadata": {},
   "outputs": [
    {
     "name": "stdout",
     "output_type": "stream",
     "text": [
      "Series dtype =  object\n",
      "Cantidad total de registros =  12138\n",
      "Cantidad total de registros nulos en Cause_of_accident  =  0\n",
      "Porcentaje total de registros nulos en  Cause_of_accident  =  0.0 %\n"
     ]
    },
    {
     "data": {
      "text/html": [
       "<div>\n",
       "<style scoped>\n",
       "    .dataframe tbody tr th:only-of-type {\n",
       "        vertical-align: middle;\n",
       "    }\n",
       "\n",
       "    .dataframe tbody tr th {\n",
       "        vertical-align: top;\n",
       "    }\n",
       "\n",
       "    .dataframe thead th {\n",
       "        text-align: right;\n",
       "    }\n",
       "</style>\n",
       "<table border=\"1\" class=\"dataframe\">\n",
       "  <thead>\n",
       "    <tr style=\"text-align: right;\">\n",
       "      <th></th>\n",
       "      <th>#</th>\n",
       "      <th>%</th>\n",
       "    </tr>\n",
       "  </thead>\n",
       "  <tbody>\n",
       "    <tr>\n",
       "      <th>No distancing</th>\n",
       "      <td>2237</td>\n",
       "      <td>18.43</td>\n",
       "    </tr>\n",
       "    <tr>\n",
       "      <th>Changing lane to the right</th>\n",
       "      <td>1776</td>\n",
       "      <td>14.63</td>\n",
       "    </tr>\n",
       "    <tr>\n",
       "      <th>Changing lane to the left</th>\n",
       "      <td>1450</td>\n",
       "      <td>11.95</td>\n",
       "    </tr>\n",
       "    <tr>\n",
       "      <th>Driving carelessly</th>\n",
       "      <td>1380</td>\n",
       "      <td>11.37</td>\n",
       "    </tr>\n",
       "    <tr>\n",
       "      <th>No priority to vehicle</th>\n",
       "      <td>1192</td>\n",
       "      <td>9.82</td>\n",
       "    </tr>\n",
       "    <tr>\n",
       "      <th>Moving Backward</th>\n",
       "      <td>1117</td>\n",
       "      <td>9.20</td>\n",
       "    </tr>\n",
       "    <tr>\n",
       "      <th>No priority to pedestrian</th>\n",
       "      <td>713</td>\n",
       "      <td>5.87</td>\n",
       "    </tr>\n",
       "    <tr>\n",
       "      <th>Other</th>\n",
       "      <td>448</td>\n",
       "      <td>3.69</td>\n",
       "    </tr>\n",
       "    <tr>\n",
       "      <th>Overtaking</th>\n",
       "      <td>424</td>\n",
       "      <td>3.49</td>\n",
       "    </tr>\n",
       "    <tr>\n",
       "      <th>Driving under the influence of drugs</th>\n",
       "      <td>335</td>\n",
       "      <td>2.76</td>\n",
       "    </tr>\n",
       "    <tr>\n",
       "      <th>Driving to the left</th>\n",
       "      <td>284</td>\n",
       "      <td>2.34</td>\n",
       "    </tr>\n",
       "    <tr>\n",
       "      <th>Getting off the vehicle improperly</th>\n",
       "      <td>196</td>\n",
       "      <td>1.61</td>\n",
       "    </tr>\n",
       "    <tr>\n",
       "      <th>Driving at high speed</th>\n",
       "      <td>173</td>\n",
       "      <td>1.43</td>\n",
       "    </tr>\n",
       "    <tr>\n",
       "      <th>Overturning</th>\n",
       "      <td>146</td>\n",
       "      <td>1.20</td>\n",
       "    </tr>\n",
       "    <tr>\n",
       "      <th>Turnover</th>\n",
       "      <td>75</td>\n",
       "      <td>0.62</td>\n",
       "    </tr>\n",
       "    <tr>\n",
       "      <th>Overspeed</th>\n",
       "      <td>61</td>\n",
       "      <td>0.50</td>\n",
       "    </tr>\n",
       "    <tr>\n",
       "      <th>Overloading</th>\n",
       "      <td>58</td>\n",
       "      <td>0.48</td>\n",
       "    </tr>\n",
       "    <tr>\n",
       "      <th>Drunk driving</th>\n",
       "      <td>26</td>\n",
       "      <td>0.21</td>\n",
       "    </tr>\n",
       "    <tr>\n",
       "      <th>Improper parking</th>\n",
       "      <td>24</td>\n",
       "      <td>0.20</td>\n",
       "    </tr>\n",
       "    <tr>\n",
       "      <th>Unknown</th>\n",
       "      <td>23</td>\n",
       "      <td>0.19</td>\n",
       "    </tr>\n",
       "  </tbody>\n",
       "</table>\n",
       "</div>"
      ],
      "text/plain": [
       "                                         #      %\n",
       "No distancing                         2237  18.43\n",
       "Changing lane to the right            1776  14.63\n",
       "Changing lane to the left             1450  11.95\n",
       "Driving carelessly                    1380  11.37\n",
       "No priority to vehicle                1192   9.82\n",
       "Moving Backward                       1117   9.20\n",
       "No priority to pedestrian              713   5.87\n",
       "Other                                  448   3.69\n",
       "Overtaking                             424   3.49\n",
       "Driving under the influence of drugs   335   2.76\n",
       "Driving to the left                    284   2.34\n",
       "Getting off the vehicle improperly     196   1.61\n",
       "Driving at high speed                  173   1.43\n",
       "Overturning                            146   1.20\n",
       "Turnover                                75   0.62\n",
       "Overspeed                               61   0.50\n",
       "Overloading                             58   0.48\n",
       "Drunk driving                           26   0.21\n",
       "Improper parking                        24   0.20\n",
       "Unknown                                 23   0.19"
      ]
     },
     "execution_count": 44,
     "metadata": {},
     "output_type": "execute_result"
    }
   ],
   "source": [
    "series_null_balance(new_data, \"Cause_of_accident\")"
   ]
  },
  {
   "cell_type": "markdown",
   "id": "42f21259",
   "metadata": {},
   "source": [
    "Notemos que las primeras 6 causas (No distancing, Changing lane to the right, Changing lane to the left, Driving carelessly, No priority to vehicle, Moving Backward), causan el 75.5% de los accidentes. Existen causas similares que pueden agruparse a manera de simplificación. Redefinimos las categorias considerando las clases más representativas y agrupando las menos representativas.\n",
    " - **No_distance:** No distancing\n",
    " - **Changing_lane:** Changing lane to the left, Changing lane to the right\n",
    " - **Driving_carelessly:** Driving carelessly, No priority to vehicle, No priority to pedestrian, Driving at high speed, Overspeed,\n",
    " - **Other:** _other case_\n",
    " "
   ]
  },
  {
   "cell_type": "code",
   "execution_count": 45,
   "id": "58c70959",
   "metadata": {},
   "outputs": [
    {
     "name": "stdout",
     "output_type": "stream",
     "text": [
      "Series dtype =  object\n",
      "Cantidad total de registros =  12138\n",
      "Cantidad total de registros nulos en Cause_of_accident  =  0\n",
      "Porcentaje total de registros nulos en  Cause_of_accident  =  0.0 %\n"
     ]
    },
    {
     "data": {
      "text/html": [
       "<div>\n",
       "<style scoped>\n",
       "    .dataframe tbody tr th:only-of-type {\n",
       "        vertical-align: middle;\n",
       "    }\n",
       "\n",
       "    .dataframe tbody tr th {\n",
       "        vertical-align: top;\n",
       "    }\n",
       "\n",
       "    .dataframe thead th {\n",
       "        text-align: right;\n",
       "    }\n",
       "</style>\n",
       "<table border=\"1\" class=\"dataframe\">\n",
       "  <thead>\n",
       "    <tr style=\"text-align: right;\">\n",
       "      <th></th>\n",
       "      <th>#</th>\n",
       "      <th>%</th>\n",
       "    </tr>\n",
       "  </thead>\n",
       "  <tbody>\n",
       "    <tr>\n",
       "      <th>Driving_carelessly</th>\n",
       "      <td>3519</td>\n",
       "      <td>28.99</td>\n",
       "    </tr>\n",
       "    <tr>\n",
       "      <th>Changing_lane</th>\n",
       "      <td>3226</td>\n",
       "      <td>26.58</td>\n",
       "    </tr>\n",
       "    <tr>\n",
       "      <th>Other</th>\n",
       "      <td>3156</td>\n",
       "      <td>26.00</td>\n",
       "    </tr>\n",
       "    <tr>\n",
       "      <th>No_distance</th>\n",
       "      <td>2237</td>\n",
       "      <td>18.43</td>\n",
       "    </tr>\n",
       "  </tbody>\n",
       "</table>\n",
       "</div>"
      ],
      "text/plain": [
       "                       #      %\n",
       "Driving_carelessly  3519  28.99\n",
       "Changing_lane       3226  26.58\n",
       "Other               3156  26.00\n",
       "No_distance         2237  18.43"
      ]
     },
     "execution_count": 45,
     "metadata": {},
     "output_type": "execute_result"
    }
   ],
   "source": [
    "new_data['Cause_of_accident'] = new_data['Cause_of_accident'].map({\n",
    "    'No distancing': 'No_distance',\n",
    "    \n",
    "    'Changing lane to the left': 'Changing_lane', \n",
    "    'Changing lane to the right': 'Changing_lane',\n",
    "    \n",
    "    'Driving carelessly': 'Driving_carelessly', \n",
    "    'No priority to vehicle': 'Driving_carelessly', \n",
    "    'No priority to pedestrian': 'Driving_carelessly',\n",
    "    'Driving at high speed': 'Driving_carelessly', \n",
    "    'Overspeed': 'Driving_carelessly',\n",
    "    \n",
    "    'Moving Backward': 'Other', \n",
    "    'Other': 'Other',\n",
    "    'Overtaking': 'Other',\n",
    "    'Overloading': 'Other', \n",
    "    'Improper parking': 'Other',\n",
    "    'Getting off the vehicle improperly': 'Other',\n",
    "    'Driving to the left': 'Other',\n",
    "    'Overloading': 'Other', \n",
    "    'Overturning':'Other',\n",
    "    'Turnover': 'Other', \n",
    "    'Driving under the influence of drugs':'Other',\n",
    "    'Drunk driving': 'Other','Unknown': 'Other'})\n",
    "\n",
    "series_null_balance(new_data, \"Cause_of_accident\")"
   ]
  },
  {
   "cell_type": "markdown",
   "id": "42bc333b",
   "metadata": {},
   "source": [
    "Hasta aquí hemos analizado solo las features que no presentaban valores nulos. A continuación, vamos a analizar las variables que presentan registros nulos para determinar si es necesario completar los valores faltantes o eliminar la feature."
   ]
  },
  {
   "cell_type": "markdown",
   "id": "2c1bc60b",
   "metadata": {},
   "source": [
    "---\n",
    "Cuando existan valores nulos y la feature resulte importante, los registros serán completados aplicando el criterio que mejor aplique en cada uno de los casos; siempre buscando evitar eliminar dichos registros, pues queremos conservar la mayor cantidad de datos en la clase minorista `Fatal_injury`. Si la feature no aporta información relevante para predecir la variable objetivo, entonces será eliminada.\n",
    "\n",
    "Las features que vamos a analizar son las siguientes:"
   ]
  },
  {
   "cell_type": "code",
   "execution_count": 46,
   "id": "dbe8ff68",
   "metadata": {},
   "outputs": [
    {
     "data": {
      "text/plain": [
       "['Educational_level',\n",
       " 'Vehicle_driver_relation',\n",
       " 'Driving_experience',\n",
       " 'Type_of_vehicle',\n",
       " 'Owner_of_vehicle',\n",
       " 'Service_year_of_vehicle',\n",
       " 'Defect_of_vehicle',\n",
       " 'Area_accident_occured',\n",
       " 'Lanes_or_Medians',\n",
       " 'Road_allignment',\n",
       " 'Types_of_Junction',\n",
       " 'Road_surface_type',\n",
       " 'Type_of_collision',\n",
       " 'Vehicle_movement',\n",
       " 'Work_of_casuality',\n",
       " 'Fitness_of_casuality']"
      ]
     },
     "execution_count": 46,
     "metadata": {},
     "output_type": "execute_result"
    }
   ],
   "source": [
    "[x for x in data.columns if data[x].isna().sum() > 0]"
   ]
  },
  {
   "cell_type": "markdown",
   "id": "1a8ec3e0",
   "metadata": {},
   "source": [
    "#### <span style=\"color:blue\">Educational_level</span>"
   ]
  },
  {
   "cell_type": "code",
   "execution_count": 47,
   "id": "39c4822a",
   "metadata": {},
   "outputs": [
    {
     "name": "stdout",
     "output_type": "stream",
     "text": [
      "Series dtype =  object\n",
      "Cantidad total de registros =  12138\n",
      "Cantidad total de registros nulos en Educational_level  =  729\n",
      "Porcentaje total de registros nulos en  Educational_level  =  6.01 %\n"
     ]
    },
    {
     "data": {
      "text/html": [
       "<div>\n",
       "<style scoped>\n",
       "    .dataframe tbody tr th:only-of-type {\n",
       "        vertical-align: middle;\n",
       "    }\n",
       "\n",
       "    .dataframe tbody tr th {\n",
       "        vertical-align: top;\n",
       "    }\n",
       "\n",
       "    .dataframe thead th {\n",
       "        text-align: right;\n",
       "    }\n",
       "</style>\n",
       "<table border=\"1\" class=\"dataframe\">\n",
       "  <thead>\n",
       "    <tr style=\"text-align: right;\">\n",
       "      <th></th>\n",
       "      <th>#</th>\n",
       "      <th>%</th>\n",
       "    </tr>\n",
       "  </thead>\n",
       "  <tbody>\n",
       "    <tr>\n",
       "      <th>Junior high school</th>\n",
       "      <td>7504</td>\n",
       "      <td>61.82</td>\n",
       "    </tr>\n",
       "    <tr>\n",
       "      <th>Elementary school</th>\n",
       "      <td>2126</td>\n",
       "      <td>17.52</td>\n",
       "    </tr>\n",
       "    <tr>\n",
       "      <th>High school</th>\n",
       "      <td>1099</td>\n",
       "      <td>9.05</td>\n",
       "    </tr>\n",
       "    <tr>\n",
       "      <th>Above high school</th>\n",
       "      <td>361</td>\n",
       "      <td>2.97</td>\n",
       "    </tr>\n",
       "    <tr>\n",
       "      <th>Writing &amp; reading</th>\n",
       "      <td>175</td>\n",
       "      <td>1.44</td>\n",
       "    </tr>\n",
       "    <tr>\n",
       "      <th>Unknown</th>\n",
       "      <td>99</td>\n",
       "      <td>0.82</td>\n",
       "    </tr>\n",
       "    <tr>\n",
       "      <th>Illiterate</th>\n",
       "      <td>45</td>\n",
       "      <td>0.37</td>\n",
       "    </tr>\n",
       "  </tbody>\n",
       "</table>\n",
       "</div>"
      ],
      "text/plain": [
       "                       #      %\n",
       "Junior high school  7504  61.82\n",
       "Elementary school   2126  17.52\n",
       "High school         1099   9.05\n",
       "Above high school    361   2.97\n",
       "Writing & reading    175   1.44\n",
       "Unknown               99   0.82\n",
       "Illiterate            45   0.37"
      ]
     },
     "execution_count": 47,
     "metadata": {},
     "output_type": "execute_result"
    }
   ],
   "source": [
    "series_null_balance(new_data, \"Educational_level\")"
   ]
  },
  {
   "cell_type": "markdown",
   "id": "a610f162",
   "metadata": {},
   "source": [
    "Como este feature contiene la categoría `Unknown`, aprovechamos para incluir en ella los valores nulos. Vemos como se distribuyen los valores nulos en cada clase de la variable objetivo:"
   ]
  },
  {
   "cell_type": "code",
   "execution_count": 48,
   "id": "3e08d5a1",
   "metadata": {},
   "outputs": [
    {
     "name": "stdout",
     "output_type": "stream",
     "text": [
      "Series dtype =  object\n",
      "Cantidad total de registros =  12138\n",
      "Cantidad total de registros nulos en Educational_level  =  0\n",
      "Porcentaje total de registros nulos en  Educational_level  =  0.0 %\n"
     ]
    },
    {
     "data": {
      "text/html": [
       "<div>\n",
       "<style scoped>\n",
       "    .dataframe tbody tr th:only-of-type {\n",
       "        vertical-align: middle;\n",
       "    }\n",
       "\n",
       "    .dataframe tbody tr th {\n",
       "        vertical-align: top;\n",
       "    }\n",
       "\n",
       "    .dataframe thead th {\n",
       "        text-align: right;\n",
       "    }\n",
       "</style>\n",
       "<table border=\"1\" class=\"dataframe\">\n",
       "  <thead>\n",
       "    <tr style=\"text-align: right;\">\n",
       "      <th></th>\n",
       "      <th>#</th>\n",
       "      <th>%</th>\n",
       "    </tr>\n",
       "  </thead>\n",
       "  <tbody>\n",
       "    <tr>\n",
       "      <th>Junior high school</th>\n",
       "      <td>7504</td>\n",
       "      <td>61.82</td>\n",
       "    </tr>\n",
       "    <tr>\n",
       "      <th>Elementary school</th>\n",
       "      <td>2126</td>\n",
       "      <td>17.52</td>\n",
       "    </tr>\n",
       "    <tr>\n",
       "      <th>High school</th>\n",
       "      <td>1099</td>\n",
       "      <td>9.05</td>\n",
       "    </tr>\n",
       "    <tr>\n",
       "      <th>Unknown</th>\n",
       "      <td>828</td>\n",
       "      <td>6.82</td>\n",
       "    </tr>\n",
       "    <tr>\n",
       "      <th>Above high school</th>\n",
       "      <td>361</td>\n",
       "      <td>2.97</td>\n",
       "    </tr>\n",
       "    <tr>\n",
       "      <th>Writing &amp; reading</th>\n",
       "      <td>175</td>\n",
       "      <td>1.44</td>\n",
       "    </tr>\n",
       "    <tr>\n",
       "      <th>Illiterate</th>\n",
       "      <td>45</td>\n",
       "      <td>0.37</td>\n",
       "    </tr>\n",
       "  </tbody>\n",
       "</table>\n",
       "</div>"
      ],
      "text/plain": [
       "                       #      %\n",
       "Junior high school  7504  61.82\n",
       "Elementary school   2126  17.52\n",
       "High school         1099   9.05\n",
       "Unknown              828   6.82\n",
       "Above high school    361   2.97\n",
       "Writing & reading    175   1.44\n",
       "Illiterate            45   0.37"
      ]
     },
     "execution_count": 48,
     "metadata": {},
     "output_type": "execute_result"
    }
   ],
   "source": [
    "# Completarmos nulos con etiqueta \"Unknown\"\n",
    "new_data['Educational_level'] = new_data['Educational_level'].fillna(\"Unknown\")\n",
    "series_null_balance(new_data, \"Educational_level\")"
   ]
  },
  {
   "cell_type": "markdown",
   "id": "23cba7ac",
   "metadata": {},
   "source": [
    "Vemos que el 61.82% de los conductores tienen un nivel de educación `Junior high school`. En segundo lugar tenemos `Elementary school` con un 17.52%. Para simplificar agruparemos las 7 categorias de la siguiente manera:\n",
    "\n",
    "- **Elementary:** Elementary school, Writing & reading, Illiterate\n",
    "- **Middle:** Junior high school, High school\n",
    "- **Advanced:** Above high school, \n",
    "- **Unknown:** Unknown\n",
    "\n",
    "(aunque _iliterate_ signifique que la persona es analfabeta, como solo corresponde al 0.37% de los casos, se lo adicionó a la categoría `Elementary`)"
   ]
  },
  {
   "cell_type": "code",
   "execution_count": 49,
   "id": "479cbe2a",
   "metadata": {},
   "outputs": [],
   "source": [
    "# Redefinimos categorias en \"Educationa_level\"\n",
    "new_data['Educational_level'] = new_data['Educational_level'].map({\n",
    "    'Elementary school': 'Elementary', \n",
    "    'Writing & reading':'Elementary',\n",
    "    'Illiterate': 'Elementary',\n",
    "    'Junior high school': 'Middle', \n",
    "    'High school': 'Middle',\n",
    "    'Above high school': 'Advanced', \n",
    "    'Unknown': 'Unknown'})"
   ]
  },
  {
   "cell_type": "code",
   "execution_count": 50,
   "id": "ccfc4b28",
   "metadata": {},
   "outputs": [
    {
     "name": "stdout",
     "output_type": "stream",
     "text": [
      "Series dtype =  object\n",
      "Cantidad total de registros =  12138\n",
      "Cantidad total de registros nulos en Educational_level  =  0\n",
      "Porcentaje total de registros nulos en  Educational_level  =  0.0 %\n"
     ]
    },
    {
     "data": {
      "text/html": [
       "<div>\n",
       "<style scoped>\n",
       "    .dataframe tbody tr th:only-of-type {\n",
       "        vertical-align: middle;\n",
       "    }\n",
       "\n",
       "    .dataframe tbody tr th {\n",
       "        vertical-align: top;\n",
       "    }\n",
       "\n",
       "    .dataframe thead th {\n",
       "        text-align: right;\n",
       "    }\n",
       "</style>\n",
       "<table border=\"1\" class=\"dataframe\">\n",
       "  <thead>\n",
       "    <tr style=\"text-align: right;\">\n",
       "      <th></th>\n",
       "      <th>#</th>\n",
       "      <th>%</th>\n",
       "    </tr>\n",
       "  </thead>\n",
       "  <tbody>\n",
       "    <tr>\n",
       "      <th>Middle</th>\n",
       "      <td>8603</td>\n",
       "      <td>70.88</td>\n",
       "    </tr>\n",
       "    <tr>\n",
       "      <th>Elementary</th>\n",
       "      <td>2346</td>\n",
       "      <td>19.33</td>\n",
       "    </tr>\n",
       "    <tr>\n",
       "      <th>Unknown</th>\n",
       "      <td>828</td>\n",
       "      <td>6.82</td>\n",
       "    </tr>\n",
       "    <tr>\n",
       "      <th>Advanced</th>\n",
       "      <td>361</td>\n",
       "      <td>2.97</td>\n",
       "    </tr>\n",
       "  </tbody>\n",
       "</table>\n",
       "</div>"
      ],
      "text/plain": [
       "               #      %\n",
       "Middle      8603  70.88\n",
       "Elementary  2346  19.33\n",
       "Unknown      828   6.82\n",
       "Advanced     361   2.97"
      ]
     },
     "execution_count": 50,
     "metadata": {},
     "output_type": "execute_result"
    }
   ],
   "source": [
    "series_null_balance(new_data, \"Educational_level\")"
   ]
  },
  {
   "cell_type": "markdown",
   "id": "adba9a2a",
   "metadata": {},
   "source": [
    "Observamos que ahora contamos un 6.82% de los datos pertenecientes a la categoría `Unknown` de la feature `Educational_level`. Como esta proporción supera a la categoría advanced, parecería viable guardar estos datos. No obstante vamos a analizar cuántos de estos datos pertenecen a la categoría `Fatal injury` en la feature objetivo."
   ]
  },
  {
   "cell_type": "code",
   "execution_count": 51,
   "id": "31e11bbc",
   "metadata": {},
   "outputs": [
    {
     "name": "stdout",
     "output_type": "stream",
     "text": [
      "Slight Injury     697\n",
      "Serious Injury    117\n",
      "Fatal injury       14\n",
      "Name: Accident_severity, dtype: int64\n",
      "\n",
      " 14 ≈ 8.917 % registros con edad desconocida pertenecen a los accidentes con heridas fatales\n"
     ]
    }
   ],
   "source": [
    "# Presencia de valores nulos en \"Accident_severity\"\n",
    "fatal_injury_percentage(\"Educational_level\")"
   ]
  },
  {
   "cell_type": "markdown",
   "id": "fbbe243b",
   "metadata": {},
   "source": [
    "Tenemos 14 registros de la clase `Fatal injury` con valor `Unknown` en la feature `Educational_level`. Dado que es una cantidad considerable respecto al número total de registros en esta clase, decidimos mantener los registros de new_data con la etiqueta \"Unknown\"."
   ]
  },
  {
   "cell_type": "markdown",
   "id": "811933bd",
   "metadata": {},
   "source": [
    "#### <span style=\"color:blue\">Vehicle_driver_relation</span>"
   ]
  },
  {
   "cell_type": "code",
   "execution_count": 52,
   "id": "0cc1eb3c",
   "metadata": {},
   "outputs": [
    {
     "name": "stdout",
     "output_type": "stream",
     "text": [
      "Series dtype =  object\n",
      "Cantidad total de registros =  12138\n",
      "Cantidad total de registros nulos en Vehicle_driver_relation  =  572\n",
      "Porcentaje total de registros nulos en  Vehicle_driver_relation  =  4.71 %\n"
     ]
    },
    {
     "data": {
      "text/html": [
       "<div>\n",
       "<style scoped>\n",
       "    .dataframe tbody tr th:only-of-type {\n",
       "        vertical-align: middle;\n",
       "    }\n",
       "\n",
       "    .dataframe tbody tr th {\n",
       "        vertical-align: top;\n",
       "    }\n",
       "\n",
       "    .dataframe thead th {\n",
       "        text-align: right;\n",
       "    }\n",
       "</style>\n",
       "<table border=\"1\" class=\"dataframe\">\n",
       "  <thead>\n",
       "    <tr style=\"text-align: right;\">\n",
       "      <th></th>\n",
       "      <th>#</th>\n",
       "      <th>%</th>\n",
       "    </tr>\n",
       "  </thead>\n",
       "  <tbody>\n",
       "    <tr>\n",
       "      <th>Employee</th>\n",
       "      <td>9490</td>\n",
       "      <td>78.18</td>\n",
       "    </tr>\n",
       "    <tr>\n",
       "      <th>Owner</th>\n",
       "      <td>1943</td>\n",
       "      <td>16.01</td>\n",
       "    </tr>\n",
       "    <tr>\n",
       "      <th>Other</th>\n",
       "      <td>122</td>\n",
       "      <td>1.01</td>\n",
       "    </tr>\n",
       "    <tr>\n",
       "      <th>Unknown</th>\n",
       "      <td>11</td>\n",
       "      <td>0.09</td>\n",
       "    </tr>\n",
       "  </tbody>\n",
       "</table>\n",
       "</div>"
      ],
      "text/plain": [
       "             #      %\n",
       "Employee  9490  78.18\n",
       "Owner     1943  16.01\n",
       "Other      122   1.01\n",
       "Unknown     11   0.09"
      ]
     },
     "execution_count": 52,
     "metadata": {},
     "output_type": "execute_result"
    }
   ],
   "source": [
    "series_null_balance(new_data, \"Vehicle_driver_relation\")"
   ]
  },
  {
   "cell_type": "markdown",
   "id": "d54f7c1c",
   "metadata": {},
   "source": [
    "El 78.18% de los conductores manejaban un vehículo perteneciente a la empresa donde trabajan. Existen otras tres relaciones _vehículo-conductor_: 1. donde el conductor es el propietario del vehiculo; 2. donde el conductor no guarda ninguna de las dos relaciones anteriores con el vehiculo; y 3. se desconoce la relación entre el conductor y el vehiculo.\n",
    "\n",
    "Decidimos primero unificar a la categoría `Unknown` aquellos valores nulos:"
   ]
  },
  {
   "cell_type": "code",
   "execution_count": 53,
   "id": "8936cd42",
   "metadata": {},
   "outputs": [
    {
     "name": "stdout",
     "output_type": "stream",
     "text": [
      "Series dtype =  object\n",
      "Cantidad total de registros =  12138\n",
      "Cantidad total de registros nulos en Vehicle_driver_relation  =  0\n",
      "Porcentaje total de registros nulos en  Vehicle_driver_relation  =  0.0 %\n"
     ]
    },
    {
     "data": {
      "text/html": [
       "<div>\n",
       "<style scoped>\n",
       "    .dataframe tbody tr th:only-of-type {\n",
       "        vertical-align: middle;\n",
       "    }\n",
       "\n",
       "    .dataframe tbody tr th {\n",
       "        vertical-align: top;\n",
       "    }\n",
       "\n",
       "    .dataframe thead th {\n",
       "        text-align: right;\n",
       "    }\n",
       "</style>\n",
       "<table border=\"1\" class=\"dataframe\">\n",
       "  <thead>\n",
       "    <tr style=\"text-align: right;\">\n",
       "      <th></th>\n",
       "      <th>#</th>\n",
       "      <th>%</th>\n",
       "    </tr>\n",
       "  </thead>\n",
       "  <tbody>\n",
       "    <tr>\n",
       "      <th>Employee</th>\n",
       "      <td>9490</td>\n",
       "      <td>78.18</td>\n",
       "    </tr>\n",
       "    <tr>\n",
       "      <th>Owner</th>\n",
       "      <td>1943</td>\n",
       "      <td>16.01</td>\n",
       "    </tr>\n",
       "    <tr>\n",
       "      <th>Unknown</th>\n",
       "      <td>583</td>\n",
       "      <td>4.80</td>\n",
       "    </tr>\n",
       "    <tr>\n",
       "      <th>Other</th>\n",
       "      <td>122</td>\n",
       "      <td>1.01</td>\n",
       "    </tr>\n",
       "  </tbody>\n",
       "</table>\n",
       "</div>"
      ],
      "text/plain": [
       "             #      %\n",
       "Employee  9490  78.18\n",
       "Owner     1943  16.01\n",
       "Unknown    583   4.80\n",
       "Other      122   1.01"
      ]
     },
     "execution_count": 53,
     "metadata": {},
     "output_type": "execute_result"
    }
   ],
   "source": [
    "new_data['Vehicle_driver_relation'] = new_data['Vehicle_driver_relation'].fillna(\"Unknown\")\n",
    "series_null_balance(new_data, \"Vehicle_driver_relation\")"
   ]
  },
  {
   "cell_type": "code",
   "execution_count": 54,
   "id": "7caa63d5",
   "metadata": {},
   "outputs": [
    {
     "name": "stdout",
     "output_type": "stream",
     "text": [
      "Slight Injury     490\n",
      "Serious Injury     84\n",
      "Fatal injury        9\n",
      "Name: Accident_severity, dtype: int64\n",
      "\n",
      " 9 ≈ 5.732 % registros con edad desconocida pertenecen a los accidentes con heridas fatales\n"
     ]
    }
   ],
   "source": [
    "fatal_injury_percentage(\"Vehicle_driver_relation\")"
   ]
  },
  {
   "cell_type": "markdown",
   "id": "7597997b",
   "metadata": {},
   "source": [
    "Como observamos que el 5.73% de los casos `Unknown` pertenecen a la categoría `Fatal injury` en la feature `Accident_severity`, decidimos mantener esta categoría y unificar a la misma aquellos elementos encontrados en la categoría llamada `Other`. "
   ]
  },
  {
   "cell_type": "code",
   "execution_count": 55,
   "id": "b6a72d03",
   "metadata": {},
   "outputs": [
    {
     "name": "stdout",
     "output_type": "stream",
     "text": [
      "Series dtype =  object\n",
      "Cantidad total de registros =  12138\n",
      "Cantidad total de registros nulos en Vehicle_driver_relation  =  0\n",
      "Porcentaje total de registros nulos en  Vehicle_driver_relation  =  0.0 %\n"
     ]
    },
    {
     "data": {
      "text/html": [
       "<div>\n",
       "<style scoped>\n",
       "    .dataframe tbody tr th:only-of-type {\n",
       "        vertical-align: middle;\n",
       "    }\n",
       "\n",
       "    .dataframe tbody tr th {\n",
       "        vertical-align: top;\n",
       "    }\n",
       "\n",
       "    .dataframe thead th {\n",
       "        text-align: right;\n",
       "    }\n",
       "</style>\n",
       "<table border=\"1\" class=\"dataframe\">\n",
       "  <thead>\n",
       "    <tr style=\"text-align: right;\">\n",
       "      <th></th>\n",
       "      <th>#</th>\n",
       "      <th>%</th>\n",
       "    </tr>\n",
       "  </thead>\n",
       "  <tbody>\n",
       "    <tr>\n",
       "      <th>Employee</th>\n",
       "      <td>9490</td>\n",
       "      <td>78.18</td>\n",
       "    </tr>\n",
       "    <tr>\n",
       "      <th>Owner</th>\n",
       "      <td>1943</td>\n",
       "      <td>16.01</td>\n",
       "    </tr>\n",
       "    <tr>\n",
       "      <th>Unknown</th>\n",
       "      <td>705</td>\n",
       "      <td>5.81</td>\n",
       "    </tr>\n",
       "  </tbody>\n",
       "</table>\n",
       "</div>"
      ],
      "text/plain": [
       "             #      %\n",
       "Employee  9490  78.18\n",
       "Owner     1943  16.01\n",
       "Unknown    705   5.81"
      ]
     },
     "execution_count": 55,
     "metadata": {},
     "output_type": "execute_result"
    }
   ],
   "source": [
    "new_data['Vehicle_driver_relation'] = ['Unknown' if x == 'Other' else x for x in new_data['Vehicle_driver_relation']]\n",
    "series_null_balance(new_data, \"Vehicle_driver_relation\")"
   ]
  },
  {
   "cell_type": "markdown",
   "id": "d29f57e9",
   "metadata": {},
   "source": [
    "#### <span style=\"color:blue\">Driving_experience</span>"
   ]
  },
  {
   "cell_type": "code",
   "execution_count": 56,
   "id": "19c9682d",
   "metadata": {},
   "outputs": [
    {
     "name": "stdout",
     "output_type": "stream",
     "text": [
      "Series dtype =  object\n",
      "Cantidad total de registros =  12138\n",
      "Cantidad total de registros nulos en Driving_experience  =  817\n",
      "Porcentaje total de registros nulos en  Driving_experience  =  6.73 %\n"
     ]
    },
    {
     "data": {
      "text/html": [
       "<div>\n",
       "<style scoped>\n",
       "    .dataframe tbody tr th:only-of-type {\n",
       "        vertical-align: middle;\n",
       "    }\n",
       "\n",
       "    .dataframe tbody tr th {\n",
       "        vertical-align: top;\n",
       "    }\n",
       "\n",
       "    .dataframe thead th {\n",
       "        text-align: right;\n",
       "    }\n",
       "</style>\n",
       "<table border=\"1\" class=\"dataframe\">\n",
       "  <thead>\n",
       "    <tr style=\"text-align: right;\">\n",
       "      <th></th>\n",
       "      <th>#</th>\n",
       "      <th>%</th>\n",
       "    </tr>\n",
       "  </thead>\n",
       "  <tbody>\n",
       "    <tr>\n",
       "      <th>5-10yr</th>\n",
       "      <td>3306</td>\n",
       "      <td>27.24</td>\n",
       "    </tr>\n",
       "    <tr>\n",
       "      <th>2-5yr</th>\n",
       "      <td>2584</td>\n",
       "      <td>21.29</td>\n",
       "    </tr>\n",
       "    <tr>\n",
       "      <th>Above 10yr</th>\n",
       "      <td>2232</td>\n",
       "      <td>18.39</td>\n",
       "    </tr>\n",
       "    <tr>\n",
       "      <th>1-2yr</th>\n",
       "      <td>1735</td>\n",
       "      <td>14.29</td>\n",
       "    </tr>\n",
       "    <tr>\n",
       "      <th>Below 1yr</th>\n",
       "      <td>1315</td>\n",
       "      <td>10.83</td>\n",
       "    </tr>\n",
       "    <tr>\n",
       "      <th>No Licence</th>\n",
       "      <td>116</td>\n",
       "      <td>0.96</td>\n",
       "    </tr>\n",
       "    <tr>\n",
       "      <th>unknown</th>\n",
       "      <td>33</td>\n",
       "      <td>0.27</td>\n",
       "    </tr>\n",
       "  </tbody>\n",
       "</table>\n",
       "</div>"
      ],
      "text/plain": [
       "               #      %\n",
       "5-10yr      3306  27.24\n",
       "2-5yr       2584  21.29\n",
       "Above 10yr  2232  18.39\n",
       "1-2yr       1735  14.29\n",
       "Below 1yr   1315  10.83\n",
       "No Licence   116   0.96\n",
       "unknown       33   0.27"
      ]
     },
     "execution_count": 56,
     "metadata": {},
     "output_type": "execute_result"
    }
   ],
   "source": [
    "series_null_balance(new_data, \"Driving_experience\")"
   ]
  },
  {
   "cell_type": "markdown",
   "id": "09b0b116",
   "metadata": {},
   "source": [
    "Se observa que la mayoría de los accidentes son ocasionados por conductores con experiencia de más años, mientras que aquellos con menos experiencia representan el porcentaje con menor accidentes ocasionados. Esta distribución de los datos resulta curiosa ya que uno esperaría lo contrario; quizás al tener poca experiencia conducen con mayor precaución.\n",
    "\n",
    "Pasamos a unificar los valores nulos en la categoría `unknown` y analizar cuantos registros pertenecen a la categoría `Fatal injury` de la feature target:"
   ]
  },
  {
   "cell_type": "code",
   "execution_count": 57,
   "id": "05b7f1f7",
   "metadata": {},
   "outputs": [
    {
     "name": "stdout",
     "output_type": "stream",
     "text": [
      "Series dtype =  object\n",
      "Cantidad total de registros =  12138\n",
      "Cantidad total de registros nulos en Driving_experience  =  0\n",
      "Porcentaje total de registros nulos en  Driving_experience  =  0.0 %\n"
     ]
    },
    {
     "data": {
      "text/html": [
       "<div>\n",
       "<style scoped>\n",
       "    .dataframe tbody tr th:only-of-type {\n",
       "        vertical-align: middle;\n",
       "    }\n",
       "\n",
       "    .dataframe tbody tr th {\n",
       "        vertical-align: top;\n",
       "    }\n",
       "\n",
       "    .dataframe thead th {\n",
       "        text-align: right;\n",
       "    }\n",
       "</style>\n",
       "<table border=\"1\" class=\"dataframe\">\n",
       "  <thead>\n",
       "    <tr style=\"text-align: right;\">\n",
       "      <th></th>\n",
       "      <th>#</th>\n",
       "      <th>%</th>\n",
       "    </tr>\n",
       "  </thead>\n",
       "  <tbody>\n",
       "    <tr>\n",
       "      <th>5-10yr</th>\n",
       "      <td>3306</td>\n",
       "      <td>27.24</td>\n",
       "    </tr>\n",
       "    <tr>\n",
       "      <th>2-5yr</th>\n",
       "      <td>2584</td>\n",
       "      <td>21.29</td>\n",
       "    </tr>\n",
       "    <tr>\n",
       "      <th>Above 10yr</th>\n",
       "      <td>2232</td>\n",
       "      <td>18.39</td>\n",
       "    </tr>\n",
       "    <tr>\n",
       "      <th>1-2yr</th>\n",
       "      <td>1735</td>\n",
       "      <td>14.29</td>\n",
       "    </tr>\n",
       "    <tr>\n",
       "      <th>Below 1yr</th>\n",
       "      <td>1315</td>\n",
       "      <td>10.83</td>\n",
       "    </tr>\n",
       "    <tr>\n",
       "      <th>unknown</th>\n",
       "      <td>850</td>\n",
       "      <td>7.00</td>\n",
       "    </tr>\n",
       "    <tr>\n",
       "      <th>No Licence</th>\n",
       "      <td>116</td>\n",
       "      <td>0.96</td>\n",
       "    </tr>\n",
       "  </tbody>\n",
       "</table>\n",
       "</div>"
      ],
      "text/plain": [
       "               #      %\n",
       "5-10yr      3306  27.24\n",
       "2-5yr       2584  21.29\n",
       "Above 10yr  2232  18.39\n",
       "1-2yr       1735  14.29\n",
       "Below 1yr   1315  10.83\n",
       "unknown      850   7.00\n",
       "No Licence   116   0.96"
      ]
     },
     "execution_count": 57,
     "metadata": {},
     "output_type": "execute_result"
    }
   ],
   "source": [
    "new_data['Driving_experience'] = new_data['Driving_experience'].fillna(\"unknown\")\n",
    "series_null_balance(new_data, \"Driving_experience\")"
   ]
  },
  {
   "cell_type": "code",
   "execution_count": 58,
   "id": "f24177a3",
   "metadata": {},
   "outputs": [
    {
     "name": "stdout",
     "output_type": "stream",
     "text": [
      "Slight Injury     708\n",
      "Serious Injury    128\n",
      "Fatal injury       14\n",
      "Name: Accident_severity, dtype: int64\n",
      "\n",
      " 14 ≈ 8.917 % registros con edad desconocida pertenecen a los accidentes con heridas fatales\n"
     ]
    }
   ],
   "source": [
    "fatal_injury_percentage(\"Driving_experience\", \"unknown\")"
   ]
  },
  {
   "cell_type": "markdown",
   "id": "7385d190",
   "metadata": {},
   "source": [
    "Decidimos no eliminar los datos pertenecientes a `unkown` ya que representa casi un 9% de los datos asociados con accidentes fatales.\n",
    "\n",
    "Posteriormente redefinimos las categorías, agrupándolas de la siguiente manera:\n",
    "* Basic: Below 1yr, 1-2yr\n",
    "* Intermediate: 2-5yr\n",
    "* Advanced: 5-10yr, Above 10yr\n",
    "* Unknown: unknown, No Licence\n",
    "\n",
    "Consideramos que `No Licence` no reprenta una categoria de nivel de expertise del conductor, puesto que, puede tener muchos años de experiencia y no contar con la licencia al momento del accidente. No significa que nunca haya tenido una licencia o que no cuente con experiencia conduciendo. Por esta razón, y porque no es una categoría muy representativa, decidimos agrupar `No Licence` con `Unknown`.\n",
    "\n",
    "De esta manera, obtenemos solo 4 clases."
   ]
  },
  {
   "cell_type": "code",
   "execution_count": 59,
   "id": "2960d94f",
   "metadata": {},
   "outputs": [],
   "source": [
    "# Redefinimos categorias en \"Driving_experience\"\n",
    "new_data['Driving_experience'] = new_data['Driving_experience'].map({\n",
    "    'Below 1yr': 'Beginner', \n",
    "    '1-2yr':'Beginner',\n",
    "    '2-5yr': 'Intermediate', \n",
    "    '5-10yr': 'Advanced',\n",
    "    'Above 10yr': 'Expert', \n",
    "    'No Licence': 'Unknown',\n",
    "    'unknown': 'Unknown'})"
   ]
  },
  {
   "cell_type": "code",
   "execution_count": 60,
   "id": "d95b5f0b",
   "metadata": {},
   "outputs": [
    {
     "name": "stdout",
     "output_type": "stream",
     "text": [
      "Series dtype =  object\n",
      "Cantidad total de registros =  12138\n",
      "Cantidad total de registros nulos en Driving_experience  =  0\n",
      "Porcentaje total de registros nulos en  Driving_experience  =  0.0 %\n"
     ]
    },
    {
     "data": {
      "text/html": [
       "<div>\n",
       "<style scoped>\n",
       "    .dataframe tbody tr th:only-of-type {\n",
       "        vertical-align: middle;\n",
       "    }\n",
       "\n",
       "    .dataframe tbody tr th {\n",
       "        vertical-align: top;\n",
       "    }\n",
       "\n",
       "    .dataframe thead th {\n",
       "        text-align: right;\n",
       "    }\n",
       "</style>\n",
       "<table border=\"1\" class=\"dataframe\">\n",
       "  <thead>\n",
       "    <tr style=\"text-align: right;\">\n",
       "      <th></th>\n",
       "      <th>#</th>\n",
       "      <th>%</th>\n",
       "    </tr>\n",
       "  </thead>\n",
       "  <tbody>\n",
       "    <tr>\n",
       "      <th>Advanced</th>\n",
       "      <td>3306</td>\n",
       "      <td>27.24</td>\n",
       "    </tr>\n",
       "    <tr>\n",
       "      <th>Beginner</th>\n",
       "      <td>3050</td>\n",
       "      <td>25.13</td>\n",
       "    </tr>\n",
       "    <tr>\n",
       "      <th>Intermediate</th>\n",
       "      <td>2584</td>\n",
       "      <td>21.29</td>\n",
       "    </tr>\n",
       "    <tr>\n",
       "      <th>Expert</th>\n",
       "      <td>2232</td>\n",
       "      <td>18.39</td>\n",
       "    </tr>\n",
       "    <tr>\n",
       "      <th>Unknown</th>\n",
       "      <td>966</td>\n",
       "      <td>7.96</td>\n",
       "    </tr>\n",
       "  </tbody>\n",
       "</table>\n",
       "</div>"
      ],
      "text/plain": [
       "                 #      %\n",
       "Advanced      3306  27.24\n",
       "Beginner      3050  25.13\n",
       "Intermediate  2584  21.29\n",
       "Expert        2232  18.39\n",
       "Unknown        966   7.96"
      ]
     },
     "execution_count": 60,
     "metadata": {},
     "output_type": "execute_result"
    }
   ],
   "source": [
    "series_null_balance(new_data, \"Driving_experience\")"
   ]
  },
  {
   "cell_type": "markdown",
   "id": "f878e414",
   "metadata": {},
   "source": [
    "#### <span style=\"color:blue\"> Type_of_vehicle </span>"
   ]
  },
  {
   "cell_type": "code",
   "execution_count": 61,
   "id": "4384f1c6",
   "metadata": {},
   "outputs": [
    {
     "name": "stdout",
     "output_type": "stream",
     "text": [
      "Series dtype =  object\n",
      "Cantidad total de registros =  12138\n",
      "Cantidad total de registros nulos en Type_of_vehicle  =  925\n",
      "Porcentaje total de registros nulos en  Type_of_vehicle  =  7.62 %\n"
     ]
    },
    {
     "data": {
      "text/html": [
       "<div>\n",
       "<style scoped>\n",
       "    .dataframe tbody tr th:only-of-type {\n",
       "        vertical-align: middle;\n",
       "    }\n",
       "\n",
       "    .dataframe tbody tr th {\n",
       "        vertical-align: top;\n",
       "    }\n",
       "\n",
       "    .dataframe thead th {\n",
       "        text-align: right;\n",
       "    }\n",
       "</style>\n",
       "<table border=\"1\" class=\"dataframe\">\n",
       "  <thead>\n",
       "    <tr style=\"text-align: right;\">\n",
       "      <th></th>\n",
       "      <th>#</th>\n",
       "      <th>%</th>\n",
       "    </tr>\n",
       "  </thead>\n",
       "  <tbody>\n",
       "    <tr>\n",
       "      <th>Automobile</th>\n",
       "      <td>3171</td>\n",
       "      <td>26.12</td>\n",
       "    </tr>\n",
       "    <tr>\n",
       "      <th>Lorry (41?100Q)</th>\n",
       "      <td>2155</td>\n",
       "      <td>17.75</td>\n",
       "    </tr>\n",
       "    <tr>\n",
       "      <th>Other</th>\n",
       "      <td>1182</td>\n",
       "      <td>9.74</td>\n",
       "    </tr>\n",
       "    <tr>\n",
       "      <th>Pick up upto 10Q</th>\n",
       "      <td>793</td>\n",
       "      <td>6.53</td>\n",
       "    </tr>\n",
       "    <tr>\n",
       "      <th>Public (12 seats)</th>\n",
       "      <td>704</td>\n",
       "      <td>5.80</td>\n",
       "    </tr>\n",
       "    <tr>\n",
       "      <th>Stationwagen</th>\n",
       "      <td>674</td>\n",
       "      <td>5.55</td>\n",
       "    </tr>\n",
       "    <tr>\n",
       "      <th>Lorry (11?40Q)</th>\n",
       "      <td>540</td>\n",
       "      <td>4.45</td>\n",
       "    </tr>\n",
       "    <tr>\n",
       "      <th>Public (13?45 seats)</th>\n",
       "      <td>528</td>\n",
       "      <td>4.35</td>\n",
       "    </tr>\n",
       "    <tr>\n",
       "      <th>Public (&gt; 45 seats)</th>\n",
       "      <td>400</td>\n",
       "      <td>3.30</td>\n",
       "    </tr>\n",
       "    <tr>\n",
       "      <th>Long lorry</th>\n",
       "      <td>376</td>\n",
       "      <td>3.10</td>\n",
       "    </tr>\n",
       "    <tr>\n",
       "      <th>Taxi</th>\n",
       "      <td>262</td>\n",
       "      <td>2.16</td>\n",
       "    </tr>\n",
       "    <tr>\n",
       "      <th>Motorcycle</th>\n",
       "      <td>176</td>\n",
       "      <td>1.45</td>\n",
       "    </tr>\n",
       "    <tr>\n",
       "      <th>Special vehicle</th>\n",
       "      <td>82</td>\n",
       "      <td>0.68</td>\n",
       "    </tr>\n",
       "    <tr>\n",
       "      <th>Ridden horse</th>\n",
       "      <td>75</td>\n",
       "      <td>0.62</td>\n",
       "    </tr>\n",
       "    <tr>\n",
       "      <th>Turbo</th>\n",
       "      <td>46</td>\n",
       "      <td>0.38</td>\n",
       "    </tr>\n",
       "    <tr>\n",
       "      <th>Bajaj</th>\n",
       "      <td>28</td>\n",
       "      <td>0.23</td>\n",
       "    </tr>\n",
       "    <tr>\n",
       "      <th>Bicycle</th>\n",
       "      <td>21</td>\n",
       "      <td>0.17</td>\n",
       "    </tr>\n",
       "  </tbody>\n",
       "</table>\n",
       "</div>"
      ],
      "text/plain": [
       "                         #      %\n",
       "Automobile            3171  26.12\n",
       "Lorry (41?100Q)       2155  17.75\n",
       "Other                 1182   9.74\n",
       "Pick up upto 10Q       793   6.53\n",
       "Public (12 seats)      704   5.80\n",
       "Stationwagen           674   5.55\n",
       "Lorry (11?40Q)         540   4.45\n",
       "Public (13?45 seats)   528   4.35\n",
       "Public (> 45 seats)    400   3.30\n",
       "Long lorry             376   3.10\n",
       "Taxi                   262   2.16\n",
       "Motorcycle             176   1.45\n",
       "Special vehicle         82   0.68\n",
       "Ridden horse            75   0.62\n",
       "Turbo                   46   0.38\n",
       "Bajaj                   28   0.23\n",
       "Bicycle                 21   0.17"
      ]
     },
     "execution_count": 61,
     "metadata": {},
     "output_type": "execute_result"
    }
   ],
   "source": [
    "series_null_balance(new_data, \"Type_of_vehicle\")"
   ]
  },
  {
   "cell_type": "markdown",
   "id": "9ce78739",
   "metadata": {},
   "source": [
    "Analizamos la distribución de los nulos de esta categoría en función de la variable target."
   ]
  },
  {
   "cell_type": "code",
   "execution_count": 62,
   "id": "a0bd99d5",
   "metadata": {},
   "outputs": [
    {
     "name": "stdout",
     "output_type": "stream",
     "text": [
      "Slight Injury     801\n",
      "Serious Injury    113\n",
      "Fatal injury       11\n",
      "Name: Accident_severity, dtype: int64\n",
      "\n",
      " 11 ≈ 7.006 % registros con edad desconocida pertenecen a los accidentes con heridas fatales\n"
     ]
    }
   ],
   "source": [
    "fatal_injury_percentage(\"Type_of_vehicle\", null=True)"
   ]
  },
  {
   "cell_type": "markdown",
   "id": "8c88eada",
   "metadata": {},
   "source": [
    "Como representan el 7% de los datos categorizados como `Fatal injury` en la variable target, modificamos los datos para que pertenezcan a una nueva una categoría `Unknown`."
   ]
  },
  {
   "cell_type": "code",
   "execution_count": 63,
   "id": "f6dbf268",
   "metadata": {},
   "outputs": [
    {
     "name": "stdout",
     "output_type": "stream",
     "text": [
      "Series dtype =  object\n",
      "Cantidad total de registros =  12138\n",
      "Cantidad total de registros nulos en Type_of_vehicle  =  0\n",
      "Porcentaje total de registros nulos en  Type_of_vehicle  =  0.0 %\n"
     ]
    },
    {
     "data": {
      "text/html": [
       "<div>\n",
       "<style scoped>\n",
       "    .dataframe tbody tr th:only-of-type {\n",
       "        vertical-align: middle;\n",
       "    }\n",
       "\n",
       "    .dataframe tbody tr th {\n",
       "        vertical-align: top;\n",
       "    }\n",
       "\n",
       "    .dataframe thead th {\n",
       "        text-align: right;\n",
       "    }\n",
       "</style>\n",
       "<table border=\"1\" class=\"dataframe\">\n",
       "  <thead>\n",
       "    <tr style=\"text-align: right;\">\n",
       "      <th></th>\n",
       "      <th>#</th>\n",
       "      <th>%</th>\n",
       "    </tr>\n",
       "  </thead>\n",
       "  <tbody>\n",
       "    <tr>\n",
       "      <th>Automobile</th>\n",
       "      <td>3171</td>\n",
       "      <td>26.12</td>\n",
       "    </tr>\n",
       "    <tr>\n",
       "      <th>Lorry (41?100Q)</th>\n",
       "      <td>2155</td>\n",
       "      <td>17.75</td>\n",
       "    </tr>\n",
       "    <tr>\n",
       "      <th>Other</th>\n",
       "      <td>1182</td>\n",
       "      <td>9.74</td>\n",
       "    </tr>\n",
       "    <tr>\n",
       "      <th>Unknown</th>\n",
       "      <td>925</td>\n",
       "      <td>7.62</td>\n",
       "    </tr>\n",
       "    <tr>\n",
       "      <th>Pick up upto 10Q</th>\n",
       "      <td>793</td>\n",
       "      <td>6.53</td>\n",
       "    </tr>\n",
       "    <tr>\n",
       "      <th>Public (12 seats)</th>\n",
       "      <td>704</td>\n",
       "      <td>5.80</td>\n",
       "    </tr>\n",
       "    <tr>\n",
       "      <th>Stationwagen</th>\n",
       "      <td>674</td>\n",
       "      <td>5.55</td>\n",
       "    </tr>\n",
       "    <tr>\n",
       "      <th>Lorry (11?40Q)</th>\n",
       "      <td>540</td>\n",
       "      <td>4.45</td>\n",
       "    </tr>\n",
       "    <tr>\n",
       "      <th>Public (13?45 seats)</th>\n",
       "      <td>528</td>\n",
       "      <td>4.35</td>\n",
       "    </tr>\n",
       "    <tr>\n",
       "      <th>Public (&gt; 45 seats)</th>\n",
       "      <td>400</td>\n",
       "      <td>3.30</td>\n",
       "    </tr>\n",
       "    <tr>\n",
       "      <th>Long lorry</th>\n",
       "      <td>376</td>\n",
       "      <td>3.10</td>\n",
       "    </tr>\n",
       "    <tr>\n",
       "      <th>Taxi</th>\n",
       "      <td>262</td>\n",
       "      <td>2.16</td>\n",
       "    </tr>\n",
       "    <tr>\n",
       "      <th>Motorcycle</th>\n",
       "      <td>176</td>\n",
       "      <td>1.45</td>\n",
       "    </tr>\n",
       "    <tr>\n",
       "      <th>Special vehicle</th>\n",
       "      <td>82</td>\n",
       "      <td>0.68</td>\n",
       "    </tr>\n",
       "    <tr>\n",
       "      <th>Ridden horse</th>\n",
       "      <td>75</td>\n",
       "      <td>0.62</td>\n",
       "    </tr>\n",
       "    <tr>\n",
       "      <th>Turbo</th>\n",
       "      <td>46</td>\n",
       "      <td>0.38</td>\n",
       "    </tr>\n",
       "    <tr>\n",
       "      <th>Bajaj</th>\n",
       "      <td>28</td>\n",
       "      <td>0.23</td>\n",
       "    </tr>\n",
       "    <tr>\n",
       "      <th>Bicycle</th>\n",
       "      <td>21</td>\n",
       "      <td>0.17</td>\n",
       "    </tr>\n",
       "  </tbody>\n",
       "</table>\n",
       "</div>"
      ],
      "text/plain": [
       "                         #      %\n",
       "Automobile            3171  26.12\n",
       "Lorry (41?100Q)       2155  17.75\n",
       "Other                 1182   9.74\n",
       "Unknown                925   7.62\n",
       "Pick up upto 10Q       793   6.53\n",
       "Public (12 seats)      704   5.80\n",
       "Stationwagen           674   5.55\n",
       "Lorry (11?40Q)         540   4.45\n",
       "Public (13?45 seats)   528   4.35\n",
       "Public (> 45 seats)    400   3.30\n",
       "Long lorry             376   3.10\n",
       "Taxi                   262   2.16\n",
       "Motorcycle             176   1.45\n",
       "Special vehicle         82   0.68\n",
       "Ridden horse            75   0.62\n",
       "Turbo                   46   0.38\n",
       "Bajaj                   28   0.23\n",
       "Bicycle                 21   0.17"
      ]
     },
     "execution_count": 63,
     "metadata": {},
     "output_type": "execute_result"
    }
   ],
   "source": [
    "new_data['Type_of_vehicle'] = new_data['Type_of_vehicle'].fillna(\"Unknown\")\n",
    "series_null_balance(new_data, \"Type_of_vehicle\")"
   ]
  },
  {
   "cell_type": "markdown",
   "id": "56895ee6",
   "metadata": {},
   "source": [
    "Esta feature toma 18 valores categóricos distintos, donde la mayoria de ellos representan menos del 5% de participación. El vehículo más común en la lista de accidentes es `Automobile` con un 26.12%. Para simplificar definimos las clases considerando de manera general el tamaño y principal uso del vehículo:\n",
    "\n",
    "* **Automobile**: Automobile, Taxi, Stationwagen\n",
    "* **Lorry**: Lorry (41?100Q), Lorry (11?40Q), Long lorry\n",
    "* **Pick up**: Pick up upto 10Q\n",
    "* **Public**: Public (12 seats), Public (13?45 seats), Public (> 45 seats)\n",
    "* **Other**: Other, Motorcycle, Special vehicle, Ridden horse, Turbo, Bajaj, Bicycle\n",
    "* **Unknown**: Unknown"
   ]
  },
  {
   "cell_type": "code",
   "execution_count": 64,
   "id": "5aa176d4",
   "metadata": {},
   "outputs": [
    {
     "name": "stdout",
     "output_type": "stream",
     "text": [
      "Series dtype =  object\n",
      "Cantidad total de registros =  12138\n",
      "Cantidad total de registros nulos en Type_of_vehicle  =  0\n",
      "Porcentaje total de registros nulos en  Type_of_vehicle  =  0.0 %\n"
     ]
    },
    {
     "data": {
      "text/html": [
       "<div>\n",
       "<style scoped>\n",
       "    .dataframe tbody tr th:only-of-type {\n",
       "        vertical-align: middle;\n",
       "    }\n",
       "\n",
       "    .dataframe tbody tr th {\n",
       "        vertical-align: top;\n",
       "    }\n",
       "\n",
       "    .dataframe thead th {\n",
       "        text-align: right;\n",
       "    }\n",
       "</style>\n",
       "<table border=\"1\" class=\"dataframe\">\n",
       "  <thead>\n",
       "    <tr style=\"text-align: right;\">\n",
       "      <th></th>\n",
       "      <th>#</th>\n",
       "      <th>%</th>\n",
       "    </tr>\n",
       "  </thead>\n",
       "  <tbody>\n",
       "    <tr>\n",
       "      <th>Automobile</th>\n",
       "      <td>4107</td>\n",
       "      <td>33.84</td>\n",
       "    </tr>\n",
       "    <tr>\n",
       "      <th>Lorry</th>\n",
       "      <td>3071</td>\n",
       "      <td>25.30</td>\n",
       "    </tr>\n",
       "    <tr>\n",
       "      <th>Public</th>\n",
       "      <td>1632</td>\n",
       "      <td>13.45</td>\n",
       "    </tr>\n",
       "    <tr>\n",
       "      <th>Other</th>\n",
       "      <td>1610</td>\n",
       "      <td>13.26</td>\n",
       "    </tr>\n",
       "    <tr>\n",
       "      <th>Unknown</th>\n",
       "      <td>925</td>\n",
       "      <td>7.62</td>\n",
       "    </tr>\n",
       "    <tr>\n",
       "      <th>Pick up</th>\n",
       "      <td>793</td>\n",
       "      <td>6.53</td>\n",
       "    </tr>\n",
       "  </tbody>\n",
       "</table>\n",
       "</div>"
      ],
      "text/plain": [
       "               #      %\n",
       "Automobile  4107  33.84\n",
       "Lorry       3071  25.30\n",
       "Public      1632  13.45\n",
       "Other       1610  13.26\n",
       "Unknown      925   7.62\n",
       "Pick up      793   6.53"
      ]
     },
     "execution_count": 64,
     "metadata": {},
     "output_type": "execute_result"
    }
   ],
   "source": [
    "new_data['Type_of_vehicle'] = new_data['Type_of_vehicle'].map({\n",
    "    'Automobile': 'Automobile', \n",
    "    'Taxi': 'Automobile', \n",
    "    'Stationwagen': 'Automobile', \n",
    "\n",
    "    'Lorry (41?100Q)': 'Lorry', \n",
    "    'Lorry (11?40Q)': 'Lorry',\n",
    "    'Long lorry': 'Lorry',\n",
    "\n",
    "    'Pick up upto 10Q': 'Pick up',\n",
    "\n",
    "    'Public (12 seats)': 'Public', \n",
    "    'Public (13?45 seats)': 'Public',\n",
    "    'Public (> 45 seats)': 'Public', \n",
    "    \n",
    "    'Other': 'Other',\n",
    "    'Motorcycle': 'Other', \n",
    "    'Special vehicle': 'Other', \n",
    "    'Ridden horse': 'Other', \n",
    "    'Turbo': 'Other', \n",
    "    'Bajaj': 'Other',\n",
    "    'Bicycle': 'Other',\n",
    "    \n",
    "    'Unknown': 'Unknown'\n",
    "})\n",
    "series_null_balance(new_data, \"Type_of_vehicle\")"
   ]
  },
  {
   "cell_type": "markdown",
   "id": "4b5ef93e",
   "metadata": {},
   "source": [
    "Como observamos que la categoría `Unknown` representa el 7.62% de los datos y que además supera a la categoría `Pick up`, decidimos mantenerla. "
   ]
  },
  {
   "cell_type": "markdown",
   "id": "bf7ea1ca",
   "metadata": {},
   "source": [
    "#### <span style=\"color:blue\"> Owner_of_vehicle </span>"
   ]
  },
  {
   "cell_type": "code",
   "execution_count": 65,
   "id": "2380b80b",
   "metadata": {},
   "outputs": [
    {
     "name": "stdout",
     "output_type": "stream",
     "text": [
      "Series dtype =  object\n",
      "Cantidad total de registros =  12138\n",
      "Cantidad total de registros nulos en Owner_of_vehicle  =  474\n",
      "Porcentaje total de registros nulos en  Owner_of_vehicle  =  3.91 %\n"
     ]
    },
    {
     "data": {
      "text/html": [
       "<div>\n",
       "<style scoped>\n",
       "    .dataframe tbody tr th:only-of-type {\n",
       "        vertical-align: middle;\n",
       "    }\n",
       "\n",
       "    .dataframe tbody tr th {\n",
       "        vertical-align: top;\n",
       "    }\n",
       "\n",
       "    .dataframe thead th {\n",
       "        text-align: right;\n",
       "    }\n",
       "</style>\n",
       "<table border=\"1\" class=\"dataframe\">\n",
       "  <thead>\n",
       "    <tr style=\"text-align: right;\">\n",
       "      <th></th>\n",
       "      <th>#</th>\n",
       "      <th>%</th>\n",
       "    </tr>\n",
       "  </thead>\n",
       "  <tbody>\n",
       "    <tr>\n",
       "      <th>Owner</th>\n",
       "      <td>10313</td>\n",
       "      <td>84.96</td>\n",
       "    </tr>\n",
       "    <tr>\n",
       "      <th>Governmental</th>\n",
       "      <td>1022</td>\n",
       "      <td>8.42</td>\n",
       "    </tr>\n",
       "    <tr>\n",
       "      <th>Organization</th>\n",
       "      <td>307</td>\n",
       "      <td>2.53</td>\n",
       "    </tr>\n",
       "    <tr>\n",
       "      <th>Other</th>\n",
       "      <td>22</td>\n",
       "      <td>0.18</td>\n",
       "    </tr>\n",
       "  </tbody>\n",
       "</table>\n",
       "</div>"
      ],
      "text/plain": [
       "                  #      %\n",
       "Owner         10313  84.96\n",
       "Governmental   1022   8.42\n",
       "Organization    307   2.53\n",
       "Other            22   0.18"
      ]
     },
     "execution_count": 65,
     "metadata": {},
     "output_type": "execute_result"
    }
   ],
   "source": [
    "series_null_balance(new_data, \"Owner_of_vehicle\")"
   ]
  },
  {
   "cell_type": "markdown",
   "id": "6a4df760",
   "metadata": {},
   "source": [
    "Notamos que esta feature no solo está altamente desbalanceada, sino que además contiene varios elementos nulos y que describe a los datos de una manera similiar a la feature `Vehicle_driver_relation`, decidimos que esta feature es irrelevante para nuestro objetivo; razón por la cual la eliminamos. "
   ]
  },
  {
   "cell_type": "code",
   "execution_count": 66,
   "id": "f86f68f9",
   "metadata": {},
   "outputs": [],
   "source": [
    "#Eliminamos feature\n",
    "new_data = new_data.drop(['Owner_of_vehicle'], axis=1)"
   ]
  },
  {
   "cell_type": "markdown",
   "id": "6e2d4bfd",
   "metadata": {},
   "source": [
    "#### <span style=\"color:blue\"> Service_year_of_vehicle </span>"
   ]
  },
  {
   "cell_type": "code",
   "execution_count": 67,
   "id": "92591ae0",
   "metadata": {},
   "outputs": [
    {
     "name": "stdout",
     "output_type": "stream",
     "text": [
      "Series dtype =  object\n",
      "Cantidad total de registros =  12138\n",
      "Cantidad total de registros nulos en Service_year_of_vehicle  =  3865\n",
      "Porcentaje total de registros nulos en  Service_year_of_vehicle  =  31.84 %\n"
     ]
    },
    {
     "data": {
      "text/html": [
       "<div>\n",
       "<style scoped>\n",
       "    .dataframe tbody tr th:only-of-type {\n",
       "        vertical-align: middle;\n",
       "    }\n",
       "\n",
       "    .dataframe tbody tr th {\n",
       "        vertical-align: top;\n",
       "    }\n",
       "\n",
       "    .dataframe thead th {\n",
       "        text-align: right;\n",
       "    }\n",
       "</style>\n",
       "<table border=\"1\" class=\"dataframe\">\n",
       "  <thead>\n",
       "    <tr style=\"text-align: right;\">\n",
       "      <th></th>\n",
       "      <th>#</th>\n",
       "      <th>%</th>\n",
       "    </tr>\n",
       "  </thead>\n",
       "  <tbody>\n",
       "    <tr>\n",
       "      <th>Unknown</th>\n",
       "      <td>2841</td>\n",
       "      <td>23.41</td>\n",
       "    </tr>\n",
       "    <tr>\n",
       "      <th>2-5yrs</th>\n",
       "      <td>1767</td>\n",
       "      <td>14.56</td>\n",
       "    </tr>\n",
       "    <tr>\n",
       "      <th>Above 10yr</th>\n",
       "      <td>1303</td>\n",
       "      <td>10.73</td>\n",
       "    </tr>\n",
       "    <tr>\n",
       "      <th>5-10yrs</th>\n",
       "      <td>1264</td>\n",
       "      <td>10.41</td>\n",
       "    </tr>\n",
       "    <tr>\n",
       "      <th>1-2yr</th>\n",
       "      <td>818</td>\n",
       "      <td>6.74</td>\n",
       "    </tr>\n",
       "    <tr>\n",
       "      <th>Below 1yr</th>\n",
       "      <td>280</td>\n",
       "      <td>2.31</td>\n",
       "    </tr>\n",
       "  </tbody>\n",
       "</table>\n",
       "</div>"
      ],
      "text/plain": [
       "               #      %\n",
       "Unknown     2841  23.41\n",
       "2-5yrs      1767  14.56\n",
       "Above 10yr  1303  10.73\n",
       "5-10yrs     1264  10.41\n",
       "1-2yr        818   6.74\n",
       "Below 1yr    280   2.31"
      ]
     },
     "execution_count": 67,
     "metadata": {},
     "output_type": "execute_result"
    }
   ],
   "source": [
    "series_null_balance(new_data, \"Service_year_of_vehicle\")"
   ]
  },
  {
   "cell_type": "markdown",
   "id": "5dec1145",
   "metadata": {},
   "source": [
    "Pasamos a agregar los datos nulos a la categoría `Unknown`."
   ]
  },
  {
   "cell_type": "code",
   "execution_count": 68,
   "id": "87b185da",
   "metadata": {},
   "outputs": [
    {
     "name": "stdout",
     "output_type": "stream",
     "text": [
      "Series dtype =  object\n",
      "Cantidad total de registros =  12138\n",
      "Cantidad total de registros nulos en Service_year_of_vehicle  =  0\n",
      "Porcentaje total de registros nulos en  Service_year_of_vehicle  =  0.0 %\n"
     ]
    },
    {
     "data": {
      "text/html": [
       "<div>\n",
       "<style scoped>\n",
       "    .dataframe tbody tr th:only-of-type {\n",
       "        vertical-align: middle;\n",
       "    }\n",
       "\n",
       "    .dataframe tbody tr th {\n",
       "        vertical-align: top;\n",
       "    }\n",
       "\n",
       "    .dataframe thead th {\n",
       "        text-align: right;\n",
       "    }\n",
       "</style>\n",
       "<table border=\"1\" class=\"dataframe\">\n",
       "  <thead>\n",
       "    <tr style=\"text-align: right;\">\n",
       "      <th></th>\n",
       "      <th>#</th>\n",
       "      <th>%</th>\n",
       "    </tr>\n",
       "  </thead>\n",
       "  <tbody>\n",
       "    <tr>\n",
       "      <th>Unknown</th>\n",
       "      <td>6706</td>\n",
       "      <td>55.25</td>\n",
       "    </tr>\n",
       "    <tr>\n",
       "      <th>2-5yrs</th>\n",
       "      <td>1767</td>\n",
       "      <td>14.56</td>\n",
       "    </tr>\n",
       "    <tr>\n",
       "      <th>Above 10yr</th>\n",
       "      <td>1303</td>\n",
       "      <td>10.73</td>\n",
       "    </tr>\n",
       "    <tr>\n",
       "      <th>5-10yrs</th>\n",
       "      <td>1264</td>\n",
       "      <td>10.41</td>\n",
       "    </tr>\n",
       "    <tr>\n",
       "      <th>1-2yr</th>\n",
       "      <td>818</td>\n",
       "      <td>6.74</td>\n",
       "    </tr>\n",
       "    <tr>\n",
       "      <th>Below 1yr</th>\n",
       "      <td>280</td>\n",
       "      <td>2.31</td>\n",
       "    </tr>\n",
       "  </tbody>\n",
       "</table>\n",
       "</div>"
      ],
      "text/plain": [
       "               #      %\n",
       "Unknown     6706  55.25\n",
       "2-5yrs      1767  14.56\n",
       "Above 10yr  1303  10.73\n",
       "5-10yrs     1264  10.41\n",
       "1-2yr        818   6.74\n",
       "Below 1yr    280   2.31"
      ]
     },
     "execution_count": 68,
     "metadata": {},
     "output_type": "execute_result"
    }
   ],
   "source": [
    "new_data[\"Service_year_of_vehicle\"] = new_data[\"Service_year_of_vehicle\"].fillna('Unknown')\n",
    "series_null_balance(new_data, \"Service_year_of_vehicle\")"
   ]
  },
  {
   "cell_type": "markdown",
   "id": "7056ea2f",
   "metadata": {},
   "source": [
    "A pesar de que mitad de los datos (55.25%) toman el valor `Unknown`, consideramos que esta feature es importante para la predicción de la variable target y que uno espera que los accidentes sean peores si interactuaron autos en peor estado. Además creemos que el no saber cuándo fue el último service aporta información válida para la clasificación.\n",
    "\n",
    "Para conservar los registros simplificamos el nombre de las categorías en `Service_year_of_vehicle`:\n",
    "* **Valid_Recent_Exp:** con menos de 2 años desde el servicio (Below 1yr, 1-2yr), \n",
    "* **Moderate_Exp:**: entre 2 y 5 años desde el servicio\n",
    "* **Advanced_Exp:** más de 5 años desde el servicio, \n",
    "* **Unknown:** valor desconocido o nulo.\n",
    " "
   ]
  },
  {
   "cell_type": "code",
   "execution_count": 69,
   "id": "8cce4828",
   "metadata": {},
   "outputs": [
    {
     "name": "stdout",
     "output_type": "stream",
     "text": [
      "Series dtype =  object\n",
      "Cantidad total de registros =  12138\n",
      "Cantidad total de registros nulos en Service_year_of_vehicle  =  0\n",
      "Porcentaje total de registros nulos en  Service_year_of_vehicle  =  0.0 %\n"
     ]
    },
    {
     "data": {
      "text/html": [
       "<div>\n",
       "<style scoped>\n",
       "    .dataframe tbody tr th:only-of-type {\n",
       "        vertical-align: middle;\n",
       "    }\n",
       "\n",
       "    .dataframe tbody tr th {\n",
       "        vertical-align: top;\n",
       "    }\n",
       "\n",
       "    .dataframe thead th {\n",
       "        text-align: right;\n",
       "    }\n",
       "</style>\n",
       "<table border=\"1\" class=\"dataframe\">\n",
       "  <thead>\n",
       "    <tr style=\"text-align: right;\">\n",
       "      <th></th>\n",
       "      <th>#</th>\n",
       "      <th>%</th>\n",
       "    </tr>\n",
       "  </thead>\n",
       "  <tbody>\n",
       "    <tr>\n",
       "      <th>Unknown</th>\n",
       "      <td>6706</td>\n",
       "      <td>55.25</td>\n",
       "    </tr>\n",
       "    <tr>\n",
       "      <th>Advanced_Exp</th>\n",
       "      <td>2567</td>\n",
       "      <td>21.15</td>\n",
       "    </tr>\n",
       "    <tr>\n",
       "      <th>Moderate_Exp</th>\n",
       "      <td>1767</td>\n",
       "      <td>14.56</td>\n",
       "    </tr>\n",
       "    <tr>\n",
       "      <th>Valid_Recent_Exp</th>\n",
       "      <td>1098</td>\n",
       "      <td>9.05</td>\n",
       "    </tr>\n",
       "  </tbody>\n",
       "</table>\n",
       "</div>"
      ],
      "text/plain": [
       "                     #      %\n",
       "Unknown           6706  55.25\n",
       "Advanced_Exp      2567  21.15\n",
       "Moderate_Exp      1767  14.56\n",
       "Valid_Recent_Exp  1098   9.05"
      ]
     },
     "execution_count": 69,
     "metadata": {},
     "output_type": "execute_result"
    }
   ],
   "source": [
    "# Redefinimos categorias en \"Service_year_of_vehicle\"\n",
    "new_data['Service_year_of_vehicle'] = new_data['Service_year_of_vehicle'].map({\n",
    "    'Below 1yr': 'Valid_Recent_Exp', \n",
    "    '1-2yr':'Valid_Recent_Exp',\n",
    "    '2-5yrs': 'Moderate_Exp',\n",
    "    '5-10yrs': 'Advanced_Exp',\n",
    "    'Above 10yr': 'Advanced_Exp',\n",
    "    'Unknown': 'Unknown'\n",
    "})\n",
    "series_null_balance(new_data, \"Service_year_of_vehicle\")"
   ]
  },
  {
   "cell_type": "markdown",
   "id": "b211cd73",
   "metadata": {},
   "source": [
    "#### <span style=\"color:blue\"> Defect_of_vehicle </span>"
   ]
  },
  {
   "cell_type": "code",
   "execution_count": 70,
   "id": "ed1a00dc",
   "metadata": {},
   "outputs": [
    {
     "name": "stdout",
     "output_type": "stream",
     "text": [
      "Series dtype =  object\n",
      "Cantidad total de registros =  12138\n",
      "Cantidad total de registros nulos en Defect_of_vehicle  =  4354\n",
      "Porcentaje total de registros nulos en  Defect_of_vehicle  =  35.87 %\n"
     ]
    },
    {
     "data": {
      "text/html": [
       "<div>\n",
       "<style scoped>\n",
       "    .dataframe tbody tr th:only-of-type {\n",
       "        vertical-align: middle;\n",
       "    }\n",
       "\n",
       "    .dataframe tbody tr th {\n",
       "        vertical-align: top;\n",
       "    }\n",
       "\n",
       "    .dataframe thead th {\n",
       "        text-align: right;\n",
       "    }\n",
       "</style>\n",
       "<table border=\"1\" class=\"dataframe\">\n",
       "  <thead>\n",
       "    <tr style=\"text-align: right;\">\n",
       "      <th></th>\n",
       "      <th>#</th>\n",
       "      <th>%</th>\n",
       "    </tr>\n",
       "  </thead>\n",
       "  <tbody>\n",
       "    <tr>\n",
       "      <th>No defect</th>\n",
       "      <td>7674</td>\n",
       "      <td>63.22</td>\n",
       "    </tr>\n",
       "    <tr>\n",
       "      <th>7</th>\n",
       "      <td>74</td>\n",
       "      <td>0.61</td>\n",
       "    </tr>\n",
       "    <tr>\n",
       "      <th>5</th>\n",
       "      <td>36</td>\n",
       "      <td>0.30</td>\n",
       "    </tr>\n",
       "  </tbody>\n",
       "</table>\n",
       "</div>"
      ],
      "text/plain": [
       "              #      %\n",
       "No defect  7674  63.22\n",
       "7            74   0.61\n",
       "5            36   0.30"
      ]
     },
     "execution_count": 70,
     "metadata": {},
     "output_type": "execute_result"
    }
   ],
   "source": [
    "series_null_balance(new_data, \"Defect_of_vehicle\")"
   ]
  },
  {
   "cell_type": "markdown",
   "id": "503518b6",
   "metadata": {},
   "source": [
    "Unimos las categorias `5` y `7` en una nueva categoría llamada `With defect`."
   ]
  },
  {
   "cell_type": "code",
   "execution_count": 71,
   "id": "7a5040a5",
   "metadata": {},
   "outputs": [
    {
     "name": "stdout",
     "output_type": "stream",
     "text": [
      "Series dtype =  object\n",
      "Cantidad total de registros =  12138\n",
      "Cantidad total de registros nulos en Defect_of_vehicle  =  4354\n",
      "Porcentaje total de registros nulos en  Defect_of_vehicle  =  35.87 %\n"
     ]
    },
    {
     "data": {
      "text/html": [
       "<div>\n",
       "<style scoped>\n",
       "    .dataframe tbody tr th:only-of-type {\n",
       "        vertical-align: middle;\n",
       "    }\n",
       "\n",
       "    .dataframe tbody tr th {\n",
       "        vertical-align: top;\n",
       "    }\n",
       "\n",
       "    .dataframe thead th {\n",
       "        text-align: right;\n",
       "    }\n",
       "</style>\n",
       "<table border=\"1\" class=\"dataframe\">\n",
       "  <thead>\n",
       "    <tr style=\"text-align: right;\">\n",
       "      <th></th>\n",
       "      <th>#</th>\n",
       "      <th>%</th>\n",
       "    </tr>\n",
       "  </thead>\n",
       "  <tbody>\n",
       "    <tr>\n",
       "      <th>No defect</th>\n",
       "      <td>7674</td>\n",
       "      <td>63.22</td>\n",
       "    </tr>\n",
       "    <tr>\n",
       "      <th>With defect</th>\n",
       "      <td>110</td>\n",
       "      <td>0.91</td>\n",
       "    </tr>\n",
       "  </tbody>\n",
       "</table>\n",
       "</div>"
      ],
      "text/plain": [
       "                #      %\n",
       "No defect    7674  63.22\n",
       "With defect   110   0.91"
      ]
     },
     "execution_count": 71,
     "metadata": {},
     "output_type": "execute_result"
    }
   ],
   "source": [
    "new_data[\"Defect_of_vehicle\"] = ['With defect' if (x == '7') or (x == '5') else x for x in new_data[\"Defect_of_vehicle\"]]\n",
    "series_null_balance(new_data, \"Defect_of_vehicle\")"
   ]
  },
  {
   "cell_type": "markdown",
   "id": "70c98512",
   "metadata": {},
   "source": [
    "Analizamos los datos nulos en función de la variable obejtivo."
   ]
  },
  {
   "cell_type": "code",
   "execution_count": 72,
   "id": "f4e9032c",
   "metadata": {},
   "outputs": [
    {
     "name": "stdout",
     "output_type": "stream",
     "text": [
      "Slight Injury     3709\n",
      "Serious Injury     592\n",
      "Fatal injury        53\n",
      "Name: Accident_severity, dtype: int64\n",
      "\n",
      " 53 ≈ 33.758 % registros con edad desconocida pertenecen a los accidentes con heridas fatales\n"
     ]
    }
   ],
   "source": [
    "fatal_injury_percentage(\"Defect_of_vehicle\", null=True)"
   ]
  },
  {
   "cell_type": "markdown",
   "id": "cc7b38a8",
   "metadata": {},
   "source": [
    "Decidimos agregar estos datos como categoría `Unknown` ya que representan casi un 34% de los accidentes fatales."
   ]
  },
  {
   "cell_type": "code",
   "execution_count": 73,
   "id": "887c859d",
   "metadata": {},
   "outputs": [
    {
     "name": "stdout",
     "output_type": "stream",
     "text": [
      "Series dtype =  object\n",
      "Cantidad total de registros =  12138\n",
      "Cantidad total de registros nulos en Defect_of_vehicle  =  0\n",
      "Porcentaje total de registros nulos en  Defect_of_vehicle  =  0.0 %\n"
     ]
    },
    {
     "data": {
      "text/html": [
       "<div>\n",
       "<style scoped>\n",
       "    .dataframe tbody tr th:only-of-type {\n",
       "        vertical-align: middle;\n",
       "    }\n",
       "\n",
       "    .dataframe tbody tr th {\n",
       "        vertical-align: top;\n",
       "    }\n",
       "\n",
       "    .dataframe thead th {\n",
       "        text-align: right;\n",
       "    }\n",
       "</style>\n",
       "<table border=\"1\" class=\"dataframe\">\n",
       "  <thead>\n",
       "    <tr style=\"text-align: right;\">\n",
       "      <th></th>\n",
       "      <th>#</th>\n",
       "      <th>%</th>\n",
       "    </tr>\n",
       "  </thead>\n",
       "  <tbody>\n",
       "    <tr>\n",
       "      <th>No defect</th>\n",
       "      <td>7674</td>\n",
       "      <td>63.22</td>\n",
       "    </tr>\n",
       "    <tr>\n",
       "      <th>Unknown</th>\n",
       "      <td>4354</td>\n",
       "      <td>35.87</td>\n",
       "    </tr>\n",
       "    <tr>\n",
       "      <th>With defect</th>\n",
       "      <td>110</td>\n",
       "      <td>0.91</td>\n",
       "    </tr>\n",
       "  </tbody>\n",
       "</table>\n",
       "</div>"
      ],
      "text/plain": [
       "                #      %\n",
       "No defect    7674  63.22\n",
       "Unknown      4354  35.87\n",
       "With defect   110   0.91"
      ]
     },
     "execution_count": 73,
     "metadata": {},
     "output_type": "execute_result"
    }
   ],
   "source": [
    "new_data[\"Defect_of_vehicle\"] = new_data[\"Defect_of_vehicle\"].fillna('Unknown')\n",
    "series_null_balance(new_data, \"Defect_of_vehicle\")"
   ]
  },
  {
   "cell_type": "markdown",
   "id": "4a65d62f",
   "metadata": {},
   "source": [
    "Esta información puede interpetarse de la siguiente manera: estamos seguros que el 63.22% de los autos involucrados en un accidente no contaban con defectos en el momento del incidente; mientras que del casi 36% restante no sabemos si los autos contaban o no con fallas, sin embargo sabemos que el 33.76% de estos últimos incidentes acabaron en `Fatal injury`. No tener certeza de no poseer defectos en el auto puede indicar información relevante al objetivo de clasificación. Razón por la cual mantenemos este feature."
   ]
  },
  {
   "cell_type": "markdown",
   "id": "1f2a88cc",
   "metadata": {},
   "source": [
    "#### <span style=\"color:blue\"> Area_accident_occured </span>"
   ]
  },
  {
   "cell_type": "code",
   "execution_count": 74,
   "id": "7b7c56f4",
   "metadata": {},
   "outputs": [
    {
     "name": "stdout",
     "output_type": "stream",
     "text": [
      "Series dtype =  object\n",
      "Cantidad total de registros =  12138\n",
      "Cantidad total de registros nulos en Area_accident_occured  =  233\n",
      "Porcentaje total de registros nulos en  Area_accident_occured  =  1.92 %\n"
     ]
    },
    {
     "data": {
      "text/html": [
       "<div>\n",
       "<style scoped>\n",
       "    .dataframe tbody tr th:only-of-type {\n",
       "        vertical-align: middle;\n",
       "    }\n",
       "\n",
       "    .dataframe tbody tr th {\n",
       "        vertical-align: top;\n",
       "    }\n",
       "\n",
       "    .dataframe thead th {\n",
       "        text-align: right;\n",
       "    }\n",
       "</style>\n",
       "<table border=\"1\" class=\"dataframe\">\n",
       "  <thead>\n",
       "    <tr style=\"text-align: right;\">\n",
       "      <th></th>\n",
       "      <th>#</th>\n",
       "      <th>%</th>\n",
       "    </tr>\n",
       "  </thead>\n",
       "  <tbody>\n",
       "    <tr>\n",
       "      <th>Other</th>\n",
       "      <td>3774</td>\n",
       "      <td>31.09</td>\n",
       "    </tr>\n",
       "    <tr>\n",
       "      <th>Office areas</th>\n",
       "      <td>3395</td>\n",
       "      <td>27.97</td>\n",
       "    </tr>\n",
       "    <tr>\n",
       "      <th>Residential areas</th>\n",
       "      <td>2028</td>\n",
       "      <td>16.71</td>\n",
       "    </tr>\n",
       "    <tr>\n",
       "      <th>Church areas</th>\n",
       "      <td>1049</td>\n",
       "      <td>8.64</td>\n",
       "    </tr>\n",
       "    <tr>\n",
       "      <th>Industrial areas</th>\n",
       "      <td>444</td>\n",
       "      <td>3.66</td>\n",
       "    </tr>\n",
       "    <tr>\n",
       "      <th>School areas</th>\n",
       "      <td>410</td>\n",
       "      <td>3.38</td>\n",
       "    </tr>\n",
       "    <tr>\n",
       "      <th>Recreational areas</th>\n",
       "      <td>323</td>\n",
       "      <td>2.66</td>\n",
       "    </tr>\n",
       "    <tr>\n",
       "      <th>Outside rural areas</th>\n",
       "      <td>216</td>\n",
       "      <td>1.78</td>\n",
       "    </tr>\n",
       "    <tr>\n",
       "      <th>Hospital areas</th>\n",
       "      <td>119</td>\n",
       "      <td>0.98</td>\n",
       "    </tr>\n",
       "    <tr>\n",
       "      <th>Market areas</th>\n",
       "      <td>62</td>\n",
       "      <td>0.51</td>\n",
       "    </tr>\n",
       "    <tr>\n",
       "      <th>Rural village areas</th>\n",
       "      <td>44</td>\n",
       "      <td>0.36</td>\n",
       "    </tr>\n",
       "    <tr>\n",
       "      <th>Unknown</th>\n",
       "      <td>21</td>\n",
       "      <td>0.17</td>\n",
       "    </tr>\n",
       "    <tr>\n",
       "      <th>Rural village areasOffice areas</th>\n",
       "      <td>19</td>\n",
       "      <td>0.16</td>\n",
       "    </tr>\n",
       "    <tr>\n",
       "      <th>Recreational areas</th>\n",
       "      <td>1</td>\n",
       "      <td>0.01</td>\n",
       "    </tr>\n",
       "  </tbody>\n",
       "</table>\n",
       "</div>"
      ],
      "text/plain": [
       "                                    #      %\n",
       "Other                            3774  31.09\n",
       "Office areas                     3395  27.97\n",
       "Residential areas                2028  16.71\n",
       " Church areas                    1049   8.64\n",
       " Industrial areas                 444   3.66\n",
       "School areas                      410   3.38\n",
       "  Recreational areas              323   2.66\n",
       " Outside rural areas              216   1.78\n",
       " Hospital areas                   119   0.98\n",
       "  Market areas                     62   0.51\n",
       "Rural village areas                44   0.36\n",
       "Unknown                            21   0.17\n",
       "Rural village areasOffice areas    19   0.16\n",
       "Recreational areas                  1   0.01"
      ]
     },
     "execution_count": 74,
     "metadata": {},
     "output_type": "execute_result"
    }
   ],
   "source": [
    "series_null_balance(new_data, \"Area_accident_occured\")"
   ]
  },
  {
   "cell_type": "markdown",
   "id": "bfabf02b",
   "metadata": {},
   "source": [
    "Agregamos los datos nulos a la categoría `Unknown`."
   ]
  },
  {
   "cell_type": "code",
   "execution_count": 75,
   "id": "9b83817f",
   "metadata": {},
   "outputs": [
    {
     "name": "stdout",
     "output_type": "stream",
     "text": [
      "Series dtype =  object\n",
      "Cantidad total de registros =  12138\n",
      "Cantidad total de registros nulos en Area_accident_occured  =  0\n",
      "Porcentaje total de registros nulos en  Area_accident_occured  =  0.0 %\n"
     ]
    },
    {
     "data": {
      "text/html": [
       "<div>\n",
       "<style scoped>\n",
       "    .dataframe tbody tr th:only-of-type {\n",
       "        vertical-align: middle;\n",
       "    }\n",
       "\n",
       "    .dataframe tbody tr th {\n",
       "        vertical-align: top;\n",
       "    }\n",
       "\n",
       "    .dataframe thead th {\n",
       "        text-align: right;\n",
       "    }\n",
       "</style>\n",
       "<table border=\"1\" class=\"dataframe\">\n",
       "  <thead>\n",
       "    <tr style=\"text-align: right;\">\n",
       "      <th></th>\n",
       "      <th>#</th>\n",
       "      <th>%</th>\n",
       "    </tr>\n",
       "  </thead>\n",
       "  <tbody>\n",
       "    <tr>\n",
       "      <th>Other</th>\n",
       "      <td>3774</td>\n",
       "      <td>31.09</td>\n",
       "    </tr>\n",
       "    <tr>\n",
       "      <th>Office areas</th>\n",
       "      <td>3395</td>\n",
       "      <td>27.97</td>\n",
       "    </tr>\n",
       "    <tr>\n",
       "      <th>Residential areas</th>\n",
       "      <td>2028</td>\n",
       "      <td>16.71</td>\n",
       "    </tr>\n",
       "    <tr>\n",
       "      <th>Church areas</th>\n",
       "      <td>1049</td>\n",
       "      <td>8.64</td>\n",
       "    </tr>\n",
       "    <tr>\n",
       "      <th>Industrial areas</th>\n",
       "      <td>444</td>\n",
       "      <td>3.66</td>\n",
       "    </tr>\n",
       "    <tr>\n",
       "      <th>School areas</th>\n",
       "      <td>410</td>\n",
       "      <td>3.38</td>\n",
       "    </tr>\n",
       "    <tr>\n",
       "      <th>Recreational areas</th>\n",
       "      <td>323</td>\n",
       "      <td>2.66</td>\n",
       "    </tr>\n",
       "    <tr>\n",
       "      <th>Unknown</th>\n",
       "      <td>254</td>\n",
       "      <td>2.09</td>\n",
       "    </tr>\n",
       "    <tr>\n",
       "      <th>Outside rural areas</th>\n",
       "      <td>216</td>\n",
       "      <td>1.78</td>\n",
       "    </tr>\n",
       "    <tr>\n",
       "      <th>Hospital areas</th>\n",
       "      <td>119</td>\n",
       "      <td>0.98</td>\n",
       "    </tr>\n",
       "    <tr>\n",
       "      <th>Market areas</th>\n",
       "      <td>62</td>\n",
       "      <td>0.51</td>\n",
       "    </tr>\n",
       "    <tr>\n",
       "      <th>Rural village areas</th>\n",
       "      <td>44</td>\n",
       "      <td>0.36</td>\n",
       "    </tr>\n",
       "    <tr>\n",
       "      <th>Rural village areasOffice areas</th>\n",
       "      <td>19</td>\n",
       "      <td>0.16</td>\n",
       "    </tr>\n",
       "    <tr>\n",
       "      <th>Recreational areas</th>\n",
       "      <td>1</td>\n",
       "      <td>0.01</td>\n",
       "    </tr>\n",
       "  </tbody>\n",
       "</table>\n",
       "</div>"
      ],
      "text/plain": [
       "                                    #      %\n",
       "Other                            3774  31.09\n",
       "Office areas                     3395  27.97\n",
       "Residential areas                2028  16.71\n",
       " Church areas                    1049   8.64\n",
       " Industrial areas                 444   3.66\n",
       "School areas                      410   3.38\n",
       "  Recreational areas              323   2.66\n",
       "Unknown                           254   2.09\n",
       " Outside rural areas              216   1.78\n",
       " Hospital areas                   119   0.98\n",
       "  Market areas                     62   0.51\n",
       "Rural village areas                44   0.36\n",
       "Rural village areasOffice areas    19   0.16\n",
       "Recreational areas                  1   0.01"
      ]
     },
     "execution_count": 75,
     "metadata": {},
     "output_type": "execute_result"
    }
   ],
   "source": [
    "new_data['Area_accident_occured'] = new_data['Area_accident_occured'].fillna('Unknown')\n",
    "series_null_balance(new_data, \"Area_accident_occured\")"
   ]
  },
  {
   "cell_type": "markdown",
   "id": "fb171378",
   "metadata": {},
   "source": [
    "Reacomodamos las categorías de la siguiente manera:\n",
    "* **Urban:** Office areas, Residential areas, Church areas, Industrial areas, School areas, Recreational areas, Hospital areas, Market areas\n",
    "* **Rural:** Outside rural areas, Rural village areas, \n",
    "* **Other:** Other\n",
    "* **Unknown:** Unknown, Rural village areasOffice areas"
   ]
  },
  {
   "cell_type": "code",
   "execution_count": 76,
   "id": "3567fe66",
   "metadata": {},
   "outputs": [],
   "source": [
    "# Redefinimos categorias en \"Service_year_of_vehicle\"\n",
    "new_data['Area_accident_occured'] = new_data['Area_accident_occured'].map({\n",
    "    'Office areas': 'Urban',\n",
    "    'Residential areas': 'Urban', \n",
    "    'Church areas': 'Urban', \n",
    "    'Industrial areas': 'Urban', \n",
    "    'School areas': 'Urban', \n",
    "    'Recreational areas': 'Urban', \n",
    "    ' Recreational areas': 'Urban', \n",
    "    'Hospital areas': 'Urban', \n",
    "    'Market areas': 'Urban',\n",
    "    \n",
    "    'Outside rural areas': 'Rural', \n",
    "    'Rural village areas': 'Rural', \n",
    "    \n",
    "    'Other': 'Other',\n",
    "    'Unknown': 'Unknown',\n",
    "    'Rural village areasOffice areas': 'Unknown',\n",
    "})"
   ]
  },
  {
   "cell_type": "code",
   "execution_count": 77,
   "id": "ca4c3352",
   "metadata": {},
   "outputs": [
    {
     "name": "stdout",
     "output_type": "stream",
     "text": [
      "Series dtype =  object\n",
      "Cantidad total de registros =  12138\n",
      "Cantidad total de registros nulos en Area_accident_occured  =  2213\n",
      "Porcentaje total de registros nulos en  Area_accident_occured  =  18.23 %\n"
     ]
    },
    {
     "data": {
      "text/html": [
       "<div>\n",
       "<style scoped>\n",
       "    .dataframe tbody tr th:only-of-type {\n",
       "        vertical-align: middle;\n",
       "    }\n",
       "\n",
       "    .dataframe tbody tr th {\n",
       "        vertical-align: top;\n",
       "    }\n",
       "\n",
       "    .dataframe thead th {\n",
       "        text-align: right;\n",
       "    }\n",
       "</style>\n",
       "<table border=\"1\" class=\"dataframe\">\n",
       "  <thead>\n",
       "    <tr style=\"text-align: right;\">\n",
       "      <th></th>\n",
       "      <th>#</th>\n",
       "      <th>%</th>\n",
       "    </tr>\n",
       "  </thead>\n",
       "  <tbody>\n",
       "    <tr>\n",
       "      <th>Urban</th>\n",
       "      <td>5834</td>\n",
       "      <td>48.06</td>\n",
       "    </tr>\n",
       "    <tr>\n",
       "      <th>Other</th>\n",
       "      <td>3774</td>\n",
       "      <td>31.09</td>\n",
       "    </tr>\n",
       "    <tr>\n",
       "      <th>Unknown</th>\n",
       "      <td>273</td>\n",
       "      <td>2.25</td>\n",
       "    </tr>\n",
       "    <tr>\n",
       "      <th>Rural</th>\n",
       "      <td>44</td>\n",
       "      <td>0.36</td>\n",
       "    </tr>\n",
       "  </tbody>\n",
       "</table>\n",
       "</div>"
      ],
      "text/plain": [
       "            #      %\n",
       "Urban    5834  48.06\n",
       "Other    3774  31.09\n",
       "Unknown   273   2.25\n",
       "Rural      44   0.36"
      ]
     },
     "execution_count": 77,
     "metadata": {},
     "output_type": "execute_result"
    }
   ],
   "source": [
    "series_null_balance(new_data, \"Area_accident_occured\")"
   ]
  },
  {
   "cell_type": "markdown",
   "id": "ddd20eb2",
   "metadata": {},
   "source": [
    "Como el 48.06% de los datos representan accidentes en zonas urbanas, solo el 0.36% de los registros representan accidentes en zonas rurales y además como entre los registros `Other` y `Unknown` se conforman el 33.34% de los datos, concluimos en que esta feature no aporta información significante, razón por la cual decidimos eliminarla."
   ]
  },
  {
   "cell_type": "code",
   "execution_count": 78,
   "id": "2c91a8c1",
   "metadata": {},
   "outputs": [],
   "source": [
    "new_data = new_data.drop(columns=\"Area_accident_occured\")"
   ]
  },
  {
   "cell_type": "markdown",
   "id": "6aa30716",
   "metadata": {},
   "source": [
    "#### <span style=\"color:blue\"> Lanes_or_Medians </span>"
   ]
  },
  {
   "cell_type": "code",
   "execution_count": 79,
   "id": "64024f58",
   "metadata": {},
   "outputs": [
    {
     "name": "stdout",
     "output_type": "stream",
     "text": [
      "Series dtype =  object\n",
      "Cantidad total de registros =  12138\n",
      "Cantidad total de registros nulos en Lanes_or_Medians  =  379\n",
      "Porcentaje total de registros nulos en  Lanes_or_Medians  =  3.12 %\n"
     ]
    },
    {
     "data": {
      "text/html": [
       "<div>\n",
       "<style scoped>\n",
       "    .dataframe tbody tr th:only-of-type {\n",
       "        vertical-align: middle;\n",
       "    }\n",
       "\n",
       "    .dataframe tbody tr th {\n",
       "        vertical-align: top;\n",
       "    }\n",
       "\n",
       "    .dataframe thead th {\n",
       "        text-align: right;\n",
       "    }\n",
       "</style>\n",
       "<table border=\"1\" class=\"dataframe\">\n",
       "  <thead>\n",
       "    <tr style=\"text-align: right;\">\n",
       "      <th></th>\n",
       "      <th>#</th>\n",
       "      <th>%</th>\n",
       "    </tr>\n",
       "  </thead>\n",
       "  <tbody>\n",
       "    <tr>\n",
       "      <th>Two-way (divided with broken lines road marking)</th>\n",
       "      <td>4342</td>\n",
       "      <td>35.77</td>\n",
       "    </tr>\n",
       "    <tr>\n",
       "      <th>Undivided Two way</th>\n",
       "      <td>3745</td>\n",
       "      <td>30.85</td>\n",
       "    </tr>\n",
       "    <tr>\n",
       "      <th>other</th>\n",
       "      <td>1635</td>\n",
       "      <td>13.47</td>\n",
       "    </tr>\n",
       "    <tr>\n",
       "      <th>Double carriageway (median)</th>\n",
       "      <td>1001</td>\n",
       "      <td>8.25</td>\n",
       "    </tr>\n",
       "    <tr>\n",
       "      <th>One way</th>\n",
       "      <td>841</td>\n",
       "      <td>6.93</td>\n",
       "    </tr>\n",
       "    <tr>\n",
       "      <th>Two-way (divided with solid lines road marking)</th>\n",
       "      <td>138</td>\n",
       "      <td>1.14</td>\n",
       "    </tr>\n",
       "    <tr>\n",
       "      <th>Unknown</th>\n",
       "      <td>57</td>\n",
       "      <td>0.47</td>\n",
       "    </tr>\n",
       "  </tbody>\n",
       "</table>\n",
       "</div>"
      ],
      "text/plain": [
       "                                                     #      %\n",
       "Two-way (divided with broken lines road marking)  4342  35.77\n",
       "Undivided Two way                                 3745  30.85\n",
       "other                                             1635  13.47\n",
       "Double carriageway (median)                       1001   8.25\n",
       "One way                                            841   6.93\n",
       "Two-way (divided with solid lines road marking)    138   1.14\n",
       "Unknown                                             57   0.47"
      ]
     },
     "execution_count": 79,
     "metadata": {},
     "output_type": "execute_result"
    }
   ],
   "source": [
    "series_null_balance(new_data, \"Lanes_or_Medians\")"
   ]
  },
  {
   "cell_type": "markdown",
   "id": "54132b11",
   "metadata": {},
   "source": [
    "Agregamos los valores nulos a la categoría `Unknown`."
   ]
  },
  {
   "cell_type": "code",
   "execution_count": 80,
   "id": "291abcf2",
   "metadata": {},
   "outputs": [
    {
     "name": "stdout",
     "output_type": "stream",
     "text": [
      "Series dtype =  object\n",
      "Cantidad total de registros =  12138\n",
      "Cantidad total de registros nulos en Lanes_or_Medians  =  0\n",
      "Porcentaje total de registros nulos en  Lanes_or_Medians  =  0.0 %\n"
     ]
    },
    {
     "data": {
      "text/html": [
       "<div>\n",
       "<style scoped>\n",
       "    .dataframe tbody tr th:only-of-type {\n",
       "        vertical-align: middle;\n",
       "    }\n",
       "\n",
       "    .dataframe tbody tr th {\n",
       "        vertical-align: top;\n",
       "    }\n",
       "\n",
       "    .dataframe thead th {\n",
       "        text-align: right;\n",
       "    }\n",
       "</style>\n",
       "<table border=\"1\" class=\"dataframe\">\n",
       "  <thead>\n",
       "    <tr style=\"text-align: right;\">\n",
       "      <th></th>\n",
       "      <th>#</th>\n",
       "      <th>%</th>\n",
       "    </tr>\n",
       "  </thead>\n",
       "  <tbody>\n",
       "    <tr>\n",
       "      <th>Two-way (divided with broken lines road marking)</th>\n",
       "      <td>4342</td>\n",
       "      <td>35.77</td>\n",
       "    </tr>\n",
       "    <tr>\n",
       "      <th>Undivided Two way</th>\n",
       "      <td>3745</td>\n",
       "      <td>30.85</td>\n",
       "    </tr>\n",
       "    <tr>\n",
       "      <th>other</th>\n",
       "      <td>1635</td>\n",
       "      <td>13.47</td>\n",
       "    </tr>\n",
       "    <tr>\n",
       "      <th>Double carriageway (median)</th>\n",
       "      <td>1001</td>\n",
       "      <td>8.25</td>\n",
       "    </tr>\n",
       "    <tr>\n",
       "      <th>One way</th>\n",
       "      <td>841</td>\n",
       "      <td>6.93</td>\n",
       "    </tr>\n",
       "    <tr>\n",
       "      <th>Unknown</th>\n",
       "      <td>436</td>\n",
       "      <td>3.59</td>\n",
       "    </tr>\n",
       "    <tr>\n",
       "      <th>Two-way (divided with solid lines road marking)</th>\n",
       "      <td>138</td>\n",
       "      <td>1.14</td>\n",
       "    </tr>\n",
       "  </tbody>\n",
       "</table>\n",
       "</div>"
      ],
      "text/plain": [
       "                                                     #      %\n",
       "Two-way (divided with broken lines road marking)  4342  35.77\n",
       "Undivided Two way                                 3745  30.85\n",
       "other                                             1635  13.47\n",
       "Double carriageway (median)                       1001   8.25\n",
       "One way                                            841   6.93\n",
       "Unknown                                            436   3.59\n",
       "Two-way (divided with solid lines road marking)    138   1.14"
      ]
     },
     "execution_count": 80,
     "metadata": {},
     "output_type": "execute_result"
    }
   ],
   "source": [
    "new_data[\"Lanes_or_Medians\"] = new_data[\"Lanes_or_Medians\"].fillna('Unknown')\n",
    "series_null_balance(new_data, \"Lanes_or_Medians\")"
   ]
  },
  {
   "cell_type": "markdown",
   "id": "dbcf6f3f",
   "metadata": {},
   "source": [
    "Reordenamos las categorías de la siguiente manera:\n",
    "* **Divided_Two-way:**: Two-way (divided with broken lines road marking), Two-way (divided with solid lines road marking)\n",
    "* **Undivided_Two-way:**: Undivided Two way\n",
    "* **One-way:**: Double carriageway (median), One way\n",
    "* **Other:** other\n",
    "* **Unknown:**: Unknown"
   ]
  },
  {
   "cell_type": "code",
   "execution_count": 81,
   "id": "684e6c05",
   "metadata": {},
   "outputs": [
    {
     "name": "stdout",
     "output_type": "stream",
     "text": [
      "Series dtype =  object\n",
      "Cantidad total de registros =  12138\n",
      "Cantidad total de registros nulos en Lanes_or_Medians  =  0\n",
      "Porcentaje total de registros nulos en  Lanes_or_Medians  =  0.0 %\n"
     ]
    },
    {
     "data": {
      "text/html": [
       "<div>\n",
       "<style scoped>\n",
       "    .dataframe tbody tr th:only-of-type {\n",
       "        vertical-align: middle;\n",
       "    }\n",
       "\n",
       "    .dataframe tbody tr th {\n",
       "        vertical-align: top;\n",
       "    }\n",
       "\n",
       "    .dataframe thead th {\n",
       "        text-align: right;\n",
       "    }\n",
       "</style>\n",
       "<table border=\"1\" class=\"dataframe\">\n",
       "  <thead>\n",
       "    <tr style=\"text-align: right;\">\n",
       "      <th></th>\n",
       "      <th>#</th>\n",
       "      <th>%</th>\n",
       "    </tr>\n",
       "  </thead>\n",
       "  <tbody>\n",
       "    <tr>\n",
       "      <th>Divided_Two-way</th>\n",
       "      <td>4480</td>\n",
       "      <td>36.91</td>\n",
       "    </tr>\n",
       "    <tr>\n",
       "      <th>Undivided_Two-way</th>\n",
       "      <td>3745</td>\n",
       "      <td>30.85</td>\n",
       "    </tr>\n",
       "    <tr>\n",
       "      <th>One-way</th>\n",
       "      <td>1842</td>\n",
       "      <td>15.18</td>\n",
       "    </tr>\n",
       "    <tr>\n",
       "      <th>Other</th>\n",
       "      <td>1635</td>\n",
       "      <td>13.47</td>\n",
       "    </tr>\n",
       "    <tr>\n",
       "      <th>Unknown</th>\n",
       "      <td>436</td>\n",
       "      <td>3.59</td>\n",
       "    </tr>\n",
       "  </tbody>\n",
       "</table>\n",
       "</div>"
      ],
      "text/plain": [
       "                      #      %\n",
       "Divided_Two-way    4480  36.91\n",
       "Undivided_Two-way  3745  30.85\n",
       "One-way            1842  15.18\n",
       "Other              1635  13.47\n",
       "Unknown             436   3.59"
      ]
     },
     "execution_count": 81,
     "metadata": {},
     "output_type": "execute_result"
    }
   ],
   "source": [
    "# Redefinimos categorias en \"Service_year_of_vehicle\"\n",
    "new_data['Lanes_or_Medians'] = new_data['Lanes_or_Medians'].map({\n",
    "    'Two-way (divided with broken lines road marking)': 'Divided_Two-way', \n",
    "    'Two-way (divided with solid lines road marking)': 'Divided_Two-way',\n",
    "    'Undivided Two way': 'Undivided_Two-way',\n",
    "    'Double carriageway (median)': 'One-way', \n",
    "    'One way': 'One-way',\n",
    "    'other': 'Other',\n",
    "    'Unknown': 'Unknown',\n",
    "})\n",
    "series_null_balance(new_data, \"Lanes_or_Medians\")"
   ]
  },
  {
   "cell_type": "code",
   "execution_count": 82,
   "id": "16737a46",
   "metadata": {},
   "outputs": [
    {
     "name": "stdout",
     "output_type": "stream",
     "text": [
      "Slight Injury     377\n",
      "Serious Injury     54\n",
      "Fatal injury        5\n",
      "Name: Accident_severity, dtype: int64\n",
      "\n",
      " 5 ≈ 3.185 % registros con edad desconocida pertenecen a los accidentes con heridas fatales\n"
     ]
    }
   ],
   "source": [
    "fatal_injury_percentage(\"Lanes_or_Medians\")"
   ]
  },
  {
   "cell_type": "markdown",
   "id": "c0783fb3",
   "metadata": {},
   "source": [
    "Esta feature ofrece información sobre el tipo de caminos y carriles. Los datos categorizados como `Unknown` representan el 3.19% de los accidentes que terminaron en `Fatal injury`, razón por la cual decidimos mantenerlos.\n"
   ]
  },
  {
   "cell_type": "markdown",
   "id": "7a4696a3",
   "metadata": {},
   "source": [
    "#### <span style=\"color:blue\"> Road_allignment </span>"
   ]
  },
  {
   "cell_type": "code",
   "execution_count": 83,
   "id": "aac70092",
   "metadata": {},
   "outputs": [
    {
     "name": "stdout",
     "output_type": "stream",
     "text": [
      "Series dtype =  object\n",
      "Cantidad total de registros =  12138\n",
      "Cantidad total de registros nulos en Road_allignment  =  139\n",
      "Porcentaje total de registros nulos en  Road_allignment  =  1.15 %\n"
     ]
    },
    {
     "data": {
      "text/html": [
       "<div>\n",
       "<style scoped>\n",
       "    .dataframe tbody tr th:only-of-type {\n",
       "        vertical-align: middle;\n",
       "    }\n",
       "\n",
       "    .dataframe tbody tr th {\n",
       "        vertical-align: top;\n",
       "    }\n",
       "\n",
       "    .dataframe thead th {\n",
       "        text-align: right;\n",
       "    }\n",
       "</style>\n",
       "<table border=\"1\" class=\"dataframe\">\n",
       "  <thead>\n",
       "    <tr style=\"text-align: right;\">\n",
       "      <th></th>\n",
       "      <th>#</th>\n",
       "      <th>%</th>\n",
       "    </tr>\n",
       "  </thead>\n",
       "  <tbody>\n",
       "    <tr>\n",
       "      <th>Tangent road with flat terrain</th>\n",
       "      <td>10301</td>\n",
       "      <td>84.87</td>\n",
       "    </tr>\n",
       "    <tr>\n",
       "      <th>Tangent road with mild grade and flat terrain</th>\n",
       "      <td>495</td>\n",
       "      <td>4.08</td>\n",
       "    </tr>\n",
       "    <tr>\n",
       "      <th>Steep grade downward with mountainous terrain</th>\n",
       "      <td>427</td>\n",
       "      <td>3.52</td>\n",
       "    </tr>\n",
       "    <tr>\n",
       "      <th>Tangent road with mountainous terrain and</th>\n",
       "      <td>391</td>\n",
       "      <td>3.22</td>\n",
       "    </tr>\n",
       "    <tr>\n",
       "      <th>Gentle horizontal curve</th>\n",
       "      <td>163</td>\n",
       "      <td>1.34</td>\n",
       "    </tr>\n",
       "    <tr>\n",
       "      <th>Escarpments</th>\n",
       "      <td>110</td>\n",
       "      <td>0.91</td>\n",
       "    </tr>\n",
       "    <tr>\n",
       "      <th>Sharp reverse curve</th>\n",
       "      <td>57</td>\n",
       "      <td>0.47</td>\n",
       "    </tr>\n",
       "    <tr>\n",
       "      <th>Tangent road with rolling terrain</th>\n",
       "      <td>37</td>\n",
       "      <td>0.30</td>\n",
       "    </tr>\n",
       "    <tr>\n",
       "      <th>Steep grade upward with mountainous terrain</th>\n",
       "      <td>18</td>\n",
       "      <td>0.15</td>\n",
       "    </tr>\n",
       "  </tbody>\n",
       "</table>\n",
       "</div>"
      ],
      "text/plain": [
       "                                                   #      %\n",
       "Tangent road with flat terrain                 10301  84.87\n",
       "Tangent road with mild grade and flat terrain    495   4.08\n",
       "Steep grade downward with mountainous terrain    427   3.52\n",
       "Tangent road with mountainous terrain and        391   3.22\n",
       "Gentle horizontal curve                          163   1.34\n",
       "Escarpments                                      110   0.91\n",
       "Sharp reverse curve                               57   0.47\n",
       "Tangent road with rolling terrain                 37   0.30\n",
       "Steep grade upward with mountainous terrain       18   0.15"
      ]
     },
     "execution_count": 83,
     "metadata": {},
     "output_type": "execute_result"
    }
   ],
   "source": [
    "series_null_balance(new_data, \"Road_allignment\")"
   ]
  },
  {
   "cell_type": "markdown",
   "id": "0fd16e17",
   "metadata": {},
   "source": [
    "Notamos que la categoría `Tangent road with flat terrain` representa casi el 85% de los datos, mientras que las otras categorías representan menos de un 4% cada una.\n",
    "\n",
    "De modificar las categorías para convertirlas en más genéricas, obtendríamos: `Tangent road`, `Steep grade`, `Curve` y `Escarpents`; la primera categoría representaría el 92.47% de los datos; razón por la cual decidimos eliminar esta feature."
   ]
  },
  {
   "cell_type": "code",
   "execution_count": 84,
   "id": "b68a7adc",
   "metadata": {},
   "outputs": [],
   "source": [
    "new_data = new_data.drop(columns=\"Road_allignment\")"
   ]
  },
  {
   "cell_type": "markdown",
   "id": "3a0e3a22",
   "metadata": {},
   "source": [
    "#### <span style=\"color:blue\"> Types_of_Junction </span>"
   ]
  },
  {
   "cell_type": "code",
   "execution_count": 85,
   "id": "cfd46997",
   "metadata": {},
   "outputs": [
    {
     "name": "stdout",
     "output_type": "stream",
     "text": [
      "Series dtype =  object\n",
      "Cantidad total de registros =  12138\n",
      "Cantidad total de registros nulos en Types_of_Junction  =  882\n",
      "Porcentaje total de registros nulos en  Types_of_Junction  =  7.27 %\n"
     ]
    },
    {
     "data": {
      "text/html": [
       "<div>\n",
       "<style scoped>\n",
       "    .dataframe tbody tr th:only-of-type {\n",
       "        vertical-align: middle;\n",
       "    }\n",
       "\n",
       "    .dataframe tbody tr th {\n",
       "        vertical-align: top;\n",
       "    }\n",
       "\n",
       "    .dataframe thead th {\n",
       "        text-align: right;\n",
       "    }\n",
       "</style>\n",
       "<table border=\"1\" class=\"dataframe\">\n",
       "  <thead>\n",
       "    <tr style=\"text-align: right;\">\n",
       "      <th></th>\n",
       "      <th>#</th>\n",
       "      <th>%</th>\n",
       "    </tr>\n",
       "  </thead>\n",
       "  <tbody>\n",
       "    <tr>\n",
       "      <th>Y Shape</th>\n",
       "      <td>4479</td>\n",
       "      <td>36.90</td>\n",
       "    </tr>\n",
       "    <tr>\n",
       "      <th>No junction</th>\n",
       "      <td>3783</td>\n",
       "      <td>31.17</td>\n",
       "    </tr>\n",
       "    <tr>\n",
       "      <th>Crossing</th>\n",
       "      <td>2134</td>\n",
       "      <td>17.58</td>\n",
       "    </tr>\n",
       "    <tr>\n",
       "      <th>Other</th>\n",
       "      <td>442</td>\n",
       "      <td>3.64</td>\n",
       "    </tr>\n",
       "    <tr>\n",
       "      <th>Unknown</th>\n",
       "      <td>187</td>\n",
       "      <td>1.54</td>\n",
       "    </tr>\n",
       "    <tr>\n",
       "      <th>O Shape</th>\n",
       "      <td>159</td>\n",
       "      <td>1.31</td>\n",
       "    </tr>\n",
       "    <tr>\n",
       "      <th>T Shape</th>\n",
       "      <td>60</td>\n",
       "      <td>0.49</td>\n",
       "    </tr>\n",
       "    <tr>\n",
       "      <th>X Shape</th>\n",
       "      <td>12</td>\n",
       "      <td>0.10</td>\n",
       "    </tr>\n",
       "  </tbody>\n",
       "</table>\n",
       "</div>"
      ],
      "text/plain": [
       "                #      %\n",
       "Y Shape      4479  36.90\n",
       "No junction  3783  31.17\n",
       "Crossing     2134  17.58\n",
       "Other         442   3.64\n",
       "Unknown       187   1.54\n",
       "O Shape       159   1.31\n",
       "T Shape        60   0.49\n",
       "X Shape        12   0.10"
      ]
     },
     "execution_count": 85,
     "metadata": {},
     "output_type": "execute_result"
    }
   ],
   "source": [
    "series_null_balance(new_data, \"Types_of_Junction\")"
   ]
  },
  {
   "cell_type": "markdown",
   "id": "492ee8f2",
   "metadata": {},
   "source": [
    "Agregamos los datos nulos a la categoría `Unknown`."
   ]
  },
  {
   "cell_type": "code",
   "execution_count": 86,
   "id": "f540fade",
   "metadata": {},
   "outputs": [
    {
     "name": "stdout",
     "output_type": "stream",
     "text": [
      "Series dtype =  object\n",
      "Cantidad total de registros =  12138\n",
      "Cantidad total de registros nulos en Types_of_Junction  =  0\n",
      "Porcentaje total de registros nulos en  Types_of_Junction  =  0.0 %\n"
     ]
    },
    {
     "data": {
      "text/html": [
       "<div>\n",
       "<style scoped>\n",
       "    .dataframe tbody tr th:only-of-type {\n",
       "        vertical-align: middle;\n",
       "    }\n",
       "\n",
       "    .dataframe tbody tr th {\n",
       "        vertical-align: top;\n",
       "    }\n",
       "\n",
       "    .dataframe thead th {\n",
       "        text-align: right;\n",
       "    }\n",
       "</style>\n",
       "<table border=\"1\" class=\"dataframe\">\n",
       "  <thead>\n",
       "    <tr style=\"text-align: right;\">\n",
       "      <th></th>\n",
       "      <th>#</th>\n",
       "      <th>%</th>\n",
       "    </tr>\n",
       "  </thead>\n",
       "  <tbody>\n",
       "    <tr>\n",
       "      <th>Y Shape</th>\n",
       "      <td>4479</td>\n",
       "      <td>36.90</td>\n",
       "    </tr>\n",
       "    <tr>\n",
       "      <th>No junction</th>\n",
       "      <td>3783</td>\n",
       "      <td>31.17</td>\n",
       "    </tr>\n",
       "    <tr>\n",
       "      <th>Crossing</th>\n",
       "      <td>2134</td>\n",
       "      <td>17.58</td>\n",
       "    </tr>\n",
       "    <tr>\n",
       "      <th>Unknown</th>\n",
       "      <td>1069</td>\n",
       "      <td>8.81</td>\n",
       "    </tr>\n",
       "    <tr>\n",
       "      <th>Other</th>\n",
       "      <td>442</td>\n",
       "      <td>3.64</td>\n",
       "    </tr>\n",
       "    <tr>\n",
       "      <th>O Shape</th>\n",
       "      <td>159</td>\n",
       "      <td>1.31</td>\n",
       "    </tr>\n",
       "    <tr>\n",
       "      <th>T Shape</th>\n",
       "      <td>60</td>\n",
       "      <td>0.49</td>\n",
       "    </tr>\n",
       "    <tr>\n",
       "      <th>X Shape</th>\n",
       "      <td>12</td>\n",
       "      <td>0.10</td>\n",
       "    </tr>\n",
       "  </tbody>\n",
       "</table>\n",
       "</div>"
      ],
      "text/plain": [
       "                #      %\n",
       "Y Shape      4479  36.90\n",
       "No junction  3783  31.17\n",
       "Crossing     2134  17.58\n",
       "Unknown      1069   8.81\n",
       "Other         442   3.64\n",
       "O Shape       159   1.31\n",
       "T Shape        60   0.49\n",
       "X Shape        12   0.10"
      ]
     },
     "execution_count": 86,
     "metadata": {},
     "output_type": "execute_result"
    }
   ],
   "source": [
    "new_data['Types_of_Junction'] = new_data['Types_of_Junction'].fillna('Unknown')\n",
    "series_null_balance(new_data, \"Types_of_Junction\")"
   ]
  },
  {
   "cell_type": "markdown",
   "id": "4354d970",
   "metadata": {},
   "source": [
    "El 36.90% de los accidentes ocurrieron en intersecciones de caminos del tipo **Y**, mientras que el 31.17% ocurrió en caminos rectos sin intesección. \n",
    "\n",
    "La categoría `Unknown` representa el 8.81% de los datos por lo que evaluamos qué tanto impacta en los casos de `Fatal injury` de nuestra variable objetivo."
   ]
  },
  {
   "cell_type": "code",
   "execution_count": 87,
   "id": "90d5b2f4",
   "metadata": {},
   "outputs": [
    {
     "name": "stdout",
     "output_type": "stream",
     "text": [
      "Slight Injury     883\n",
      "Serious Injury    167\n",
      "Fatal injury       19\n",
      "Name: Accident_severity, dtype: int64\n",
      "\n",
      " 19 ≈ 12.102 % registros con edad desconocida pertenecen a los accidentes con heridas fatales\n"
     ]
    }
   ],
   "source": [
    "fatal_injury_percentage(\"Types_of_Junction\")"
   ]
  },
  {
   "cell_type": "markdown",
   "id": "5fa91aa8",
   "metadata": {},
   "source": [
    "Como representa el 12.10% de los casos, consideramos esta feature es relevante para obtener buenos resultados en nuestro problema de clasificación. Por esta razón decidimos conservar estos datos. Posteriormente se simplificaron los nombres de las clases de la siguiente manera:\n",
    "* **Y:** Y Shape\n",
    "* **No junction:** No junction\n",
    "* **Crossing:** Crossing\n",
    "* **Unknown:** Unknown\n",
    "* **Other:** Other, O Shape, T Shape, X Shape\n",
    "\n",
    "(En el caso de `Other` decidimos agrupar varias categorías que tenían muy poca representación de los datos.)"
   ]
  },
  {
   "cell_type": "code",
   "execution_count": 88,
   "id": "74b8446e",
   "metadata": {},
   "outputs": [
    {
     "name": "stdout",
     "output_type": "stream",
     "text": [
      "Series dtype =  object\n",
      "Cantidad total de registros =  12138\n",
      "Cantidad total de registros nulos en Types_of_Junction  =  0\n",
      "Porcentaje total de registros nulos en  Types_of_Junction  =  0.0 %\n"
     ]
    },
    {
     "data": {
      "text/html": [
       "<div>\n",
       "<style scoped>\n",
       "    .dataframe tbody tr th:only-of-type {\n",
       "        vertical-align: middle;\n",
       "    }\n",
       "\n",
       "    .dataframe tbody tr th {\n",
       "        vertical-align: top;\n",
       "    }\n",
       "\n",
       "    .dataframe thead th {\n",
       "        text-align: right;\n",
       "    }\n",
       "</style>\n",
       "<table border=\"1\" class=\"dataframe\">\n",
       "  <thead>\n",
       "    <tr style=\"text-align: right;\">\n",
       "      <th></th>\n",
       "      <th>#</th>\n",
       "      <th>%</th>\n",
       "    </tr>\n",
       "  </thead>\n",
       "  <tbody>\n",
       "    <tr>\n",
       "      <th>Y</th>\n",
       "      <td>4479</td>\n",
       "      <td>36.90</td>\n",
       "    </tr>\n",
       "    <tr>\n",
       "      <th>No_junction</th>\n",
       "      <td>3783</td>\n",
       "      <td>31.17</td>\n",
       "    </tr>\n",
       "    <tr>\n",
       "      <th>Crossing</th>\n",
       "      <td>2134</td>\n",
       "      <td>17.58</td>\n",
       "    </tr>\n",
       "    <tr>\n",
       "      <th>Unknown</th>\n",
       "      <td>1069</td>\n",
       "      <td>8.81</td>\n",
       "    </tr>\n",
       "    <tr>\n",
       "      <th>Other</th>\n",
       "      <td>673</td>\n",
       "      <td>5.54</td>\n",
       "    </tr>\n",
       "  </tbody>\n",
       "</table>\n",
       "</div>"
      ],
      "text/plain": [
       "                #      %\n",
       "Y            4479  36.90\n",
       "No_junction  3783  31.17\n",
       "Crossing     2134  17.58\n",
       "Unknown      1069   8.81\n",
       "Other         673   5.54"
      ]
     },
     "execution_count": 88,
     "metadata": {},
     "output_type": "execute_result"
    }
   ],
   "source": [
    "# Redefinimos categorias en \"Types_of_Junction\"\n",
    "new_data['Types_of_Junction'] = new_data['Types_of_Junction'].map({ \n",
    "    'Y Shape':'Y', \n",
    "    'No junction': 'No_junction',\n",
    "    'Crossing':'Crossing',\n",
    "    'Unknown':'Unknown',\n",
    "    'Other':'Other', \n",
    "    'O Shape':'Other', \n",
    "    'T Shape':'Other', \n",
    "    'X Shape':'Other', \n",
    "})\n",
    "series_null_balance(new_data, \"Types_of_Junction\")"
   ]
  },
  {
   "cell_type": "markdown",
   "id": "6a25e52c",
   "metadata": {},
   "source": [
    "#### <span style=\"color:blue\"> Road_surface_type</span>"
   ]
  },
  {
   "cell_type": "code",
   "execution_count": 89,
   "id": "b47a39fb",
   "metadata": {},
   "outputs": [
    {
     "name": "stdout",
     "output_type": "stream",
     "text": [
      "Series dtype =  object\n",
      "Cantidad total de registros =  12138\n",
      "Cantidad total de registros nulos en Road_surface_type  =  171\n",
      "Porcentaje total de registros nulos en  Road_surface_type  =  1.41 %\n"
     ]
    },
    {
     "data": {
      "text/html": [
       "<div>\n",
       "<style scoped>\n",
       "    .dataframe tbody tr th:only-of-type {\n",
       "        vertical-align: middle;\n",
       "    }\n",
       "\n",
       "    .dataframe tbody tr th {\n",
       "        vertical-align: top;\n",
       "    }\n",
       "\n",
       "    .dataframe thead th {\n",
       "        text-align: right;\n",
       "    }\n",
       "</style>\n",
       "<table border=\"1\" class=\"dataframe\">\n",
       "  <thead>\n",
       "    <tr style=\"text-align: right;\">\n",
       "      <th></th>\n",
       "      <th>#</th>\n",
       "      <th>%</th>\n",
       "    </tr>\n",
       "  </thead>\n",
       "  <tbody>\n",
       "    <tr>\n",
       "      <th>Asphalt roads</th>\n",
       "      <td>11132</td>\n",
       "      <td>91.71</td>\n",
       "    </tr>\n",
       "    <tr>\n",
       "      <th>Earth roads</th>\n",
       "      <td>351</td>\n",
       "      <td>2.89</td>\n",
       "    </tr>\n",
       "    <tr>\n",
       "      <th>Gravel roads</th>\n",
       "      <td>240</td>\n",
       "      <td>1.98</td>\n",
       "    </tr>\n",
       "    <tr>\n",
       "      <th>Other</th>\n",
       "      <td>165</td>\n",
       "      <td>1.36</td>\n",
       "    </tr>\n",
       "    <tr>\n",
       "      <th>Asphalt roads with some distress</th>\n",
       "      <td>79</td>\n",
       "      <td>0.65</td>\n",
       "    </tr>\n",
       "  </tbody>\n",
       "</table>\n",
       "</div>"
      ],
      "text/plain": [
       "                                      #      %\n",
       "Asphalt roads                     11132  91.71\n",
       "Earth roads                         351   2.89\n",
       "Gravel roads                        240   1.98\n",
       "Other                               165   1.36\n",
       "Asphalt roads with some distress     79   0.65"
      ]
     },
     "execution_count": 89,
     "metadata": {},
     "output_type": "execute_result"
    }
   ],
   "source": [
    "series_null_balance(new_data, \"Road_surface_type\")"
   ]
  },
  {
   "cell_type": "markdown",
   "id": "80490bd8",
   "metadata": {},
   "source": [
    "Como esta feature se encuentra altamente desbalanceado, decidimos eliminarlo."
   ]
  },
  {
   "cell_type": "code",
   "execution_count": 90,
   "id": "aac33463",
   "metadata": {},
   "outputs": [],
   "source": [
    "new_data = new_data.drop(columns=['Road_surface_type'])"
   ]
  },
  {
   "cell_type": "markdown",
   "id": "c9fccb62",
   "metadata": {},
   "source": [
    "#### <span style=\"color:blue\"> Type_of_collision </span>"
   ]
  },
  {
   "cell_type": "code",
   "execution_count": 91,
   "id": "62adfd7f",
   "metadata": {},
   "outputs": [
    {
     "name": "stdout",
     "output_type": "stream",
     "text": [
      "Series dtype =  object\n",
      "Cantidad total de registros =  12138\n",
      "Cantidad total de registros nulos en Type_of_collision  =  154\n",
      "Porcentaje total de registros nulos en  Type_of_collision  =  1.27 %\n"
     ]
    },
    {
     "data": {
      "text/html": [
       "<div>\n",
       "<style scoped>\n",
       "    .dataframe tbody tr th:only-of-type {\n",
       "        vertical-align: middle;\n",
       "    }\n",
       "\n",
       "    .dataframe tbody tr th {\n",
       "        vertical-align: top;\n",
       "    }\n",
       "\n",
       "    .dataframe thead th {\n",
       "        text-align: right;\n",
       "    }\n",
       "</style>\n",
       "<table border=\"1\" class=\"dataframe\">\n",
       "  <thead>\n",
       "    <tr style=\"text-align: right;\">\n",
       "      <th></th>\n",
       "      <th>#</th>\n",
       "      <th>%</th>\n",
       "    </tr>\n",
       "  </thead>\n",
       "  <tbody>\n",
       "    <tr>\n",
       "      <th>Vehicle with vehicle collision</th>\n",
       "      <td>8649</td>\n",
       "      <td>71.26</td>\n",
       "    </tr>\n",
       "    <tr>\n",
       "      <th>Collision with roadside objects</th>\n",
       "      <td>1758</td>\n",
       "      <td>14.48</td>\n",
       "    </tr>\n",
       "    <tr>\n",
       "      <th>Collision with pedestrians</th>\n",
       "      <td>884</td>\n",
       "      <td>7.28</td>\n",
       "    </tr>\n",
       "    <tr>\n",
       "      <th>Rollover</th>\n",
       "      <td>394</td>\n",
       "      <td>3.25</td>\n",
       "    </tr>\n",
       "    <tr>\n",
       "      <th>Collision with animals</th>\n",
       "      <td>167</td>\n",
       "      <td>1.38</td>\n",
       "    </tr>\n",
       "    <tr>\n",
       "      <th>Collision with roadside-parked vehicles</th>\n",
       "      <td>54</td>\n",
       "      <td>0.44</td>\n",
       "    </tr>\n",
       "    <tr>\n",
       "      <th>Fall from vehicles</th>\n",
       "      <td>33</td>\n",
       "      <td>0.27</td>\n",
       "    </tr>\n",
       "    <tr>\n",
       "      <th>Other</th>\n",
       "      <td>25</td>\n",
       "      <td>0.21</td>\n",
       "    </tr>\n",
       "    <tr>\n",
       "      <th>Unknown</th>\n",
       "      <td>11</td>\n",
       "      <td>0.09</td>\n",
       "    </tr>\n",
       "    <tr>\n",
       "      <th>With Train</th>\n",
       "      <td>9</td>\n",
       "      <td>0.07</td>\n",
       "    </tr>\n",
       "  </tbody>\n",
       "</table>\n",
       "</div>"
      ],
      "text/plain": [
       "                                            #      %\n",
       "Vehicle with vehicle collision           8649  71.26\n",
       "Collision with roadside objects          1758  14.48\n",
       "Collision with pedestrians                884   7.28\n",
       "Rollover                                  394   3.25\n",
       "Collision with animals                    167   1.38\n",
       "Collision with roadside-parked vehicles    54   0.44\n",
       "Fall from vehicles                         33   0.27\n",
       "Other                                      25   0.21\n",
       "Unknown                                    11   0.09\n",
       "With Train                                  9   0.07"
      ]
     },
     "execution_count": 91,
     "metadata": {},
     "output_type": "execute_result"
    }
   ],
   "source": [
    "series_null_balance(new_data, \"Type_of_collision\")"
   ]
  },
  {
   "cell_type": "markdown",
   "id": "23ce36a2",
   "metadata": {},
   "source": [
    "Agregamos los valores nulos a la categoría `Unknown`."
   ]
  },
  {
   "cell_type": "code",
   "execution_count": 92,
   "id": "9b8a97cb",
   "metadata": {},
   "outputs": [
    {
     "name": "stdout",
     "output_type": "stream",
     "text": [
      "Series dtype =  object\n",
      "Cantidad total de registros =  12138\n",
      "Cantidad total de registros nulos en Type_of_collision  =  0\n",
      "Porcentaje total de registros nulos en  Type_of_collision  =  0.0 %\n"
     ]
    },
    {
     "data": {
      "text/html": [
       "<div>\n",
       "<style scoped>\n",
       "    .dataframe tbody tr th:only-of-type {\n",
       "        vertical-align: middle;\n",
       "    }\n",
       "\n",
       "    .dataframe tbody tr th {\n",
       "        vertical-align: top;\n",
       "    }\n",
       "\n",
       "    .dataframe thead th {\n",
       "        text-align: right;\n",
       "    }\n",
       "</style>\n",
       "<table border=\"1\" class=\"dataframe\">\n",
       "  <thead>\n",
       "    <tr style=\"text-align: right;\">\n",
       "      <th></th>\n",
       "      <th>#</th>\n",
       "      <th>%</th>\n",
       "    </tr>\n",
       "  </thead>\n",
       "  <tbody>\n",
       "    <tr>\n",
       "      <th>Vehicle with vehicle collision</th>\n",
       "      <td>8649</td>\n",
       "      <td>71.26</td>\n",
       "    </tr>\n",
       "    <tr>\n",
       "      <th>Collision with roadside objects</th>\n",
       "      <td>1758</td>\n",
       "      <td>14.48</td>\n",
       "    </tr>\n",
       "    <tr>\n",
       "      <th>Collision with pedestrians</th>\n",
       "      <td>884</td>\n",
       "      <td>7.28</td>\n",
       "    </tr>\n",
       "    <tr>\n",
       "      <th>Rollover</th>\n",
       "      <td>394</td>\n",
       "      <td>3.25</td>\n",
       "    </tr>\n",
       "    <tr>\n",
       "      <th>Collision with animals</th>\n",
       "      <td>167</td>\n",
       "      <td>1.38</td>\n",
       "    </tr>\n",
       "    <tr>\n",
       "      <th>Unknown</th>\n",
       "      <td>165</td>\n",
       "      <td>1.36</td>\n",
       "    </tr>\n",
       "    <tr>\n",
       "      <th>Collision with roadside-parked vehicles</th>\n",
       "      <td>54</td>\n",
       "      <td>0.44</td>\n",
       "    </tr>\n",
       "    <tr>\n",
       "      <th>Fall from vehicles</th>\n",
       "      <td>33</td>\n",
       "      <td>0.27</td>\n",
       "    </tr>\n",
       "    <tr>\n",
       "      <th>Other</th>\n",
       "      <td>25</td>\n",
       "      <td>0.21</td>\n",
       "    </tr>\n",
       "    <tr>\n",
       "      <th>With Train</th>\n",
       "      <td>9</td>\n",
       "      <td>0.07</td>\n",
       "    </tr>\n",
       "  </tbody>\n",
       "</table>\n",
       "</div>"
      ],
      "text/plain": [
       "                                            #      %\n",
       "Vehicle with vehicle collision           8649  71.26\n",
       "Collision with roadside objects          1758  14.48\n",
       "Collision with pedestrians                884   7.28\n",
       "Rollover                                  394   3.25\n",
       "Collision with animals                    167   1.38\n",
       "Unknown                                   165   1.36\n",
       "Collision with roadside-parked vehicles    54   0.44\n",
       "Fall from vehicles                         33   0.27\n",
       "Other                                      25   0.21\n",
       "With Train                                  9   0.07"
      ]
     },
     "execution_count": 92,
     "metadata": {},
     "output_type": "execute_result"
    }
   ],
   "source": [
    "new_data['Type_of_collision'] = new_data['Type_of_collision'].fillna('Unknown')\n",
    "series_null_balance(new_data, \"Type_of_collision\")"
   ]
  },
  {
   "cell_type": "markdown",
   "id": "2caf706f",
   "metadata": {},
   "source": [
    "Se observa que el 71.26% de los datos representan accidentes ocurridos entre vehiculos y que además es posible unificar algunas categorías de la siguiente manera:\n",
    "* **\"Vehicle\":** Vehicle with vehicle collision\n",
    "* **Inanimated_Objects:** Collision with roadside objects, Collision with roadside-parked vehicles, \n",
    "* **Animated_Objects:** Collision with pedestrians, Collision with animals, With Train\n",
    "* **Other:** Rollover, Fall from vehicles, Other"
   ]
  },
  {
   "cell_type": "code",
   "execution_count": 93,
   "id": "77251b6a",
   "metadata": {},
   "outputs": [
    {
     "name": "stdout",
     "output_type": "stream",
     "text": [
      "Series dtype =  object\n",
      "Cantidad total de registros =  12138\n",
      "Cantidad total de registros nulos en Type_of_collision  =  0\n",
      "Porcentaje total de registros nulos en  Type_of_collision  =  0.0 %\n"
     ]
    },
    {
     "data": {
      "text/html": [
       "<div>\n",
       "<style scoped>\n",
       "    .dataframe tbody tr th:only-of-type {\n",
       "        vertical-align: middle;\n",
       "    }\n",
       "\n",
       "    .dataframe tbody tr th {\n",
       "        vertical-align: top;\n",
       "    }\n",
       "\n",
       "    .dataframe thead th {\n",
       "        text-align: right;\n",
       "    }\n",
       "</style>\n",
       "<table border=\"1\" class=\"dataframe\">\n",
       "  <thead>\n",
       "    <tr style=\"text-align: right;\">\n",
       "      <th></th>\n",
       "      <th>#</th>\n",
       "      <th>%</th>\n",
       "    </tr>\n",
       "  </thead>\n",
       "  <tbody>\n",
       "    <tr>\n",
       "      <th>Vehicles</th>\n",
       "      <td>8649</td>\n",
       "      <td>71.26</td>\n",
       "    </tr>\n",
       "    <tr>\n",
       "      <th>Inanimated_Objects</th>\n",
       "      <td>1812</td>\n",
       "      <td>14.93</td>\n",
       "    </tr>\n",
       "    <tr>\n",
       "      <th>Animated_Objects</th>\n",
       "      <td>1060</td>\n",
       "      <td>8.73</td>\n",
       "    </tr>\n",
       "    <tr>\n",
       "      <th>Other</th>\n",
       "      <td>452</td>\n",
       "      <td>3.72</td>\n",
       "    </tr>\n",
       "    <tr>\n",
       "      <th>Unknown</th>\n",
       "      <td>165</td>\n",
       "      <td>1.36</td>\n",
       "    </tr>\n",
       "  </tbody>\n",
       "</table>\n",
       "</div>"
      ],
      "text/plain": [
       "                       #      %\n",
       "Vehicles            8649  71.26\n",
       "Inanimated_Objects  1812  14.93\n",
       "Animated_Objects    1060   8.73\n",
       "Other                452   3.72\n",
       "Unknown              165   1.36"
      ]
     },
     "execution_count": 93,
     "metadata": {},
     "output_type": "execute_result"
    }
   ],
   "source": [
    "# Redefinimos categorias en \"Types_of_Junction\"\n",
    "new_data['Type_of_collision'] = new_data['Type_of_collision'].map({\n",
    "    'Vehicle with vehicle collision':'Vehicles', \n",
    "    \n",
    "    'Collision with roadside objects':'Inanimated_Objects',\n",
    "    'Collision with roadside-parked vehicles':'Inanimated_Objects',\n",
    "    \n",
    "    'With Train':'Animated_Objects',\n",
    "    'Collision with pedestrians':'Animated_Objects', \n",
    "    'Collision with animals':'Animated_Objects', \n",
    "    \n",
    "    'Rollover':'Other',\n",
    "    'Fall from vehicles':'Other',\n",
    "    'Other':'Other',\n",
    "    'Unknown': 'Unknown'\n",
    "})\n",
    "series_null_balance(new_data, \"Type_of_collision\")"
   ]
  },
  {
   "cell_type": "markdown",
   "id": "60a76481",
   "metadata": {},
   "source": [
    "Analizamos que tan relevantes son los datos en la categoría `Unknown`"
   ]
  },
  {
   "cell_type": "code",
   "execution_count": 94,
   "id": "d093716d",
   "metadata": {},
   "outputs": [
    {
     "name": "stdout",
     "output_type": "stream",
     "text": [
      "Slight Injury     132\n",
      "Serious Injury     31\n",
      "Fatal injury        2\n",
      "Name: Accident_severity, dtype: int64\n",
      "\n",
      " 2 ≈ 1.274 % registros con edad desconocida pertenecen a los accidentes con heridas fatales\n"
     ]
    }
   ],
   "source": [
    "fatal_injury_percentage(\"Type_of_collision\")"
   ]
  },
  {
   "cell_type": "markdown",
   "id": "470a5b16",
   "metadata": {},
   "source": [
    "Como observamos que solamente representan el 1.27% de los datos categorizados como `Fatal injury` en la variable target, podríamos eliminarlos; pero, como la feature `Type of collision` contiene una categoría `Other`, agregamos estos datos a esta categoría."
   ]
  },
  {
   "cell_type": "code",
   "execution_count": 95,
   "id": "cc7bfc7a",
   "metadata": {},
   "outputs": [
    {
     "name": "stdout",
     "output_type": "stream",
     "text": [
      "Series dtype =  object\n",
      "Cantidad total de registros =  12138\n",
      "Cantidad total de registros nulos en Type_of_collision  =  0\n",
      "Porcentaje total de registros nulos en  Type_of_collision  =  0.0 %\n"
     ]
    },
    {
     "data": {
      "text/html": [
       "<div>\n",
       "<style scoped>\n",
       "    .dataframe tbody tr th:only-of-type {\n",
       "        vertical-align: middle;\n",
       "    }\n",
       "\n",
       "    .dataframe tbody tr th {\n",
       "        vertical-align: top;\n",
       "    }\n",
       "\n",
       "    .dataframe thead th {\n",
       "        text-align: right;\n",
       "    }\n",
       "</style>\n",
       "<table border=\"1\" class=\"dataframe\">\n",
       "  <thead>\n",
       "    <tr style=\"text-align: right;\">\n",
       "      <th></th>\n",
       "      <th>#</th>\n",
       "      <th>%</th>\n",
       "    </tr>\n",
       "  </thead>\n",
       "  <tbody>\n",
       "    <tr>\n",
       "      <th>Vehicles</th>\n",
       "      <td>8649</td>\n",
       "      <td>71.26</td>\n",
       "    </tr>\n",
       "    <tr>\n",
       "      <th>Inanimated_Objects</th>\n",
       "      <td>1812</td>\n",
       "      <td>14.93</td>\n",
       "    </tr>\n",
       "    <tr>\n",
       "      <th>Animated_Objects</th>\n",
       "      <td>1060</td>\n",
       "      <td>8.73</td>\n",
       "    </tr>\n",
       "    <tr>\n",
       "      <th>Other</th>\n",
       "      <td>617</td>\n",
       "      <td>5.08</td>\n",
       "    </tr>\n",
       "  </tbody>\n",
       "</table>\n",
       "</div>"
      ],
      "text/plain": [
       "                       #      %\n",
       "Vehicles            8649  71.26\n",
       "Inanimated_Objects  1812  14.93\n",
       "Animated_Objects    1060   8.73\n",
       "Other                617   5.08"
      ]
     },
     "execution_count": 95,
     "metadata": {},
     "output_type": "execute_result"
    }
   ],
   "source": [
    "new_data['Type_of_collision'] = ['Other' if x == 'Unknown' else x for x in new_data['Type_of_collision']]\n",
    "series_null_balance(new_data, \"Type_of_collision\")"
   ]
  },
  {
   "cell_type": "markdown",
   "id": "06871e3d",
   "metadata": {},
   "source": [
    "#### <span style=\"color:blue\"> Vehicle_movement </span>"
   ]
  },
  {
   "cell_type": "code",
   "execution_count": 96,
   "id": "0485751a",
   "metadata": {},
   "outputs": [
    {
     "name": "stdout",
     "output_type": "stream",
     "text": [
      "Series dtype =  object\n",
      "Cantidad total de registros =  12138\n",
      "Cantidad total de registros nulos en Vehicle_movement  =  306\n",
      "Porcentaje total de registros nulos en  Vehicle_movement  =  2.52 %\n"
     ]
    },
    {
     "data": {
      "text/html": [
       "<div>\n",
       "<style scoped>\n",
       "    .dataframe tbody tr th:only-of-type {\n",
       "        vertical-align: middle;\n",
       "    }\n",
       "\n",
       "    .dataframe tbody tr th {\n",
       "        vertical-align: top;\n",
       "    }\n",
       "\n",
       "    .dataframe thead th {\n",
       "        text-align: right;\n",
       "    }\n",
       "</style>\n",
       "<table border=\"1\" class=\"dataframe\">\n",
       "  <thead>\n",
       "    <tr style=\"text-align: right;\">\n",
       "      <th></th>\n",
       "      <th>#</th>\n",
       "      <th>%</th>\n",
       "    </tr>\n",
       "  </thead>\n",
       "  <tbody>\n",
       "    <tr>\n",
       "      <th>Going straight</th>\n",
       "      <td>8023</td>\n",
       "      <td>66.10</td>\n",
       "    </tr>\n",
       "    <tr>\n",
       "      <th>Moving Backward</th>\n",
       "      <td>976</td>\n",
       "      <td>8.04</td>\n",
       "    </tr>\n",
       "    <tr>\n",
       "      <th>Other</th>\n",
       "      <td>934</td>\n",
       "      <td>7.69</td>\n",
       "    </tr>\n",
       "    <tr>\n",
       "      <th>Reversing</th>\n",
       "      <td>553</td>\n",
       "      <td>4.56</td>\n",
       "    </tr>\n",
       "    <tr>\n",
       "      <th>Turnover</th>\n",
       "      <td>479</td>\n",
       "      <td>3.95</td>\n",
       "    </tr>\n",
       "    <tr>\n",
       "      <th>Getting off</th>\n",
       "      <td>338</td>\n",
       "      <td>2.78</td>\n",
       "    </tr>\n",
       "    <tr>\n",
       "      <th>Entering a junction</th>\n",
       "      <td>191</td>\n",
       "      <td>1.57</td>\n",
       "    </tr>\n",
       "    <tr>\n",
       "      <th>Overtaking</th>\n",
       "      <td>95</td>\n",
       "      <td>0.78</td>\n",
       "    </tr>\n",
       "    <tr>\n",
       "      <th>Unknown</th>\n",
       "      <td>87</td>\n",
       "      <td>0.72</td>\n",
       "    </tr>\n",
       "    <tr>\n",
       "      <th>Stopping</th>\n",
       "      <td>60</td>\n",
       "      <td>0.49</td>\n",
       "    </tr>\n",
       "    <tr>\n",
       "      <th>U-Turn</th>\n",
       "      <td>49</td>\n",
       "      <td>0.40</td>\n",
       "    </tr>\n",
       "    <tr>\n",
       "      <th>Waiting to go</th>\n",
       "      <td>37</td>\n",
       "      <td>0.30</td>\n",
       "    </tr>\n",
       "    <tr>\n",
       "      <th>Parked</th>\n",
       "      <td>10</td>\n",
       "      <td>0.08</td>\n",
       "    </tr>\n",
       "  </tbody>\n",
       "</table>\n",
       "</div>"
      ],
      "text/plain": [
       "                        #      %\n",
       "Going straight       8023  66.10\n",
       "Moving Backward       976   8.04\n",
       "Other                 934   7.69\n",
       "Reversing             553   4.56\n",
       "Turnover              479   3.95\n",
       "Getting off           338   2.78\n",
       "Entering a junction   191   1.57\n",
       "Overtaking             95   0.78\n",
       "Unknown                87   0.72\n",
       "Stopping               60   0.49\n",
       "U-Turn                 49   0.40\n",
       "Waiting to go          37   0.30\n",
       "Parked                 10   0.08"
      ]
     },
     "execution_count": 96,
     "metadata": {},
     "output_type": "execute_result"
    }
   ],
   "source": [
    "series_null_balance(new_data, \"Vehicle_movement\")"
   ]
  },
  {
   "cell_type": "markdown",
   "id": "de7cad8e",
   "metadata": {},
   "source": [
    "Antes de analizar estos datos, agregamos los valores nulos a la categoría `Unknown` y agrupamos los datos en categorias donde tengan territorio en común."
   ]
  },
  {
   "cell_type": "code",
   "execution_count": 97,
   "id": "9e61d644",
   "metadata": {},
   "outputs": [],
   "source": [
    "new_data[\"Vehicle_movement\"] = new_data[\"Vehicle_movement\"].fillna('Unknown')"
   ]
  },
  {
   "cell_type": "code",
   "execution_count": 98,
   "id": "015046a1",
   "metadata": {},
   "outputs": [
    {
     "name": "stdout",
     "output_type": "stream",
     "text": [
      "Series dtype =  object\n",
      "Cantidad total de registros =  12138\n",
      "Cantidad total de registros nulos en Vehicle_movement  =  0\n",
      "Porcentaje total de registros nulos en  Vehicle_movement  =  0.0 %\n"
     ]
    },
    {
     "data": {
      "text/html": [
       "<div>\n",
       "<style scoped>\n",
       "    .dataframe tbody tr th:only-of-type {\n",
       "        vertical-align: middle;\n",
       "    }\n",
       "\n",
       "    .dataframe tbody tr th {\n",
       "        vertical-align: top;\n",
       "    }\n",
       "\n",
       "    .dataframe thead th {\n",
       "        text-align: right;\n",
       "    }\n",
       "</style>\n",
       "<table border=\"1\" class=\"dataframe\">\n",
       "  <thead>\n",
       "    <tr style=\"text-align: right;\">\n",
       "      <th></th>\n",
       "      <th>#</th>\n",
       "      <th>%</th>\n",
       "    </tr>\n",
       "  </thead>\n",
       "  <tbody>\n",
       "    <tr>\n",
       "      <th>Forward</th>\n",
       "      <td>8023</td>\n",
       "      <td>66.10</td>\n",
       "    </tr>\n",
       "    <tr>\n",
       "      <th>Backward</th>\n",
       "      <td>1529</td>\n",
       "      <td>12.60</td>\n",
       "    </tr>\n",
       "    <tr>\n",
       "      <th>Other</th>\n",
       "      <td>934</td>\n",
       "      <td>7.69</td>\n",
       "    </tr>\n",
       "    <tr>\n",
       "      <th>Turn</th>\n",
       "      <td>814</td>\n",
       "      <td>6.71</td>\n",
       "    </tr>\n",
       "    <tr>\n",
       "      <th>Stop</th>\n",
       "      <td>445</td>\n",
       "      <td>3.67</td>\n",
       "    </tr>\n",
       "    <tr>\n",
       "      <th>Unknown</th>\n",
       "      <td>393</td>\n",
       "      <td>3.24</td>\n",
       "    </tr>\n",
       "  </tbody>\n",
       "</table>\n",
       "</div>"
      ],
      "text/plain": [
       "             #      %\n",
       "Forward   8023  66.10\n",
       "Backward  1529  12.60\n",
       "Other      934   7.69\n",
       "Turn       814   6.71\n",
       "Stop       445   3.67\n",
       "Unknown    393   3.24"
      ]
     },
     "execution_count": 98,
     "metadata": {},
     "output_type": "execute_result"
    }
   ],
   "source": [
    "# Redefinimos categorias en \"Vehicle_movement\"\n",
    "new_data['Vehicle_movement'] = new_data['Vehicle_movement'].map({\n",
    "    'Going straight':'Forward', \n",
    "    \n",
    "    'Moving Backward':'Backward', \n",
    "    'Reversing':'Backward', \n",
    "    \n",
    "    'Overtaking':'Turn', \n",
    "    'Turnover':'Turn', \n",
    "    'U-Turn':'Turn',\n",
    "    'Entering a junction': 'Turn', \n",
    "    \n",
    "    'Getting off':'Stop', \n",
    "    'Stopping':'Stop', \n",
    "    'Waiting to go': 'Stop',\n",
    "    'Parked': 'Stop',\n",
    "    \n",
    "    'Other':'Other', \n",
    "    'Unknown':'Unknown'\n",
    "})\n",
    "series_null_balance(new_data, \"Vehicle_movement\")"
   ]
  },
  {
   "cell_type": "markdown",
   "id": "1b26a3e8",
   "metadata": {},
   "source": [
    "Analizamos la importancia de los datos `Unknown`."
   ]
  },
  {
   "cell_type": "code",
   "execution_count": 99,
   "id": "e4d61557",
   "metadata": {},
   "outputs": [
    {
     "name": "stdout",
     "output_type": "stream",
     "text": [
      "Slight Injury     319\n",
      "Serious Injury     67\n",
      "Fatal injury        7\n",
      "Name: Accident_severity, dtype: int64\n",
      "\n",
      " 7 ≈ 4.459 % registros con edad desconocida pertenecen a los accidentes con heridas fatales\n"
     ]
    }
   ],
   "source": [
    "fatal_injury_percentage(\"Vehicle_movement\")"
   ]
  },
  {
   "cell_type": "markdown",
   "id": "03da70b0",
   "metadata": {},
   "source": [
    "Decidimos mantener estos datos ya que representan casi un 4.5% de los accidentes que terminaron en `Fatal injury` en la variable target. Además, como por poco supera a la categoría `Stop` de `Vehicle_movement`, decidimos no unificar estos datos a `Other`. "
   ]
  },
  {
   "cell_type": "markdown",
   "id": "7906739d",
   "metadata": {},
   "source": [
    "#### <span style=\"color:blue\"> Work_of_casuality </span>"
   ]
  },
  {
   "cell_type": "code",
   "execution_count": 100,
   "id": "bc201a1a",
   "metadata": {},
   "outputs": [
    {
     "name": "stdout",
     "output_type": "stream",
     "text": [
      "Series dtype =  object\n",
      "Cantidad total de registros =  12138\n",
      "Cantidad total de registros nulos en Work_of_casuality  =  3152\n",
      "Porcentaje total de registros nulos en  Work_of_casuality  =  25.97 %\n"
     ]
    },
    {
     "data": {
      "text/html": [
       "<div>\n",
       "<style scoped>\n",
       "    .dataframe tbody tr th:only-of-type {\n",
       "        vertical-align: middle;\n",
       "    }\n",
       "\n",
       "    .dataframe tbody tr th {\n",
       "        vertical-align: top;\n",
       "    }\n",
       "\n",
       "    .dataframe thead th {\n",
       "        text-align: right;\n",
       "    }\n",
       "</style>\n",
       "<table border=\"1\" class=\"dataframe\">\n",
       "  <thead>\n",
       "    <tr style=\"text-align: right;\">\n",
       "      <th></th>\n",
       "      <th>#</th>\n",
       "      <th>%</th>\n",
       "    </tr>\n",
       "  </thead>\n",
       "  <tbody>\n",
       "    <tr>\n",
       "      <th>Driver</th>\n",
       "      <td>5822</td>\n",
       "      <td>47.97</td>\n",
       "    </tr>\n",
       "    <tr>\n",
       "      <th>Self-employed</th>\n",
       "      <td>2012</td>\n",
       "      <td>16.58</td>\n",
       "    </tr>\n",
       "    <tr>\n",
       "      <th>Employee</th>\n",
       "      <td>542</td>\n",
       "      <td>4.47</td>\n",
       "    </tr>\n",
       "    <tr>\n",
       "      <th>Other</th>\n",
       "      <td>455</td>\n",
       "      <td>3.75</td>\n",
       "    </tr>\n",
       "    <tr>\n",
       "      <th>Student</th>\n",
       "      <td>103</td>\n",
       "      <td>0.85</td>\n",
       "    </tr>\n",
       "    <tr>\n",
       "      <th>Unemployed</th>\n",
       "      <td>33</td>\n",
       "      <td>0.27</td>\n",
       "    </tr>\n",
       "    <tr>\n",
       "      <th>Unknown</th>\n",
       "      <td>19</td>\n",
       "      <td>0.16</td>\n",
       "    </tr>\n",
       "  </tbody>\n",
       "</table>\n",
       "</div>"
      ],
      "text/plain": [
       "                  #      %\n",
       "Driver         5822  47.97\n",
       "Self-employed  2012  16.58\n",
       "Employee        542   4.47\n",
       "Other           455   3.75\n",
       "Student         103   0.85\n",
       "Unemployed       33   0.27\n",
       "Unknown          19   0.16"
      ]
     },
     "execution_count": 100,
     "metadata": {},
     "output_type": "execute_result"
    }
   ],
   "source": [
    "series_null_balance(new_data, \"Work_of_casuality\")"
   ]
  },
  {
   "cell_type": "markdown",
   "id": "0e80e4e1",
   "metadata": {},
   "source": [
    "Agregamos los valores nulos a la categoría `Unknown`."
   ]
  },
  {
   "cell_type": "code",
   "execution_count": 101,
   "id": "edef1292",
   "metadata": {},
   "outputs": [
    {
     "name": "stdout",
     "output_type": "stream",
     "text": [
      "Series dtype =  object\n",
      "Cantidad total de registros =  12138\n",
      "Cantidad total de registros nulos en Work_of_casuality  =  0\n",
      "Porcentaje total de registros nulos en  Work_of_casuality  =  0.0 %\n"
     ]
    },
    {
     "data": {
      "text/html": [
       "<div>\n",
       "<style scoped>\n",
       "    .dataframe tbody tr th:only-of-type {\n",
       "        vertical-align: middle;\n",
       "    }\n",
       "\n",
       "    .dataframe tbody tr th {\n",
       "        vertical-align: top;\n",
       "    }\n",
       "\n",
       "    .dataframe thead th {\n",
       "        text-align: right;\n",
       "    }\n",
       "</style>\n",
       "<table border=\"1\" class=\"dataframe\">\n",
       "  <thead>\n",
       "    <tr style=\"text-align: right;\">\n",
       "      <th></th>\n",
       "      <th>#</th>\n",
       "      <th>%</th>\n",
       "    </tr>\n",
       "  </thead>\n",
       "  <tbody>\n",
       "    <tr>\n",
       "      <th>Driver</th>\n",
       "      <td>5822</td>\n",
       "      <td>47.97</td>\n",
       "    </tr>\n",
       "    <tr>\n",
       "      <th>Unknown</th>\n",
       "      <td>3171</td>\n",
       "      <td>26.12</td>\n",
       "    </tr>\n",
       "    <tr>\n",
       "      <th>Self-employed</th>\n",
       "      <td>2012</td>\n",
       "      <td>16.58</td>\n",
       "    </tr>\n",
       "    <tr>\n",
       "      <th>Employee</th>\n",
       "      <td>542</td>\n",
       "      <td>4.47</td>\n",
       "    </tr>\n",
       "    <tr>\n",
       "      <th>Other</th>\n",
       "      <td>455</td>\n",
       "      <td>3.75</td>\n",
       "    </tr>\n",
       "    <tr>\n",
       "      <th>Student</th>\n",
       "      <td>103</td>\n",
       "      <td>0.85</td>\n",
       "    </tr>\n",
       "    <tr>\n",
       "      <th>Unemployed</th>\n",
       "      <td>33</td>\n",
       "      <td>0.27</td>\n",
       "    </tr>\n",
       "  </tbody>\n",
       "</table>\n",
       "</div>"
      ],
      "text/plain": [
       "                  #      %\n",
       "Driver         5822  47.97\n",
       "Unknown        3171  26.12\n",
       "Self-employed  2012  16.58\n",
       "Employee        542   4.47\n",
       "Other           455   3.75\n",
       "Student         103   0.85\n",
       "Unemployed       33   0.27"
      ]
     },
     "execution_count": 101,
     "metadata": {},
     "output_type": "execute_result"
    }
   ],
   "source": [
    "new_data[\"Work_of_casuality\"] = new_data[\"Work_of_casuality\"].fillna('Unknown')\n",
    "series_null_balance(new_data, \"Work_of_casuality\")"
   ]
  },
  {
   "cell_type": "markdown",
   "id": "026d9ae2",
   "metadata": {},
   "source": [
    "Como la categoría más representada (`Driver`, 47.97%) no indica cuál es la profesión del conductor y además la siguiente categoría con mayor representación es `Unknown`, consideramos esta feature poco relevante para nuestro objetivo. Por esta razon decidimos eliminarla."
   ]
  },
  {
   "cell_type": "code",
   "execution_count": 102,
   "id": "e0e4cb93",
   "metadata": {},
   "outputs": [],
   "source": [
    "#Eliminamos feature\n",
    "new_data = new_data.drop([\"Work_of_casuality\"], axis=1)"
   ]
  },
  {
   "cell_type": "markdown",
   "id": "af7c7d06",
   "metadata": {},
   "source": [
    "#### <span style=\"color:blue\"> Fitness_of_casuality</span>"
   ]
  },
  {
   "cell_type": "code",
   "execution_count": 103,
   "id": "fc7f79ac",
   "metadata": {},
   "outputs": [
    {
     "name": "stdout",
     "output_type": "stream",
     "text": [
      "Series dtype =  object\n",
      "Cantidad total de registros =  12138\n",
      "Cantidad total de registros nulos en Fitness_of_casuality  =  2593\n",
      "Porcentaje total de registros nulos en  Fitness_of_casuality  =  21.36 %\n"
     ]
    },
    {
     "data": {
      "text/html": [
       "<div>\n",
       "<style scoped>\n",
       "    .dataframe tbody tr th:only-of-type {\n",
       "        vertical-align: middle;\n",
       "    }\n",
       "\n",
       "    .dataframe tbody tr th {\n",
       "        vertical-align: top;\n",
       "    }\n",
       "\n",
       "    .dataframe thead th {\n",
       "        text-align: right;\n",
       "    }\n",
       "</style>\n",
       "<table border=\"1\" class=\"dataframe\">\n",
       "  <thead>\n",
       "    <tr style=\"text-align: right;\">\n",
       "      <th></th>\n",
       "      <th>#</th>\n",
       "      <th>%</th>\n",
       "    </tr>\n",
       "  </thead>\n",
       "  <tbody>\n",
       "    <tr>\n",
       "      <th>Normal</th>\n",
       "      <td>9474</td>\n",
       "      <td>78.05</td>\n",
       "    </tr>\n",
       "    <tr>\n",
       "      <th>NormalNormal</th>\n",
       "      <td>19</td>\n",
       "      <td>0.16</td>\n",
       "    </tr>\n",
       "    <tr>\n",
       "      <th>Deaf</th>\n",
       "      <td>18</td>\n",
       "      <td>0.15</td>\n",
       "    </tr>\n",
       "    <tr>\n",
       "      <th>Blind</th>\n",
       "      <td>17</td>\n",
       "      <td>0.14</td>\n",
       "    </tr>\n",
       "    <tr>\n",
       "      <th>Other</th>\n",
       "      <td>17</td>\n",
       "      <td>0.14</td>\n",
       "    </tr>\n",
       "  </tbody>\n",
       "</table>\n",
       "</div>"
      ],
      "text/plain": [
       "                 #      %\n",
       "Normal        9474  78.05\n",
       "NormalNormal    19   0.16\n",
       "Deaf            18   0.15\n",
       "Blind           17   0.14\n",
       "Other           17   0.14"
      ]
     },
     "execution_count": 103,
     "metadata": {},
     "output_type": "execute_result"
    }
   ],
   "source": [
    "series_null_balance(new_data, \"Fitness_of_casuality\")"
   ]
  },
  {
   "cell_type": "markdown",
   "id": "11981149",
   "metadata": {},
   "source": [
    "Al igual que la feature anterior, las dos categorías mayormente representadas no parecen aportar información relevante para nuestro objetivo; razón por la cual decidimos eliminarla."
   ]
  },
  {
   "cell_type": "code",
   "execution_count": 104,
   "id": "2da6c119",
   "metadata": {},
   "outputs": [],
   "source": [
    "#Eliminamos feature\n",
    "new_data = new_data.drop([\"Fitness_of_casuality\"], axis=1)"
   ]
  },
  {
   "cell_type": "markdown",
   "id": "078e012a",
   "metadata": {},
   "source": [
    "---\n",
    "Finalmente se analizararon las features de nuestro dataset, eliminamos aquellas que no parecen aportar valor a nuestro objetivo de clasificar la gravedad de un accidente, y eliminamos los registros nulos cuando se tenía un porcentaje de participación muy bajo en la clase `Fatal injury` de nuestra variable objetivo.  \n",
    "\n",
    "Ahora generaremos una versión de los datos limpios para utilizar en los siguientes módulos."
   ]
  },
  {
   "cell_type": "code",
   "execution_count": 105,
   "id": "680d08f6",
   "metadata": {},
   "outputs": [
    {
     "name": "stdout",
     "output_type": "stream",
     "text": [
      "\n",
      "Después de la limpieza, el dataset tiene dimensón:  (12138, 23)\n",
      "se eliminaron  178  registros, y  10 features \n",
      "\n",
      "<class 'pandas.core.frame.DataFrame'>\n",
      "RangeIndex: 12138 entries, 0 to 12137\n",
      "Data columns (total 23 columns):\n",
      " #   Column                       Non-Null Count  Dtype \n",
      "---  ------                       --------------  ----- \n",
      " 0   Day_of_week                  12138 non-null  object\n",
      " 1   Age_band_of_driver           12138 non-null  object\n",
      " 2   Sex_of_driver                12138 non-null  object\n",
      " 3   Educational_level            12138 non-null  object\n",
      " 4   Vehicle_driver_relation      12138 non-null  object\n",
      " 5   Driving_experience           12138 non-null  object\n",
      " 6   Type_of_vehicle              12138 non-null  object\n",
      " 7   Service_year_of_vehicle      12138 non-null  object\n",
      " 8   Defect_of_vehicle            12138 non-null  object\n",
      " 9   Lanes_or_Medians             12138 non-null  object\n",
      " 10  Types_of_Junction            12138 non-null  object\n",
      " 11  Road_surface_conditions      12138 non-null  object\n",
      " 12  Light_conditions             12138 non-null  object\n",
      " 13  Type_of_collision            12138 non-null  object\n",
      " 14  Number_of_vehicles_involved  12138 non-null  int64 \n",
      " 15  Number_of_casualties         12138 non-null  int64 \n",
      " 16  Vehicle_movement             12138 non-null  object\n",
      " 17  Casualty_class               12138 non-null  object\n",
      " 18  Casualty_severity            12138 non-null  int64 \n",
      " 19  Pedestrian_movement          12138 non-null  object\n",
      " 20  Cause_of_accident            12138 non-null  object\n",
      " 21  Accident_severity            12138 non-null  object\n",
      " 22  Hour                         12138 non-null  int64 \n",
      "dtypes: int64(4), object(19)\n",
      "memory usage: 2.1+ MB\n"
     ]
    }
   ],
   "source": [
    "# Generamos una nueva versión del dataset\n",
    "new_data.to_csv(\"RTA_clean.csv\", index=False)\n",
    "df = pd.read_csv(\"RTA_clean.csv\", index_col=False)\n",
    "\n",
    "print(\"\\nDespués de la limpieza, el dataset tiene dimensón: \", df.shape)\n",
    "print(\"se eliminaron \", data.shape[0]-df.shape[0], \" registros, y \", data.shape[1]-df.shape[1], \"features \\n\")\n",
    "\n",
    "df.info()"
   ]
  },
  {
   "cell_type": "code",
   "execution_count": 106,
   "id": "78cd0e6f",
   "metadata": {},
   "outputs": [
    {
     "data": {
      "text/html": [
       "<div>\n",
       "<style scoped>\n",
       "    .dataframe tbody tr th:only-of-type {\n",
       "        vertical-align: middle;\n",
       "    }\n",
       "\n",
       "    .dataframe tbody tr th {\n",
       "        vertical-align: top;\n",
       "    }\n",
       "\n",
       "    .dataframe thead th {\n",
       "        text-align: right;\n",
       "    }\n",
       "</style>\n",
       "<table border=\"1\" class=\"dataframe\">\n",
       "  <thead>\n",
       "    <tr style=\"text-align: right;\">\n",
       "      <th></th>\n",
       "      <th>Day_of_week</th>\n",
       "      <th>Age_band_of_driver</th>\n",
       "      <th>Sex_of_driver</th>\n",
       "      <th>Educational_level</th>\n",
       "      <th>Vehicle_driver_relation</th>\n",
       "      <th>Driving_experience</th>\n",
       "      <th>Type_of_vehicle</th>\n",
       "      <th>Service_year_of_vehicle</th>\n",
       "      <th>Defect_of_vehicle</th>\n",
       "      <th>Lanes_or_Medians</th>\n",
       "      <th>...</th>\n",
       "      <th>Type_of_collision</th>\n",
       "      <th>Number_of_vehicles_involved</th>\n",
       "      <th>Number_of_casualties</th>\n",
       "      <th>Vehicle_movement</th>\n",
       "      <th>Casualty_class</th>\n",
       "      <th>Casualty_severity</th>\n",
       "      <th>Pedestrian_movement</th>\n",
       "      <th>Cause_of_accident</th>\n",
       "      <th>Accident_severity</th>\n",
       "      <th>Hour</th>\n",
       "    </tr>\n",
       "  </thead>\n",
       "  <tbody>\n",
       "    <tr>\n",
       "      <th>0</th>\n",
       "      <td>Monday</td>\n",
       "      <td>Young_Adult</td>\n",
       "      <td>Male</td>\n",
       "      <td>Advanced</td>\n",
       "      <td>Employee</td>\n",
       "      <td>Beginner</td>\n",
       "      <td>Automobile</td>\n",
       "      <td>Advanced_Exp</td>\n",
       "      <td>No defect</td>\n",
       "      <td>Unknown</td>\n",
       "      <td>...</td>\n",
       "      <td>Inanimated_Objects</td>\n",
       "      <td>2</td>\n",
       "      <td>2</td>\n",
       "      <td>Forward</td>\n",
       "      <td>Unknown</td>\n",
       "      <td>0</td>\n",
       "      <td>No_pedestrian</td>\n",
       "      <td>Other</td>\n",
       "      <td>Slight Injury</td>\n",
       "      <td>17</td>\n",
       "    </tr>\n",
       "    <tr>\n",
       "      <th>1</th>\n",
       "      <td>Monday</td>\n",
       "      <td>Adult</td>\n",
       "      <td>Male</td>\n",
       "      <td>Middle</td>\n",
       "      <td>Employee</td>\n",
       "      <td>Expert</td>\n",
       "      <td>Public</td>\n",
       "      <td>Advanced_Exp</td>\n",
       "      <td>No defect</td>\n",
       "      <td>Undivided_Two-way</td>\n",
       "      <td>...</td>\n",
       "      <td>Vehicles</td>\n",
       "      <td>2</td>\n",
       "      <td>2</td>\n",
       "      <td>Forward</td>\n",
       "      <td>Unknown</td>\n",
       "      <td>0</td>\n",
       "      <td>No_pedestrian</td>\n",
       "      <td>Other</td>\n",
       "      <td>Slight Injury</td>\n",
       "      <td>17</td>\n",
       "    </tr>\n",
       "    <tr>\n",
       "      <th>2</th>\n",
       "      <td>Monday</td>\n",
       "      <td>Young_Adult</td>\n",
       "      <td>Male</td>\n",
       "      <td>Middle</td>\n",
       "      <td>Employee</td>\n",
       "      <td>Beginner</td>\n",
       "      <td>Lorry</td>\n",
       "      <td>Unknown</td>\n",
       "      <td>No defect</td>\n",
       "      <td>Other</td>\n",
       "      <td>...</td>\n",
       "      <td>Inanimated_Objects</td>\n",
       "      <td>2</td>\n",
       "      <td>2</td>\n",
       "      <td>Forward</td>\n",
       "      <td>Driver or rider</td>\n",
       "      <td>3</td>\n",
       "      <td>No_pedestrian</td>\n",
       "      <td>Changing_lane</td>\n",
       "      <td>Serious Injury</td>\n",
       "      <td>17</td>\n",
       "    </tr>\n",
       "    <tr>\n",
       "      <th>3</th>\n",
       "      <td>Sunday</td>\n",
       "      <td>Young_Adult</td>\n",
       "      <td>Male</td>\n",
       "      <td>Middle</td>\n",
       "      <td>Employee</td>\n",
       "      <td>Advanced</td>\n",
       "      <td>Public</td>\n",
       "      <td>Unknown</td>\n",
       "      <td>No defect</td>\n",
       "      <td>Other</td>\n",
       "      <td>...</td>\n",
       "      <td>Vehicles</td>\n",
       "      <td>2</td>\n",
       "      <td>2</td>\n",
       "      <td>Forward</td>\n",
       "      <td>Pedestrian</td>\n",
       "      <td>3</td>\n",
       "      <td>No_pedestrian</td>\n",
       "      <td>Changing_lane</td>\n",
       "      <td>Slight Injury</td>\n",
       "      <td>1</td>\n",
       "    </tr>\n",
       "    <tr>\n",
       "      <th>4</th>\n",
       "      <td>Sunday</td>\n",
       "      <td>Young_Adult</td>\n",
       "      <td>Male</td>\n",
       "      <td>Middle</td>\n",
       "      <td>Employee</td>\n",
       "      <td>Intermediate</td>\n",
       "      <td>Unknown</td>\n",
       "      <td>Advanced_Exp</td>\n",
       "      <td>No defect</td>\n",
       "      <td>Other</td>\n",
       "      <td>...</td>\n",
       "      <td>Vehicles</td>\n",
       "      <td>2</td>\n",
       "      <td>2</td>\n",
       "      <td>Forward</td>\n",
       "      <td>Unknown</td>\n",
       "      <td>0</td>\n",
       "      <td>No_pedestrian</td>\n",
       "      <td>Other</td>\n",
       "      <td>Slight Injury</td>\n",
       "      <td>1</td>\n",
       "    </tr>\n",
       "  </tbody>\n",
       "</table>\n",
       "<p>5 rows × 23 columns</p>\n",
       "</div>"
      ],
      "text/plain": [
       "  Day_of_week Age_band_of_driver Sex_of_driver Educational_level  \\\n",
       "0      Monday        Young_Adult          Male          Advanced   \n",
       "1      Monday              Adult          Male            Middle   \n",
       "2      Monday        Young_Adult          Male            Middle   \n",
       "3      Sunday        Young_Adult          Male            Middle   \n",
       "4      Sunday        Young_Adult          Male            Middle   \n",
       "\n",
       "  Vehicle_driver_relation Driving_experience Type_of_vehicle  \\\n",
       "0                Employee           Beginner      Automobile   \n",
       "1                Employee             Expert          Public   \n",
       "2                Employee           Beginner           Lorry   \n",
       "3                Employee           Advanced          Public   \n",
       "4                Employee       Intermediate         Unknown   \n",
       "\n",
       "  Service_year_of_vehicle Defect_of_vehicle   Lanes_or_Medians  ...  \\\n",
       "0            Advanced_Exp         No defect            Unknown  ...   \n",
       "1            Advanced_Exp         No defect  Undivided_Two-way  ...   \n",
       "2                 Unknown         No defect              Other  ...   \n",
       "3                 Unknown         No defect              Other  ...   \n",
       "4            Advanced_Exp         No defect              Other  ...   \n",
       "\n",
       "    Type_of_collision Number_of_vehicles_involved Number_of_casualties  \\\n",
       "0  Inanimated_Objects                           2                    2   \n",
       "1            Vehicles                           2                    2   \n",
       "2  Inanimated_Objects                           2                    2   \n",
       "3            Vehicles                           2                    2   \n",
       "4            Vehicles                           2                    2   \n",
       "\n",
       "  Vehicle_movement   Casualty_class  Casualty_severity Pedestrian_movement  \\\n",
       "0          Forward          Unknown                  0       No_pedestrian   \n",
       "1          Forward          Unknown                  0       No_pedestrian   \n",
       "2          Forward  Driver or rider                  3       No_pedestrian   \n",
       "3          Forward       Pedestrian                  3       No_pedestrian   \n",
       "4          Forward          Unknown                  0       No_pedestrian   \n",
       "\n",
       "  Cause_of_accident  Accident_severity Hour  \n",
       "0             Other      Slight Injury   17  \n",
       "1             Other      Slight Injury   17  \n",
       "2     Changing_lane     Serious Injury   17  \n",
       "3     Changing_lane      Slight Injury    1  \n",
       "4             Other      Slight Injury    1  \n",
       "\n",
       "[5 rows x 23 columns]"
      ]
     },
     "execution_count": 106,
     "metadata": {},
     "output_type": "execute_result"
    }
   ],
   "source": [
    "df.head(5)"
   ]
  },
  {
   "cell_type": "markdown",
   "id": "6152fe11",
   "metadata": {},
   "source": [
    "---\n",
    "El trabajo continúa en la parte 2."
   ]
  },
  {
   "cell_type": "code",
   "execution_count": null,
   "id": "19142862",
   "metadata": {},
   "outputs": [],
   "source": []
  }
 ],
 "metadata": {
  "kernelspec": {
   "display_name": "Python 3 (ipykernel)",
   "language": "python",
   "name": "python3"
  },
  "language_info": {
   "codemirror_mode": {
    "name": "ipython",
    "version": 3
   },
   "file_extension": ".py",
   "mimetype": "text/x-python",
   "name": "python",
   "nbconvert_exporter": "python",
   "pygments_lexer": "ipython3",
   "version": "3.7.11"
  }
 },
 "nbformat": 4,
 "nbformat_minor": 5
}
